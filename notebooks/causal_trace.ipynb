{
  "cells": [
    {
      "cell_type": "code",
      "execution_count": 1,
      "metadata": {
        "id": "KHCvZSXjiI76"
      },
      "outputs": [],
      "source": [
        "%%bash\n",
        "# !(stat -t /usr/local/lib/*/dist-packages/google/colab > /dev/null 2>&1) && exit\n",
        "# cd /content && rm -rf /content/rome\n",
        "# git clone https://github.com/kmeng01/rome rome > install.log 2>&1"
      ]
    },
    {
      "cell_type": "code",
      "execution_count": 2,
      "metadata": {
        "id": "6Y4PA1LMleYl"
      },
      "outputs": [],
      "source": [
        "# !git clone https://github.com/kmeng01/rome"
      ]
    },
    {
      "cell_type": "code",
      "execution_count": 3,
      "metadata": {
        "id": "_KgBQ4RyiI77"
      },
      "outputs": [],
      "source": [
        "IS_COLAB = False\n",
        "try:\n",
        "    import google.colab, torch, os\n",
        "    IS_COLAB = True\n",
        "    from google.colab import drive\n",
        "    drive.mount('/content/drive')\n",
        "    os.chdir(\"/content/drive/MyDrive\")\n",
        "    if not torch.cuda.is_available():\n",
        "        raise Exception(\"Change runtime type to include a GPU.\")\n",
        "except ModuleNotFoundError as _:\n",
        "    pass"
      ]
    },
    {
      "cell_type": "code",
      "execution_count": 4,
      "metadata": {
        "colab": {
          "base_uri": "https://localhost:8080/"
        },
        "id": "j0pcD1H55jj4",
        "outputId": "0c4de262-5fc8-422b-9417-1ba178f6f615"
      },
      "outputs": [],
      "source": [
        "# import os\n",
        "# os.chdir('rome')\n",
        "# !pip install -r /content/drive/MyDrive/rome/scripts/colab_reqs/rome.txt -q\n",
        "# !pip install --upgrade google-cloud-storage -q"
      ]
    },
    {
      "cell_type": "markdown",
      "metadata": {
        "id": "3j2Jdir5iI79"
      },
      "source": [
        "# Causal Tracing\n",
        "\n",
        "A demonstration of the double-intervention causal tracing method.\n",
        "\n",
        "The strategy used by causal tracing is to understand important\n",
        "states within a transfomer by doing two interventions simultaneously:\n",
        "\n",
        "1. Corrupt a subset of the input.  In our paper, we corrupt the subject tokens\n",
        "   to frustrate the ability of the transformer to accurately complete factual\n",
        "   prompts about the subject.\n",
        "2. Restore a subset of the internal hidden states.  In our paper, we scan\n",
        "   hidden states at all layers and all tokens, searching for individual states\n",
        "   that carry the necessary information for the transformer to recover its\n",
        "   capability to complete the factual prompt.\n",
        "\n",
        "The traces of decisive states can be shown on a heatmap.  This notebook\n",
        "demonstrates the code for conducting causal traces and creating these heatmaps."
      ]
    },
    {
      "cell_type": "code",
      "execution_count": 5,
      "metadata": {
        "id": "e4EPoaXEiI7-",
        "scrolled": false
      },
      "outputs": [],
      "source": [
        "%load_ext autoreload\n",
        "%autoreload 2"
      ]
    },
    {
      "cell_type": "markdown",
      "metadata": {
        "id": "RpWk3Q-kiI7_"
      },
      "source": [
        "The `experiments.causal_trace` module contains a set of functions for running causal traces.\n",
        "\n",
        "In this notebook, we reproduce, demonstrate and discuss the interesting functions.\n",
        "\n",
        "We begin by importing several utility functions that deal with tokens and transformer models."
      ]
    },
    {
      "cell_type": "code",
      "execution_count": 6,
      "metadata": {
        "id": "Smr7sP8WiI8A",
        "scrolled": false
      },
      "outputs": [],
      "source": [
        "import os, re, json\n",
        "import torch, numpy\n",
        "from transformers import AutoModelForCausalLM, AutoTokenizer\n",
        "from collections import defaultdict\n",
        "from util import nethook\n",
        "from util.globals import DATA_DIR\n",
        "from experiments.causal_trace import ModelAndTokenizer, layername, guess_subject, plot_trace_heatmap\n",
        "from experiments.causal_trace import make_inputs, decode_tokens, find_token_range\n",
        "from experiments.causal_trace import predict_token, predict_from_input\n",
        "from dsets import KnownsDataset"
      ]
    },
    {
      "cell_type": "markdown",
      "metadata": {
        "id": "d-g07UKCiI8B"
      },
      "source": [
        "Now we load a model and tokenizer, and show that it can complete a couple factual statements correctly."
      ]
    },
    {
      "cell_type": "code",
      "execution_count": 9,
      "metadata": {
        "colab": {
          "base_uri": "https://localhost:8080/",
          "height": 195,
          "referenced_widgets": [
            "0e50699f1bee42f49f01cfba869d5d3b",
            "311422258c424b1e845ca25164c6a7bc",
            "e49de109264e4920ba11ee1063c22ccb",
            "82d577196e984423801b2435994e2224",
            "e2e6ffacc95c475a85c92f1d589e173f",
            "393040223db44177b5ab4eb22946c3c5",
            "e22a16c6d96c4aedbee587ff78632eef",
            "4ecca8c762104a90b41ce356b79ab672",
            "155a8d07078642f693e04cc5d8c9e096",
            "ebe6527b710e4f8795daf59796c0cf80",
            "b3c3c214aedb41a5b7c118f120b87053",
            "85d7ef6a22574075ab68723f75d91c43",
            "84f86472a8c24cbb886b2414239f8b19",
            "cf38c3f4bb604571bf639c744b076db2",
            "344c1589efef402bb2a87ee13890353c",
            "e5592c5fcb19467d819ddb8c0e243a5c",
            "206c5349d94f4dafad1f75a2a1bfd682",
            "23d906ec314c4c70b7faebaf16e5a2cf",
            "20fb4ac6e5684c0f9b66bc5ab83e6399",
            "4c10a841f47d4b2592b2d1f3fd094c2b",
            "2e5b22556de04cb4bd3640b3aab20218",
            "f38b6c9dcb594d1d9d752a5f6971a69f",
            "d539182c71274d2aa27b4ad4f289a877",
            "f73d0cd0fa704988922e003a10a9a0fb",
            "983d4ba20432410786b2a57db6675a1c",
            "c0e137a2d769407aa45c7ba7b3fcb8e5",
            "b05c0ec8e84d44af94e1dd73ee85e3e7",
            "9318b9590e574f2891a3249805a776a0",
            "ddd8cc15f32849a8910ab0b0d0fa2afc",
            "e18f97df697241fbafc7d9c9efa3fcda",
            "09c9d7b5a3ab4c2a8d8708d209799003",
            "f32a8527971e4f5c84fdfbf976327a9a",
            "376c7248420349f897b865efcdb7194a",
            "92f2568153fa4be398ef8937a221c6b4",
            "ecde6ab532f24f2c96a152dfd2bd375f",
            "0a1a39f2521b4fa984f516cc914d536f",
            "442ebfeac9b640caa2cf583cf81f43ae",
            "11a8fcced3b24285a68ad09a2eb1a130",
            "53fddee5118443f981445db7dc01b536",
            "2a58e65354ef452da96af11ecf511093",
            "24fe18bf06a04937b180fc7ec06a35ee",
            "3639c370b88249c0b7235142db23e666",
            "9af05cc80acc4ac897d6929fde4fb41f",
            "0d56bccb610e4993b8cbf87276704ac7",
            "b1b51555abbb4cefaff83d054aac3289",
            "f2ec6d170da04fddbd30356fe1c033e5",
            "f3ce5251fecd4ab19a9b9c95f5ac1a0a",
            "a9d1ae548a4e41ba9f87105d3f93ccb8",
            "3f3d7aee5aba44079e98bce57b279e04",
            "7d7ff7f6b0784119a4f03f2839bae232",
            "8ab8895a10e7436d87c98cf44c2b849b",
            "d09e05aab9784124850f8ddb84b67c1b",
            "86b52f78f38441a5b81cfab905bfd137",
            "3042f470c3c1465b885af214c9f201ef",
            "38d0073823324452a86d583e8e988255"
          ]
        },
        "id": "AcRNrjHXiI8C",
        "outputId": "08525064-c46f-4275-cb95-8bcfa55530eb",
        "scrolled": true
      },
      "outputs": [
        {
          "data": {
            "application/vnd.jupyter.widget-view+json": {
              "model_id": "5637ffc5bf41441f814cfd0aab79e168",
              "version_major": 2,
              "version_minor": 0
            },
            "text/plain": [
              "Downloading:   0%|          | 0.00/619 [00:00<?, ?B/s]"
            ]
          },
          "metadata": {},
          "output_type": "display_data"
        },
        {
          "data": {
            "application/vnd.jupyter.widget-view+json": {
              "model_id": "94c274b4b0fb44c39698e48ca8fb2731",
              "version_major": 2,
              "version_minor": 0
            },
            "text/plain": [
              "Downloading:   0%|          | 0.00/779k [00:00<?, ?B/s]"
            ]
          },
          "metadata": {},
          "output_type": "display_data"
        },
        {
          "data": {
            "application/vnd.jupyter.widget-view+json": {
              "model_id": "d71d63e5bfe448b78000dc7670919e27",
              "version_major": 2,
              "version_minor": 0
            },
            "text/plain": [
              "Downloading:   0%|          | 0.00/446k [00:00<?, ?B/s]"
            ]
          },
          "metadata": {},
          "output_type": "display_data"
        },
        {
          "data": {
            "application/vnd.jupyter.widget-view+json": {
              "model_id": "21f9b36ba6364d52a0a66571800c4d1e",
              "version_major": 2,
              "version_minor": 0
            },
            "text/plain": [
              "Downloading:   0%|          | 0.00/1.31M [00:00<?, ?B/s]"
            ]
          },
          "metadata": {},
          "output_type": "display_data"
        },
        {
          "data": {
            "application/vnd.jupyter.widget-view+json": {
              "model_id": "3ebcfd550b95401fa0089f4f52e6a64e",
              "version_major": 2,
              "version_minor": 0
            },
            "text/plain": [
              "Downloading:   0%|          | 0.00/3.94k [00:00<?, ?B/s]"
            ]
          },
          "metadata": {},
          "output_type": "display_data"
        },
        {
          "data": {
            "application/vnd.jupyter.widget-view+json": {
              "model_id": "83683ce994aa43d08d5fd7a50d164ef9",
              "version_major": 2,
              "version_minor": 0
            },
            "text/plain": [
              "Downloading:   0%|          | 0.00/357 [00:00<?, ?B/s]"
            ]
          },
          "metadata": {},
          "output_type": "display_data"
        },
        {
          "data": {
            "application/vnd.jupyter.widget-view+json": {
              "model_id": "a233b549e6f64a07929958a4e74e024f",
              "version_major": 2,
              "version_minor": 0
            },
            "text/plain": [
              "Downloading:   0%|          | 0.00/930 [00:00<?, ?B/s]"
            ]
          },
          "metadata": {},
          "output_type": "display_data"
        },
        {
          "data": {
            "application/vnd.jupyter.widget-view+json": {
              "model_id": "62be3a4d4c124b2693128062fd813549",
              "version_major": 2,
              "version_minor": 0
            },
            "text/plain": [
              "Downloading:   0%|          | 0.00/22.5G [00:00<?, ?B/s]"
            ]
          },
          "metadata": {},
          "output_type": "display_data"
        },
        {
          "data": {
            "text/plain": [
              "([' soccer', ' Seattle'], tensor([0.6870, 0.9229], device='cuda:0'))"
            ]
          },
          "execution_count": 9,
          "metadata": {},
          "output_type": "execute_result"
        }
      ],
      "source": [
        "torch.set_grad_enabled(False)\n",
        "\n",
        "model_name = r\"EleutherAI/gpt-j-6B\"\n",
        "\n",
        "# Note that if you trace other models, you should set noise_level appropriately.\n",
        "# (We use 0.03 for gpt-neox-20b and 0.025 for gpt-j-6b)\n",
        "#model_name = r\"EleutherAI/gpt-neox-20b\"\n",
        "#model_name = r\"EleutherAI/gpt-j-6B\"\n",
        "\n",
        "torch_dtype = torch.float16 if '20b' in model_name else None\n",
        "\n",
        "mt = ModelAndTokenizer(model_name, low_cpu_mem_usage=IS_COLAB, torch_dtype=torch_dtype)\n",
        "predict_token(mt, ['Megan Rapinoe plays the sport of',\n",
        "                   'The Space Needle is in the city of'\n",
        "                  ], return_p=True)"
      ]
    },
    {
      "cell_type": "code",
      "execution_count": 10,
      "metadata": {
        "id": "0BOXyj2qr8QU"
      },
      "outputs": [],
      "source": [
        "prompts = ['Megan Rapinoe plays the sport of']\n",
        "device = 'cuda'\n",
        "token_lists = [mt.tokenizer.encode(p) for p in prompts]\n",
        "maxlen = max(len(t) for t in token_lists)\n",
        "if \"[PAD]\" in mt.tokenizer.all_special_tokens:\n",
        "    pad_id = mt.tokenizer.all_special_ids[mt.tokenizer.all_special_tokens.index(\"[PAD]\")]\n",
        "else:\n",
        "    pad_id = 0\n",
        "input_ids = [[pad_id] * (maxlen - len(t)) + t for t in token_lists]\n",
        "attention_mask = [[0] * (maxlen - len(t)) + [1] * len(t) for t in token_lists]\n",
        "inp = dict(\n",
        "    input_ids=torch.tensor(input_ids).to(device),\n",
        "    #    position_ids=torch.tensor(position_ids).to(device),\n",
        "    attention_mask=torch.tensor(attention_mask).to(device),\n",
        ")"
      ]
    },
    {
      "cell_type": "markdown",
      "metadata": {
        "id": "EEg7QdRBiI8E"
      },
      "source": [
        "## Tracing a single location\n",
        "\n",
        "The core intervention in causal tracing is captured in this function:\n",
        "\n",
        "`trace_with_patch` a single causal trace.\n",
        "\n",
        "It enables running a batch of inferences with two interventions.\n",
        "\n",
        "  1. Random noise can be added to corrupt the inputs of some of the batch.\n",
        "  2. At any point, clean non-noised state can be copied over from an\n",
        "     uncorrupted batch member to other batch members.\n",
        "  \n",
        "The convention used by this function is that the zeroth element of the\n",
        "batch is the uncorrupted run, and the subsequent elements of the batch\n",
        "are the corrupted runs.  The argument tokens_to_mix specifies an\n",
        "be corrupted by adding Gaussian noise to the embedding for the batch\n",
        "inputs other than the first element in the batch.  Alternately,\n",
        "subsequent runs could be corrupted by simply providing different\n",
        "input tokens via the passed input batch.\n",
        "\n",
        "To ensure that corrupted behavior is representative, in practice, we\n",
        "will actually run several (ten) corrupted runs in the same batch,\n",
        "each with its own sample of noise.\n",
        "\n",
        "Then when running, a specified set of hidden states will be uncorrupted\n",
        "by restoring their values to the same vector that they had in the\n",
        "zeroth uncorrupted run.  This set of hidden states is listed in\n",
        "states_to_patch, by listing [(token_index, layername), ...] pairs.\n",
        "To trace the effect of just a single state, this can be just a single\n",
        "token/layer pair.  To trace the effect of restoring a set of states,\n",
        "any number of token indices and layers can be listed.\n",
        "\n",
        "Note that this function is also in experiments.causal_trace; the code\n",
        "is shown here to show the logic."
      ]
    },
    {
      "cell_type": "code",
      "execution_count": 11,
      "metadata": {
        "id": "ejOsaX55iI8F"
      },
      "outputs": [],
      "source": [
        "def trace_with_patch(\n",
        "    model,            # The model\n",
        "    inp,              # A set of inputs\n",
        "    states_to_patch,  # A list of (token index, layername) triples to restore\n",
        "    answers_t,        # Answer probabilities to collect\n",
        "    tokens_to_mix,    # Range of tokens to corrupt (begin, end)\n",
        "    noise=0.1,        # Level of noise to add\n",
        "    trace_layers=None # List of traced outputs to return\n",
        "):\n",
        "    prng = numpy.random.RandomState(1)  # For reproducibility, use pseudorandom noise\n",
        "    patch_spec = defaultdict(list)\n",
        "    for t, l in states_to_patch:\n",
        "        patch_spec[l].append(t)\n",
        "    embed_layername = layername(model, 0, 'embed')\n",
        "    \n",
        "    def untuple(x):\n",
        "        return x[0] if isinstance(x, tuple) else x\n",
        "\n",
        "    # Define the model-patching rule.\n",
        "    def patch_rep(x, layer):\n",
        "        if layer == embed_layername:\n",
        "            # If requested, we corrupt a range of token embeddings on batch items x[1:]\n",
        "            if tokens_to_mix is not None:\n",
        "                b, e = tokens_to_mix\n",
        "                x[1:, b:e] += noise * torch.from_numpy(\n",
        "                    prng.randn(x.shape[0] - 1, e - b, x.shape[2])\n",
        "                ).to(x.device)\n",
        "            return x\n",
        "        if layer not in patch_spec:\n",
        "            return x\n",
        "        # If this layer is in the patch_spec, restore the uncorrupted hidden state\n",
        "        # for selected tokens.\n",
        "        h = untuple(x)\n",
        "        for t in patch_spec[layer]:\n",
        "            h[1:, t] = h[0, t]\n",
        "        return x\n",
        "\n",
        "    # With the patching rules defined, run the patched model in inference.\n",
        "    additional_layers = [] if trace_layers is None else trace_layers\n",
        "    with torch.no_grad(), nethook.TraceDict(\n",
        "        model,\n",
        "        [embed_layername] +\n",
        "            list(patch_spec.keys()) + additional_layers,\n",
        "        edit_output=patch_rep\n",
        "    ) as td:\n",
        "        outputs_exp = model(**inp)\n",
        "\n",
        "    # We report softmax probabilities for the answers_t token predictions of interest.\n",
        "    probs = torch.softmax(outputs_exp.logits[1:, -1, :], dim=1).mean(dim=0)[answers_t]\n",
        "\n",
        "    # If tracing all layers, collect all activations together to return.\n",
        "    if trace_layers is not None:\n",
        "        all_traced = torch.stack(\n",
        "            [untuple(td[layer].output).detach().cpu() for layer in trace_layers], dim=2)\n",
        "        return probs, all_traced\n",
        "\n",
        "    return probs"
      ]
    },
    {
      "cell_type": "markdown",
      "metadata": {
        "id": "kmiMzG9ViI8G"
      },
      "source": [
        "## Scanning all locations\n",
        "\n",
        "A causal flow heatmap is created by repeating `trace_with_patch` at every individual hidden state, and measuring the impact of restoring state at each location.\n",
        "\n",
        "The `calculate_hidden_flow` function does this loop.  It handles both the case of restoring a single hidden state, and also restoring MLP or attention states.  Because MLP and attention make small residual contributions, to observe a causal effect in those cases, we need to restore several layers of contributions at once, which is done by `trace_important_window`."
      ]
    },
    {
      "cell_type": "code",
      "execution_count": 12,
      "metadata": {
        "id": "rdty20cEiI8G"
      },
      "outputs": [],
      "source": [
        "def calculate_hidden_flow(\n",
        "    mt, prompt, subject, samples=10, noise=0.1, window=10, kind=None\n",
        "):\n",
        "    \"\"\"\n",
        "    Runs causal tracing over every token/layer combination in the network\n",
        "    and returns a dictionary numerically summarizing the results.\n",
        "    \"\"\"\n",
        "    inp = make_inputs(mt.tokenizer, [prompt] * (samples + 1))\n",
        "    with torch.no_grad():\n",
        "        answer_t, base_score = [d[0] for d in predict_from_input(mt.model, inp)]\n",
        "    [answer] = decode_tokens(mt.tokenizer, [answer_t])\n",
        "    e_range = find_token_range(mt.tokenizer, inp[\"input_ids\"][0], subject)\n",
        "    low_score = trace_with_patch(mt.model, inp, [], answer_t, e_range,\n",
        "            noise=noise).item()\n",
        "    if not kind:\n",
        "        differences = trace_important_states(\n",
        "            mt.model, mt.num_layers, inp, e_range, answer_t, noise=noise\n",
        "        )\n",
        "    else:\n",
        "        differences = trace_important_window(\n",
        "            mt.model,\n",
        "            mt.num_layers,\n",
        "            inp,\n",
        "            e_range,\n",
        "            answer_t,\n",
        "            noise=noise,\n",
        "            window=window,\n",
        "            kind=kind,\n",
        "        )\n",
        "    differences = differences.detach().cpu()\n",
        "    return dict(\n",
        "        scores=differences,\n",
        "        low_score=low_score,\n",
        "        high_score=base_score,\n",
        "        input_ids=inp[\"input_ids\"][0],\n",
        "        input_tokens=decode_tokens(mt.tokenizer, inp[\"input_ids\"][0]),\n",
        "        subject_range=e_range,\n",
        "        answer=answer,\n",
        "        window=window,\n",
        "        kind=kind or \"\",\n",
        "    )\n",
        "\n",
        "def trace_important_states(model, num_layers, inp, e_range, answer_t, noise=0.1):\n",
        "    ntoks = inp[\"input_ids\"].shape[1]\n",
        "    table = []\n",
        "    for tnum in range(ntoks):\n",
        "        row = []\n",
        "        for layer in range(0, num_layers):\n",
        "            r = trace_with_patch(\n",
        "                model,\n",
        "                inp,\n",
        "                [(tnum, layername(model, layer))],\n",
        "                answer_t,\n",
        "                tokens_to_mix=e_range,\n",
        "                noise=noise,\n",
        "            )\n",
        "            row.append(r)\n",
        "        table.append(torch.stack(row))\n",
        "    return torch.stack(table)\n",
        "\n",
        "\n",
        "def trace_important_window(\n",
        "    model, num_layers, inp, e_range, answer_t, kind, window=10, noise=0.1\n",
        "):\n",
        "    ntoks = inp[\"input_ids\"].shape[1]\n",
        "    table = []\n",
        "    for tnum in range(ntoks):\n",
        "        row = []\n",
        "        for layer in range(0, num_layers):\n",
        "            layerlist = [\n",
        "                (tnum, layername(model, L, kind))\n",
        "                for L in range(\n",
        "                    max(0, layer - window // 2), min(num_layers, layer - (-window // 2))\n",
        "                )\n",
        "            ]\n",
        "            r = trace_with_patch(\n",
        "                model, inp, layerlist, answer_t, tokens_to_mix=e_range, noise=noise\n",
        "            )\n",
        "            row.append(r)\n",
        "        table.append(torch.stack(row))\n",
        "    return torch.stack(table)\n",
        "\n"
      ]
    },
    {
      "cell_type": "markdown",
      "metadata": {
        "id": "TV9CEzw3iI8H"
      },
      "source": [
        "## Plotting the results\n",
        "\n",
        "The `plot_trace_heatmap` function draws the data on a heatmap.  That function is not shown here; it is in `experiments.causal_trace`.\n"
      ]
    },
    {
      "cell_type": "code",
      "execution_count": 13,
      "metadata": {
        "id": "yr_HxNwxiI8I"
      },
      "outputs": [],
      "source": [
        "def plot_hidden_flow(\n",
        "    mt, prompt, subject=None, include_plots=True, samples=10, noise=0.1, window=10, \n",
        "    kind=None, modelname=None, savepdf=None\n",
        "):\n",
        "    if subject is None:\n",
        "        subject = guess_subject(prompt)\n",
        "    result = calculate_hidden_flow(\n",
        "        mt, prompt, subject, samples=samples, noise=noise, window=window, kind=kind\n",
        "    )\n",
        "    if include_plots:\n",
        "        plot_trace_heatmap(result, savepdf, modelname=modelname)\n",
        "    return result\n",
        "    \n",
        "def plot_flows(mt, prompt, subject=None, plot_num=0, noise=0.1, modelname=None, \n",
        "               plots=[None, \"mlp\", \"attn\"], include_plots=True, savepdf=None, plotsubset=None, results_dict={}):\n",
        "    i = plot_num\n",
        "    for kind in plots:\n",
        "        if kind is None:\n",
        "            j = \"fully_restored\"\n",
        "        else:\n",
        "            j = kind\n",
        "        if savepdf:\n",
        "            filename = j + \"_\" + savepdf\n",
        "            filepath = plotsubset + filename\n",
        "            savepdf = savepdf\n",
        "        results_dict[savepdf] = {}\n",
        "        result = plot_hidden_flow(mt, prompt, subject, include_plots, modelname=modelname,\n",
        "                                  savepdf=savepdf, noise=noise, kind=kind)\n",
        "        results_dict[savepdf][j] = {}\n",
        "        results_dict[savepdf][j] = result\n",
        "\n",
        "    return results_dict"
      ]
    },
    {
      "cell_type": "markdown",
      "metadata": {
        "id": "zwI4ggPIiI8J"
      },
      "source": [
        "The following prompt can be changed to any factual statement to trace."
      ]
    },
    {
      "cell_type": "code",
      "execution_count": 14,
      "metadata": {
        "colab": {
          "base_uri": "https://localhost:8080/",
          "height": 54
        },
        "id": "o9IYNmDDZQGX",
        "outputId": "19f59fd6-16f8-463e-c2f8-108417458119"
      },
      "outputs": [
        {
          "data": {
            "text/plain": [
              "'This silent film produced by Dadasaheb Torne was released in 18 May 1912 and was the first feature film of this country. And that country was India.\\n\\nThe film was made by'"
            ]
          },
          "execution_count": 14,
          "metadata": {},
          "output_type": "execute_result"
        }
      ],
      "source": [
        "prompt = \"\"\"Q: Take the last letters of the words in \"Elon Musk\" and concatenate them.\n",
        "A: The last letter of \"Elon\" is \"n\". The last letter of \"Musk\" is \"k\". Concatenating them is \"nk\". The answer is nk.\n",
        "Q: Take the last letters of the words in \"Larry Page\" and concatenate them.\n",
        "A: The last letter of \"Larry\" is \"y\". The last letter of \"Page\" is \"e\". Concatenating them is \"ye\". The answer is ye.\n",
        "Q: Take the last letters of the words in \"Sergey Brin\" and concatenate them.\n",
        "A: The last letter of \"Sergey\" is \"y\". The last letter of \"Brin\" is \"n\". Concatenating them is \"yn\". The answer is\n",
        "yn.\n",
        "Q: Take the last letters of the words in \"Bill Gates\" and concatenate them.\n",
        "A: The last letter of \"Bill\" is \"l\". The last letter of \"Gates\" is \"s\". Concatenating them is \"ls\". The answer is\"\"\"\n",
        "\n",
        "prompt = \"\"\"Shree Pundalik, created in the country of his birth,\"\"\"\n",
        "prompt = \"\"\"This silent film produced by Dadasaheb Torne was released in 18 May 1912 and was the first feature film of this country. And that country was\"\"\"\n",
        "# prompt = \"The famous tower people go visit in France is called the\"\n",
        "# prompt = \"The tower named after the engineer Gustave Eiffel is called the\"\n",
        "# prompt = \"The famous tower located located in Paris is called the\"\n",
        "# prompt = \"The Eiffel Tower is located in\"\n",
        "# prompt = \"The famous tower that was built to celebrate the 100th year anniversary of the French Revolution is located in the city of\"\n",
        "\n",
        "subject = \"\"\"The last letter of \"Bill\" is \"l\". The last letter of \"Gates\" is \"s\". Concatenating them is \"ls\".\"\"\"\n",
        "\n"
      ]
    },
    {
      "cell_type": "code",
      "execution_count": 83,
      "metadata": {},
      "outputs": [
        {
          "name": "stdout",
          "output_type": "stream",
          "text": [
            "Question: Are more people today related to Genghis Khan than Julius Caesar?\n",
            "Facts: Julius Caesar had three children. Genghis Khan had sixteen children. Modern geneticists have determined that out of every 200 men today has DNA that can be traced to Genghis Khan. \n",
            "Answer (True or False): True\n",
            "Question: Are chinchillas cold-blooded?\n",
            "Facts: Chinchillas are rodents, which are mammals. All mammals are warm-blooded.\n",
            "Answer:\n",
            "[(' False', '0.8642137')]\n"
          ]
        },
        {
          "name": "stderr",
          "output_type": "stream",
          "text": [
            "/opt/conda/envs/rome/lib/python3.9/site-packages/transformers/generation_utils.py:2259: UserWarning: __floordiv__ is deprecated, and its behavior will change in a future version of pytorch. It currently rounds toward 0 (like the 'trunc' function NOT 'floor'). This results in incorrect rounding for negative values. To keep the current behavior, use torch.div(a, b, rounding_mode='trunc'), or for actual floor division, use torch.div(a, b, rounding_mode='floor').\n",
            "  next_indices = next_tokens // vocab_size\n"
          ]
        },
        {
          "ename": "AttributeError",
          "evalue": "'BeamSampleDecoderOnlyOutput' object has no attribute 'socres'",
          "output_type": "error",
          "traceback": [
            "\u001b[0;31m---------------------------------------------------------------------------\u001b[0m",
            "\u001b[0;31mAttributeError\u001b[0m                            Traceback (most recent call last)",
            "\u001b[1;32m/home/jacquesthibodeau/rome-experiments/notebooks/causal_trace.ipynb Cell 20\u001b[0m in \u001b[0;36m<module>\u001b[0;34m\u001b[0m\n\u001b[1;32m     <a href='vscode-notebook-cell://ssh-remote%2Bgpt-j-rome.us-east1-b.mats-355413/home/jacquesthibodeau/rome-experiments/notebooks/causal_trace.ipynb#Y141sdnNjb2RlLXJlbW90ZQ%3D%3D?line=47'>48</a>\u001b[0m     token_probs\u001b[39m.\u001b[39mappend((text, prob))\n\u001b[1;32m     <a href='vscode-notebook-cell://ssh-remote%2Bgpt-j-rome.us-east1-b.mats-355413/home/jacquesthibodeau/rome-experiments/notebooks/causal_trace.ipynb#Y141sdnNjb2RlLXJlbW90ZQ%3D%3D?line=48'>49</a>\u001b[0m \u001b[39mprint\u001b[39m(token_probs) \u001b[39m# 0.9249657\u001b[39;00m\n\u001b[0;32m---> <a href='vscode-notebook-cell://ssh-remote%2Bgpt-j-rome.us-east1-b.mats-355413/home/jacquesthibodeau/rome-experiments/notebooks/causal_trace.ipynb#Y141sdnNjb2RlLXJlbW90ZQ%3D%3D?line=49'>50</a>\u001b[0m generated_outputs\u001b[39m.\u001b[39;49msocres\u001b[39m.\u001b[39m_topk(\u001b[39m2\u001b[39m)[k]\n",
            "\u001b[0;31mAttributeError\u001b[0m: 'BeamSampleDecoderOnlyOutput' object has no attribute 'socres'"
          ]
        }
      ],
      "source": [
        "import numpy as np\n",
        "# predict_token(mt, prompts)\n",
        "device = 'cuda'\n",
        "input_ids = mt.tokenizer(\n",
        "        prompts[0], add_special_tokens=False, return_tensors=\"pt\"\n",
        "    ).input_ids.to(device)\n",
        "generated_outputs = mt.model.generate(\n",
        "        input_ids,\n",
        "        do_sample=True,\n",
        "        early_stopping=True,\n",
        "        max_length=1+len(input_ids[0]),\n",
        "        num_return_sequences=1,\n",
        "        output_scores=True,\n",
        "        return_dict_in_generate=True,\n",
        "        device=device,\n",
        "        top_k=5,\n",
        "        num_beams=5,\n",
        "        # repetition_penalty=1.2,\n",
        "        # length_penalty=0.8,\n",
        "        pad_token_id=mt.tokenizer.eos_token_id,\n",
        "        temperature=0.05\n",
        "    )\n",
        "# mt.tokenizer.decode(gen_outputs.sequences[0])\n",
        "generated_text = mt.tokenizer.decode(generated_outputs.sequences[0])\n",
        "\n",
        "print(prompts[0])\n",
        "\n",
        "# only use id's that were generated\n",
        "# gen_sequences has shape [3, 15]\n",
        "gen_sequences = generated_outputs.sequences[:, input_ids.shape[-1] :]\n",
        "probs = torch.stack(generated_outputs.scores, dim=1).softmax(-1)  # -> shape [3, 15, vocab_size]\n",
        "# now we need to collect the probability of the generated token\n",
        "# we need to add a dummy dim in the end to make gather work\n",
        "gen_probs = torch.gather(probs, 2, gen_sequences[:, :, None]).squeeze(-1)\n",
        "# print(gen_probs)\n",
        "for j, sequence in enumerate(generated_outputs.sequences):\n",
        "    generated_seq = sequence[len(sequence) - len(gen_probs[j]):len(sequence)]\n",
        "    token_list = []\n",
        "    for token in generated_seq:\n",
        "        token_list.append(mt.tokenizer.decode(token))\n",
        "    generated_text = mt.tokenizer.decode(generated_seq)\n",
        "    first_token = mt.tokenizer.decode(generated_seq[0]).replace(' ', '')\n",
        "\n",
        "token_probs = []\n",
        "for token, prob in zip(generated_seq, gen_probs[0]):\n",
        "    text = mt.tokenizer.decode(token)\n",
        "    prob = str(np.array(prob.cpu()))\n",
        "    token_probs.append((text, prob))\n",
        "print(token_probs) # 0.9249657\n",
        "generated_outputs.socres._topk(2)[k]"
      ]
    },
    {
      "cell_type": "code",
      "execution_count": 119,
      "metadata": {},
      "outputs": [
        {
          "ename": "RuntimeError",
          "evalue": "CUDA error: device-side assert triggered\nCUDA kernel errors might be asynchronously reported at some other API call,so the stacktrace below might be incorrect.\nFor debugging consider passing CUDA_LAUNCH_BLOCKING=1.",
          "output_type": "error",
          "traceback": [
            "\u001b[0;31m---------------------------------------------------------------------------\u001b[0m",
            "\u001b[0;31mRuntimeError\u001b[0m                              Traceback (most recent call last)",
            "\u001b[1;32m/home/jacquesthibodeau/rome-experiments/notebooks/causal_trace.ipynb Cell 21\u001b[0m in \u001b[0;36m<module>\u001b[0;34m\u001b[0m\n\u001b[1;32m      <a href='vscode-notebook-cell://ssh-remote%2Bgpt-j-rome.us-east1-b.mats-355413/home/jacquesthibodeau/rome-experiments/notebooks/causal_trace.ipynb#Y142sdnNjb2RlLXJlbW90ZQ%3D%3D?line=0'>1</a>\u001b[0m \u001b[39m# # get the log probabilities of the top-k tokens\u001b[39;00m\n\u001b[1;32m      <a href='vscode-notebook-cell://ssh-remote%2Bgpt-j-rome.us-east1-b.mats-355413/home/jacquesthibodeau/rome-experiments/notebooks/causal_trace.ipynb#Y142sdnNjb2RlLXJlbW90ZQ%3D%3D?line=1'>2</a>\u001b[0m \u001b[39m# log_probs = torch.log_softmax(generated_outputs.scores[0], dim=-1)\u001b[39;00m\n\u001b[1;32m      <a href='vscode-notebook-cell://ssh-remote%2Bgpt-j-rome.us-east1-b.mats-355413/home/jacquesthibodeau/rome-experiments/notebooks/causal_trace.ipynb#Y142sdnNjb2RlLXJlbW90ZQ%3D%3D?line=2'>3</a>\u001b[0m \u001b[39m# topk_log_probs, topk_indices = torch.topk(log_probs, k=5, dim=-1)\u001b[39;00m\n\u001b[1;32m      <a href='vscode-notebook-cell://ssh-remote%2Bgpt-j-rome.us-east1-b.mats-355413/home/jacquesthibodeau/rome-experiments/notebooks/causal_trace.ipynb#Y142sdnNjb2RlLXJlbW90ZQ%3D%3D?line=3'>4</a>\u001b[0m \u001b[39m# # print\u001b[39;00m\n\u001b[1;32m      <a href='vscode-notebook-cell://ssh-remote%2Bgpt-j-rome.us-east1-b.mats-355413/home/jacquesthibodeau/rome-experiments/notebooks/causal_trace.ipynb#Y142sdnNjb2RlLXJlbW90ZQ%3D%3D?line=4'>5</a>\u001b[0m \u001b[39m# for i, (token, prob) in enumerate(zip(topk_indices, topk_log_probs)):\u001b[39;00m\n\u001b[1;32m      <a href='vscode-notebook-cell://ssh-remote%2Bgpt-j-rome.us-east1-b.mats-355413/home/jacquesthibodeau/rome-experiments/notebooks/causal_trace.ipynb#Y142sdnNjb2RlLXJlbW90ZQ%3D%3D?line=5'>6</a>\u001b[0m \u001b[39m#     print(i, mt.tokenizer.decode(token), prob)\u001b[39;00m\n\u001b[0;32m----> <a href='vscode-notebook-cell://ssh-remote%2Bgpt-j-rome.us-east1-b.mats-355413/home/jacquesthibodeau/rome-experiments/notebooks/causal_trace.ipynb#Y142sdnNjb2RlLXJlbW90ZQ%3D%3D?line=7'>8</a>\u001b[0m generated_outputs\u001b[39m.\u001b[39;49mscores[\u001b[39m0\u001b[39;49m]\u001b[39m.\u001b[39;49mtopk(\u001b[39m3\u001b[39;49m)\u001b[39m.\u001b[39mvalues\u001b[39m.\u001b[39mtolist()\n",
            "\u001b[0;31mRuntimeError\u001b[0m: CUDA error: device-side assert triggered\nCUDA kernel errors might be asynchronously reported at some other API call,so the stacktrace below might be incorrect.\nFor debugging consider passing CUDA_LAUNCH_BLOCKING=1."
          ]
        }
      ],
      "source": [
        "# # get the log probabilities of the top-k tokens\n",
        "# log_probs = torch.log_softmax(generated_outputs.scores[0], dim=-1)\n",
        "# topk_log_probs, topk_indices = torch.topk(log_probs, k=5, dim=-1)\n",
        "# # print\n",
        "# for i, (token, prob) in enumerate(zip(topk_indices, topk_log_probs)):\n",
        "#     print(i, mt.tokenizer.decode(token), prob)\n",
        "\n",
        "generated_outputs.scores[0].topk(3).values.tolist()"
      ]
    },
    {
      "cell_type": "code",
      "execution_count": 108,
      "metadata": {},
      "outputs": [
        {
          "data": {
            "text/plain": [
              "tensor([[17821]], device='cuda:0')"
            ]
          },
          "execution_count": 108,
          "metadata": {},
          "output_type": "execute_result"
        }
      ],
      "source": [
        "mt.tokenizer(\n",
        "        \"True\", add_special_tokens=False, return_tensors=\"pt\"\n",
        "    ).input_ids.to(device)"
      ]
    },
    {
      "cell_type": "code",
      "execution_count": 109,
      "metadata": {},
      "outputs": [
        {
          "data": {
            "text/plain": [
              "tensor([24361,    25,  4231,   517,   661,  1909,  3519,   284,  5215,   456,\n",
              "          271, 11356,   621, 32834, 24088,    30,   198,   220,   220,   220,\n",
              "        26972,    25, 32834, 24088,   550,  1115,  1751,    13,  5215,   456,\n",
              "          271, 11356,   550, 27913,  1751,    13, 12495,  8513,  1023,   423,\n",
              "         5295,   326,   503,   286,   790,   939,  1450,  1909,   468,  7446,\n",
              "          326,   460,   307, 23246,   284,  5215,   456,   271, 11356,    13,\n",
              "          220,   198,   220,   220,   220, 23998,   357, 17821,   393, 10352,\n",
              "         2599,  6407,   198, 24361,    25,  4231,   517,   661,  1909,  3519,\n",
              "          284,  5215,   456,   271, 11356,   621, 32834, 24088,    30,   198,\n",
              "           37,  8656,    25, 32834, 24088,   550,  1115,  1751,    13,  5215,\n",
              "          456,   271, 11356,   550, 27913,  1751,    13, 12495,  8513,  1023,\n",
              "          423,  5295,   326,   503,   286,   790,   939,  1450,  1909,   468,\n",
              "         7446,   326,   460,   307, 23246,   284,  5215,   456,   271, 11356,\n",
              "           13,   220,   198, 33706,   357, 17821,   393, 10352,  2599, 10352,\n",
              "          198,   198,    32,    25,   198,   198,   464,  3280,   318,  3991,\n",
              "           13,   198,   464,  1808,   318,  4737,   546,   262,  1271,   286,\n",
              "          661,  6776,  1909,   508,   389,  3519,   284,  5215,   456,   271,\n",
              "        11356,    13,   198,   464,  3280,   318,  3991,   780,   262,  1808,\n",
              "          318,  4737,   546,   262,  1271,   286,   661,  6776,  1909,   508,\n",
              "          389,  3519,   284,  5215,   456,   271, 11356,    13,   198,   464],\n",
              "       device='cuda:0')"
            ]
          },
          "execution_count": 109,
          "metadata": {},
          "output_type": "execute_result"
        }
      ],
      "source": [
        "generated_outputs.sequences[0].scores"
      ]
    },
    {
      "cell_type": "code",
      "execution_count": 62,
      "metadata": {
        "id": "oFWKVnH2fmZa"
      },
      "outputs": [],
      "source": [
        "prompts = [\"\"\"Shree Pundalik, created in the country of his birth,\"\"\",\n",
        "           \"\"\"This silent film produced by Dadasaheb Torne was released in 18 May 1912 and was the first feature film of this country. And that country was\"\"\",\n",
        "           \"The famous tower people go visit in France is called the\",\n",
        "           \"The tower named after the engineer Gustave Eiffel is called the\",\n",
        "           \"The famous tower located located in Paris is called the\",\n",
        "           \"The Eiffel Tower is located in\",\n",
        "           \"The famous tower that was built to celebrate the 100th year anniversary of the French Revolution is located in the city of\",\n",
        "           \"The mother tongue of Danielle Darrieux is\",\n",
        "           \"\"\"The mother tongue of the lead actress from the film 'The Earrings of Madame de' is\"\"\",\n",
        "           \"Iron Man is affiliated with the\",\n",
        "           \"The Marvel hero in the iron suit is affiliated with the\",\n",
        "           \"In Singapore, the language spoken is\",\n",
        "           \"The country where Lee Hsien Loong is the prime minister mainly speaks in\",\n",
        "           ]\n",
        "subjects = [\"Shree Pundalik\",\n",
        "            \"silent film produced by Dadasaheb Torne was released in 18 May 1912\",\n",
        "            \"famous tower people go visit in France\",\n",
        "            \"tower named after the engineer Gustave Eiffel\",\n",
        "            \"Eiffel Tower\",\n",
        "            \"famous tower that was built to celebrate the 100th year anniversary of the French Revolution\",\n",
        "            \"Danielle Darrieux\",\n",
        "            \"lead actress from the film 'The Earrings of Madame de'\",\n",
        "            \"Iron Man\",\n",
        "            \"Marvel hero in the iron suit\",\n",
        "            \"Singapore\",\n",
        "            \"country where Lee Hsien Loong is the prime minister\",\n",
        "            ]\n",
        "\n",
        "prompts = [\"In the country of Singapore, the main language that is spoken is\"]\n",
        "subjects = [\"Singapore\"]\n",
        "\n",
        "\n",
        "prompts = [\"\"\"Question: Are more people today related to Genghis Khan than Julius Caesar?\n",
        "Facts: Julius Caesar had three children. Genghis Khan had sixteen children. Modern geneticists have determined that out of every 200 men today has DNA that can be traced to Genghis Khan. \n",
        "Answer (True or False): True\n",
        "Question: Are chinchillas cold-blooded?\n",
        "Facts: Chinchillas are rodents, which are mammals. All mammals are warm-blooded.\n",
        "Answer:\"\"\"]\n",
        "\n",
        "subjects = [\"Chinchillas are rodents, which are mammals. All mammals are warm-blooded.\"]"
      ]
    },
    {
      "cell_type": "code",
      "execution_count": 18,
      "metadata": {
        "colab": {
          "base_uri": "https://localhost:8080/",
          "height": 745
        },
        "id": "I-imPk-_iI8J",
        "outputId": "b55dd7dd-97f0-4e29-db45-0efe0c17c360"
      },
      "outputs": [
        {
          "data": {
            "image/png": "[encoded data removed]",
            "text/plain": [
              "<Figure size 3200x3200 with 2 Axes>"
            ]
          },
          "metadata": {
            "needs_background": "light"
          },
          "output_type": "display_data"
        }
      ],
      "source": [
        "for prompt, subject in zip(prompts, subjects):\n",
        "    plot_flows(mt, prompt, plots=['mlp'], subject=subject)"
      ]
    },
    {
      "cell_type": "code",
      "execution_count": 31,
      "metadata": {},
      "outputs": [
        {
          "name": "stdout",
          "output_type": "stream",
          "text": [
            "['Question', ':', ' Are', ' ch', 'inch', 'illas', ' cold', '-', 'blooded', '?', '\\n', 'F', 'acts', ':', ' Ch', 'inch', 'illas', ' are', ' rodents', ',', ' which', ' are', ' mammals', '.', ' All', ' mammals', ' are', ' warm', '-', 'blooded', '.', '\\n', 'Answer', ':']\n"
          ]
        }
      ],
      "source": [
        "txt = \"\"\"Question: Are more people today related to Genghis Khan than Julius Caesar?\n",
        "Facts: Julius Caesar had three children. Genghis Khan had sixteen children. Modern geneticists have determined that out of every 200 men today has DNA that can be traced to Genghis Khan. \n",
        "Answer (True or False): True\\nQuestion: this is a test\\nFacts: andso\\nAnswer:\"\"\"\n",
        "\n",
        "input = mt.tokenizer(\n",
        "        prompt, add_special_tokens=False, return_tensors=\"pt\"\n",
        "    ).input_ids.to(device)\n",
        "tok_list = []\n",
        "for inp in input[0]:\n",
        "    tok_list.append(mt.tokenizer.decode(inp))\n",
        "print(tok_list[68:])"
      ]
    },
    {
      "cell_type": "markdown",
      "metadata": {
        "id": "1EQsaTLoiI8K"
      },
      "source": [
        "Here we trace a few more factual statements from a file of test cases."
      ]
    },
    {
      "cell_type": "code",
      "execution_count": 49,
      "metadata": {
        "colab": {
          "base_uri": "https://localhost:8080/"
        },
        "id": "Xlv2NCn8iI8K",
        "outputId": "52c4adee-511f-4784-beeb-0811bd53e457"
      },
      "outputs": [
        {
          "name": "stdout",
          "output_type": "stream",
          "text": [
            "Loaded dataset with 1209 elements\n"
          ]
        }
      ],
      "source": [
        "knowns = KnownsDataset(DATA_DIR)\n",
        "\n",
        "# for knowledge in knowns[0:1]:\n",
        "#     plot_flows(mt, knowledge['prompt'], knowledge['subject'])"
      ]
    },
    {
      "cell_type": "markdown",
      "metadata": {
        "id": "QkTd8r-MkQBt"
      },
      "source": [
        "Now, let's try to find out some interesting stuff using Causal Tracing. Are there some patterns we can recognize?\n",
        "\n",
        "Let's run through the entire Known dataset and then have a look at some commonalities between the subjects that have more effect in the later layers than the earlier layers."
      ]
    },
    {
      "cell_type": "code",
      "execution_count": 37,
      "metadata": {
        "colab": {
          "base_uri": "https://localhost:8080/"
        },
        "id": "YpqwsvK14RPW",
        "outputId": "3de34ed7-9bbf-4c7a-f772-b12e932a9120"
      },
      "outputs": [
        {
          "data": {
            "text/plain": [
              "{'known_id': 0,\n",
              " 'subject': 'Vinson Massif',\n",
              " 'attribute': 'Antarctica',\n",
              " 'template': '{} is located in the continent',\n",
              " 'prediction': ' of Antarctica. It is the largest of the three',\n",
              " 'prompt': 'Vinson Massif is located in the continent of',\n",
              " 'relation_id': 'P30'}"
            ]
          },
          "execution_count": 37,
          "metadata": {},
          "output_type": "execute_result"
        }
      ],
      "source": [
        "knowns[0]"
      ]
    },
    {
      "cell_type": "code",
      "execution_count": 38,
      "metadata": {
        "id": "SjTovN8gMwM3"
      },
      "outputs": [],
      "source": [
        "import json\n",
        "\n",
        "good_cf_filename = \"/content/drive/MyDrive/rome/data/good_counterfact_gpt2.json\"\n",
        "with open(good_cf_filename, 'r') as f:\n",
        "    good_cfs = json.loads(f.read())\n",
        "\n",
        "bad_cf_filename = \"/content/drive/MyDrive/rome/data/bad_counterfacts_gpt2.json\"\n",
        "with open(bad_cf_filename) as f:\n",
        "    bad_cfs = json.loads(f.read())"
      ]
    },
    {
      "cell_type": "code",
      "execution_count": 39,
      "metadata": {
        "colab": {
          "base_uri": "https://localhost:8080/"
        },
        "id": "jPiokhygWV-C",
        "outputId": "9aaee057-2ef4-48b9-eba1-dac72674b325"
      },
      "outputs": [
        {
          "data": {
            "text/plain": [
              "0.9990845"
            ]
          },
          "execution_count": 39,
          "metadata": {},
          "output_type": "execute_result"
        }
      ],
      "source": [
        "float(bad_cfs['0']['token_probs'][0][1])"
      ]
    },
    {
      "cell_type": "code",
      "execution_count": 40,
      "metadata": {
        "colab": {
          "base_uri": "https://localhost:8080/"
        },
        "id": "DLuCwTC1VjQ7",
        "outputId": "5c0c0e61-53af-4549-f45d-1c05dfa2ee3f"
      },
      "outputs": [
        {
          "name": "stdout",
          "output_type": "stream",
          "text": [
            "486\n",
            "9883\n"
          ]
        }
      ],
      "source": [
        "uncertain_count = 0\n",
        "certain_count = 0\n",
        "bad_uncertain_cfs = {}\n",
        "bad_certain_cfs = {}\n",
        "for i in list(bad_cfs.keys()):\n",
        "    first_gen_token_prob = float(bad_cfs[i]['token_probs'][0][1])\n",
        "    if first_gen_token_prob < 0.2:\n",
        "        bad_uncertain_cfs[uncertain_count] = bad_cfs[i]\n",
        "        uncertain_count += 1\n",
        "    elif first_gen_token_prob > 0.999:\n",
        "        bad_certain_cfs[certain_count] = bad_cfs[i]\n",
        "        certain_count += 1\n",
        "\n",
        "print(uncertain_count)\n",
        "print(certain_count)"
      ]
    },
    {
      "cell_type": "code",
      "execution_count": 41,
      "metadata": {
        "colab": {
          "base_uri": "https://localhost:8080/"
        },
        "id": "-fafnNm55gSx",
        "outputId": "88c657ba-60f5-409a-b161-11a32957eda4"
      },
      "outputs": [
        {
          "name": "stdout",
          "output_type": "stream",
          "text": [
            "77\n",
            "2677\n"
          ]
        }
      ],
      "source": [
        "uncertain_count = 0\n",
        "certain_count = 0\n",
        "good_uncertain_cfs = {}\n",
        "good_certain_cfs = {}\n",
        "for i in list(good_cfs.keys()):\n",
        "    first_gen_token_prob = float(good_cfs[i]['token_probs'][0][1])\n",
        "    if first_gen_token_prob < 0.2:\n",
        "        good_uncertain_cfs[uncertain_count] = good_cfs[i]\n",
        "        uncertain_count += 1\n",
        "    elif first_gen_token_prob > 0.999:\n",
        "        good_certain_cfs[certain_count] = good_cfs[i]\n",
        "        certain_count += 1\n",
        "\n",
        "print(uncertain_count)\n",
        "print(certain_count)"
      ]
    },
    {
      "cell_type": "code",
      "execution_count": 19,
      "metadata": {
        "colab": {
          "base_uri": "https://localhost:8080/"
        },
        "id": "_MlMQXgPY2KY",
        "outputId": "cab97bb4-b900-482b-fe3e-ac297d4cee24"
      },
      "outputs": [
        {
          "name": "stdout",
          "output_type": "stream",
          "text": [
            "/content/drive/MyDrive/rome/data\n"
          ]
        }
      ],
      "source": [
        "savepdf = \"/content/drive/MyDrive/rome/data/image.png\"\n",
        "if savepdf:\n",
        "    print(os.path.dirname(savepdf))"
      ]
    },
    {
      "cell_type": "code",
      "execution_count": 43,
      "metadata": {
        "id": "ATerKoVClQRx"
      },
      "outputs": [],
      "source": [
        "# import shutil\n",
        "# shutil.rmtree('/content/rome/data/bad_uncertains')"
      ]
    },
    {
      "cell_type": "code",
      "execution_count": 44,
      "metadata": {
        "id": "tJRJyfcgXCGw"
      },
      "outputs": [],
      "source": [
        "results_dict = {}"
      ]
    },
    {
      "cell_type": "code",
      "execution_count": null,
      "metadata": {
        "colab": {
          "base_uri": "https://localhost:8080/"
        },
        "id": "YU-4lsH9Zopv",
        "outputId": "2b0e1259-1747-42bb-a70a-4eae72c243e9"
      },
      "outputs": [],
      "source": [
        "from tqdm import tqdm\n",
        "i = 0\n",
        "plotsubset = \"/content/drive/MyDrive/rome/data/bad_uncertains/\"\n",
        "os.makedirs(plotsubset, exist_ok=True)\n",
        "# for knowledge in knowns[0:2]:\n",
        "for i in tqdm(bad_uncertain_cfs):\n",
        "    try:\n",
        "        subject = bad_uncertain_cfs[i]['requested_rewrite']['subject']\n",
        "        prompt = bad_uncertain_cfs[i]['requested_rewrite']['prompt'].replace(\"{}\", subject)\n",
        "        print(prompt)\n",
        "        token_prob = str(round(float(bad_uncertain_cfs[i]['token_probs'][0][1]), 3)).replace(\".\", \"p\")\n",
        "        pdf_name = token_prob + \"_\" + prompt.replace(' ', '_').replace(\".\", \"_\")\n",
        "        pdf_name = re.sub('[^0-9a-zA-Z]', '_', pdf_name)\n",
        "        print(pdf_name)\n",
        "        print(token_prob)\n",
        "        results_dict = plot_flows(mt, prompt, subject, plot_num=i,\n",
        "                                include_plots=True, plots=[\"mlp\"], \n",
        "                                savepdf=pdf_name, plotsubset=plotsubset, results_dict=results_dict)\n",
        "    except:\n",
        "        pass\n",
        "    i += 1\n",
        "    if i > 100:\n",
        "        break"
      ]
    },
    {
      "cell_type": "code",
      "execution_count": null,
      "metadata": {
        "colab": {
          "base_uri": "https://localhost:8080/"
        },
        "id": "n5reGnc4kax4",
        "outputId": "afc0cbd4-2b7b-4946-fe68-45dbf2a5aff8"
      },
      "outputs": [],
      "source": [
        "from tqdm import tqdm\n",
        "i = 0\n",
        "# results_dict = {}\n",
        "plotsubset = \"/content/drive/MyDrive/rome/data/knowns/\"\n",
        "os.makedirs(plotsubset, exist_ok=True)\n",
        "for known in tqdm(knowns[0:50]):\n",
        "    try:\n",
        "        subject = known['subject']\n",
        "        prompt = known['prompt'].replace(\"{}\", subject)\n",
        "        pdf_name = prompt.replace(' ', '_').replace(\".\", \"_\")\n",
        "        pdf_name = re.sub('[^0-9a-zA-Z]', '_', pdf_name)\n",
        "        print(pdf_name)\n",
        "        results_dict = plot_flows(mt, prompt, subject, plot_num=i,\n",
        "                                include_plots=True, plots=[\"mlp\"], \n",
        "                                savepdf=pdf_name, plotsubset=plotsubset, results_dict=results_dict)\n",
        "    except:\n",
        "        pass\n",
        "    i += 1\n",
        "    # if i > 400:\n",
        "    #     break"
      ]
    },
    {
      "cell_type": "code",
      "execution_count": null,
      "metadata": {
        "colab": {
          "base_uri": "https://localhost:8080/"
        },
        "id": "qhQd8FrAXmQY",
        "outputId": "34aef428-b32f-4ce1-f5d1-2353cb2e1c30"
      },
      "outputs": [],
      "source": [
        "for i in tqdm(good_certain_cfs):\n",
        "    try:\n",
        "        subject = good_certain_cfs[i]['requested_rewrite']['subject']\n",
        "        prompt = good_certain_cfs[i]['requested_rewrite']['prompt'].replace(\"{}\", subject)\n",
        "        token_prob = str(round(float(good_certain_cfs[i]['token_probs'][0][1]), 3)).replace(\".\", \"p\")\n",
        "        pdf_name = token_prob + \"_\" + prompt.replace(' ', '_').replace(\".\", \"_\")\n",
        "        pdf_name = re.sub('[^0-9a-zA-Z]', '_', pdf_name)\n",
        "        print(pdf_name)\n",
        "        print(token_prob)\n",
        "        results_dict = plot_flows(mt, prompt, subject, plot_num=i,\n",
        "                                include_plots=True, plots=[\"mlp\"], \n",
        "                                savepdf=pdf_name, plotsubset=plotsubset, results_dict=results_dict)\n",
        "    except:\n",
        "        pass\n",
        "    i += 1\n",
        "    if i > 100:\n",
        "        break"
      ]
    },
    {
      "cell_type": "code",
      "execution_count": null,
      "metadata": {
        "id": "1E-S2npG4Syf"
      },
      "outputs": [],
      "source": [
        "import pickle\n",
        "\n",
        "with open(\"/content/drive/MyDrive/rome/data/causal_tracing_results_dict.pkl\", \"wb\") as f:\n",
        "    pickle.dump(results_dict, f)"
      ]
    },
    {
      "cell_type": "code",
      "execution_count": 50,
      "metadata": {
        "colab": {
          "base_uri": "https://localhost:8080/",
          "height": 17
        },
        "id": "HSG59Lw1tbOp",
        "outputId": "2ae8add1-9697-4718-9752-ca7ecec2aaad"
      },
      "outputs": [
        {
          "data": {
            "application/javascript": "\n    async function download(id, filename, size) {\n      if (!google.colab.kernel.accessAllowed) {\n        return;\n      }\n      const div = document.createElement('div');\n      const label = document.createElement('label');\n      label.textContent = `Downloading \"${filename}\": `;\n      div.appendChild(label);\n      const progress = document.createElement('progress');\n      progress.max = size;\n      div.appendChild(progress);\n      document.body.appendChild(div);\n\n      const buffers = [];\n      let downloaded = 0;\n\n      const channel = await google.colab.kernel.comms.open(id);\n      // Send a message to notify the kernel that we're ready.\n      channel.send({})\n\n      for await (const message of channel.messages) {\n        // Send a message to notify the kernel that we're ready.\n        channel.send({})\n        if (message.buffers) {\n          for (const buffer of message.buffers) {\n            buffers.push(buffer);\n            downloaded += buffer.byteLength;\n            progress.value = downloaded;\n          }\n        }\n      }\n      const blob = new Blob(buffers, {type: 'application/binary'});\n      const a = document.createElement('a');\n      a.href = window.URL.createObjectURL(blob);\n      a.download = filename;\n      div.appendChild(a);\n      a.click();\n      div.remove();\n    }\n  ",
            "text/plain": [
              "<IPython.core.display.Javascript object>"
            ]
          },
          "metadata": {},
          "output_type": "display_data"
        },
        {
          "data": {
            "application/javascript": "download(\"download_4183c555-0f3b-4043-a653-ce38015084cc\", \"causal_tracing_results_dict.pkl\", 891531)",
            "text/plain": [
              "<IPython.core.display.Javascript object>"
            ]
          },
          "metadata": {},
          "output_type": "display_data"
        },
        {
          "data": {
            "application/javascript": "\n    async function download(id, filename, size) {\n      if (!google.colab.kernel.accessAllowed) {\n        return;\n      }\n      const div = document.createElement('div');\n      const label = document.createElement('label');\n      label.textContent = `Downloading \"${filename}\": `;\n      div.appendChild(label);\n      const progress = document.createElement('progress');\n      progress.max = size;\n      div.appendChild(progress);\n      document.body.appendChild(div);\n\n      const buffers = [];\n      let downloaded = 0;\n\n      const channel = await google.colab.kernel.comms.open(id);\n      // Send a message to notify the kernel that we're ready.\n      channel.send({})\n\n      for await (const message of channel.messages) {\n        // Send a message to notify the kernel that we're ready.\n        channel.send({})\n        if (message.buffers) {\n          for (const buffer of message.buffers) {\n            buffers.push(buffer);\n            downloaded += buffer.byteLength;\n            progress.value = downloaded;\n          }\n        }\n      }\n      const blob = new Blob(buffers, {type: 'application/binary'});\n      const a = document.createElement('a');\n      a.href = window.URL.createObjectURL(blob);\n      a.download = filename;\n      div.appendChild(a);\n      a.click();\n      div.remove();\n    }\n  ",
            "text/plain": [
              "<IPython.core.display.Javascript object>"
            ]
          },
          "metadata": {},
          "output_type": "display_data"
        },
        {
          "data": {
            "application/javascript": "download(\"download_4183c555-0f3b-4043-a653-ce38015084cc\", \"causal_tracing_results_dict.pkl\", 891531)",
            "text/plain": [
              "<IPython.core.display.Javascript object>"
            ]
          },
          "metadata": {},
          "output_type": "display_data"
        }
      ],
      "source": [
        "from google.colab import files\n",
        "files.download(\"/content/drive/MyDrive/rome/data/causal_tracing_results_dict.pkl\")"
      ]
    },
    {
      "cell_type": "code",
      "execution_count": 21,
      "metadata": {
        "id": "LfuAmFMv49Q7"
      },
      "outputs": [],
      "source": [
        "import pickle\n",
        "with open(\"/content/drive/MyDrive/rome/data/causal_tracing_results_dict.pkl\", \"rb\") as f:\n",
        "    ct_dict = pickle.load(f)"
      ]
    },
    {
      "cell_type": "code",
      "execution_count": 22,
      "metadata": {
        "colab": {
          "base_uri": "https://localhost:8080/"
        },
        "id": "SSbsMIKtQmbB",
        "outputId": "921d0d1f-30d3-48dd-96bc-238ee6b5fa7a"
      },
      "outputs": [
        {
          "data": {
            "text/plain": [
              "{'mlp': {'scores': tensor([[0.0496, 0.0495, 0.0494, 0.0493, 0.0493, 0.0493, 0.0391, 0.0386, 0.0390,\n",
              "           0.0375, 0.0355, 0.0364, 0.0354, 0.0352, 0.0353, 0.0354, 0.0354, 0.0354,\n",
              "           0.0355, 0.0355, 0.0355, 0.0355, 0.0354, 0.0355, 0.0355, 0.0355, 0.0355,\n",
              "           0.0355, 0.0355, 0.0355, 0.0355, 0.0355, 0.0355, 0.0355, 0.0355, 0.0355,\n",
              "           0.0355, 0.0355, 0.0356, 0.0356, 0.0356, 0.0356, 0.0356, 0.0356, 0.0356,\n",
              "           0.0356, 0.0356, 0.0356],\n",
              "          [0.0609, 0.0622, 0.0644, 0.0627, 0.0601, 0.0621, 0.0511, 0.0286, 0.0201,\n",
              "           0.0165, 0.0170, 0.0164, 0.0216, 0.0258, 0.0238, 0.0237, 0.0288, 0.0293,\n",
              "           0.0360, 0.0408, 0.0391, 0.0366, 0.0362, 0.0358, 0.0353, 0.0346, 0.0355,\n",
              "           0.0364, 0.0360, 0.0354, 0.0351, 0.0350, 0.0350, 0.0350, 0.0352, 0.0355,\n",
              "           0.0354, 0.0353, 0.0356, 0.0356, 0.0358, 0.0359, 0.0359, 0.0360, 0.0360,\n",
              "           0.0359, 0.0358, 0.0359],\n",
              "          [0.0368, 0.0362, 0.0360, 0.0355, 0.0352, 0.0342, 0.0394, 0.0359, 0.0352,\n",
              "           0.0369, 0.0330, 0.0328, 0.0358, 0.0349, 0.0371, 0.0353, 0.0334, 0.0323,\n",
              "           0.0306, 0.0329, 0.0344, 0.0364, 0.0362, 0.0363, 0.0357, 0.0372, 0.0376,\n",
              "           0.0368, 0.0366, 0.0370, 0.0368, 0.0362, 0.0360, 0.0359, 0.0359, 0.0355,\n",
              "           0.0356, 0.0358, 0.0357, 0.0358, 0.0359, 0.0360, 0.0360, 0.0359, 0.0356,\n",
              "           0.0359, 0.0359, 0.0358],\n",
              "          [0.0477, 0.0472, 0.0446, 0.0436, 0.0448, 0.0453, 0.0499, 0.0504, 0.0363,\n",
              "           0.0302, 0.0389, 0.0428, 0.0474, 0.0511, 0.0550, 0.0550, 0.0478, 0.0471,\n",
              "           0.0519, 0.0472, 0.0481, 0.0478, 0.0500, 0.0503, 0.0456, 0.0452, 0.0429,\n",
              "           0.0423, 0.0408, 0.0403, 0.0396, 0.0391, 0.0372, 0.0367, 0.0365, 0.0366,\n",
              "           0.0358, 0.0357, 0.0357, 0.0358, 0.0358, 0.0356, 0.0359, 0.0357, 0.0355,\n",
              "           0.0355, 0.0355, 0.0354],\n",
              "          [0.0310, 0.0316, 0.0313, 0.0319, 0.0319, 0.0318, 0.0335, 0.0320, 0.0338,\n",
              "           0.0362, 0.0377, 0.0356, 0.0354, 0.0342, 0.0344, 0.0350, 0.0352, 0.0353,\n",
              "           0.0356, 0.0353, 0.0352, 0.0356, 0.0359, 0.0351, 0.0356, 0.0361, 0.0363,\n",
              "           0.0366, 0.0367, 0.0369, 0.0371, 0.0366, 0.0368, 0.0369, 0.0370, 0.0368,\n",
              "           0.0366, 0.0365, 0.0363, 0.0360, 0.0360, 0.0359, 0.0359, 0.0358, 0.0358,\n",
              "           0.0356, 0.0356, 0.0356],\n",
              "          [0.0501, 0.0478, 0.0310, 0.0308, 0.0317, 0.0312, 0.0319, 0.0320, 0.0331,\n",
              "           0.0329, 0.0321, 0.0322, 0.0316, 0.0318, 0.0321, 0.0351, 0.0368, 0.0387,\n",
              "           0.0454, 0.0439, 0.0434, 0.0388, 0.0362, 0.0341, 0.0337, 0.0331, 0.0330,\n",
              "           0.0332, 0.0321, 0.0294, 0.0290, 0.0299, 0.0308, 0.0298, 0.0292, 0.0299,\n",
              "           0.0282, 0.0287, 0.0307, 0.0319, 0.0287, 0.0251, 0.0212, 0.0182, 0.0193,\n",
              "           0.0184, 0.0196, 0.0189]]),\n",
              "  'low_score': 0.03553289920091629,\n",
              "  'high_score': tensor(0.0468, device='cuda:0'),\n",
              "  'input_ids': tensor([   51, 16044, 25957, 15339,    11,   262], device='cuda:0'),\n",
              "  'input_tokens': ['T', 'oko', ' Yas', 'uda', ',', ' the'],\n",
              "  'subject_range': (0, 4),\n",
              "  'answer': ' director',\n",
              "  'window': 10,\n",
              "  'kind': 'mlp'}}"
            ]
          },
          "execution_count": 22,
          "metadata": {},
          "output_type": "execute_result"
        }
      ],
      "source": [
        "keys = list(ct_dict.keys())\n",
        "ct_dict[keys[0]]"
      ]
    },
    {
      "cell_type": "code",
      "execution_count": 37,
      "metadata": {
        "colab": {
          "base_uri": "https://localhost:8080/"
        },
        "id": "Hc7I8-d1rYOv",
        "outputId": "a420997e-90c1-47fe-e91d-5c3eeae21efd"
      },
      "outputs": [
        {
          "data": {
            "text/plain": [
              "{'case_id': 0,\n",
              " 'pararel_idx': 2796,\n",
              " 'requested_rewrite': {'prompt': 'The mother tongue of {} is',\n",
              "  'relation_id': 'P103',\n",
              "  'target_new': {'str': 'English', 'id': 'Q1860'},\n",
              "  'target_true': {'str': 'French', 'id': 'Q150'},\n",
              "  'subject': 'Danielle Darrieux'},\n",
              " 'paraphrase_prompts': ['Shayna does this and Yossel goes still and dies. Danielle Darrieux, a native',\n",
              "  'An album was recorded for Capitol Nashville but never released. Danielle Darrieux spoke the language'],\n",
              " 'neighborhood_prompts': ['The mother tongue of Léon Blum is',\n",
              "  'The native language of Montesquieu is',\n",
              "  'François Bayrou, a native',\n",
              "  'The native language of Raymond Barre is',\n",
              "  'Michel Rocard is a native speaker of',\n",
              "  'Jacques Chaban-Delmas is a native speaker of',\n",
              "  'The native language of François Bayrou is',\n",
              "  'Maurice Genevoix, speaker of',\n",
              "  'The mother tongue of François Bayrou is',\n",
              "  'Melchior de Vogüé, speaker of'],\n",
              " 'attribute_prompts': ['J.\\xa0R.\\xa0R. Tolkien is a native speaker of',\n",
              "  'The mother tongue of Douglas Adams is',\n",
              "  'The mother tongue of Paul McCartney is',\n",
              "  'Elvis Presley is a native speaker of',\n",
              "  'Barack Obama, speaker of',\n",
              "  'Douglas Adams, speaker of',\n",
              "  'Meryl Streep, a native',\n",
              "  'George Orwell spoke the language',\n",
              "  'George Washington, a native',\n",
              "  'Michael Jackson, a native'],\n",
              " 'generation_prompts': [\"Danielle Darrieux's mother tongue is\",\n",
              "  'Where Danielle Darrieux is from, people speak the language of',\n",
              "  \"Danielle Darrieux's mother tongue is\",\n",
              "  'Danielle Darrieux was born in',\n",
              "  \"Danielle Darrieux's mother tongue is\",\n",
              "  \"Danielle Darrieux's mother tongue is\",\n",
              "  'Danielle Darrieux was born in',\n",
              "  'Where Danielle Darrieux is from, people speak the language of',\n",
              "  'Danielle Darrieux was born in',\n",
              "  'Danielle Darrieux was born in'],\n",
              " 'gpt2_main_completion': ' French, and she is fluent in English. She is a graduate of the University of Ottawa with a Bachelor of Arts in English.\\n\\nShe has worked',\n",
              " 'good_gpt2_prompt': True,\n",
              " 'token_probs': [[' French', '1.0'],\n",
              "  [',', '0.42664474'],\n",
              "  [' and', '0.9633987'],\n",
              "  [' she', '0.9998111'],\n",
              "  [' is', '0.34294546'],\n",
              "  [' fluent', '0.5130362'],\n",
              "  [' in', '1.0'],\n",
              "  [' English', '0.9999894'],\n",
              "  ['.', '0.95596826'],\n",
              "  [' She', '0.79759014'],\n",
              "  [' is', '0.55089885'],\n",
              "  [' a', '0.98989874'],\n",
              "  [' graduate', '0.99379975'],\n",
              "  [' of', '1.0'],\n",
              "  [' the', '1.0'],\n",
              "  [' University', '1.0'],\n",
              "  [' of', '1.0'],\n",
              "  [' Ottawa', '0.7960768'],\n",
              "  [' with', '0.13860902'],\n",
              "  [' a', '1.0'],\n",
              "  [' Bachelor', '0.9998783'],\n",
              "  [' of', '1.0'],\n",
              "  [' Arts', '1.0'],\n",
              "  [' in', '0.4872045'],\n",
              "  [' English', '0.9939374'],\n",
              "  ['.', '0.84137046'],\n",
              "  ['\\n', '0.7687395'],\n",
              "  ['\\n', '1.0'],\n",
              "  ['She', '0.9980781'],\n",
              "  [' has', '0.13733983'],\n",
              "  [' worked', '0.9587705']]}"
            ]
          },
          "execution_count": 37,
          "metadata": {},
          "output_type": "execute_result"
        }
      ],
      "source": [
        "good_certain_cfs[0]"
      ]
    },
    {
      "cell_type": "code",
      "execution_count": 36,
      "metadata": {
        "colab": {
          "base_uri": "https://localhost:8080/"
        },
        "id": "ZDA6pwTNp5H3",
        "outputId": "dc07bc31-1bc5-4fa1-9351-42fbad0d4e68"
      },
      "outputs": [
        {
          "name": "stdout",
          "output_type": "stream",
          "text": [
            "The mother tongue of Danielle Darrieux is\n"
          ]
        }
      ],
      "source": [
        "prompt = good_certain_cfs[0]['requested_rewrite']['prompt']\n",
        "prompt = prompt.replace(\"{}\", good_certain_cfs[0]['requested_rewrite']['subject'])\n",
        "print(prompt)"
      ]
    },
    {
      "cell_type": "code",
      "execution_count": 45,
      "metadata": {
        "id": "OFAW6ewRorUG"
      },
      "outputs": [],
      "source": [
        "input_tokens = [53, 7899, 5674, 361, 313, 5140, 287, 262, 15549, 286]\n",
        "for j in knowns[0:50]:\n",
        "    id = j['known_id']\n",
        "    for i in good_certain_cfs:\n",
        "        prompt = good_certain_cfs[0]['requested_rewrite']['prompt']\n",
        "        prompt = prompt.replace(\"{}\", good_certain_cfs[0]['requested_rewrite']['subject'])\n",
        "        # input_tokens = mt.tokenizer.encode(prompt)\n",
        "        if knowns[id]['prompt'] == prompt:\n",
        "            print('yes')\n",
        "            # knowns[id] = good_certain_cfs[i]['token_probs']\n",
        "            break"
      ]
    },
    {
      "cell_type": "code",
      "execution_count": null,
      "metadata": {
        "colab": {
          "base_uri": "https://localhost:8080/"
        },
        "id": "8in4LJHstaKk",
        "outputId": "a9910473-45f9-4b16-a76f-951cf3aecf89"
      },
      "outputs": [],
      "source": [
        "import numpy as np\n",
        "from tqdm import tqdm\n",
        "count = 0\n",
        "good_knowns = {}\n",
        "for i, known in tqdm(enumerate(knowns[0:200])):\n",
        "    prompt = known['prompt']\n",
        "    input_ids = mt.tokenizer(\n",
        "        prompt, add_special_tokens=False, return_tensors=\"pt\"\n",
        "    ).input_ids.to(device)\n",
        "    generated_outputs = mt.model.generate(\n",
        "        input_ids,\n",
        "        do_sample=True,\n",
        "        early_stopping=True,\n",
        "        max_length=40,\n",
        "        num_return_sequences=1,\n",
        "        output_scores=True,\n",
        "        return_dict_in_generate=True,\n",
        "        device=device,\n",
        "        # repetition_penalty=1.2,\n",
        "        # length_penalty=0.8,\n",
        "        pad_token_id=mt.tokenizer.eos_token_id,\n",
        "        temperature=0.05\n",
        "    )\n",
        "    generated_text = mt.tokenizer.decode(generated_outputs.sequences[0])\n",
        "\n",
        "    # only use id's that were generated\n",
        "    # gen_sequences has shape [3, 15]\n",
        "    gen_sequences = generated_outputs.sequences[:, input_ids.shape[-1] :]\n",
        "    probs = torch.stack(generated_outputs.scores, dim=1).softmax(-1)  # -> shape [3, 15, vocab_size]\n",
        "    # now we need to collect the probability of the generated token\n",
        "    # we need to add a dummy dim in the end to make gather work\n",
        "    gen_probs = torch.gather(probs, 2, gen_sequences[:, :, None]).squeeze(-1)\n",
        "    # print(gen_probs)\n",
        "    for j, sequence in enumerate(generated_outputs.sequences):\n",
        "        generated_seq = sequence[len(sequence) - len(gen_probs[j]):len(sequence)]\n",
        "        token_list = []\n",
        "        for token in generated_seq:\n",
        "            token_list.append(mt.tokenizer.decode(token))\n",
        "        generated_text = mt.tokenizer.decode(generated_seq)\n",
        "        first_token = mt.tokenizer.decode(generated_seq[0]).replace(' ', '')\n",
        "    \n",
        "    token_probs = []\n",
        "    for token, prob in zip(generated_seq, gen_probs[0]):\n",
        "        text = mt.tokenizer.decode(token)\n",
        "        prob = str(np.array(prob.cpu()))\n",
        "        token_probs.append((text, prob))\n",
        "\n",
        "    knowns[i][\"gpt2_main_completion\"] = generated_text\n",
        "    knowns[i][\"token_probs\"] = token_probs\n",
        "    if first_token == knowns[i]['attribute']:\n",
        "        print(\"Good known: \", first_token)\n",
        "        good_knowns[j] = knowns[i]\n",
        "        good_knowns[j][\"first_token\"] = first_token\n",
        "        j += 1\n",
        "    "
      ]
    },
    {
      "cell_type": "code",
      "execution_count": null,
      "metadata": {
        "colab": {
          "base_uri": "https://localhost:8080/"
        },
        "id": "NmoRPjGOZPTv",
        "outputId": "aee00b49-8f1e-452b-a1ba-a8fa106d82e8"
      },
      "outputs": [],
      "source": [
        "known"
      ]
    },
    {
      "cell_type": "code",
      "execution_count": 72,
      "metadata": {
        "colab": {
          "base_uri": "https://localhost:8080/",
          "height": 206
        },
        "id": "1M8CaDZQWOdv",
        "outputId": "d53bd51d-3c14-496f-ea0a-84459ad50f46"
      },
      "outputs": [
        {
          "data": {
            "text/html": [
              "\n",
              "  <div id=\"df-0720134b-2ac7-4487-9bd1-a82bcf9dbce2\">\n",
              "    <div class=\"colab-df-container\">\n",
              "      <div>\n",
              "<style scoped>\n",
              "    .dataframe tbody tr th:only-of-type {\n",
              "        vertical-align: middle;\n",
              "    }\n",
              "\n",
              "    .dataframe tbody tr th {\n",
              "        vertical-align: top;\n",
              "    }\n",
              "\n",
              "    .dataframe thead th {\n",
              "        text-align: right;\n",
              "    }\n",
              "</style>\n",
              "<table border=\"1\" class=\"dataframe\">\n",
              "  <thead>\n",
              "    <tr style=\"text-align: right;\">\n",
              "      <th></th>\n",
              "      <th>prompt</th>\n",
              "      <th>correct_answer</th>\n",
              "      <th>prob</th>\n",
              "    </tr>\n",
              "  </thead>\n",
              "  <tbody>\n",
              "    <tr>\n",
              "      <th>0</th>\n",
              "      <td>Vinson Massif is located in the continent of</td>\n",
              "      <td>Antarctica</td>\n",
              "      <td>Antarctica</td>\n",
              "    </tr>\n",
              "    <tr>\n",
              "      <th>1</th>\n",
              "      <td>Beats Music is owned by</td>\n",
              "      <td>Apple</td>\n",
              "      <td>Apple</td>\n",
              "    </tr>\n",
              "    <tr>\n",
              "      <th>2</th>\n",
              "      <td>Audible.com is owned by</td>\n",
              "      <td>Amazon</td>\n",
              "      <td>Amazon</td>\n",
              "    </tr>\n",
              "    <tr>\n",
              "      <th>3</th>\n",
              "      <td>The Big Bang Theory premieres on</td>\n",
              "      <td>CBS</td>\n",
              "      <td>CBS</td>\n",
              "    </tr>\n",
              "    <tr>\n",
              "      <th>4</th>\n",
              "      <td>MacApp, a product created by</td>\n",
              "      <td>Apple</td>\n",
              "      <td>Apple</td>\n",
              "    </tr>\n",
              "  </tbody>\n",
              "</table>\n",
              "</div>\n",
              "      <button class=\"colab-df-convert\" onclick=\"convertToInteractive('df-0720134b-2ac7-4487-9bd1-a82bcf9dbce2')\"\n",
              "              title=\"Convert this dataframe to an interactive table.\"\n",
              "              style=\"display:none;\">\n",
              "        \n",
              "  <svg xmlns=\"http://www.w3.org/2000/svg\" height=\"24px\"viewBox=\"0 0 24 24\"\n",
              "       width=\"24px\">\n",
              "    <path d=\"M0 0h24v24H0V0z\" fill=\"none\"/>\n",
              "    <path d=\"M18.56 5.44l.94 2.06.94-2.06 2.06-.94-2.06-.94-.94-2.06-.94 2.06-2.06.94zm-11 1L8.5 8.5l.94-2.06 2.06-.94-2.06-.94L8.5 2.5l-.94 2.06-2.06.94zm10 10l.94 2.06.94-2.06 2.06-.94-2.06-.94-.94-2.06-.94 2.06-2.06.94z\"/><path d=\"M17.41 7.96l-1.37-1.37c-.4-.4-.92-.59-1.43-.59-.52 0-1.04.2-1.43.59L10.3 9.45l-7.72 7.72c-.78.78-.78 2.05 0 2.83L4 21.41c.39.39.9.59 1.41.59.51 0 1.02-.2 1.41-.59l7.78-7.78 2.81-2.81c.8-.78.8-2.07 0-2.86zM5.41 20L4 18.59l7.72-7.72 1.47 1.35L5.41 20z\"/>\n",
              "  </svg>\n",
              "      </button>\n",
              "      \n",
              "  <style>\n",
              "    .colab-df-container {\n",
              "      display:flex;\n",
              "      flex-wrap:wrap;\n",
              "      gap: 12px;\n",
              "    }\n",
              "\n",
              "    .colab-df-convert {\n",
              "      background-color: #E8F0FE;\n",
              "      border: none;\n",
              "      border-radius: 50%;\n",
              "      cursor: pointer;\n",
              "      display: none;\n",
              "      fill: #1967D2;\n",
              "      height: 32px;\n",
              "      padding: 0 0 0 0;\n",
              "      width: 32px;\n",
              "    }\n",
              "\n",
              "    .colab-df-convert:hover {\n",
              "      background-color: #E2EBFA;\n",
              "      box-shadow: 0px 1px 2px rgba(60, 64, 67, 0.3), 0px 1px 3px 1px rgba(60, 64, 67, 0.15);\n",
              "      fill: #174EA6;\n",
              "    }\n",
              "\n",
              "    [theme=dark] .colab-df-convert {\n",
              "      background-color: #3B4455;\n",
              "      fill: #D2E3FC;\n",
              "    }\n",
              "\n",
              "    [theme=dark] .colab-df-convert:hover {\n",
              "      background-color: #434B5C;\n",
              "      box-shadow: 0px 1px 3px 1px rgba(0, 0, 0, 0.15);\n",
              "      filter: drop-shadow(0px 1px 2px rgba(0, 0, 0, 0.3));\n",
              "      fill: #FFFFFF;\n",
              "    }\n",
              "  </style>\n",
              "\n",
              "      <script>\n",
              "        const buttonEl =\n",
              "          document.querySelector('#df-0720134b-2ac7-4487-9bd1-a82bcf9dbce2 button.colab-df-convert');\n",
              "        buttonEl.style.display =\n",
              "          google.colab.kernel.accessAllowed ? 'block' : 'none';\n",
              "\n",
              "        async function convertToInteractive(key) {\n",
              "          const element = document.querySelector('#df-0720134b-2ac7-4487-9bd1-a82bcf9dbce2');\n",
              "          const dataTable =\n",
              "            await google.colab.kernel.invokeFunction('convertToInteractive',\n",
              "                                                     [key], {});\n",
              "          if (!dataTable) return;\n",
              "\n",
              "          const docLinkHtml = 'Like what you see? Visit the ' +\n",
              "            '<a target=\"_blank\" href=https://colab.research.google.com/notebooks/data_table.ipynb>data table notebook</a>'\n",
              "            + ' to learn more about interactive tables.';\n",
              "          element.innerHTML = '';\n",
              "          dataTable['output_type'] = 'display_data';\n",
              "          await google.colab.output.renderOutput(dataTable, element);\n",
              "          const docLink = document.createElement('div');\n",
              "          docLink.innerHTML = docLinkHtml;\n",
              "          element.appendChild(docLink);\n",
              "        }\n",
              "      </script>\n",
              "    </div>\n",
              "  </div>\n",
              "  "
            ],
            "text/plain": [
              "                                         prompt correct_answer         prob\n",
              "0  Vinson Massif is located in the continent of     Antarctica   Antarctica\n",
              "1                       Beats Music is owned by          Apple        Apple\n",
              "2                       Audible.com is owned by         Amazon       Amazon\n",
              "3              The Big Bang Theory premieres on            CBS          CBS\n",
              "4                  MacApp, a product created by          Apple        Apple"
            ]
          },
          "execution_count": 72,
          "metadata": {},
          "output_type": "execute_result"
        }
      ],
      "source": [
        "import pandas as pd\n",
        "knowns[0]\n",
        "prompts = []\n",
        "correct_answer = []\n",
        "probs = []\n",
        "for known in knowns[0:200]:\n",
        "    prompts.append(known['prompt'])\n",
        "    correct_answer.append(known['attribute'])\n",
        "    probs.append(known['token_probs'][0][0])\n",
        "df = pd.DataFrame({\"prompt\": prompts, \"correct_answer\": correct_answer, \"prob\": probs})\n",
        "df.head()"
      ]
    },
    {
      "cell_type": "code",
      "execution_count": 73,
      "metadata": {
        "id": "i000xxUmY6SG"
      },
      "outputs": [],
      "source": [
        "df.to_csv(\"good_knowns_with_prob.csv\")"
      ]
    },
    {
      "cell_type": "code",
      "execution_count": 102,
      "metadata": {
        "colab": {
          "base_uri": "https://localhost:8080/"
        },
        "id": "2bvMCzJ9onaG",
        "outputId": "b42b3ece-fd74-45cc-e6ef-685d6879c897"
      },
      "outputs": [
        {
          "name": "stdout",
          "output_type": "stream",
          "text": [
            "Microsoft\n",
            "Xamarin, from the\n",
            "[(' developer', '0.016318861'), (' team', '0.030414667'), (' at', '0.1957023')]\n",
            "Microsoft\n",
            "Windows Media Player is developed by\n",
            "[(' V', '0.004145599'), ('LC', '0.91789305'), (',', '0.08347914')]\n",
            "Microsoft\n",
            "NTFS is developed by\n",
            "[(' the', '0.17151275'), (' N', '0.39584285'), ('TF', '0.9532869')]\n",
            "Microsoft\n",
            "Windows Media Audio, a product developed by\n",
            "[(' Microsoft', '0.26757678'), (' for', '0.115875155'), (' Windows', '0.3069984')]\n"
          ]
        }
      ],
      "source": [
        "correct_output = \"Microsoft\"\n",
        "for k in knowns[0:50]:\n",
        "    if correct_output in k['attribute']:\n",
        "        print(k['attribute'])\n",
        "        print(k['prompt'])\n",
        "        print(k['token_probs'][0:3])"
      ]
    },
    {
      "cell_type": "code",
      "execution_count": null,
      "metadata": {
        "id": "JKrniJR052in"
      },
      "outputs": [],
      "source": [
        "max_location = {}\n",
        "\n",
        "for example_i in range(len(ct_dict)):\n",
        "    max_effect = 0\n",
        "    global_max_effect = 0\n",
        "    prompt = '_P_: ' + ''.join(ct_dict[example_i]['mlp']['input_tokens'])\n",
        "    answer = ' _A_:' + ct_dict[example_i]['mlp']['answer']\n",
        "    text = prompt + answer\n",
        "    s_start, s_end = ct_dict[example_i]['mlp']['subject_range']\n",
        "    subject = ''.join(ct_dict[example_i]['mlp']['input_tokens'][s_start:s_end])\n",
        "    for token_num in range(s_start, s_end):\n",
        "        for layer_num in range(0,48):\n",
        "            max_effect = max(ct_dict[example_i]['mlp']['scores'][token_num][layer_num], max_effect)\n",
        "            if max_effect != global_max_effect:\n",
        "                global_max_effect = max_effect\n",
        "                peak_token = ct_dict[example_i]['mlp']['input_tokens'][token_num]\n",
        "                max_location[example_i] = {\"token_num\": token_num, \n",
        "                                           \"peak_token\": peak_token,\n",
        "                                           \"layer_num\": layer_num,\n",
        "                                           \"subject\": subject,\n",
        "                                           \"text\": text}"
      ]
    },
    {
      "cell_type": "code",
      "execution_count": null,
      "metadata": {
        "colab": {
          "base_uri": "https://localhost:8080/"
        },
        "id": "tmxcIxWRPaxT",
        "outputId": "9af2362b-68c2-4ddb-8a2b-e75b1e4d1550"
      },
      "outputs": [],
      "source": [
        "early_retrievals = []\n",
        "late_retrievals = []\n",
        "for i in range(len(max_location)):\n",
        "    if max_location[i]['layer_num'] < 12:\n",
        "        early_retrievals.append(max_location[i])\n",
        "    elif max_location[i]['layer_num'] > 20:\n",
        "        late_retrievals.append(max_location[i])\n",
        "\n",
        "print(\"Early Retrivals: \")\n",
        "for er in early_retrievals:\n",
        "    print(er)\n",
        "print(\"\\n-------------------------\\n\")\n",
        "print(\"Late Retrivals: \")\n",
        "for lr in late_retrievals:\n",
        "    print(lr)"
      ]
    },
    {
      "cell_type": "code",
      "execution_count": null,
      "metadata": {
        "id": "tViP1P6JqHE_"
      },
      "outputs": [],
      "source": [
        "text = \"The official religion of Edwin of Northumbria is\""
      ]
    },
    {
      "cell_type": "code",
      "execution_count": null,
      "metadata": {
        "colab": {
          "base_uri": "https://localhost:8080/"
        },
        "id": "HSVvZDuPRGxv",
        "outputId": "5e747a78-986f-4909-a677-ca41bcb748c4"
      },
      "outputs": [
        {
          "data": {
            "text/plain": [
              "([' the'], tensor([0.2196], device='cuda:0'))"
            ]
          },
          "execution_count": 13,
          "metadata": {},
          "output_type": "execute_result"
        }
      ],
      "source": [
        "predict_token(mt, [text], return_p=True)"
      ]
    },
    {
      "cell_type": "code",
      "execution_count": null,
      "metadata": {
        "id": "AntSZRqupzoZ"
      },
      "outputs": [],
      "source": [
        "device = \"cuda\"\n",
        "MODEL_NAME = \"gpt2-xl\"  # gpt2-{medium,large,xl} or EleutherAI/gpt-j-6B\n",
        "model, tok = (\n",
        "    AutoModelForCausalLM.from_pretrained(MODEL_NAME, low_cpu_mem_usage=IS_COLAB).to(device),\n",
        "    AutoTokenizer.from_pretrained(MODEL_NAME)\n",
        ")\n",
        "tok.pad_token = tok.eos_token"
      ]
    },
    {
      "cell_type": "code",
      "execution_count": null,
      "metadata": {
        "colab": {
          "base_uri": "https://localhost:8080/"
        },
        "id": "_3kdxw-2pqu8",
        "outputId": "9c150262-94ba-4b3b-d49c-26d8d99568e4"
      },
      "outputs": [
        {
          "name": "stdout",
          "output_type": "stream",
          "text": [
            "The official religion of Edwin of Northumbria is the Church of the Holy Trinity, which is a combination of the Roman Catholic and Eastern Orthodox churches. The church is based on the belief that the Holy\n"
          ]
        }
      ],
      "source": [
        "input_ids = tok(\n",
        "    text, add_special_tokens=False, return_tensors=\"pt\"\n",
        ").input_ids.to(device)\n",
        "generated_outputs = model.generate(\n",
        "        input_ids,\n",
        "        do_sample=True,\n",
        "        early_stopping=True,\n",
        "        max_length=40,\n",
        "        num_return_sequences=1,\n",
        "        output_scores=True,\n",
        "        return_dict_in_generate=True,\n",
        "        device=device,\n",
        "        # repetition_penalty=1.2,\n",
        "        # length_penalty=0.8,\n",
        "        pad_token_id=tok.eos_token_id,\n",
        "        temperature=0.1,\n",
        "    )\n",
        "\n",
        "print(tok.decode(generated_outputs.sequences[0]))"
      ]
    },
    {
      "cell_type": "markdown",
      "metadata": {
        "id": "In5gljTdh2rc"
      },
      "source": [
        "# Testing Causal Tracing on Bad CounterFact Completions\n",
        "\n",
        "In order to check if bad outputs lead to different causality on the predicted token, let's create a sub-dataset from the CounterFact dataset. We will check a portion of the examples GPT-2 gets incorrect."
      ]
    },
    {
      "cell_type": "code",
      "execution_count": null,
      "metadata": {
        "id": "t-Q7nasNigjN"
      },
      "outputs": [],
      "source": [
        "with open(\"/content/rome/data/good_counterfact_gpt2.json\") as f:\n",
        "    good_counterfacts = json.load(f)\n",
        "\n",
        "with open(\"/content/rome/data/bad_counterfacts_gpt2.json\") as f:\n",
        "    bad_counterfacts = json.load(f)\n",
        "\n",
        "# with open(\"/content/rome/data/counterfact.json\") as f:\n",
        "#     all_counterfacts = json.load(f)"
      ]
    },
    {
      "cell_type": "code",
      "execution_count": null,
      "metadata": {
        "id": "Gvmac4N8mrCw"
      },
      "outputs": [],
      "source": [
        "list_of_good_ids = []\n",
        "for id in good_counterfacts.keys():\n",
        "    list_of_good_ids.append(good_counterfacts[str(id)]['case_id'])"
      ]
    },
    {
      "cell_type": "code",
      "execution_count": null,
      "metadata": {
        "colab": {
          "base_uri": "https://localhost:8080/"
        },
        "id": "Z0I47p6bc1ze",
        "outputId": "a4c4f9bf-3a9c-4c97-c0a9-1ef0aad5299c"
      },
      "outputs": [
        {
          "name": "stdout",
          "output_type": "stream",
          "text": [
            "16476\n",
            "21919\n"
          ]
        }
      ],
      "source": [
        "j = 0\n",
        "bad_counterfacts = {}\n",
        "for id in range(len(all_counterfacts)):\n",
        "    if id not in list_of_good_ids:\n",
        "        bad_counterfacts[j] = all_counterfacts[id]\n",
        "        j += 1\n",
        "\n",
        "print(str(len(bad_counterfacts)))\n",
        "print(str(len(all_counterfacts)))"
      ]
    },
    {
      "cell_type": "code",
      "execution_count": null,
      "metadata": {
        "colab": {
          "base_uri": "https://localhost:8080/"
        },
        "id": "JAqUsH6fkSkJ",
        "outputId": "b6beb1b7-1ee2-4d2f-9ab9-19a9d13696f9"
      },
      "outputs": [],
      "source": [
        "bad_counterfacts[0]"
      ]
    },
    {
      "cell_type": "code",
      "execution_count": null,
      "metadata": {
        "colab": {
          "base_uri": "https://localhost:8080/",
          "height": 1000
        },
        "id": "gj4V8sJnkZji",
        "outputId": "8f96db80-7005-42b3-a28b-5fc48bdc1a01"
      },
      "outputs": [
        {
          "data": {
            "image/png": "[encoded data removed]",
            "text/plain": [
              "<Figure size 700x400 with 2 Axes>"
            ]
          },
          "metadata": {
            "needs_background": "light"
          },
          "output_type": "display_data"
        },
        {
          "data": {
            "text/plain": [
              "{0: {'mlp': {'scores': tensor([[0.2418, 0.2418, 0.2418, 0.2418, 0.2418, 0.2418, 0.2418, 0.2418, 0.2418,\n",
              "            0.2418, 0.2418, 0.2418, 0.2418, 0.2418, 0.2418, 0.2418, 0.2418, 0.2418,\n",
              "            0.2418, 0.2418, 0.2418, 0.2418, 0.2418, 0.2418, 0.2418, 0.2418, 0.2418,\n",
              "            0.2418, 0.2418, 0.2418, 0.2418, 0.2418, 0.2418, 0.2418, 0.2418, 0.2418,\n",
              "            0.2418, 0.2418, 0.2418, 0.2418, 0.2418, 0.2418, 0.2418, 0.2418, 0.2418,\n",
              "            0.2418, 0.2418, 0.2418],\n",
              "           [0.2418, 0.2418, 0.2418, 0.2418, 0.2418, 0.2418, 0.2418, 0.2418, 0.2418,\n",
              "            0.2418, 0.2418, 0.2418, 0.2418, 0.2418, 0.2418, 0.2418, 0.2418, 0.2418,\n",
              "            0.2418, 0.2418, 0.2418, 0.2418, 0.2418, 0.2418, 0.2418, 0.2418, 0.2418,\n",
              "            0.2418, 0.2418, 0.2418, 0.2418, 0.2418, 0.2418, 0.2418, 0.2418, 0.2418,\n",
              "            0.2418, 0.2418, 0.2418, 0.2418, 0.2418, 0.2418, 0.2418, 0.2418, 0.2418,\n",
              "            0.2418, 0.2418, 0.2418],\n",
              "           [0.2418, 0.2418, 0.2418, 0.2418, 0.2418, 0.2418, 0.2418, 0.2418, 0.2418,\n",
              "            0.2418, 0.2418, 0.2418, 0.2418, 0.2418, 0.2418, 0.2418, 0.2418, 0.2418,\n",
              "            0.2418, 0.2418, 0.2418, 0.2418, 0.2418, 0.2418, 0.2418, 0.2418, 0.2418,\n",
              "            0.2418, 0.2418, 0.2418, 0.2418, 0.2418, 0.2418, 0.2418, 0.2418, 0.2418,\n",
              "            0.2418, 0.2418, 0.2418, 0.2418, 0.2418, 0.2418, 0.2418, 0.2418, 0.2418,\n",
              "            0.2418, 0.2418, 0.2418],\n",
              "           [0.2418, 0.2418, 0.2418, 0.2418, 0.2418, 0.2418, 0.2418, 0.2418, 0.2418,\n",
              "            0.2418, 0.2418, 0.2418, 0.2418, 0.2418, 0.2418, 0.2418, 0.2418, 0.2418,\n",
              "            0.2418, 0.2418, 0.2418, 0.2418, 0.2418, 0.2418, 0.2418, 0.2418, 0.2418,\n",
              "            0.2418, 0.2418, 0.2418, 0.2418, 0.2418, 0.2418, 0.2418, 0.2418, 0.2418,\n",
              "            0.2418, 0.2418, 0.2418, 0.2418, 0.2418, 0.2418, 0.2418, 0.2418, 0.2418,\n",
              "            0.2418, 0.2418, 0.2418],\n",
              "           [0.2418, 0.2418, 0.2418, 0.2418, 0.2418, 0.2418, 0.2418, 0.2418, 0.2418,\n",
              "            0.2418, 0.2418, 0.2418, 0.2418, 0.2418, 0.2418, 0.2418, 0.2418, 0.2418,\n",
              "            0.2418, 0.2418, 0.2418, 0.2418, 0.2418, 0.2418, 0.2418, 0.2418, 0.2418,\n",
              "            0.2418, 0.2418, 0.2418, 0.2418, 0.2418, 0.2418, 0.2418, 0.2418, 0.2418,\n",
              "            0.2418, 0.2418, 0.2418, 0.2418, 0.2418, 0.2418, 0.2418, 0.2418, 0.2418,\n",
              "            0.2418, 0.2418, 0.2418],\n",
              "           [0.2418, 0.2418, 0.2418, 0.2418, 0.2418, 0.2418, 0.2418, 0.2418, 0.2418,\n",
              "            0.2418, 0.2418, 0.2418, 0.2418, 0.2418, 0.2418, 0.2418, 0.2418, 0.2418,\n",
              "            0.2418, 0.2418, 0.2418, 0.2418, 0.2418, 0.2418, 0.2418, 0.2418, 0.2418,\n",
              "            0.2418, 0.2418, 0.2418, 0.2418, 0.2418, 0.2418, 0.2418, 0.2418, 0.2418,\n",
              "            0.2418, 0.2418, 0.2418, 0.2418, 0.2418, 0.2418, 0.2418, 0.2418, 0.2418,\n",
              "            0.2418, 0.2418, 0.2418],\n",
              "           [0.2203, 0.2204, 0.2201, 0.2203, 0.2203, 0.2203, 0.2348, 0.2227, 0.2530,\n",
              "            0.2265, 0.2394, 0.2374, 0.2295, 0.2328, 0.2348, 0.2373, 0.2332, 0.2312,\n",
              "            0.2339, 0.2342, 0.2346, 0.2375, 0.2364, 0.2365, 0.2367, 0.2402, 0.2400,\n",
              "            0.2405, 0.2409, 0.2415, 0.2415, 0.2424, 0.2432, 0.2422, 0.2425, 0.2421,\n",
              "            0.2420, 0.2418, 0.2412, 0.2404, 0.2413, 0.2412, 0.2411, 0.2414, 0.2411,\n",
              "            0.2411, 0.2413, 0.2419],\n",
              "           [0.3393, 0.3373, 0.3370, 0.3369, 0.3358, 0.3358, 0.3123, 0.2523, 0.2470,\n",
              "            0.2458, 0.2509, 0.2516, 0.2389, 0.2401, 0.2406, 0.2443, 0.2451, 0.2456,\n",
              "            0.2446, 0.2431, 0.2423, 0.2409, 0.2398, 0.2398, 0.2404, 0.2409, 0.2412,\n",
              "            0.2426, 0.2432, 0.2432, 0.2436, 0.2444, 0.2449, 0.2453, 0.2450, 0.2444,\n",
              "            0.2441, 0.2439, 0.2439, 0.2438, 0.2435, 0.2432, 0.2431, 0.2428, 0.2428,\n",
              "            0.2428, 0.2431, 0.2430],\n",
              "           [0.2622, 0.2638, 0.2568, 0.2537, 0.2551, 0.2612, 0.2473, 0.2129, 0.2108,\n",
              "            0.2141, 0.1984, 0.1923, 0.2063, 0.2169, 0.2118, 0.2083, 0.2025, 0.1990,\n",
              "            0.1952, 0.1877, 0.1976, 0.2180, 0.2084, 0.2097, 0.2202, 0.2349, 0.2322,\n",
              "            0.2313, 0.2404, 0.2394, 0.2387, 0.2375, 0.2406, 0.2393, 0.2375, 0.2393,\n",
              "            0.2402, 0.2399, 0.2385, 0.2377, 0.2388, 0.2393, 0.2392, 0.2390, 0.2394,\n",
              "            0.2403, 0.2401, 0.2408],\n",
              "           [0.2588, 0.2640, 0.2646, 0.2687, 0.2651, 0.2675, 0.2681, 0.2916, 0.3188,\n",
              "            0.2501, 0.2723, 0.2570, 0.2577, 0.2623, 0.2715, 0.2587, 0.2443, 0.2514,\n",
              "            0.2504, 0.2416, 0.2324, 0.2400, 0.2409, 0.2322, 0.2362, 0.2437, 0.2392,\n",
              "            0.2462, 0.2455, 0.2492, 0.2497, 0.2472, 0.2461, 0.2450, 0.2465, 0.2449,\n",
              "            0.2437, 0.2423, 0.2428, 0.2418, 0.2406, 0.2405, 0.2401, 0.2395, 0.2373,\n",
              "            0.2369, 0.2388, 0.2404],\n",
              "           [0.2996, 0.3024, 0.3033, 0.3086, 0.3107, 0.3083, 0.2897, 0.2678, 0.2660,\n",
              "            0.2933, 0.2937, 0.3091, 0.3073, 0.2525, 0.2653, 0.2714, 0.2734, 0.2699,\n",
              "            0.2708, 0.2664, 0.2591, 0.2616, 0.2504, 0.2504, 0.2496, 0.2478, 0.2493,\n",
              "            0.2476, 0.2509, 0.2491, 0.2511, 0.2499, 0.2467, 0.2452, 0.2468, 0.2462,\n",
              "            0.2449, 0.2432, 0.2418, 0.2420, 0.2411, 0.2419, 0.2422, 0.2421, 0.2415,\n",
              "            0.2410, 0.2402, 0.2399],\n",
              "           [0.3168, 0.3133, 0.3132, 0.3107, 0.3111, 0.3068, 0.3041, 0.2858, 0.2989,\n",
              "            0.2584, 0.2500, 0.2594, 0.2477, 0.2510, 0.2522, 0.2449, 0.2399, 0.2349,\n",
              "            0.2337, 0.2237, 0.2332, 0.2459, 0.2522, 0.2509, 0.2576, 0.2594, 0.2591,\n",
              "            0.2587, 0.2594, 0.2554, 0.2541, 0.2504, 0.2509, 0.2492, 0.2505, 0.2496,\n",
              "            0.2485, 0.2475, 0.2464, 0.2447, 0.2439, 0.2436, 0.2430, 0.2421, 0.2401,\n",
              "            0.2413, 0.2425, 0.2434],\n",
              "           [0.2812, 0.2868, 0.2890, 0.2896, 0.2913, 0.2889, 0.2897, 0.2705, 0.2651,\n",
              "            0.2495, 0.2486, 0.2418, 0.2434, 0.2368, 0.2356, 0.2374, 0.2367, 0.2439,\n",
              "            0.2378, 0.2392, 0.2350, 0.2347, 0.2377, 0.2377, 0.2379, 0.2402, 0.2420,\n",
              "            0.2414, 0.2408, 0.2423, 0.2436, 0.2431, 0.2430, 0.2417, 0.2435, 0.2458,\n",
              "            0.2469, 0.2459, 0.2428, 0.2407, 0.2420, 0.2425, 0.2426, 0.2427, 0.2418,\n",
              "            0.2415, 0.2414, 0.2422],\n",
              "           [0.4301, 0.4108, 0.4307, 0.4197, 0.4079, 0.4027, 0.3864, 0.3767, 0.3837,\n",
              "            0.4614, 0.3561, 0.3759, 0.3710, 0.3373, 0.2525, 0.2514, 0.2830, 0.2823,\n",
              "            0.2785, 0.2696, 0.2735, 0.2659, 0.2609, 0.2499, 0.2605, 0.2822, 0.2638,\n",
              "            0.2615, 0.2560, 0.2489, 0.2480, 0.2487, 0.2471, 0.2494, 0.2487, 0.2471,\n",
              "            0.2458, 0.2429, 0.2410, 0.2431, 0.2426, 0.2429, 0.2442, 0.2447, 0.2437,\n",
              "            0.2416, 0.2416, 0.2420],\n",
              "           [0.2399, 0.2442, 0.2516, 0.2547, 0.2581, 0.2550, 0.2518, 0.2522, 0.2491,\n",
              "            0.2566, 0.2614, 0.2514, 0.2496, 0.2353, 0.2265, 0.2160, 0.2145, 0.2126,\n",
              "            0.2030, 0.2103, 0.2095, 0.2164, 0.2210, 0.2340, 0.2407, 0.2353, 0.2393,\n",
              "            0.2400, 0.2447, 0.2409, 0.2426, 0.2472, 0.2498, 0.2505, 0.2504, 0.2502,\n",
              "            0.2507, 0.2498, 0.2489, 0.2465, 0.2463, 0.2460, 0.2444, 0.2443, 0.2449,\n",
              "            0.2442, 0.2440, 0.2428],\n",
              "           [0.2442, 0.2500, 0.2536, 0.2521, 0.2535, 0.2537, 0.2468, 0.2521, 0.2508,\n",
              "            0.2465, 0.2443, 0.2409, 0.2384, 0.2331, 0.2330, 0.2251, 0.2390, 0.2343,\n",
              "            0.2234, 0.2218, 0.1954, 0.1841, 0.1700, 0.1811, 0.1788, 0.1791, 0.1835,\n",
              "            0.2063, 0.2273, 0.2413, 0.2785, 0.2958, 0.2921, 0.2671, 0.2788, 0.2827,\n",
              "            0.2913, 0.3003, 0.3389, 0.3532, 0.3766, 0.4632, 0.4690, 0.5020, 0.5004,\n",
              "            0.4793, 0.4621, 0.4376]]),\n",
              "   'low_score': 0.24184881150722504,\n",
              "   'high_score': tensor(0.6878, device='cuda:0'),\n",
              "   'input_ids': tensor([  818,  2813,    11,  4196,  2716,   257,  3933,    12,  2545,  1080,\n",
              "             319,   663,  8150, 11594,  1444,   262], device='cuda:0'),\n",
              "   'input_tokens': ['In',\n",
              "    ' 2011',\n",
              "    ',',\n",
              "    ' Apple',\n",
              "    ' released',\n",
              "    ' a',\n",
              "    ' 32',\n",
              "    '-',\n",
              "    'bit',\n",
              "    ' system',\n",
              "    ' on',\n",
              "    ' its',\n",
              "    ' fifth',\n",
              "    ' chip',\n",
              "    ' called',\n",
              "    ' the'],\n",
              "   'subject_range': (6, 14),\n",
              "   'answer': ' A',\n",
              "   'window': 10,\n",
              "   'kind': 'mlp'}}}"
            ]
          },
          "execution_count": 25,
          "metadata": {},
          "output_type": "execute_result"
        }
      ],
      "source": [
        "plot_flows(mt, \"In 2011, Apple released a 32-bit system on its fifth chip called the\", plots=['mlp'], subject=\"32-bit system on its fifth chip\")"
      ]
    },
    {
      "cell_type": "code",
      "execution_count": null,
      "metadata": {
        "id": "iCX8lXqHousL"
      },
      "outputs": [],
      "source": [
        "from tqdm import tqdm\n",
        "\n",
        "for i, cf in tqdm(enumerate(counterfact)):\n",
        "    rew = cf['requested_rewrite']\n",
        "    text = rew['prompt'].replace(\"{}\", rew['subject'])"
      ]
    },
    {
      "cell_type": "markdown",
      "metadata": {
        "id": "Ydf69cy8E4lm"
      },
      "source": [
        "## Does more uncertainty mean more token effect spread?"
      ]
    },
    {
      "cell_type": "code",
      "execution_count": 100,
      "metadata": {
        "id": "gM_qZ9apUlCW"
      },
      "outputs": [],
      "source": [
        "import numpy as np\n",
        "import pandas as pd"
      ]
    },
    {
      "cell_type": "code",
      "execution_count": 102,
      "metadata": {
        "colab": {
          "base_uri": "https://localhost:8080/",
          "height": 1000
        },
        "id": "uj5Gs3KoFQJm",
        "outputId": "3379ade6-7202-4e1c-f5ee-553af2ca4167"
      },
      "outputs": [
        {
          "data": {
            "text/html": [
              "\n",
              "  <div id=\"df-d43a51df-c610-45dd-bf65-ee3121721908\">\n",
              "    <div class=\"colab-df-container\">\n",
              "      <div>\n",
              "<style scoped>\n",
              "    .dataframe tbody tr th:only-of-type {\n",
              "        vertical-align: middle;\n",
              "    }\n",
              "\n",
              "    .dataframe tbody tr th {\n",
              "        vertical-align: top;\n",
              "    }\n",
              "\n",
              "    .dataframe thead th {\n",
              "        text-align: right;\n",
              "    }\n",
              "</style>\n",
              "<table border=\"1\" class=\"dataframe\">\n",
              "  <thead>\n",
              "    <tr style=\"text-align: right;\">\n",
              "      <th></th>\n",
              "      <th>high_score</th>\n",
              "      <th>top_score_count</th>\n",
              "    </tr>\n",
              "  </thead>\n",
              "  <tbody>\n",
              "    <tr>\n",
              "      <th>35</th>\n",
              "      <td>0.0192</td>\n",
              "      <td>93</td>\n",
              "    </tr>\n",
              "    <tr>\n",
              "      <th>47</th>\n",
              "      <td>0.0198</td>\n",
              "      <td>432</td>\n",
              "    </tr>\n",
              "    <tr>\n",
              "      <th>40</th>\n",
              "      <td>0.0335</td>\n",
              "      <td>432</td>\n",
              "    </tr>\n",
              "    <tr>\n",
              "      <th>44</th>\n",
              "      <td>0.0341</td>\n",
              "      <td>239</td>\n",
              "    </tr>\n",
              "    <tr>\n",
              "      <th>49</th>\n",
              "      <td>0.0418</td>\n",
              "      <td>336</td>\n",
              "    </tr>\n",
              "    <tr>\n",
              "      <th>25</th>\n",
              "      <td>0.0430</td>\n",
              "      <td>336</td>\n",
              "    </tr>\n",
              "    <tr>\n",
              "      <th>50</th>\n",
              "      <td>0.0463</td>\n",
              "      <td>45</td>\n",
              "    </tr>\n",
              "    <tr>\n",
              "      <th>38</th>\n",
              "      <td>0.0482</td>\n",
              "      <td>83</td>\n",
              "    </tr>\n",
              "    <tr>\n",
              "      <th>48</th>\n",
              "      <td>0.0489</td>\n",
              "      <td>145</td>\n",
              "    </tr>\n",
              "    <tr>\n",
              "      <th>46</th>\n",
              "      <td>0.0522</td>\n",
              "      <td>80</td>\n",
              "    </tr>\n",
              "    <tr>\n",
              "      <th>41</th>\n",
              "      <td>0.0542</td>\n",
              "      <td>384</td>\n",
              "    </tr>\n",
              "    <tr>\n",
              "      <th>13</th>\n",
              "      <td>0.0547</td>\n",
              "      <td>7</td>\n",
              "    </tr>\n",
              "    <tr>\n",
              "      <th>9</th>\n",
              "      <td>0.0549</td>\n",
              "      <td>816</td>\n",
              "    </tr>\n",
              "    <tr>\n",
              "      <th>29</th>\n",
              "      <td>0.0556</td>\n",
              "      <td>52</td>\n",
              "    </tr>\n",
              "    <tr>\n",
              "      <th>27</th>\n",
              "      <td>0.0604</td>\n",
              "      <td>336</td>\n",
              "    </tr>\n",
              "    <tr>\n",
              "      <th>42</th>\n",
              "      <td>0.0660</td>\n",
              "      <td>624</td>\n",
              "    </tr>\n",
              "    <tr>\n",
              "      <th>36</th>\n",
              "      <td>0.0705</td>\n",
              "      <td>432</td>\n",
              "    </tr>\n",
              "    <tr>\n",
              "      <th>37</th>\n",
              "      <td>0.0732</td>\n",
              "      <td>384</td>\n",
              "    </tr>\n",
              "    <tr>\n",
              "      <th>26</th>\n",
              "      <td>0.0811</td>\n",
              "      <td>384</td>\n",
              "    </tr>\n",
              "    <tr>\n",
              "      <th>34</th>\n",
              "      <td>0.0828</td>\n",
              "      <td>46</td>\n",
              "    </tr>\n",
              "    <tr>\n",
              "      <th>16</th>\n",
              "      <td>0.0873</td>\n",
              "      <td>75</td>\n",
              "    </tr>\n",
              "    <tr>\n",
              "      <th>24</th>\n",
              "      <td>0.0892</td>\n",
              "      <td>288</td>\n",
              "    </tr>\n",
              "    <tr>\n",
              "      <th>28</th>\n",
              "      <td>0.0936</td>\n",
              "      <td>418</td>\n",
              "    </tr>\n",
              "    <tr>\n",
              "      <th>14</th>\n",
              "      <td>0.0945</td>\n",
              "      <td>13</td>\n",
              "    </tr>\n",
              "    <tr>\n",
              "      <th>0</th>\n",
              "      <td>0.0948</td>\n",
              "      <td>11</td>\n",
              "    </tr>\n",
              "    <tr>\n",
              "      <th>43</th>\n",
              "      <td>0.1009</td>\n",
              "      <td>283</td>\n",
              "    </tr>\n",
              "    <tr>\n",
              "      <th>39</th>\n",
              "      <td>0.1063</td>\n",
              "      <td>720</td>\n",
              "    </tr>\n",
              "    <tr>\n",
              "      <th>12</th>\n",
              "      <td>0.1102</td>\n",
              "      <td>41</td>\n",
              "    </tr>\n",
              "    <tr>\n",
              "      <th>31</th>\n",
              "      <td>0.1113</td>\n",
              "      <td>672</td>\n",
              "    </tr>\n",
              "    <tr>\n",
              "      <th>17</th>\n",
              "      <td>0.1166</td>\n",
              "      <td>1</td>\n",
              "    </tr>\n",
              "    <tr>\n",
              "      <th>4</th>\n",
              "      <td>0.1277</td>\n",
              "      <td>7</td>\n",
              "    </tr>\n",
              "    <tr>\n",
              "      <th>32</th>\n",
              "      <td>0.1329</td>\n",
              "      <td>236</td>\n",
              "    </tr>\n",
              "    <tr>\n",
              "      <th>30</th>\n",
              "      <td>0.1634</td>\n",
              "      <td>0</td>\n",
              "    </tr>\n",
              "    <tr>\n",
              "      <th>33</th>\n",
              "      <td>0.1649</td>\n",
              "      <td>240</td>\n",
              "    </tr>\n",
              "    <tr>\n",
              "      <th>22</th>\n",
              "      <td>0.1813</td>\n",
              "      <td>62</td>\n",
              "    </tr>\n",
              "    <tr>\n",
              "      <th>23</th>\n",
              "      <td>0.1813</td>\n",
              "      <td>0</td>\n",
              "    </tr>\n",
              "    <tr>\n",
              "      <th>45</th>\n",
              "      <td>0.2082</td>\n",
              "      <td>330</td>\n",
              "    </tr>\n",
              "    <tr>\n",
              "      <th>7</th>\n",
              "      <td>0.2252</td>\n",
              "      <td>528</td>\n",
              "    </tr>\n",
              "    <tr>\n",
              "      <th>2</th>\n",
              "      <td>0.2555</td>\n",
              "      <td>0</td>\n",
              "    </tr>\n",
              "    <tr>\n",
              "      <th>21</th>\n",
              "      <td>0.2681</td>\n",
              "      <td>74</td>\n",
              "    </tr>\n",
              "    <tr>\n",
              "      <th>5</th>\n",
              "      <td>0.2798</td>\n",
              "      <td>52</td>\n",
              "    </tr>\n",
              "    <tr>\n",
              "      <th>8</th>\n",
              "      <td>0.3122</td>\n",
              "      <td>0</td>\n",
              "    </tr>\n",
              "    <tr>\n",
              "      <th>3</th>\n",
              "      <td>0.3882</td>\n",
              "      <td>20</td>\n",
              "    </tr>\n",
              "    <tr>\n",
              "      <th>10</th>\n",
              "      <td>0.3958</td>\n",
              "      <td>23</td>\n",
              "    </tr>\n",
              "    <tr>\n",
              "      <th>19</th>\n",
              "      <td>0.4245</td>\n",
              "      <td>8</td>\n",
              "    </tr>\n",
              "    <tr>\n",
              "      <th>15</th>\n",
              "      <td>0.4247</td>\n",
              "      <td>0</td>\n",
              "    </tr>\n",
              "    <tr>\n",
              "      <th>11</th>\n",
              "      <td>0.4580</td>\n",
              "      <td>8</td>\n",
              "    </tr>\n",
              "    <tr>\n",
              "      <th>20</th>\n",
              "      <td>0.4854</td>\n",
              "      <td>0</td>\n",
              "    </tr>\n",
              "    <tr>\n",
              "      <th>18</th>\n",
              "      <td>0.6205</td>\n",
              "      <td>8</td>\n",
              "    </tr>\n",
              "    <tr>\n",
              "      <th>1</th>\n",
              "      <td>0.6837</td>\n",
              "      <td>1</td>\n",
              "    </tr>\n",
              "    <tr>\n",
              "      <th>6</th>\n",
              "      <td>0.8771</td>\n",
              "      <td>51</td>\n",
              "    </tr>\n",
              "  </tbody>\n",
              "</table>\n",
              "</div>\n",
              "      <button class=\"colab-df-convert\" onclick=\"convertToInteractive('df-d43a51df-c610-45dd-bf65-ee3121721908')\"\n",
              "              title=\"Convert this dataframe to an interactive table.\"\n",
              "              style=\"display:none;\">\n",
              "        \n",
              "  <svg xmlns=\"http://www.w3.org/2000/svg\" height=\"24px\"viewBox=\"0 0 24 24\"\n",
              "       width=\"24px\">\n",
              "    <path d=\"M0 0h24v24H0V0z\" fill=\"none\"/>\n",
              "    <path d=\"M18.56 5.44l.94 2.06.94-2.06 2.06-.94-2.06-.94-.94-2.06-.94 2.06-2.06.94zm-11 1L8.5 8.5l.94-2.06 2.06-.94-2.06-.94L8.5 2.5l-.94 2.06-2.06.94zm10 10l.94 2.06.94-2.06 2.06-.94-2.06-.94-.94-2.06-.94 2.06-2.06.94z\"/><path d=\"M17.41 7.96l-1.37-1.37c-.4-.4-.92-.59-1.43-.59-.52 0-1.04.2-1.43.59L10.3 9.45l-7.72 7.72c-.78.78-.78 2.05 0 2.83L4 21.41c.39.39.9.59 1.41.59.51 0 1.02-.2 1.41-.59l7.78-7.78 2.81-2.81c.8-.78.8-2.07 0-2.86zM5.41 20L4 18.59l7.72-7.72 1.47 1.35L5.41 20z\"/>\n",
              "  </svg>\n",
              "      </button>\n",
              "      \n",
              "  <style>\n",
              "    .colab-df-container {\n",
              "      display:flex;\n",
              "      flex-wrap:wrap;\n",
              "      gap: 12px;\n",
              "    }\n",
              "\n",
              "    .colab-df-convert {\n",
              "      background-color: #E8F0FE;\n",
              "      border: none;\n",
              "      border-radius: 50%;\n",
              "      cursor: pointer;\n",
              "      display: none;\n",
              "      fill: #1967D2;\n",
              "      height: 32px;\n",
              "      padding: 0 0 0 0;\n",
              "      width: 32px;\n",
              "    }\n",
              "\n",
              "    .colab-df-convert:hover {\n",
              "      background-color: #E2EBFA;\n",
              "      box-shadow: 0px 1px 2px rgba(60, 64, 67, 0.3), 0px 1px 3px 1px rgba(60, 64, 67, 0.15);\n",
              "      fill: #174EA6;\n",
              "    }\n",
              "\n",
              "    [theme=dark] .colab-df-convert {\n",
              "      background-color: #3B4455;\n",
              "      fill: #D2E3FC;\n",
              "    }\n",
              "\n",
              "    [theme=dark] .colab-df-convert:hover {\n",
              "      background-color: #434B5C;\n",
              "      box-shadow: 0px 1px 3px 1px rgba(0, 0, 0, 0.15);\n",
              "      filter: drop-shadow(0px 1px 2px rgba(0, 0, 0, 0.3));\n",
              "      fill: #FFFFFF;\n",
              "    }\n",
              "  </style>\n",
              "\n",
              "      <script>\n",
              "        const buttonEl =\n",
              "          document.querySelector('#df-d43a51df-c610-45dd-bf65-ee3121721908 button.colab-df-convert');\n",
              "        buttonEl.style.display =\n",
              "          google.colab.kernel.accessAllowed ? 'block' : 'none';\n",
              "\n",
              "        async function convertToInteractive(key) {\n",
              "          const element = document.querySelector('#df-d43a51df-c610-45dd-bf65-ee3121721908');\n",
              "          const dataTable =\n",
              "            await google.colab.kernel.invokeFunction('convertToInteractive',\n",
              "                                                     [key], {});\n",
              "          if (!dataTable) return;\n",
              "\n",
              "          const docLinkHtml = 'Like what you see? Visit the ' +\n",
              "            '<a target=\"_blank\" href=https://colab.research.google.com/notebooks/data_table.ipynb>data table notebook</a>'\n",
              "            + ' to learn more about interactive tables.';\n",
              "          element.innerHTML = '';\n",
              "          dataTable['output_type'] = 'display_data';\n",
              "          await google.colab.output.renderOutput(dataTable, element);\n",
              "          const docLink = document.createElement('div');\n",
              "          docLink.innerHTML = docLinkHtml;\n",
              "          element.appendChild(docLink);\n",
              "        }\n",
              "      </script>\n",
              "    </div>\n",
              "  </div>\n",
              "  "
            ],
            "text/plain": [
              "    high_score  top_score_count\n",
              "35      0.0192               93\n",
              "47      0.0198              432\n",
              "40      0.0335              432\n",
              "44      0.0341              239\n",
              "49      0.0418              336\n",
              "25      0.0430              336\n",
              "50      0.0463               45\n",
              "38      0.0482               83\n",
              "48      0.0489              145\n",
              "46      0.0522               80\n",
              "41      0.0542              384\n",
              "13      0.0547                7\n",
              "9       0.0549              816\n",
              "29      0.0556               52\n",
              "27      0.0604              336\n",
              "42      0.0660              624\n",
              "36      0.0705              432\n",
              "37      0.0732              384\n",
              "26      0.0811              384\n",
              "34      0.0828               46\n",
              "16      0.0873               75\n",
              "24      0.0892              288\n",
              "28      0.0936              418\n",
              "14      0.0945               13\n",
              "0       0.0948               11\n",
              "43      0.1009              283\n",
              "39      0.1063              720\n",
              "12      0.1102               41\n",
              "31      0.1113              672\n",
              "17      0.1166                1\n",
              "4       0.1277                7\n",
              "32      0.1329              236\n",
              "30      0.1634                0\n",
              "33      0.1649              240\n",
              "22      0.1813               62\n",
              "23      0.1813                0\n",
              "45      0.2082              330\n",
              "7       0.2252              528\n",
              "2       0.2555                0\n",
              "21      0.2681               74\n",
              "5       0.2798               52\n",
              "8       0.3122                0\n",
              "3       0.3882               20\n",
              "10      0.3958               23\n",
              "19      0.4245                8\n",
              "15      0.4247                0\n",
              "11      0.4580                8\n",
              "20      0.4854                0\n",
              "18      0.6205                8\n",
              "1       0.6837                1\n",
              "6       0.8771               51"
            ]
          },
          "execution_count": 102,
          "metadata": {},
          "output_type": "execute_result"
        }
      ],
      "source": [
        "# results_dict[0]['mlp']['high_score']\n",
        "highs = []\n",
        "tops = []\n",
        "i = 0\n",
        "for i in results_dict:\n",
        "    top_count = 0\n",
        "    if list(results_dict[i].keys()) == [\"mlp\"]:\n",
        "        high_score = round(float(results_dict[i]['mlp']['high_score']), 4)\n",
        "        top = high_score * 0.6\n",
        "        for token_probs in results_dict[i]['mlp']['scores']:\n",
        "            for prob in token_probs:\n",
        "                if prob >= top:\n",
        "                    top_count += 1\n",
        "    i += 1\n",
        "    highs.append(high_score)\n",
        "    tops.append(top_count)\n",
        "    # print(\"High Score: \", high_score, \"Top Count: \", top_count)\n",
        "    # if i > 2:\n",
        "    #     break\n",
        "\n",
        "df = pd.DataFrame({\"high_score\": highs, \"top_score_count\": tops})\n",
        "df.sort_values(by=\"high_score\")"
      ]
    },
    {
      "cell_type": "code",
      "execution_count": null,
      "metadata": {
        "id": "D_dlKXgxFU3s"
      },
      "outputs": [],
      "source": []
    },
    {
      "cell_type": "markdown",
      "metadata": {
        "id": "ZnxDwHDwf38H"
      },
      "source": []
    },
    {
      "cell_type": "markdown",
      "metadata": {
        "id": "HLemaPaQecgn"
      },
      "source": [
        "## Load StrategyQA Dataset"
      ]
    },
    {
      "cell_type": "code",
      "execution_count": 89,
      "metadata": {
        "id": "FFxku67Zfmd6"
      },
      "outputs": [],
      "source": [
        "from dsets.knowns import KnownsDataset"
      ]
    },
    {
      "cell_type": "code",
      "execution_count": 90,
      "metadata": {
        "colab": {
          "base_uri": "https://localhost:8080/"
        },
        "id": "AT5xSl02eesn",
        "outputId": "e8bc044b-3a22-4031-f619-ddf96a3f5940"
      },
      "outputs": [
        {
          "name": "stdout",
          "output_type": "stream",
          "text": [
            "data/known_1000.json does not exist. Downloading from https://rome.baulab.info/data/dsets/known_1000.json\n"
          ]
        },
        {
          "data": {
            "application/vnd.jupyter.widget-view+json": {
              "model_id": "8b2c192c1d03440995b2151dda580831",
              "version_major": 2,
              "version_minor": 0
            },
            "text/plain": [
              "  0%|          | 0.00/335k [00:00<?, ?B/s]"
            ]
          },
          "metadata": {},
          "output_type": "display_data"
        },
        {
          "name": "stdout",
          "output_type": "stream",
          "text": [
            "Loaded dataset with 1209 elements\n"
          ]
        }
      ],
      "source": [
        "knowns = KnownsDataset(DATA_DIR)"
      ]
    },
    {
      "cell_type": "code",
      "execution_count": 96,
      "metadata": {
        "colab": {
          "base_uri": "https://localhost:8080/",
          "height": 36
        },
        "id": "gW_KAsu4e9-j",
        "outputId": "b5d7c4bc-5642-4e53-9511-26b77bf4902d"
      },
      "outputs": [
        {
          "data": {
            "text/plain": [
              "'/home/jacquesthibodeau/rome-experiments'"
            ]
          },
          "execution_count": 96,
          "metadata": {},
          "output_type": "execute_result"
        }
      ],
      "source": [
        "import os\n",
        "os.getcwd()"
      ]
    },
    {
      "cell_type": "code",
      "execution_count": 97,
      "metadata": {
        "id": "96W-_qs71IwN"
      },
      "outputs": [],
      "source": [
        "with open(os.getcwd() + '/data/strategyqa_train.json') as f:\n",
        "    sqa = json.load(f)"
      ]
    },
    {
      "cell_type": "code",
      "execution_count": 98,
      "metadata": {
        "colab": {
          "base_uri": "https://localhost:8080/"
        },
        "id": "T7lDPavseowR",
        "outputId": "3d78608d-e934-4d47-ffd6-34f86577f3f8"
      },
      "outputs": [
        {
          "data": {
            "text/plain": [
              "{'qid': 'b8677742616fef051f00',\n",
              " 'term': 'Genghis Khan',\n",
              " 'description': 'founder and first Great Khan of the Mongol Empire',\n",
              " 'question': 'Are more people today related to Genghis Khan than Julius Caesar?',\n",
              " 'answer': True,\n",
              " 'facts': ['Julius Caesar had three children.',\n",
              "  'Genghis Khan had sixteen children.',\n",
              "  'Modern geneticists have determined that  out of every 200 men today has DNA that can be traced to Genghis Khan.'],\n",
              " 'decomposition': ['How many kids did Julius Caesar have?',\n",
              "  'How many kids did Genghis Khan have?',\n",
              "  'Is #2 greater than #1?'],\n",
              " 'evidence': [[[['Caesarion-2', 'Julia (daughter of Caesar)-1']],\n",
              "   [['Alakhai Bekhi-1', 'Tolui-1'], 'no_evidence'],\n",
              "   ['operation']],\n",
              "  [[['Julius Caesar-75']], [['Genghis Khan-17']], ['operation']],\n",
              "  [[['Gaius Julius Caesar-7']],\n",
              "   [['Genghis Khan-15'], 'no_evidence'],\n",
              "   ['no_evidence', 'operation']]]}"
            ]
          },
          "execution_count": 98,
          "metadata": {},
          "output_type": "execute_result"
        }
      ],
      "source": [
        "sqa[0]\n"
      ]
    },
    {
      "cell_type": "code",
      "execution_count": 99,
      "metadata": {
        "colab": {
          "base_uri": "https://localhost:8080/"
        },
        "id": "VzFl_1wIfU8G",
        "outputId": "6c88abfd-8019-453a-8e34-d39d480ba763"
      },
      "outputs": [
        {
          "name": "stdout",
          "output_type": "stream",
          "text": [
            "Question: Are more people today related to Genghis Khan than Julius Caesar?\n",
            "Facts: Julius Caesar had three children. Genghis Khan had sixteen children. Modern geneticists have determined that out of every 200 men today has DNA that can be traced to Genghis Khan. \n",
            "Answer: True\n"
          ]
        }
      ],
      "source": [
        "fact_str = \"Facts: \"\n",
        "\n",
        "for f in sqa[0]['facts']:\n",
        "    fact_str += f.replace(\"  \", \" \") + \" \"\n",
        "\n",
        "print(\"Question:\", sqa[0]['question'])\n",
        "print(fact_str)\n",
        "print(\"Answer:\", sqa[0]['answer'])"
      ]
    },
    {
      "cell_type": "code",
      "execution_count": 102,
      "metadata": {},
      "outputs": [
        {
          "data": {
            "text/plain": [
              "125.95"
            ]
          },
          "execution_count": 102,
          "metadata": {},
          "output_type": "execute_result"
        }
      ],
      "source": [
        "len(sqa) * 3.3 / 60"
      ]
    },
    {
      "cell_type": "code",
      "execution_count": 103,
      "metadata": {
        "colab": {
          "base_uri": "https://localhost:8080/",
          "height": 1000
        },
        "id": "pGHefONqgcUS",
        "outputId": "e2e80a65-0b98-4609-a6ff-9d9345e1462d"
      },
      "outputs": [
        {
          "name": "stderr",
          "output_type": "stream",
          "text": [
            "1it [00:03,  3.30s/it]"
          ]
        },
        {
          "name": "stdout",
          "output_type": "stream",
          "text": [
            "True\n",
            "False\n"
          ]
        },
        {
          "name": "stderr",
          "output_type": "stream",
          "text": [
            "1it [00:07,  7.07s/it]\n"
          ]
        },
        {
          "ename": "KeyboardInterrupt",
          "evalue": "",
          "output_type": "error",
          "traceback": [
            "\u001b[0;31m---------------------------------------------------------------------------\u001b[0m",
            "\u001b[0;31mKeyboardInterrupt\u001b[0m                         Traceback (most recent call last)",
            "\u001b[1;32m/home/jacquesthibodeau/rome-experiments/notebooks/causal_trace.ipynb Cell 77\u001b[0m in \u001b[0;36m<module>\u001b[0;34m\u001b[0m\n\u001b[1;32m     <a href='vscode-notebook-cell://ssh-remote%2Bgpt-j-rome.us-east1-b.mats-355413/home/jacquesthibodeau/rome-experiments/notebooks/causal_trace.ipynb#Y132sdnNjb2RlLXJlbW90ZQ%3D%3D?line=15'>16</a>\u001b[0m prompt \u001b[39m=\u001b[39m example \u001b[39m+\u001b[39m question \u001b[39m+\u001b[39m \u001b[39m\"\u001b[39m\u001b[39m\\n\u001b[39;00m\u001b[39m\"\u001b[39m \u001b[39m+\u001b[39m fact_str \u001b[39m+\u001b[39m \u001b[39m\"\u001b[39m\u001b[39m\\n\u001b[39;00m\u001b[39m\"\u001b[39m \u001b[39m+\u001b[39m answer\n\u001b[1;32m     <a href='vscode-notebook-cell://ssh-remote%2Bgpt-j-rome.us-east1-b.mats-355413/home/jacquesthibodeau/rome-experiments/notebooks/causal_trace.ipynb#Y132sdnNjb2RlLXJlbW90ZQ%3D%3D?line=16'>17</a>\u001b[0m input_ids \u001b[39m=\u001b[39m mt\u001b[39m.\u001b[39mtokenizer(\n\u001b[1;32m     <a href='vscode-notebook-cell://ssh-remote%2Bgpt-j-rome.us-east1-b.mats-355413/home/jacquesthibodeau/rome-experiments/notebooks/causal_trace.ipynb#Y132sdnNjb2RlLXJlbW90ZQ%3D%3D?line=17'>18</a>\u001b[0m     prompt, add_special_tokens\u001b[39m=\u001b[39m\u001b[39mFalse\u001b[39;00m, return_tensors\u001b[39m=\u001b[39m\u001b[39m\"\u001b[39m\u001b[39mpt\u001b[39m\u001b[39m\"\u001b[39m\n\u001b[1;32m     <a href='vscode-notebook-cell://ssh-remote%2Bgpt-j-rome.us-east1-b.mats-355413/home/jacquesthibodeau/rome-experiments/notebooks/causal_trace.ipynb#Y132sdnNjb2RlLXJlbW90ZQ%3D%3D?line=18'>19</a>\u001b[0m )\u001b[39m.\u001b[39minput_ids\u001b[39m.\u001b[39mto(device)\n\u001b[0;32m---> <a href='vscode-notebook-cell://ssh-remote%2Bgpt-j-rome.us-east1-b.mats-355413/home/jacquesthibodeau/rome-experiments/notebooks/causal_trace.ipynb#Y132sdnNjb2RlLXJlbW90ZQ%3D%3D?line=19'>20</a>\u001b[0m generated_outputs \u001b[39m=\u001b[39m mt\u001b[39m.\u001b[39;49mmodel\u001b[39m.\u001b[39;49mgenerate(\n\u001b[1;32m     <a href='vscode-notebook-cell://ssh-remote%2Bgpt-j-rome.us-east1-b.mats-355413/home/jacquesthibodeau/rome-experiments/notebooks/causal_trace.ipynb#Y132sdnNjb2RlLXJlbW90ZQ%3D%3D?line=20'>21</a>\u001b[0m     input_ids,\n\u001b[1;32m     <a href='vscode-notebook-cell://ssh-remote%2Bgpt-j-rome.us-east1-b.mats-355413/home/jacquesthibodeau/rome-experiments/notebooks/causal_trace.ipynb#Y132sdnNjb2RlLXJlbW90ZQ%3D%3D?line=21'>22</a>\u001b[0m     do_sample\u001b[39m=\u001b[39;49m\u001b[39mTrue\u001b[39;49;00m,\n\u001b[1;32m     <a href='vscode-notebook-cell://ssh-remote%2Bgpt-j-rome.us-east1-b.mats-355413/home/jacquesthibodeau/rome-experiments/notebooks/causal_trace.ipynb#Y132sdnNjb2RlLXJlbW90ZQ%3D%3D?line=22'>23</a>\u001b[0m     early_stopping\u001b[39m=\u001b[39;49m\u001b[39mTrue\u001b[39;49;00m,\n\u001b[1;32m     <a href='vscode-notebook-cell://ssh-remote%2Bgpt-j-rome.us-east1-b.mats-355413/home/jacquesthibodeau/rome-experiments/notebooks/causal_trace.ipynb#Y132sdnNjb2RlLXJlbW90ZQ%3D%3D?line=23'>24</a>\u001b[0m     max_length\u001b[39m=\u001b[39;49m\u001b[39m200\u001b[39;49m,\n\u001b[1;32m     <a href='vscode-notebook-cell://ssh-remote%2Bgpt-j-rome.us-east1-b.mats-355413/home/jacquesthibodeau/rome-experiments/notebooks/causal_trace.ipynb#Y132sdnNjb2RlLXJlbW90ZQ%3D%3D?line=24'>25</a>\u001b[0m     num_return_sequences\u001b[39m=\u001b[39;49m\u001b[39m1\u001b[39;49m,\n\u001b[1;32m     <a href='vscode-notebook-cell://ssh-remote%2Bgpt-j-rome.us-east1-b.mats-355413/home/jacquesthibodeau/rome-experiments/notebooks/causal_trace.ipynb#Y132sdnNjb2RlLXJlbW90ZQ%3D%3D?line=25'>26</a>\u001b[0m     output_scores\u001b[39m=\u001b[39;49m\u001b[39mTrue\u001b[39;49;00m,\n\u001b[1;32m     <a href='vscode-notebook-cell://ssh-remote%2Bgpt-j-rome.us-east1-b.mats-355413/home/jacquesthibodeau/rome-experiments/notebooks/causal_trace.ipynb#Y132sdnNjb2RlLXJlbW90ZQ%3D%3D?line=26'>27</a>\u001b[0m     return_dict_in_generate\u001b[39m=\u001b[39;49m\u001b[39mTrue\u001b[39;49;00m,\n\u001b[1;32m     <a href='vscode-notebook-cell://ssh-remote%2Bgpt-j-rome.us-east1-b.mats-355413/home/jacquesthibodeau/rome-experiments/notebooks/causal_trace.ipynb#Y132sdnNjb2RlLXJlbW90ZQ%3D%3D?line=27'>28</a>\u001b[0m     device\u001b[39m=\u001b[39;49mdevice,\n\u001b[1;32m     <a href='vscode-notebook-cell://ssh-remote%2Bgpt-j-rome.us-east1-b.mats-355413/home/jacquesthibodeau/rome-experiments/notebooks/causal_trace.ipynb#Y132sdnNjb2RlLXJlbW90ZQ%3D%3D?line=28'>29</a>\u001b[0m     \u001b[39m# repetition_penalty=1.2,\u001b[39;49;00m\n\u001b[1;32m     <a href='vscode-notebook-cell://ssh-remote%2Bgpt-j-rome.us-east1-b.mats-355413/home/jacquesthibodeau/rome-experiments/notebooks/causal_trace.ipynb#Y132sdnNjb2RlLXJlbW90ZQ%3D%3D?line=29'>30</a>\u001b[0m     \u001b[39m# length_penalty=0.8,\u001b[39;49;00m\n\u001b[1;32m     <a href='vscode-notebook-cell://ssh-remote%2Bgpt-j-rome.us-east1-b.mats-355413/home/jacquesthibodeau/rome-experiments/notebooks/causal_trace.ipynb#Y132sdnNjb2RlLXJlbW90ZQ%3D%3D?line=30'>31</a>\u001b[0m     pad_token_id\u001b[39m=\u001b[39;49mmt\u001b[39m.\u001b[39;49mtokenizer\u001b[39m.\u001b[39;49meos_token_id,\n\u001b[1;32m     <a href='vscode-notebook-cell://ssh-remote%2Bgpt-j-rome.us-east1-b.mats-355413/home/jacquesthibodeau/rome-experiments/notebooks/causal_trace.ipynb#Y132sdnNjb2RlLXJlbW90ZQ%3D%3D?line=31'>32</a>\u001b[0m     temperature\u001b[39m=\u001b[39;49m\u001b[39m0.05\u001b[39;49m,\n\u001b[1;32m     <a href='vscode-notebook-cell://ssh-remote%2Bgpt-j-rome.us-east1-b.mats-355413/home/jacquesthibodeau/rome-experiments/notebooks/causal_trace.ipynb#Y132sdnNjb2RlLXJlbW90ZQ%3D%3D?line=32'>33</a>\u001b[0m )\n\u001b[1;32m     <a href='vscode-notebook-cell://ssh-remote%2Bgpt-j-rome.us-east1-b.mats-355413/home/jacquesthibodeau/rome-experiments/notebooks/causal_trace.ipynb#Y132sdnNjb2RlLXJlbW90ZQ%3D%3D?line=33'>34</a>\u001b[0m generated_text \u001b[39m=\u001b[39m mt\u001b[39m.\u001b[39mtokenizer\u001b[39m.\u001b[39mdecode(generated_outputs\u001b[39m.\u001b[39msequences[\u001b[39m0\u001b[39m])\n\u001b[1;32m     <a href='vscode-notebook-cell://ssh-remote%2Bgpt-j-rome.us-east1-b.mats-355413/home/jacquesthibodeau/rome-experiments/notebooks/causal_trace.ipynb#Y132sdnNjb2RlLXJlbW90ZQ%3D%3D?line=35'>36</a>\u001b[0m \u001b[39m# only use id's that were generated\u001b[39;00m\n\u001b[1;32m     <a href='vscode-notebook-cell://ssh-remote%2Bgpt-j-rome.us-east1-b.mats-355413/home/jacquesthibodeau/rome-experiments/notebooks/causal_trace.ipynb#Y132sdnNjb2RlLXJlbW90ZQ%3D%3D?line=36'>37</a>\u001b[0m \u001b[39m# gen_sequences has shape [3, 15]\u001b[39;00m\n",
            "File \u001b[0;32m/opt/conda/envs/rome/lib/python3.9/site-packages/torch/autograd/grad_mode.py:28\u001b[0m, in \u001b[0;36m_DecoratorContextManager.__call__.<locals>.decorate_context\u001b[0;34m(*args, **kwargs)\u001b[0m\n\u001b[1;32m     25\u001b[0m \u001b[39m@functools\u001b[39m\u001b[39m.\u001b[39mwraps(func)\n\u001b[1;32m     26\u001b[0m \u001b[39mdef\u001b[39;00m \u001b[39mdecorate_context\u001b[39m(\u001b[39m*\u001b[39margs, \u001b[39m*\u001b[39m\u001b[39m*\u001b[39mkwargs):\n\u001b[1;32m     27\u001b[0m     \u001b[39mwith\u001b[39;00m \u001b[39mself\u001b[39m\u001b[39m.\u001b[39m\u001b[39m__class__\u001b[39m():\n\u001b[0;32m---> 28\u001b[0m         \u001b[39mreturn\u001b[39;00m func(\u001b[39m*\u001b[39;49margs, \u001b[39m*\u001b[39;49m\u001b[39m*\u001b[39;49mkwargs)\n",
            "File \u001b[0;32m/opt/conda/envs/rome/lib/python3.9/site-packages/transformers/generation_utils.py:1136\u001b[0m, in \u001b[0;36mGenerationMixin.generate\u001b[0;34m(self, inputs, max_length, min_length, do_sample, early_stopping, num_beams, temperature, top_k, top_p, repetition_penalty, bad_words_ids, bos_token_id, pad_token_id, eos_token_id, length_penalty, no_repeat_ngram_size, encoder_no_repeat_ngram_size, num_return_sequences, max_time, max_new_tokens, decoder_start_token_id, use_cache, num_beam_groups, diversity_penalty, prefix_allowed_tokens_fn, logits_processor, stopping_criteria, output_attentions, output_hidden_states, output_scores, return_dict_in_generate, forced_bos_token_id, forced_eos_token_id, remove_invalid_values, synced_gpus, **model_kwargs)\u001b[0m\n\u001b[1;32m   1128\u001b[0m     input_ids, model_kwargs \u001b[39m=\u001b[39m \u001b[39mself\u001b[39m\u001b[39m.\u001b[39m_expand_inputs_for_generation(\n\u001b[1;32m   1129\u001b[0m         input_ids,\n\u001b[1;32m   1130\u001b[0m         expand_size\u001b[39m=\u001b[39mnum_return_sequences,\n\u001b[1;32m   1131\u001b[0m         is_encoder_decoder\u001b[39m=\u001b[39m\u001b[39mself\u001b[39m\u001b[39m.\u001b[39mconfig\u001b[39m.\u001b[39mis_encoder_decoder,\n\u001b[1;32m   1132\u001b[0m         \u001b[39m*\u001b[39m\u001b[39m*\u001b[39mmodel_kwargs,\n\u001b[1;32m   1133\u001b[0m     )\n\u001b[1;32m   1135\u001b[0m     \u001b[39m# 12. run sample\u001b[39;00m\n\u001b[0;32m-> 1136\u001b[0m     \u001b[39mreturn\u001b[39;00m \u001b[39mself\u001b[39;49m\u001b[39m.\u001b[39;49msample(\n\u001b[1;32m   1137\u001b[0m         input_ids,\n\u001b[1;32m   1138\u001b[0m         logits_processor\u001b[39m=\u001b[39;49mlogits_processor,\n\u001b[1;32m   1139\u001b[0m         logits_warper\u001b[39m=\u001b[39;49mlogits_warper,\n\u001b[1;32m   1140\u001b[0m         stopping_criteria\u001b[39m=\u001b[39;49mstopping_criteria,\n\u001b[1;32m   1141\u001b[0m         pad_token_id\u001b[39m=\u001b[39;49mpad_token_id,\n\u001b[1;32m   1142\u001b[0m         eos_token_id\u001b[39m=\u001b[39;49meos_token_id,\n\u001b[1;32m   1143\u001b[0m         output_scores\u001b[39m=\u001b[39;49moutput_scores,\n\u001b[1;32m   1144\u001b[0m         return_dict_in_generate\u001b[39m=\u001b[39;49mreturn_dict_in_generate,\n\u001b[1;32m   1145\u001b[0m         synced_gpus\u001b[39m=\u001b[39;49msynced_gpus,\n\u001b[1;32m   1146\u001b[0m         \u001b[39m*\u001b[39;49m\u001b[39m*\u001b[39;49mmodel_kwargs,\n\u001b[1;32m   1147\u001b[0m     )\n\u001b[1;32m   1149\u001b[0m \u001b[39melif\u001b[39;00m is_beam_gen_mode:\n\u001b[1;32m   1150\u001b[0m     \u001b[39mif\u001b[39;00m num_return_sequences \u001b[39m>\u001b[39m num_beams:\n",
            "File \u001b[0;32m/opt/conda/envs/rome/lib/python3.9/site-packages/transformers/generation_utils.py:1646\u001b[0m, in \u001b[0;36mGenerationMixin.sample\u001b[0;34m(self, input_ids, logits_processor, stopping_criteria, logits_warper, max_length, pad_token_id, eos_token_id, output_attentions, output_hidden_states, output_scores, return_dict_in_generate, synced_gpus, **model_kwargs)\u001b[0m\n\u001b[1;32m   1643\u001b[0m model_inputs \u001b[39m=\u001b[39m \u001b[39mself\u001b[39m\u001b[39m.\u001b[39mprepare_inputs_for_generation(input_ids, \u001b[39m*\u001b[39m\u001b[39m*\u001b[39mmodel_kwargs)\n\u001b[1;32m   1645\u001b[0m \u001b[39m# forward pass to get next token\u001b[39;00m\n\u001b[0;32m-> 1646\u001b[0m outputs \u001b[39m=\u001b[39m \u001b[39mself\u001b[39;49m(\n\u001b[1;32m   1647\u001b[0m     \u001b[39m*\u001b[39;49m\u001b[39m*\u001b[39;49mmodel_inputs,\n\u001b[1;32m   1648\u001b[0m     return_dict\u001b[39m=\u001b[39;49m\u001b[39mTrue\u001b[39;49;00m,\n\u001b[1;32m   1649\u001b[0m     output_attentions\u001b[39m=\u001b[39;49moutput_attentions,\n\u001b[1;32m   1650\u001b[0m     output_hidden_states\u001b[39m=\u001b[39;49moutput_hidden_states,\n\u001b[1;32m   1651\u001b[0m )\n\u001b[1;32m   1653\u001b[0m \u001b[39mif\u001b[39;00m synced_gpus \u001b[39mand\u001b[39;00m this_peer_finished:\n\u001b[1;32m   1654\u001b[0m     cur_len \u001b[39m=\u001b[39m cur_len \u001b[39m+\u001b[39m \u001b[39m1\u001b[39m\n",
            "File \u001b[0;32m/opt/conda/envs/rome/lib/python3.9/site-packages/torch/nn/modules/module.py:1102\u001b[0m, in \u001b[0;36mModule._call_impl\u001b[0;34m(self, *input, **kwargs)\u001b[0m\n\u001b[1;32m   1098\u001b[0m \u001b[39m# If we don't have any hooks, we want to skip the rest of the logic in\u001b[39;00m\n\u001b[1;32m   1099\u001b[0m \u001b[39m# this function, and just call forward.\u001b[39;00m\n\u001b[1;32m   1100\u001b[0m \u001b[39mif\u001b[39;00m \u001b[39mnot\u001b[39;00m (\u001b[39mself\u001b[39m\u001b[39m.\u001b[39m_backward_hooks \u001b[39mor\u001b[39;00m \u001b[39mself\u001b[39m\u001b[39m.\u001b[39m_forward_hooks \u001b[39mor\u001b[39;00m \u001b[39mself\u001b[39m\u001b[39m.\u001b[39m_forward_pre_hooks \u001b[39mor\u001b[39;00m _global_backward_hooks\n\u001b[1;32m   1101\u001b[0m         \u001b[39mor\u001b[39;00m _global_forward_hooks \u001b[39mor\u001b[39;00m _global_forward_pre_hooks):\n\u001b[0;32m-> 1102\u001b[0m     \u001b[39mreturn\u001b[39;00m forward_call(\u001b[39m*\u001b[39;49m\u001b[39minput\u001b[39;49m, \u001b[39m*\u001b[39;49m\u001b[39m*\u001b[39;49mkwargs)\n\u001b[1;32m   1103\u001b[0m \u001b[39m# Do not call functions when jit is used\u001b[39;00m\n\u001b[1;32m   1104\u001b[0m full_backward_hooks, non_full_backward_hooks \u001b[39m=\u001b[39m [], []\n",
            "File \u001b[0;32m/opt/conda/envs/rome/lib/python3.9/site-packages/transformers/models/gptj/modeling_gptj.py:786\u001b[0m, in \u001b[0;36mGPTJForCausalLM.forward\u001b[0;34m(self, input_ids, past_key_values, attention_mask, token_type_ids, position_ids, head_mask, inputs_embeds, labels, use_cache, output_attentions, output_hidden_states, return_dict)\u001b[0m\n\u001b[1;32m    778\u001b[0m \u001b[39mr\u001b[39m\u001b[39m\"\"\"\u001b[39;00m\n\u001b[1;32m    779\u001b[0m \u001b[39mlabels (`torch.LongTensor` of shape `(batch_size, sequence_length)`, *optional*):\u001b[39;00m\n\u001b[1;32m    780\u001b[0m \u001b[39m    Labels for language modeling. Note that the labels **are shifted** inside the model, i.e. you can set\u001b[39;00m\n\u001b[1;32m    781\u001b[0m \u001b[39m    `labels = input_ids` Indices are selected in `[-100, 0, ..., config.vocab_size]` All labels set to\u001b[39;00m\n\u001b[1;32m    782\u001b[0m \u001b[39m    `-100` are ignored (masked), the loss is only computed for labels in `[0, ..., config.vocab_size]`\u001b[39;00m\n\u001b[1;32m    783\u001b[0m \u001b[39m\"\"\"\u001b[39;00m\n\u001b[1;32m    784\u001b[0m return_dict \u001b[39m=\u001b[39m return_dict \u001b[39mif\u001b[39;00m return_dict \u001b[39mis\u001b[39;00m \u001b[39mnot\u001b[39;00m \u001b[39mNone\u001b[39;00m \u001b[39melse\u001b[39;00m \u001b[39mself\u001b[39m\u001b[39m.\u001b[39mconfig\u001b[39m.\u001b[39muse_return_dict\n\u001b[0;32m--> 786\u001b[0m transformer_outputs \u001b[39m=\u001b[39m \u001b[39mself\u001b[39;49m\u001b[39m.\u001b[39;49mtransformer(\n\u001b[1;32m    787\u001b[0m     input_ids,\n\u001b[1;32m    788\u001b[0m     past_key_values\u001b[39m=\u001b[39;49mpast_key_values,\n\u001b[1;32m    789\u001b[0m     attention_mask\u001b[39m=\u001b[39;49mattention_mask,\n\u001b[1;32m    790\u001b[0m     token_type_ids\u001b[39m=\u001b[39;49mtoken_type_ids,\n\u001b[1;32m    791\u001b[0m     position_ids\u001b[39m=\u001b[39;49mposition_ids,\n\u001b[1;32m    792\u001b[0m     head_mask\u001b[39m=\u001b[39;49mhead_mask,\n\u001b[1;32m    793\u001b[0m     inputs_embeds\u001b[39m=\u001b[39;49minputs_embeds,\n\u001b[1;32m    794\u001b[0m     use_cache\u001b[39m=\u001b[39;49muse_cache,\n\u001b[1;32m    795\u001b[0m     output_attentions\u001b[39m=\u001b[39;49moutput_attentions,\n\u001b[1;32m    796\u001b[0m     output_hidden_states\u001b[39m=\u001b[39;49moutput_hidden_states,\n\u001b[1;32m    797\u001b[0m     return_dict\u001b[39m=\u001b[39;49mreturn_dict,\n\u001b[1;32m    798\u001b[0m )\n\u001b[1;32m    799\u001b[0m hidden_states \u001b[39m=\u001b[39m transformer_outputs[\u001b[39m0\u001b[39m]\n\u001b[1;32m    801\u001b[0m \u001b[39m# Set device for model parallelism\u001b[39;00m\n",
            "File \u001b[0;32m/opt/conda/envs/rome/lib/python3.9/site-packages/torch/nn/modules/module.py:1102\u001b[0m, in \u001b[0;36mModule._call_impl\u001b[0;34m(self, *input, **kwargs)\u001b[0m\n\u001b[1;32m   1098\u001b[0m \u001b[39m# If we don't have any hooks, we want to skip the rest of the logic in\u001b[39;00m\n\u001b[1;32m   1099\u001b[0m \u001b[39m# this function, and just call forward.\u001b[39;00m\n\u001b[1;32m   1100\u001b[0m \u001b[39mif\u001b[39;00m \u001b[39mnot\u001b[39;00m (\u001b[39mself\u001b[39m\u001b[39m.\u001b[39m_backward_hooks \u001b[39mor\u001b[39;00m \u001b[39mself\u001b[39m\u001b[39m.\u001b[39m_forward_hooks \u001b[39mor\u001b[39;00m \u001b[39mself\u001b[39m\u001b[39m.\u001b[39m_forward_pre_hooks \u001b[39mor\u001b[39;00m _global_backward_hooks\n\u001b[1;32m   1101\u001b[0m         \u001b[39mor\u001b[39;00m _global_forward_hooks \u001b[39mor\u001b[39;00m _global_forward_pre_hooks):\n\u001b[0;32m-> 1102\u001b[0m     \u001b[39mreturn\u001b[39;00m forward_call(\u001b[39m*\u001b[39;49m\u001b[39minput\u001b[39;49m, \u001b[39m*\u001b[39;49m\u001b[39m*\u001b[39;49mkwargs)\n\u001b[1;32m   1103\u001b[0m \u001b[39m# Do not call functions when jit is used\u001b[39;00m\n\u001b[1;32m   1104\u001b[0m full_backward_hooks, non_full_backward_hooks \u001b[39m=\u001b[39m [], []\n",
            "File \u001b[0;32m/opt/conda/envs/rome/lib/python3.9/site-packages/transformers/models/gptj/modeling_gptj.py:640\u001b[0m, in \u001b[0;36mGPTJModel.forward\u001b[0;34m(self, input_ids, past_key_values, attention_mask, token_type_ids, position_ids, head_mask, inputs_embeds, use_cache, output_attentions, output_hidden_states, return_dict)\u001b[0m\n\u001b[1;32m    632\u001b[0m     outputs \u001b[39m=\u001b[39m torch\u001b[39m.\u001b[39mutils\u001b[39m.\u001b[39mcheckpoint\u001b[39m.\u001b[39mcheckpoint(\n\u001b[1;32m    633\u001b[0m         create_custom_forward(block),\n\u001b[1;32m    634\u001b[0m         hidden_states,\n\u001b[0;32m   (...)\u001b[0m\n\u001b[1;32m    637\u001b[0m         head_mask[i],\n\u001b[1;32m    638\u001b[0m     )\n\u001b[1;32m    639\u001b[0m \u001b[39melse\u001b[39;00m:\n\u001b[0;32m--> 640\u001b[0m     outputs \u001b[39m=\u001b[39m block(\n\u001b[1;32m    641\u001b[0m         hidden_states,\n\u001b[1;32m    642\u001b[0m         layer_past\u001b[39m=\u001b[39;49mlayer_past,\n\u001b[1;32m    643\u001b[0m         attention_mask\u001b[39m=\u001b[39;49mattention_mask,\n\u001b[1;32m    644\u001b[0m         head_mask\u001b[39m=\u001b[39;49mhead_mask[i],\n\u001b[1;32m    645\u001b[0m         use_cache\u001b[39m=\u001b[39;49muse_cache,\n\u001b[1;32m    646\u001b[0m         output_attentions\u001b[39m=\u001b[39;49moutput_attentions,\n\u001b[1;32m    647\u001b[0m     )\n\u001b[1;32m    649\u001b[0m hidden_states \u001b[39m=\u001b[39m outputs[\u001b[39m0\u001b[39m]\n\u001b[1;32m    650\u001b[0m \u001b[39mif\u001b[39;00m use_cache \u001b[39mis\u001b[39;00m \u001b[39mTrue\u001b[39;00m:\n",
            "File \u001b[0;32m/opt/conda/envs/rome/lib/python3.9/site-packages/torch/nn/modules/module.py:1102\u001b[0m, in \u001b[0;36mModule._call_impl\u001b[0;34m(self, *input, **kwargs)\u001b[0m\n\u001b[1;32m   1098\u001b[0m \u001b[39m# If we don't have any hooks, we want to skip the rest of the logic in\u001b[39;00m\n\u001b[1;32m   1099\u001b[0m \u001b[39m# this function, and just call forward.\u001b[39;00m\n\u001b[1;32m   1100\u001b[0m \u001b[39mif\u001b[39;00m \u001b[39mnot\u001b[39;00m (\u001b[39mself\u001b[39m\u001b[39m.\u001b[39m_backward_hooks \u001b[39mor\u001b[39;00m \u001b[39mself\u001b[39m\u001b[39m.\u001b[39m_forward_hooks \u001b[39mor\u001b[39;00m \u001b[39mself\u001b[39m\u001b[39m.\u001b[39m_forward_pre_hooks \u001b[39mor\u001b[39;00m _global_backward_hooks\n\u001b[1;32m   1101\u001b[0m         \u001b[39mor\u001b[39;00m _global_forward_hooks \u001b[39mor\u001b[39;00m _global_forward_pre_hooks):\n\u001b[0;32m-> 1102\u001b[0m     \u001b[39mreturn\u001b[39;00m forward_call(\u001b[39m*\u001b[39;49m\u001b[39minput\u001b[39;49m, \u001b[39m*\u001b[39;49m\u001b[39m*\u001b[39;49mkwargs)\n\u001b[1;32m   1103\u001b[0m \u001b[39m# Do not call functions when jit is used\u001b[39;00m\n\u001b[1;32m   1104\u001b[0m full_backward_hooks, non_full_backward_hooks \u001b[39m=\u001b[39m [], []\n",
            "File \u001b[0;32m/opt/conda/envs/rome/lib/python3.9/site-packages/transformers/models/gptj/modeling_gptj.py:280\u001b[0m, in \u001b[0;36mGPTJBlock.forward\u001b[0;34m(self, hidden_states, layer_past, attention_mask, head_mask, use_cache, output_attentions)\u001b[0m\n\u001b[1;32m    278\u001b[0m residual \u001b[39m=\u001b[39m hidden_states\n\u001b[1;32m    279\u001b[0m hidden_states \u001b[39m=\u001b[39m \u001b[39mself\u001b[39m\u001b[39m.\u001b[39mln_1(hidden_states)\n\u001b[0;32m--> 280\u001b[0m attn_outputs \u001b[39m=\u001b[39m \u001b[39mself\u001b[39;49m\u001b[39m.\u001b[39;49mattn(\n\u001b[1;32m    281\u001b[0m     hidden_states,\n\u001b[1;32m    282\u001b[0m     layer_past\u001b[39m=\u001b[39;49mlayer_past,\n\u001b[1;32m    283\u001b[0m     attention_mask\u001b[39m=\u001b[39;49mattention_mask,\n\u001b[1;32m    284\u001b[0m     head_mask\u001b[39m=\u001b[39;49mhead_mask,\n\u001b[1;32m    285\u001b[0m     use_cache\u001b[39m=\u001b[39;49muse_cache,\n\u001b[1;32m    286\u001b[0m     output_attentions\u001b[39m=\u001b[39;49moutput_attentions,\n\u001b[1;32m    287\u001b[0m )\n\u001b[1;32m    288\u001b[0m attn_output \u001b[39m=\u001b[39m attn_outputs[\u001b[39m0\u001b[39m]  \u001b[39m# output_attn: a, present, (attentions)\u001b[39;00m\n\u001b[1;32m    289\u001b[0m outputs \u001b[39m=\u001b[39m attn_outputs[\u001b[39m1\u001b[39m:]\n",
            "File \u001b[0;32m/opt/conda/envs/rome/lib/python3.9/site-packages/torch/nn/modules/module.py:1102\u001b[0m, in \u001b[0;36mModule._call_impl\u001b[0;34m(self, *input, **kwargs)\u001b[0m\n\u001b[1;32m   1098\u001b[0m \u001b[39m# If we don't have any hooks, we want to skip the rest of the logic in\u001b[39;00m\n\u001b[1;32m   1099\u001b[0m \u001b[39m# this function, and just call forward.\u001b[39;00m\n\u001b[1;32m   1100\u001b[0m \u001b[39mif\u001b[39;00m \u001b[39mnot\u001b[39;00m (\u001b[39mself\u001b[39m\u001b[39m.\u001b[39m_backward_hooks \u001b[39mor\u001b[39;00m \u001b[39mself\u001b[39m\u001b[39m.\u001b[39m_forward_hooks \u001b[39mor\u001b[39;00m \u001b[39mself\u001b[39m\u001b[39m.\u001b[39m_forward_pre_hooks \u001b[39mor\u001b[39;00m _global_backward_hooks\n\u001b[1;32m   1101\u001b[0m         \u001b[39mor\u001b[39;00m _global_forward_hooks \u001b[39mor\u001b[39;00m _global_forward_pre_hooks):\n\u001b[0;32m-> 1102\u001b[0m     \u001b[39mreturn\u001b[39;00m forward_call(\u001b[39m*\u001b[39;49m\u001b[39minput\u001b[39;49m, \u001b[39m*\u001b[39;49m\u001b[39m*\u001b[39;49mkwargs)\n\u001b[1;32m   1103\u001b[0m \u001b[39m# Do not call functions when jit is used\u001b[39;00m\n\u001b[1;32m   1104\u001b[0m full_backward_hooks, non_full_backward_hooks \u001b[39m=\u001b[39m [], []\n",
            "File \u001b[0;32m/opt/conda/envs/rome/lib/python3.9/site-packages/transformers/models/gptj/modeling_gptj.py:221\u001b[0m, in \u001b[0;36mGPTJAttention.forward\u001b[0;34m(self, hidden_states, attention_mask, layer_past, head_mask, use_cache, output_attentions)\u001b[0m\n\u001b[1;32m    219\u001b[0m     past_value \u001b[39m=\u001b[39m layer_past[\u001b[39m1\u001b[39m]\n\u001b[1;32m    220\u001b[0m     key \u001b[39m=\u001b[39m torch\u001b[39m.\u001b[39mcat((past_key, key), dim\u001b[39m=\u001b[39m\u001b[39m-\u001b[39m\u001b[39m2\u001b[39m)\n\u001b[0;32m--> 221\u001b[0m     value \u001b[39m=\u001b[39m torch\u001b[39m.\u001b[39;49mcat((past_value, value), dim\u001b[39m=\u001b[39;49m\u001b[39m-\u001b[39;49m\u001b[39m2\u001b[39;49m)\n\u001b[1;32m    223\u001b[0m \u001b[39mif\u001b[39;00m use_cache \u001b[39mis\u001b[39;00m \u001b[39mTrue\u001b[39;00m:\n\u001b[1;32m    224\u001b[0m     present \u001b[39m=\u001b[39m (key, value)\n",
            "\u001b[0;31mKeyboardInterrupt\u001b[0m: "
          ]
        }
      ],
      "source": [
        "from tqdm import tqdm\n",
        "import numpy as np\n",
        "device = 'cuda'\n",
        "count = 0\n",
        "i = 1\n",
        "for j, data in tqdm(enumerate(sqa)):\n",
        "    example = \"\"\"Question: Are more people today related to Genghis Khan than Julius Caesar?\n",
        "    Facts: Julius Caesar had three children. Genghis Khan had sixteen children. Modern geneticists have determined that out of every 200 men today has DNA that can be traced to Genghis Khan. \n",
        "    Answer (True or False): True\\n\"\"\"\n",
        "    fact_str = \"Facts: \"\n",
        "    for f in data['facts']:\n",
        "        fact_str += f.replace(\"  \", \" \") + \" \"\n",
        "    question = \"Question: \" + data['question']\n",
        "    answer = \"Answer (True or False):\"\n",
        "    correct_answer = str(data['answer'])\n",
        "    prompt = example + question + \"\\n\" + fact_str + \"\\n\" + answer\n",
        "    input_ids = mt.tokenizer(\n",
        "        prompt, add_special_tokens=False, return_tensors=\"pt\"\n",
        "    ).input_ids.to(device)\n",
        "    generated_outputs = mt.model.generate(\n",
        "        input_ids,\n",
        "        do_sample=True,\n",
        "        early_stopping=True,\n",
        "        max_length=200,\n",
        "        num_return_sequences=1,\n",
        "        output_scores=True,\n",
        "        return_dict_in_generate=True,\n",
        "        device=device,\n",
        "        # repetition_penalty=1.2,\n",
        "        # length_penalty=0.8,\n",
        "        pad_token_id=mt.tokenizer.eos_token_id,\n",
        "        temperature=0.05,\n",
        "    )\n",
        "    generated_text = mt.tokenizer.decode(generated_outputs.sequences[0])\n",
        "\n",
        "    # only use id's that were generated\n",
        "    # gen_sequences has shape [3, 15]\n",
        "    gen_sequences = generated_outputs.sequences[:, input_ids.shape[-1] :]\n",
        "    probs = torch.stack(generated_outputs.scores, dim=1).softmax(-1)  # -> shape [3, 15, vocab_size]\n",
        "    # now we need to collect the probability of the generated token\n",
        "    # we need to add a dummy dim in the end to make gather work\n",
        "    gen_probs = torch.gather(probs, 2, gen_sequences[:, :, None]).squeeze(-1)\n",
        "    # print(gen_probs)\n",
        "    for j, sequence in enumerate(generated_outputs.sequences):\n",
        "        generated_seq = sequence[len(sequence) - len(gen_probs[j]):len(sequence)]\n",
        "        token_list = []\n",
        "        for token in generated_seq:\n",
        "            token_list.append(mt.tokenizer.decode(token))\n",
        "        generated_text = mt.tokenizer.decode(generated_seq)\n",
        "        first_token = mt.tokenizer.decode(generated_seq[0]).replace(' ', '')\n",
        "    \n",
        "    token_probs = []\n",
        "    for token, prob in zip(generated_seq, gen_probs[0]):\n",
        "        text = mt.tokenizer.decode(token)\n",
        "        prob = str(np.array(prob.cpu()))\n",
        "        token_probs.append((text, prob))\n",
        "\n",
        "    # print(correct_answer)\n",
        "    # print(first_token)\n",
        "    if correct_answer.lower() in first_token.lower():\n",
        "        sqa[i][\"first_generated_token\"] = first_token\n",
        "        sqa[i][\"gpt2_main_completion\"] = generated_text\n",
        "        sqa[i][\"good_gpt2_prompt\"] = True\n",
        "        sqa[i][\"token_probs\"] = token_probs\n",
        "        count += 1\n",
        "        i += 1\n",
        "    else:\n",
        "        sqa[i][\"first_generated_token\"] = first_token\n",
        "        sqa[i][\"gpt2_main_completion\"] = generated_text\n",
        "        sqa[i][\"good_gpt2_prompt\"] = False\n",
        "        sqa[i][\"token_probs\"] = token_probs\n",
        "        i += 1\n",
        "\n",
        "print(\"\\n\\n Number of prompts that created good completions: \" + str(count))"
      ]
    },
    {
      "cell_type": "code",
      "execution_count": null,
      "metadata": {
        "id": "PBPVpVVFggjy"
      },
      "outputs": [],
      "source": [
        "good_count = 0\n",
        "bad_count = 0\n",
        "good_sqa = {}\n",
        "bad_sqa = {}\n",
        "for i, data in tqdm(enumerate(sqa)):\n",
        "    try:\n",
        "        if data[\"good_gpt2_prompt\"] == True:\n",
        "            good_sqa[good_count] = data\n",
        "            good_count += 1\n",
        "        else:\n",
        "            bad_sqa[bad_count] = data\n",
        "            bad_count += 1\n",
        "    except:\n",
        "        pass\n",
        "\n",
        "print(\"\\nGood counts: \" + str(good_count))\n",
        "print(\"\\nBad counts: \" + str(bad_count))"
      ]
    },
    {
      "cell_type": "code",
      "execution_count": null,
      "metadata": {
        "id": "mtQF0Se9glC_"
      },
      "outputs": [],
      "source": [
        "good_sqa_filename = \"/content/drive/MyDrive/rome/data/good_sqa_gpt2.json\"\n",
        "with open(good_sqa_filename, \"w\") as f:\n",
        "    json.dump(good_sqa, f)\n",
        "\n",
        "bad_sqa_filename = \"/content/drive/MyDrive/rome/data/bad_sqa_gpt2.json\"\n",
        "with open(bad_sqa_filename, \"w\") as f:\n",
        "    json.dump(bad_sqa, f)\n"
      ]
    },
    {
      "cell_type": "code",
      "execution_count": null,
      "metadata": {
        "id": "1i1VDHzygiyQ"
      },
      "outputs": [],
      "source": [
        "from google.colab import files\n",
        "files.download(good_sqa_filename)\n",
        "files.download(bad_sqa_filename)"
      ]
    },
    {
      "cell_type": "code",
      "execution_count": null,
      "metadata": {
        "id": "gDp23uZ0hCdb"
      },
      "outputs": [],
      "source": []
    }
  ],
  "metadata": {
    "accelerator": "GPU",
    "colab": {
      "collapsed_sections": [],
      "include_colab_link": true,
      "machine_shape": "hm",
      "provenance": []
    },
    "gpuClass": "standard",
    "kernelspec": {
      "display_name": "Python 3.9.7 ('rome')",
      "language": "python",
      "name": "python3"
    },
    "language_info": {
      "codemirror_mode": {
        "name": "ipython",
        "version": 3
      },
      "file_extension": ".py",
      "mimetype": "text/x-python",
      "name": "python",
      "nbconvert_exporter": "python",
      "pygments_lexer": "ipython3",
      "version": "3.9.7"
    },
    "vscode": {
      "interpreter": {
        "hash": "8c2f2649cc7a6d42c627818a01a1fe192f9866f2986a7620315ca2a2b407622d"
      }
    },
    "widgets": {
      "application/vnd.jupyter.widget-state+json": {
        "09c9d7b5a3ab4c2a8d8708d209799003": {
          "model_module": "@jupyter-widgets/controls",
          "model_module_version": "1.5.0",
          "model_name": "ProgressStyleModel",
          "state": {
            "_model_module": "@jupyter-widgets/controls",
            "_model_module_version": "1.5.0",
            "_model_name": "ProgressStyleModel",
            "_view_count": null,
            "_view_module": "@jupyter-widgets/base",
            "_view_module_version": "1.2.0",
            "_view_name": "StyleView",
            "bar_color": null,
            "description_width": ""
          }
        },
        "0a1a39f2521b4fa984f516cc914d536f": {
          "model_module": "@jupyter-widgets/controls",
          "model_module_version": "1.5.0",
          "model_name": "FloatProgressModel",
          "state": {
            "_dom_classes": [],
            "_model_module": "@jupyter-widgets/controls",
            "_model_module_version": "1.5.0",
            "_model_name": "FloatProgressModel",
            "_view_count": null,
            "_view_module": "@jupyter-widgets/controls",
            "_view_module_version": "1.5.0",
            "_view_name": "ProgressView",
            "bar_style": "success",
            "description": "",
            "description_tooltip": null,
            "layout": "IPY_MODEL_24fe18bf06a04937b180fc7ec06a35ee",
            "max": 1355256,
            "min": 0,
            "orientation": "horizontal",
            "style": "IPY_MODEL_3639c370b88249c0b7235142db23e666",
            "value": 1355256
          }
        },
        "0d56bccb610e4993b8cbf87276704ac7": {
          "model_module": "@jupyter-widgets/controls",
          "model_module_version": "1.5.0",
          "model_name": "DescriptionStyleModel",
          "state": {
            "_model_module": "@jupyter-widgets/controls",
            "_model_module_version": "1.5.0",
            "_model_name": "DescriptionStyleModel",
            "_view_count": null,
            "_view_module": "@jupyter-widgets/base",
            "_view_module_version": "1.2.0",
            "_view_name": "StyleView",
            "description_width": ""
          }
        },
        "0e50699f1bee42f49f01cfba869d5d3b": {
          "model_module": "@jupyter-widgets/controls",
          "model_module_version": "1.5.0",
          "model_name": "HBoxModel",
          "state": {
            "_dom_classes": [],
            "_model_module": "@jupyter-widgets/controls",
            "_model_module_version": "1.5.0",
            "_model_name": "HBoxModel",
            "_view_count": null,
            "_view_module": "@jupyter-widgets/controls",
            "_view_module_version": "1.5.0",
            "_view_name": "HBoxView",
            "box_style": "",
            "children": [
              "IPY_MODEL_311422258c424b1e845ca25164c6a7bc",
              "IPY_MODEL_e49de109264e4920ba11ee1063c22ccb",
              "IPY_MODEL_82d577196e984423801b2435994e2224"
            ],
            "layout": "IPY_MODEL_e2e6ffacc95c475a85c92f1d589e173f"
          }
        },
        "11a8fcced3b24285a68ad09a2eb1a130": {
          "model_module": "@jupyter-widgets/base",
          "model_module_version": "1.2.0",
          "model_name": "LayoutModel",
          "state": {
            "_model_module": "@jupyter-widgets/base",
            "_model_module_version": "1.2.0",
            "_model_name": "LayoutModel",
            "_view_count": null,
            "_view_module": "@jupyter-widgets/base",
            "_view_module_version": "1.2.0",
            "_view_name": "LayoutView",
            "align_content": null,
            "align_items": null,
            "align_self": null,
            "border": null,
            "bottom": null,
            "display": null,
            "flex": null,
            "flex_flow": null,
            "grid_area": null,
            "grid_auto_columns": null,
            "grid_auto_flow": null,
            "grid_auto_rows": null,
            "grid_column": null,
            "grid_gap": null,
            "grid_row": null,
            "grid_template_areas": null,
            "grid_template_columns": null,
            "grid_template_rows": null,
            "height": null,
            "justify_content": null,
            "justify_items": null,
            "left": null,
            "margin": null,
            "max_height": null,
            "max_width": null,
            "min_height": null,
            "min_width": null,
            "object_fit": null,
            "object_position": null,
            "order": null,
            "overflow": null,
            "overflow_x": null,
            "overflow_y": null,
            "padding": null,
            "right": null,
            "top": null,
            "visibility": null,
            "width": null
          }
        },
        "155a8d07078642f693e04cc5d8c9e096": {
          "model_module": "@jupyter-widgets/controls",
          "model_module_version": "1.5.0",
          "model_name": "ProgressStyleModel",
          "state": {
            "_model_module": "@jupyter-widgets/controls",
            "_model_module_version": "1.5.0",
            "_model_name": "ProgressStyleModel",
            "_view_count": null,
            "_view_module": "@jupyter-widgets/base",
            "_view_module_version": "1.2.0",
            "_view_name": "StyleView",
            "bar_color": null,
            "description_width": ""
          }
        },
        "206c5349d94f4dafad1f75a2a1bfd682": {
          "model_module": "@jupyter-widgets/base",
          "model_module_version": "1.2.0",
          "model_name": "LayoutModel",
          "state": {
            "_model_module": "@jupyter-widgets/base",
            "_model_module_version": "1.2.0",
            "_model_name": "LayoutModel",
            "_view_count": null,
            "_view_module": "@jupyter-widgets/base",
            "_view_module_version": "1.2.0",
            "_view_name": "LayoutView",
            "align_content": null,
            "align_items": null,
            "align_self": null,
            "border": null,
            "bottom": null,
            "display": null,
            "flex": null,
            "flex_flow": null,
            "grid_area": null,
            "grid_auto_columns": null,
            "grid_auto_flow": null,
            "grid_auto_rows": null,
            "grid_column": null,
            "grid_gap": null,
            "grid_row": null,
            "grid_template_areas": null,
            "grid_template_columns": null,
            "grid_template_rows": null,
            "height": null,
            "justify_content": null,
            "justify_items": null,
            "left": null,
            "margin": null,
            "max_height": null,
            "max_width": null,
            "min_height": null,
            "min_width": null,
            "object_fit": null,
            "object_position": null,
            "order": null,
            "overflow": null,
            "overflow_x": null,
            "overflow_y": null,
            "padding": null,
            "right": null,
            "top": null,
            "visibility": null,
            "width": null
          }
        },
        "20fb4ac6e5684c0f9b66bc5ab83e6399": {
          "model_module": "@jupyter-widgets/base",
          "model_module_version": "1.2.0",
          "model_name": "LayoutModel",
          "state": {
            "_model_module": "@jupyter-widgets/base",
            "_model_module_version": "1.2.0",
            "_model_name": "LayoutModel",
            "_view_count": null,
            "_view_module": "@jupyter-widgets/base",
            "_view_module_version": "1.2.0",
            "_view_name": "LayoutView",
            "align_content": null,
            "align_items": null,
            "align_self": null,
            "border": null,
            "bottom": null,
            "display": null,
            "flex": null,
            "flex_flow": null,
            "grid_area": null,
            "grid_auto_columns": null,
            "grid_auto_flow": null,
            "grid_auto_rows": null,
            "grid_column": null,
            "grid_gap": null,
            "grid_row": null,
            "grid_template_areas": null,
            "grid_template_columns": null,
            "grid_template_rows": null,
            "height": null,
            "justify_content": null,
            "justify_items": null,
            "left": null,
            "margin": null,
            "max_height": null,
            "max_width": null,
            "min_height": null,
            "min_width": null,
            "object_fit": null,
            "object_position": null,
            "order": null,
            "overflow": null,
            "overflow_x": null,
            "overflow_y": null,
            "padding": null,
            "right": null,
            "top": null,
            "visibility": null,
            "width": null
          }
        },
        "23d906ec314c4c70b7faebaf16e5a2cf": {
          "model_module": "@jupyter-widgets/controls",
          "model_module_version": "1.5.0",
          "model_name": "DescriptionStyleModel",
          "state": {
            "_model_module": "@jupyter-widgets/controls",
            "_model_module_version": "1.5.0",
            "_model_name": "DescriptionStyleModel",
            "_view_count": null,
            "_view_module": "@jupyter-widgets/base",
            "_view_module_version": "1.2.0",
            "_view_name": "StyleView",
            "description_width": ""
          }
        },
        "24fe18bf06a04937b180fc7ec06a35ee": {
          "model_module": "@jupyter-widgets/base",
          "model_module_version": "1.2.0",
          "model_name": "LayoutModel",
          "state": {
            "_model_module": "@jupyter-widgets/base",
            "_model_module_version": "1.2.0",
            "_model_name": "LayoutModel",
            "_view_count": null,
            "_view_module": "@jupyter-widgets/base",
            "_view_module_version": "1.2.0",
            "_view_name": "LayoutView",
            "align_content": null,
            "align_items": null,
            "align_self": null,
            "border": null,
            "bottom": null,
            "display": null,
            "flex": null,
            "flex_flow": null,
            "grid_area": null,
            "grid_auto_columns": null,
            "grid_auto_flow": null,
            "grid_auto_rows": null,
            "grid_column": null,
            "grid_gap": null,
            "grid_row": null,
            "grid_template_areas": null,
            "grid_template_columns": null,
            "grid_template_rows": null,
            "height": null,
            "justify_content": null,
            "justify_items": null,
            "left": null,
            "margin": null,
            "max_height": null,
            "max_width": null,
            "min_height": null,
            "min_width": null,
            "object_fit": null,
            "object_position": null,
            "order": null,
            "overflow": null,
            "overflow_x": null,
            "overflow_y": null,
            "padding": null,
            "right": null,
            "top": null,
            "visibility": null,
            "width": null
          }
        },
        "2a58e65354ef452da96af11ecf511093": {
          "model_module": "@jupyter-widgets/controls",
          "model_module_version": "1.5.0",
          "model_name": "DescriptionStyleModel",
          "state": {
            "_model_module": "@jupyter-widgets/controls",
            "_model_module_version": "1.5.0",
            "_model_name": "DescriptionStyleModel",
            "_view_count": null,
            "_view_module": "@jupyter-widgets/base",
            "_view_module_version": "1.2.0",
            "_view_name": "StyleView",
            "description_width": ""
          }
        },
        "2e5b22556de04cb4bd3640b3aab20218": {
          "model_module": "@jupyter-widgets/base",
          "model_module_version": "1.2.0",
          "model_name": "LayoutModel",
          "state": {
            "_model_module": "@jupyter-widgets/base",
            "_model_module_version": "1.2.0",
            "_model_name": "LayoutModel",
            "_view_count": null,
            "_view_module": "@jupyter-widgets/base",
            "_view_module_version": "1.2.0",
            "_view_name": "LayoutView",
            "align_content": null,
            "align_items": null,
            "align_self": null,
            "border": null,
            "bottom": null,
            "display": null,
            "flex": null,
            "flex_flow": null,
            "grid_area": null,
            "grid_auto_columns": null,
            "grid_auto_flow": null,
            "grid_auto_rows": null,
            "grid_column": null,
            "grid_gap": null,
            "grid_row": null,
            "grid_template_areas": null,
            "grid_template_columns": null,
            "grid_template_rows": null,
            "height": null,
            "justify_content": null,
            "justify_items": null,
            "left": null,
            "margin": null,
            "max_height": null,
            "max_width": null,
            "min_height": null,
            "min_width": null,
            "object_fit": null,
            "object_position": null,
            "order": null,
            "overflow": null,
            "overflow_x": null,
            "overflow_y": null,
            "padding": null,
            "right": null,
            "top": null,
            "visibility": null,
            "width": null
          }
        },
        "3042f470c3c1465b885af214c9f201ef": {
          "model_module": "@jupyter-widgets/base",
          "model_module_version": "1.2.0",
          "model_name": "LayoutModel",
          "state": {
            "_model_module": "@jupyter-widgets/base",
            "_model_module_version": "1.2.0",
            "_model_name": "LayoutModel",
            "_view_count": null,
            "_view_module": "@jupyter-widgets/base",
            "_view_module_version": "1.2.0",
            "_view_name": "LayoutView",
            "align_content": null,
            "align_items": null,
            "align_self": null,
            "border": null,
            "bottom": null,
            "display": null,
            "flex": null,
            "flex_flow": null,
            "grid_area": null,
            "grid_auto_columns": null,
            "grid_auto_flow": null,
            "grid_auto_rows": null,
            "grid_column": null,
            "grid_gap": null,
            "grid_row": null,
            "grid_template_areas": null,
            "grid_template_columns": null,
            "grid_template_rows": null,
            "height": null,
            "justify_content": null,
            "justify_items": null,
            "left": null,
            "margin": null,
            "max_height": null,
            "max_width": null,
            "min_height": null,
            "min_width": null,
            "object_fit": null,
            "object_position": null,
            "order": null,
            "overflow": null,
            "overflow_x": null,
            "overflow_y": null,
            "padding": null,
            "right": null,
            "top": null,
            "visibility": null,
            "width": null
          }
        },
        "311422258c424b1e845ca25164c6a7bc": {
          "model_module": "@jupyter-widgets/controls",
          "model_module_version": "1.5.0",
          "model_name": "HTMLModel",
          "state": {
            "_dom_classes": [],
            "_model_module": "@jupyter-widgets/controls",
            "_model_module_version": "1.5.0",
            "_model_name": "HTMLModel",
            "_view_count": null,
            "_view_module": "@jupyter-widgets/controls",
            "_view_module_version": "1.5.0",
            "_view_name": "HTMLView",
            "description": "",
            "description_tooltip": null,
            "layout": "IPY_MODEL_393040223db44177b5ab4eb22946c3c5",
            "placeholder": "​",
            "style": "IPY_MODEL_e22a16c6d96c4aedbee587ff78632eef",
            "value": "Downloading: 100%"
          }
        },
        "344c1589efef402bb2a87ee13890353c": {
          "model_module": "@jupyter-widgets/controls",
          "model_module_version": "1.5.0",
          "model_name": "HTMLModel",
          "state": {
            "_dom_classes": [],
            "_model_module": "@jupyter-widgets/controls",
            "_model_module_version": "1.5.0",
            "_model_name": "HTMLModel",
            "_view_count": null,
            "_view_module": "@jupyter-widgets/controls",
            "_view_module_version": "1.5.0",
            "_view_name": "HTMLView",
            "description": "",
            "description_tooltip": null,
            "layout": "IPY_MODEL_2e5b22556de04cb4bd3640b3aab20218",
            "placeholder": "​",
            "style": "IPY_MODEL_f38b6c9dcb594d1d9d752a5f6971a69f",
            "value": " 0.99M/0.99M [00:00&lt;00:00, 1.39MB/s]"
          }
        },
        "3639c370b88249c0b7235142db23e666": {
          "model_module": "@jupyter-widgets/controls",
          "model_module_version": "1.5.0",
          "model_name": "ProgressStyleModel",
          "state": {
            "_model_module": "@jupyter-widgets/controls",
            "_model_module_version": "1.5.0",
            "_model_name": "ProgressStyleModel",
            "_view_count": null,
            "_view_module": "@jupyter-widgets/base",
            "_view_module_version": "1.2.0",
            "_view_name": "StyleView",
            "bar_color": null,
            "description_width": ""
          }
        },
        "376c7248420349f897b865efcdb7194a": {
          "model_module": "@jupyter-widgets/controls",
          "model_module_version": "1.5.0",
          "model_name": "DescriptionStyleModel",
          "state": {
            "_model_module": "@jupyter-widgets/controls",
            "_model_module_version": "1.5.0",
            "_model_name": "DescriptionStyleModel",
            "_view_count": null,
            "_view_module": "@jupyter-widgets/base",
            "_view_module_version": "1.2.0",
            "_view_name": "StyleView",
            "description_width": ""
          }
        },
        "38d0073823324452a86d583e8e988255": {
          "model_module": "@jupyter-widgets/controls",
          "model_module_version": "1.5.0",
          "model_name": "DescriptionStyleModel",
          "state": {
            "_model_module": "@jupyter-widgets/controls",
            "_model_module_version": "1.5.0",
            "_model_name": "DescriptionStyleModel",
            "_view_count": null,
            "_view_module": "@jupyter-widgets/base",
            "_view_module_version": "1.2.0",
            "_view_name": "StyleView",
            "description_width": ""
          }
        },
        "393040223db44177b5ab4eb22946c3c5": {
          "model_module": "@jupyter-widgets/base",
          "model_module_version": "1.2.0",
          "model_name": "LayoutModel",
          "state": {
            "_model_module": "@jupyter-widgets/base",
            "_model_module_version": "1.2.0",
            "_model_name": "LayoutModel",
            "_view_count": null,
            "_view_module": "@jupyter-widgets/base",
            "_view_module_version": "1.2.0",
            "_view_name": "LayoutView",
            "align_content": null,
            "align_items": null,
            "align_self": null,
            "border": null,
            "bottom": null,
            "display": null,
            "flex": null,
            "flex_flow": null,
            "grid_area": null,
            "grid_auto_columns": null,
            "grid_auto_flow": null,
            "grid_auto_rows": null,
            "grid_column": null,
            "grid_gap": null,
            "grid_row": null,
            "grid_template_areas": null,
            "grid_template_columns": null,
            "grid_template_rows": null,
            "height": null,
            "justify_content": null,
            "justify_items": null,
            "left": null,
            "margin": null,
            "max_height": null,
            "max_width": null,
            "min_height": null,
            "min_width": null,
            "object_fit": null,
            "object_position": null,
            "order": null,
            "overflow": null,
            "overflow_x": null,
            "overflow_y": null,
            "padding": null,
            "right": null,
            "top": null,
            "visibility": null,
            "width": null
          }
        },
        "3f3d7aee5aba44079e98bce57b279e04": {
          "model_module": "@jupyter-widgets/base",
          "model_module_version": "1.2.0",
          "model_name": "LayoutModel",
          "state": {
            "_model_module": "@jupyter-widgets/base",
            "_model_module_version": "1.2.0",
            "_model_name": "LayoutModel",
            "_view_count": null,
            "_view_module": "@jupyter-widgets/base",
            "_view_module_version": "1.2.0",
            "_view_name": "LayoutView",
            "align_content": null,
            "align_items": null,
            "align_self": null,
            "border": null,
            "bottom": null,
            "display": null,
            "flex": null,
            "flex_flow": null,
            "grid_area": null,
            "grid_auto_columns": null,
            "grid_auto_flow": null,
            "grid_auto_rows": null,
            "grid_column": null,
            "grid_gap": null,
            "grid_row": null,
            "grid_template_areas": null,
            "grid_template_columns": null,
            "grid_template_rows": null,
            "height": null,
            "justify_content": null,
            "justify_items": null,
            "left": null,
            "margin": null,
            "max_height": null,
            "max_width": null,
            "min_height": null,
            "min_width": null,
            "object_fit": null,
            "object_position": null,
            "order": null,
            "overflow": null,
            "overflow_x": null,
            "overflow_y": null,
            "padding": null,
            "right": null,
            "top": null,
            "visibility": null,
            "width": null
          }
        },
        "442ebfeac9b640caa2cf583cf81f43ae": {
          "model_module": "@jupyter-widgets/controls",
          "model_module_version": "1.5.0",
          "model_name": "HTMLModel",
          "state": {
            "_dom_classes": [],
            "_model_module": "@jupyter-widgets/controls",
            "_model_module_version": "1.5.0",
            "_model_name": "HTMLModel",
            "_view_count": null,
            "_view_module": "@jupyter-widgets/controls",
            "_view_module_version": "1.5.0",
            "_view_name": "HTMLView",
            "description": "",
            "description_tooltip": null,
            "layout": "IPY_MODEL_9af05cc80acc4ac897d6929fde4fb41f",
            "placeholder": "​",
            "style": "IPY_MODEL_0d56bccb610e4993b8cbf87276704ac7",
            "value": " 1.29M/1.29M [00:00&lt;00:00, 2.95MB/s]"
          }
        },
        "4c10a841f47d4b2592b2d1f3fd094c2b": {
          "model_module": "@jupyter-widgets/controls",
          "model_module_version": "1.5.0",
          "model_name": "ProgressStyleModel",
          "state": {
            "_model_module": "@jupyter-widgets/controls",
            "_model_module_version": "1.5.0",
            "_model_name": "ProgressStyleModel",
            "_view_count": null,
            "_view_module": "@jupyter-widgets/base",
            "_view_module_version": "1.2.0",
            "_view_name": "StyleView",
            "bar_color": null,
            "description_width": ""
          }
        },
        "4ecca8c762104a90b41ce356b79ab672": {
          "model_module": "@jupyter-widgets/base",
          "model_module_version": "1.2.0",
          "model_name": "LayoutModel",
          "state": {
            "_model_module": "@jupyter-widgets/base",
            "_model_module_version": "1.2.0",
            "_model_name": "LayoutModel",
            "_view_count": null,
            "_view_module": "@jupyter-widgets/base",
            "_view_module_version": "1.2.0",
            "_view_name": "LayoutView",
            "align_content": null,
            "align_items": null,
            "align_self": null,
            "border": null,
            "bottom": null,
            "display": null,
            "flex": null,
            "flex_flow": null,
            "grid_area": null,
            "grid_auto_columns": null,
            "grid_auto_flow": null,
            "grid_auto_rows": null,
            "grid_column": null,
            "grid_gap": null,
            "grid_row": null,
            "grid_template_areas": null,
            "grid_template_columns": null,
            "grid_template_rows": null,
            "height": null,
            "justify_content": null,
            "justify_items": null,
            "left": null,
            "margin": null,
            "max_height": null,
            "max_width": null,
            "min_height": null,
            "min_width": null,
            "object_fit": null,
            "object_position": null,
            "order": null,
            "overflow": null,
            "overflow_x": null,
            "overflow_y": null,
            "padding": null,
            "right": null,
            "top": null,
            "visibility": null,
            "width": null
          }
        },
        "53fddee5118443f981445db7dc01b536": {
          "model_module": "@jupyter-widgets/base",
          "model_module_version": "1.2.0",
          "model_name": "LayoutModel",
          "state": {
            "_model_module": "@jupyter-widgets/base",
            "_model_module_version": "1.2.0",
            "_model_name": "LayoutModel",
            "_view_count": null,
            "_view_module": "@jupyter-widgets/base",
            "_view_module_version": "1.2.0",
            "_view_name": "LayoutView",
            "align_content": null,
            "align_items": null,
            "align_self": null,
            "border": null,
            "bottom": null,
            "display": null,
            "flex": null,
            "flex_flow": null,
            "grid_area": null,
            "grid_auto_columns": null,
            "grid_auto_flow": null,
            "grid_auto_rows": null,
            "grid_column": null,
            "grid_gap": null,
            "grid_row": null,
            "grid_template_areas": null,
            "grid_template_columns": null,
            "grid_template_rows": null,
            "height": null,
            "justify_content": null,
            "justify_items": null,
            "left": null,
            "margin": null,
            "max_height": null,
            "max_width": null,
            "min_height": null,
            "min_width": null,
            "object_fit": null,
            "object_position": null,
            "order": null,
            "overflow": null,
            "overflow_x": null,
            "overflow_y": null,
            "padding": null,
            "right": null,
            "top": null,
            "visibility": null,
            "width": null
          }
        },
        "7d7ff7f6b0784119a4f03f2839bae232": {
          "model_module": "@jupyter-widgets/base",
          "model_module_version": "1.2.0",
          "model_name": "LayoutModel",
          "state": {
            "_model_module": "@jupyter-widgets/base",
            "_model_module_version": "1.2.0",
            "_model_name": "LayoutModel",
            "_view_count": null,
            "_view_module": "@jupyter-widgets/base",
            "_view_module_version": "1.2.0",
            "_view_name": "LayoutView",
            "align_content": null,
            "align_items": null,
            "align_self": null,
            "border": null,
            "bottom": null,
            "display": null,
            "flex": null,
            "flex_flow": null,
            "grid_area": null,
            "grid_auto_columns": null,
            "grid_auto_flow": null,
            "grid_auto_rows": null,
            "grid_column": null,
            "grid_gap": null,
            "grid_row": null,
            "grid_template_areas": null,
            "grid_template_columns": null,
            "grid_template_rows": null,
            "height": null,
            "justify_content": null,
            "justify_items": null,
            "left": null,
            "margin": null,
            "max_height": null,
            "max_width": null,
            "min_height": null,
            "min_width": null,
            "object_fit": null,
            "object_position": null,
            "order": null,
            "overflow": null,
            "overflow_x": null,
            "overflow_y": null,
            "padding": null,
            "right": null,
            "top": null,
            "visibility": null,
            "width": null
          }
        },
        "82d577196e984423801b2435994e2224": {
          "model_module": "@jupyter-widgets/controls",
          "model_module_version": "1.5.0",
          "model_name": "HTMLModel",
          "state": {
            "_dom_classes": [],
            "_model_module": "@jupyter-widgets/controls",
            "_model_module_version": "1.5.0",
            "_model_name": "HTMLModel",
            "_view_count": null,
            "_view_module": "@jupyter-widgets/controls",
            "_view_module_version": "1.5.0",
            "_view_name": "HTMLView",
            "description": "",
            "description_tooltip": null,
            "layout": "IPY_MODEL_ebe6527b710e4f8795daf59796c0cf80",
            "placeholder": "​",
            "style": "IPY_MODEL_b3c3c214aedb41a5b7c118f120b87053",
            "value": " 689/689 [00:00&lt;00:00, 18.6kB/s]"
          }
        },
        "84f86472a8c24cbb886b2414239f8b19": {
          "model_module": "@jupyter-widgets/controls",
          "model_module_version": "1.5.0",
          "model_name": "HTMLModel",
          "state": {
            "_dom_classes": [],
            "_model_module": "@jupyter-widgets/controls",
            "_model_module_version": "1.5.0",
            "_model_name": "HTMLModel",
            "_view_count": null,
            "_view_module": "@jupyter-widgets/controls",
            "_view_module_version": "1.5.0",
            "_view_name": "HTMLView",
            "description": "",
            "description_tooltip": null,
            "layout": "IPY_MODEL_206c5349d94f4dafad1f75a2a1bfd682",
            "placeholder": "​",
            "style": "IPY_MODEL_23d906ec314c4c70b7faebaf16e5a2cf",
            "value": "Downloading: 100%"
          }
        },
        "85d7ef6a22574075ab68723f75d91c43": {
          "model_module": "@jupyter-widgets/controls",
          "model_module_version": "1.5.0",
          "model_name": "HBoxModel",
          "state": {
            "_dom_classes": [],
            "_model_module": "@jupyter-widgets/controls",
            "_model_module_version": "1.5.0",
            "_model_name": "HBoxModel",
            "_view_count": null,
            "_view_module": "@jupyter-widgets/controls",
            "_view_module_version": "1.5.0",
            "_view_name": "HBoxView",
            "box_style": "",
            "children": [
              "IPY_MODEL_84f86472a8c24cbb886b2414239f8b19",
              "IPY_MODEL_cf38c3f4bb604571bf639c744b076db2",
              "IPY_MODEL_344c1589efef402bb2a87ee13890353c"
            ],
            "layout": "IPY_MODEL_e5592c5fcb19467d819ddb8c0e243a5c"
          }
        },
        "86b52f78f38441a5b81cfab905bfd137": {
          "model_module": "@jupyter-widgets/controls",
          "model_module_version": "1.5.0",
          "model_name": "ProgressStyleModel",
          "state": {
            "_model_module": "@jupyter-widgets/controls",
            "_model_module_version": "1.5.0",
            "_model_name": "ProgressStyleModel",
            "_view_count": null,
            "_view_module": "@jupyter-widgets/base",
            "_view_module_version": "1.2.0",
            "_view_name": "StyleView",
            "bar_color": null,
            "description_width": ""
          }
        },
        "8ab8895a10e7436d87c98cf44c2b849b": {
          "model_module": "@jupyter-widgets/controls",
          "model_module_version": "1.5.0",
          "model_name": "DescriptionStyleModel",
          "state": {
            "_model_module": "@jupyter-widgets/controls",
            "_model_module_version": "1.5.0",
            "_model_name": "DescriptionStyleModel",
            "_view_count": null,
            "_view_module": "@jupyter-widgets/base",
            "_view_module_version": "1.2.0",
            "_view_name": "StyleView",
            "description_width": ""
          }
        },
        "92f2568153fa4be398ef8937a221c6b4": {
          "model_module": "@jupyter-widgets/controls",
          "model_module_version": "1.5.0",
          "model_name": "HBoxModel",
          "state": {
            "_dom_classes": [],
            "_model_module": "@jupyter-widgets/controls",
            "_model_module_version": "1.5.0",
            "_model_name": "HBoxModel",
            "_view_count": null,
            "_view_module": "@jupyter-widgets/controls",
            "_view_module_version": "1.5.0",
            "_view_name": "HBoxView",
            "box_style": "",
            "children": [
              "IPY_MODEL_ecde6ab532f24f2c96a152dfd2bd375f",
              "IPY_MODEL_0a1a39f2521b4fa984f516cc914d536f",
              "IPY_MODEL_442ebfeac9b640caa2cf583cf81f43ae"
            ],
            "layout": "IPY_MODEL_11a8fcced3b24285a68ad09a2eb1a130"
          }
        },
        "9318b9590e574f2891a3249805a776a0": {
          "model_module": "@jupyter-widgets/base",
          "model_module_version": "1.2.0",
          "model_name": "LayoutModel",
          "state": {
            "_model_module": "@jupyter-widgets/base",
            "_model_module_version": "1.2.0",
            "_model_name": "LayoutModel",
            "_view_count": null,
            "_view_module": "@jupyter-widgets/base",
            "_view_module_version": "1.2.0",
            "_view_name": "LayoutView",
            "align_content": null,
            "align_items": null,
            "align_self": null,
            "border": null,
            "bottom": null,
            "display": null,
            "flex": null,
            "flex_flow": null,
            "grid_area": null,
            "grid_auto_columns": null,
            "grid_auto_flow": null,
            "grid_auto_rows": null,
            "grid_column": null,
            "grid_gap": null,
            "grid_row": null,
            "grid_template_areas": null,
            "grid_template_columns": null,
            "grid_template_rows": null,
            "height": null,
            "justify_content": null,
            "justify_items": null,
            "left": null,
            "margin": null,
            "max_height": null,
            "max_width": null,
            "min_height": null,
            "min_width": null,
            "object_fit": null,
            "object_position": null,
            "order": null,
            "overflow": null,
            "overflow_x": null,
            "overflow_y": null,
            "padding": null,
            "right": null,
            "top": null,
            "visibility": null,
            "width": null
          }
        },
        "983d4ba20432410786b2a57db6675a1c": {
          "model_module": "@jupyter-widgets/controls",
          "model_module_version": "1.5.0",
          "model_name": "FloatProgressModel",
          "state": {
            "_dom_classes": [],
            "_model_module": "@jupyter-widgets/controls",
            "_model_module_version": "1.5.0",
            "_model_name": "FloatProgressModel",
            "_view_count": null,
            "_view_module": "@jupyter-widgets/controls",
            "_view_module_version": "1.5.0",
            "_view_name": "ProgressView",
            "bar_style": "success",
            "description": "",
            "description_tooltip": null,
            "layout": "IPY_MODEL_e18f97df697241fbafc7d9c9efa3fcda",
            "max": 456318,
            "min": 0,
            "orientation": "horizontal",
            "style": "IPY_MODEL_09c9d7b5a3ab4c2a8d8708d209799003",
            "value": 456318
          }
        },
        "9af05cc80acc4ac897d6929fde4fb41f": {
          "model_module": "@jupyter-widgets/base",
          "model_module_version": "1.2.0",
          "model_name": "LayoutModel",
          "state": {
            "_model_module": "@jupyter-widgets/base",
            "_model_module_version": "1.2.0",
            "_model_name": "LayoutModel",
            "_view_count": null,
            "_view_module": "@jupyter-widgets/base",
            "_view_module_version": "1.2.0",
            "_view_name": "LayoutView",
            "align_content": null,
            "align_items": null,
            "align_self": null,
            "border": null,
            "bottom": null,
            "display": null,
            "flex": null,
            "flex_flow": null,
            "grid_area": null,
            "grid_auto_columns": null,
            "grid_auto_flow": null,
            "grid_auto_rows": null,
            "grid_column": null,
            "grid_gap": null,
            "grid_row": null,
            "grid_template_areas": null,
            "grid_template_columns": null,
            "grid_template_rows": null,
            "height": null,
            "justify_content": null,
            "justify_items": null,
            "left": null,
            "margin": null,
            "max_height": null,
            "max_width": null,
            "min_height": null,
            "min_width": null,
            "object_fit": null,
            "object_position": null,
            "order": null,
            "overflow": null,
            "overflow_x": null,
            "overflow_y": null,
            "padding": null,
            "right": null,
            "top": null,
            "visibility": null,
            "width": null
          }
        },
        "a9d1ae548a4e41ba9f87105d3f93ccb8": {
          "model_module": "@jupyter-widgets/controls",
          "model_module_version": "1.5.0",
          "model_name": "HTMLModel",
          "state": {
            "_dom_classes": [],
            "_model_module": "@jupyter-widgets/controls",
            "_model_module_version": "1.5.0",
            "_model_name": "HTMLModel",
            "_view_count": null,
            "_view_module": "@jupyter-widgets/controls",
            "_view_module_version": "1.5.0",
            "_view_name": "HTMLView",
            "description": "",
            "description_tooltip": null,
            "layout": "IPY_MODEL_3042f470c3c1465b885af214c9f201ef",
            "placeholder": "​",
            "style": "IPY_MODEL_38d0073823324452a86d583e8e988255",
            "value": " 5.99G/5.99G [02:24&lt;00:00, 45.2MB/s]"
          }
        },
        "b05c0ec8e84d44af94e1dd73ee85e3e7": {
          "model_module": "@jupyter-widgets/base",
          "model_module_version": "1.2.0",
          "model_name": "LayoutModel",
          "state": {
            "_model_module": "@jupyter-widgets/base",
            "_model_module_version": "1.2.0",
            "_model_name": "LayoutModel",
            "_view_count": null,
            "_view_module": "@jupyter-widgets/base",
            "_view_module_version": "1.2.0",
            "_view_name": "LayoutView",
            "align_content": null,
            "align_items": null,
            "align_self": null,
            "border": null,
            "bottom": null,
            "display": null,
            "flex": null,
            "flex_flow": null,
            "grid_area": null,
            "grid_auto_columns": null,
            "grid_auto_flow": null,
            "grid_auto_rows": null,
            "grid_column": null,
            "grid_gap": null,
            "grid_row": null,
            "grid_template_areas": null,
            "grid_template_columns": null,
            "grid_template_rows": null,
            "height": null,
            "justify_content": null,
            "justify_items": null,
            "left": null,
            "margin": null,
            "max_height": null,
            "max_width": null,
            "min_height": null,
            "min_width": null,
            "object_fit": null,
            "object_position": null,
            "order": null,
            "overflow": null,
            "overflow_x": null,
            "overflow_y": null,
            "padding": null,
            "right": null,
            "top": null,
            "visibility": null,
            "width": null
          }
        },
        "b1b51555abbb4cefaff83d054aac3289": {
          "model_module": "@jupyter-widgets/controls",
          "model_module_version": "1.5.0",
          "model_name": "HBoxModel",
          "state": {
            "_dom_classes": [],
            "_model_module": "@jupyter-widgets/controls",
            "_model_module_version": "1.5.0",
            "_model_name": "HBoxModel",
            "_view_count": null,
            "_view_module": "@jupyter-widgets/controls",
            "_view_module_version": "1.5.0",
            "_view_name": "HBoxView",
            "box_style": "",
            "children": [
              "IPY_MODEL_f2ec6d170da04fddbd30356fe1c033e5",
              "IPY_MODEL_f3ce5251fecd4ab19a9b9c95f5ac1a0a",
              "IPY_MODEL_a9d1ae548a4e41ba9f87105d3f93ccb8"
            ],
            "layout": "IPY_MODEL_3f3d7aee5aba44079e98bce57b279e04"
          }
        },
        "b3c3c214aedb41a5b7c118f120b87053": {
          "model_module": "@jupyter-widgets/controls",
          "model_module_version": "1.5.0",
          "model_name": "DescriptionStyleModel",
          "state": {
            "_model_module": "@jupyter-widgets/controls",
            "_model_module_version": "1.5.0",
            "_model_name": "DescriptionStyleModel",
            "_view_count": null,
            "_view_module": "@jupyter-widgets/base",
            "_view_module_version": "1.2.0",
            "_view_name": "StyleView",
            "description_width": ""
          }
        },
        "c0e137a2d769407aa45c7ba7b3fcb8e5": {
          "model_module": "@jupyter-widgets/controls",
          "model_module_version": "1.5.0",
          "model_name": "HTMLModel",
          "state": {
            "_dom_classes": [],
            "_model_module": "@jupyter-widgets/controls",
            "_model_module_version": "1.5.0",
            "_model_name": "HTMLModel",
            "_view_count": null,
            "_view_module": "@jupyter-widgets/controls",
            "_view_module_version": "1.5.0",
            "_view_name": "HTMLView",
            "description": "",
            "description_tooltip": null,
            "layout": "IPY_MODEL_f32a8527971e4f5c84fdfbf976327a9a",
            "placeholder": "​",
            "style": "IPY_MODEL_376c7248420349f897b865efcdb7194a",
            "value": " 446k/446k [00:00&lt;00:00, 783kB/s]"
          }
        },
        "cf38c3f4bb604571bf639c744b076db2": {
          "model_module": "@jupyter-widgets/controls",
          "model_module_version": "1.5.0",
          "model_name": "FloatProgressModel",
          "state": {
            "_dom_classes": [],
            "_model_module": "@jupyter-widgets/controls",
            "_model_module_version": "1.5.0",
            "_model_name": "FloatProgressModel",
            "_view_count": null,
            "_view_module": "@jupyter-widgets/controls",
            "_view_module_version": "1.5.0",
            "_view_name": "ProgressView",
            "bar_style": "success",
            "description": "",
            "description_tooltip": null,
            "layout": "IPY_MODEL_20fb4ac6e5684c0f9b66bc5ab83e6399",
            "max": 1042301,
            "min": 0,
            "orientation": "horizontal",
            "style": "IPY_MODEL_4c10a841f47d4b2592b2d1f3fd094c2b",
            "value": 1042301
          }
        },
        "d09e05aab9784124850f8ddb84b67c1b": {
          "model_module": "@jupyter-widgets/base",
          "model_module_version": "1.2.0",
          "model_name": "LayoutModel",
          "state": {
            "_model_module": "@jupyter-widgets/base",
            "_model_module_version": "1.2.0",
            "_model_name": "LayoutModel",
            "_view_count": null,
            "_view_module": "@jupyter-widgets/base",
            "_view_module_version": "1.2.0",
            "_view_name": "LayoutView",
            "align_content": null,
            "align_items": null,
            "align_self": null,
            "border": null,
            "bottom": null,
            "display": null,
            "flex": null,
            "flex_flow": null,
            "grid_area": null,
            "grid_auto_columns": null,
            "grid_auto_flow": null,
            "grid_auto_rows": null,
            "grid_column": null,
            "grid_gap": null,
            "grid_row": null,
            "grid_template_areas": null,
            "grid_template_columns": null,
            "grid_template_rows": null,
            "height": null,
            "justify_content": null,
            "justify_items": null,
            "left": null,
            "margin": null,
            "max_height": null,
            "max_width": null,
            "min_height": null,
            "min_width": null,
            "object_fit": null,
            "object_position": null,
            "order": null,
            "overflow": null,
            "overflow_x": null,
            "overflow_y": null,
            "padding": null,
            "right": null,
            "top": null,
            "visibility": null,
            "width": null
          }
        },
        "d539182c71274d2aa27b4ad4f289a877": {
          "model_module": "@jupyter-widgets/controls",
          "model_module_version": "1.5.0",
          "model_name": "HBoxModel",
          "state": {
            "_dom_classes": [],
            "_model_module": "@jupyter-widgets/controls",
            "_model_module_version": "1.5.0",
            "_model_name": "HBoxModel",
            "_view_count": null,
            "_view_module": "@jupyter-widgets/controls",
            "_view_module_version": "1.5.0",
            "_view_name": "HBoxView",
            "box_style": "",
            "children": [
              "IPY_MODEL_f73d0cd0fa704988922e003a10a9a0fb",
              "IPY_MODEL_983d4ba20432410786b2a57db6675a1c",
              "IPY_MODEL_c0e137a2d769407aa45c7ba7b3fcb8e5"
            ],
            "layout": "IPY_MODEL_b05c0ec8e84d44af94e1dd73ee85e3e7"
          }
        },
        "ddd8cc15f32849a8910ab0b0d0fa2afc": {
          "model_module": "@jupyter-widgets/controls",
          "model_module_version": "1.5.0",
          "model_name": "DescriptionStyleModel",
          "state": {
            "_model_module": "@jupyter-widgets/controls",
            "_model_module_version": "1.5.0",
            "_model_name": "DescriptionStyleModel",
            "_view_count": null,
            "_view_module": "@jupyter-widgets/base",
            "_view_module_version": "1.2.0",
            "_view_name": "StyleView",
            "description_width": ""
          }
        },
        "e18f97df697241fbafc7d9c9efa3fcda": {
          "model_module": "@jupyter-widgets/base",
          "model_module_version": "1.2.0",
          "model_name": "LayoutModel",
          "state": {
            "_model_module": "@jupyter-widgets/base",
            "_model_module_version": "1.2.0",
            "_model_name": "LayoutModel",
            "_view_count": null,
            "_view_module": "@jupyter-widgets/base",
            "_view_module_version": "1.2.0",
            "_view_name": "LayoutView",
            "align_content": null,
            "align_items": null,
            "align_self": null,
            "border": null,
            "bottom": null,
            "display": null,
            "flex": null,
            "flex_flow": null,
            "grid_area": null,
            "grid_auto_columns": null,
            "grid_auto_flow": null,
            "grid_auto_rows": null,
            "grid_column": null,
            "grid_gap": null,
            "grid_row": null,
            "grid_template_areas": null,
            "grid_template_columns": null,
            "grid_template_rows": null,
            "height": null,
            "justify_content": null,
            "justify_items": null,
            "left": null,
            "margin": null,
            "max_height": null,
            "max_width": null,
            "min_height": null,
            "min_width": null,
            "object_fit": null,
            "object_position": null,
            "order": null,
            "overflow": null,
            "overflow_x": null,
            "overflow_y": null,
            "padding": null,
            "right": null,
            "top": null,
            "visibility": null,
            "width": null
          }
        },
        "e22a16c6d96c4aedbee587ff78632eef": {
          "model_module": "@jupyter-widgets/controls",
          "model_module_version": "1.5.0",
          "model_name": "DescriptionStyleModel",
          "state": {
            "_model_module": "@jupyter-widgets/controls",
            "_model_module_version": "1.5.0",
            "_model_name": "DescriptionStyleModel",
            "_view_count": null,
            "_view_module": "@jupyter-widgets/base",
            "_view_module_version": "1.2.0",
            "_view_name": "StyleView",
            "description_width": ""
          }
        },
        "e2e6ffacc95c475a85c92f1d589e173f": {
          "model_module": "@jupyter-widgets/base",
          "model_module_version": "1.2.0",
          "model_name": "LayoutModel",
          "state": {
            "_model_module": "@jupyter-widgets/base",
            "_model_module_version": "1.2.0",
            "_model_name": "LayoutModel",
            "_view_count": null,
            "_view_module": "@jupyter-widgets/base",
            "_view_module_version": "1.2.0",
            "_view_name": "LayoutView",
            "align_content": null,
            "align_items": null,
            "align_self": null,
            "border": null,
            "bottom": null,
            "display": null,
            "flex": null,
            "flex_flow": null,
            "grid_area": null,
            "grid_auto_columns": null,
            "grid_auto_flow": null,
            "grid_auto_rows": null,
            "grid_column": null,
            "grid_gap": null,
            "grid_row": null,
            "grid_template_areas": null,
            "grid_template_columns": null,
            "grid_template_rows": null,
            "height": null,
            "justify_content": null,
            "justify_items": null,
            "left": null,
            "margin": null,
            "max_height": null,
            "max_width": null,
            "min_height": null,
            "min_width": null,
            "object_fit": null,
            "object_position": null,
            "order": null,
            "overflow": null,
            "overflow_x": null,
            "overflow_y": null,
            "padding": null,
            "right": null,
            "top": null,
            "visibility": null,
            "width": null
          }
        },
        "e49de109264e4920ba11ee1063c22ccb": {
          "model_module": "@jupyter-widgets/controls",
          "model_module_version": "1.5.0",
          "model_name": "FloatProgressModel",
          "state": {
            "_dom_classes": [],
            "_model_module": "@jupyter-widgets/controls",
            "_model_module_version": "1.5.0",
            "_model_name": "FloatProgressModel",
            "_view_count": null,
            "_view_module": "@jupyter-widgets/controls",
            "_view_module_version": "1.5.0",
            "_view_name": "ProgressView",
            "bar_style": "success",
            "description": "",
            "description_tooltip": null,
            "layout": "IPY_MODEL_4ecca8c762104a90b41ce356b79ab672",
            "max": 689,
            "min": 0,
            "orientation": "horizontal",
            "style": "IPY_MODEL_155a8d07078642f693e04cc5d8c9e096",
            "value": 689
          }
        },
        "e5592c5fcb19467d819ddb8c0e243a5c": {
          "model_module": "@jupyter-widgets/base",
          "model_module_version": "1.2.0",
          "model_name": "LayoutModel",
          "state": {
            "_model_module": "@jupyter-widgets/base",
            "_model_module_version": "1.2.0",
            "_model_name": "LayoutModel",
            "_view_count": null,
            "_view_module": "@jupyter-widgets/base",
            "_view_module_version": "1.2.0",
            "_view_name": "LayoutView",
            "align_content": null,
            "align_items": null,
            "align_self": null,
            "border": null,
            "bottom": null,
            "display": null,
            "flex": null,
            "flex_flow": null,
            "grid_area": null,
            "grid_auto_columns": null,
            "grid_auto_flow": null,
            "grid_auto_rows": null,
            "grid_column": null,
            "grid_gap": null,
            "grid_row": null,
            "grid_template_areas": null,
            "grid_template_columns": null,
            "grid_template_rows": null,
            "height": null,
            "justify_content": null,
            "justify_items": null,
            "left": null,
            "margin": null,
            "max_height": null,
            "max_width": null,
            "min_height": null,
            "min_width": null,
            "object_fit": null,
            "object_position": null,
            "order": null,
            "overflow": null,
            "overflow_x": null,
            "overflow_y": null,
            "padding": null,
            "right": null,
            "top": null,
            "visibility": null,
            "width": null
          }
        },
        "ebe6527b710e4f8795daf59796c0cf80": {
          "model_module": "@jupyter-widgets/base",
          "model_module_version": "1.2.0",
          "model_name": "LayoutModel",
          "state": {
            "_model_module": "@jupyter-widgets/base",
            "_model_module_version": "1.2.0",
            "_model_name": "LayoutModel",
            "_view_count": null,
            "_view_module": "@jupyter-widgets/base",
            "_view_module_version": "1.2.0",
            "_view_name": "LayoutView",
            "align_content": null,
            "align_items": null,
            "align_self": null,
            "border": null,
            "bottom": null,
            "display": null,
            "flex": null,
            "flex_flow": null,
            "grid_area": null,
            "grid_auto_columns": null,
            "grid_auto_flow": null,
            "grid_auto_rows": null,
            "grid_column": null,
            "grid_gap": null,
            "grid_row": null,
            "grid_template_areas": null,
            "grid_template_columns": null,
            "grid_template_rows": null,
            "height": null,
            "justify_content": null,
            "justify_items": null,
            "left": null,
            "margin": null,
            "max_height": null,
            "max_width": null,
            "min_height": null,
            "min_width": null,
            "object_fit": null,
            "object_position": null,
            "order": null,
            "overflow": null,
            "overflow_x": null,
            "overflow_y": null,
            "padding": null,
            "right": null,
            "top": null,
            "visibility": null,
            "width": null
          }
        },
        "ecde6ab532f24f2c96a152dfd2bd375f": {
          "model_module": "@jupyter-widgets/controls",
          "model_module_version": "1.5.0",
          "model_name": "HTMLModel",
          "state": {
            "_dom_classes": [],
            "_model_module": "@jupyter-widgets/controls",
            "_model_module_version": "1.5.0",
            "_model_name": "HTMLModel",
            "_view_count": null,
            "_view_module": "@jupyter-widgets/controls",
            "_view_module_version": "1.5.0",
            "_view_name": "HTMLView",
            "description": "",
            "description_tooltip": null,
            "layout": "IPY_MODEL_53fddee5118443f981445db7dc01b536",
            "placeholder": "​",
            "style": "IPY_MODEL_2a58e65354ef452da96af11ecf511093",
            "value": "Downloading: 100%"
          }
        },
        "f2ec6d170da04fddbd30356fe1c033e5": {
          "model_module": "@jupyter-widgets/controls",
          "model_module_version": "1.5.0",
          "model_name": "HTMLModel",
          "state": {
            "_dom_classes": [],
            "_model_module": "@jupyter-widgets/controls",
            "_model_module_version": "1.5.0",
            "_model_name": "HTMLModel",
            "_view_count": null,
            "_view_module": "@jupyter-widgets/controls",
            "_view_module_version": "1.5.0",
            "_view_name": "HTMLView",
            "description": "",
            "description_tooltip": null,
            "layout": "IPY_MODEL_7d7ff7f6b0784119a4f03f2839bae232",
            "placeholder": "​",
            "style": "IPY_MODEL_8ab8895a10e7436d87c98cf44c2b849b",
            "value": "Downloading: 100%"
          }
        },
        "f32a8527971e4f5c84fdfbf976327a9a": {
          "model_module": "@jupyter-widgets/base",
          "model_module_version": "1.2.0",
          "model_name": "LayoutModel",
          "state": {
            "_model_module": "@jupyter-widgets/base",
            "_model_module_version": "1.2.0",
            "_model_name": "LayoutModel",
            "_view_count": null,
            "_view_module": "@jupyter-widgets/base",
            "_view_module_version": "1.2.0",
            "_view_name": "LayoutView",
            "align_content": null,
            "align_items": null,
            "align_self": null,
            "border": null,
            "bottom": null,
            "display": null,
            "flex": null,
            "flex_flow": null,
            "grid_area": null,
            "grid_auto_columns": null,
            "grid_auto_flow": null,
            "grid_auto_rows": null,
            "grid_column": null,
            "grid_gap": null,
            "grid_row": null,
            "grid_template_areas": null,
            "grid_template_columns": null,
            "grid_template_rows": null,
            "height": null,
            "justify_content": null,
            "justify_items": null,
            "left": null,
            "margin": null,
            "max_height": null,
            "max_width": null,
            "min_height": null,
            "min_width": null,
            "object_fit": null,
            "object_position": null,
            "order": null,
            "overflow": null,
            "overflow_x": null,
            "overflow_y": null,
            "padding": null,
            "right": null,
            "top": null,
            "visibility": null,
            "width": null
          }
        },
        "f38b6c9dcb594d1d9d752a5f6971a69f": {
          "model_module": "@jupyter-widgets/controls",
          "model_module_version": "1.5.0",
          "model_name": "DescriptionStyleModel",
          "state": {
            "_model_module": "@jupyter-widgets/controls",
            "_model_module_version": "1.5.0",
            "_model_name": "DescriptionStyleModel",
            "_view_count": null,
            "_view_module": "@jupyter-widgets/base",
            "_view_module_version": "1.2.0",
            "_view_name": "StyleView",
            "description_width": ""
          }
        },
        "f3ce5251fecd4ab19a9b9c95f5ac1a0a": {
          "model_module": "@jupyter-widgets/controls",
          "model_module_version": "1.5.0",
          "model_name": "FloatProgressModel",
          "state": {
            "_dom_classes": [],
            "_model_module": "@jupyter-widgets/controls",
            "_model_module_version": "1.5.0",
            "_model_name": "FloatProgressModel",
            "_view_count": null,
            "_view_module": "@jupyter-widgets/controls",
            "_view_module_version": "1.5.0",
            "_view_name": "ProgressView",
            "bar_style": "success",
            "description": "",
            "description_tooltip": null,
            "layout": "IPY_MODEL_d09e05aab9784124850f8ddb84b67c1b",
            "max": 6431878936,
            "min": 0,
            "orientation": "horizontal",
            "style": "IPY_MODEL_86b52f78f38441a5b81cfab905bfd137",
            "value": 6431878936
          }
        },
        "f73d0cd0fa704988922e003a10a9a0fb": {
          "model_module": "@jupyter-widgets/controls",
          "model_module_version": "1.5.0",
          "model_name": "HTMLModel",
          "state": {
            "_dom_classes": [],
            "_model_module": "@jupyter-widgets/controls",
            "_model_module_version": "1.5.0",
            "_model_name": "HTMLModel",
            "_view_count": null,
            "_view_module": "@jupyter-widgets/controls",
            "_view_module_version": "1.5.0",
            "_view_name": "HTMLView",
            "description": "",
            "description_tooltip": null,
            "layout": "IPY_MODEL_9318b9590e574f2891a3249805a776a0",
            "placeholder": "​",
            "style": "IPY_MODEL_ddd8cc15f32849a8910ab0b0d0fa2afc",
            "value": "Downloading: 100%"
          }
        }
      }
    }
  },
  "nbformat": 4,
  "nbformat_minor": 0
}
