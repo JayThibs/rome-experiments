{
  "cells": [
    {
      "cell_type": "markdown",
      "metadata": {
        "colab_type": "text",
        "id": "view-in-github"
      },
      "source": [
        "<a href=\"https://colab.research.google.com/github/JayThibs/rome-experiments/blob/main/notebooks/causal_trace.ipynb\" target=\"_parent\"><img src=\"https://colab.research.google.com/assets/colab-badge.svg\" alt=\"Open In Colab\"/></a>"
      ]
    },
    {
      "cell_type": "markdown",
      "metadata": {
        "id": "zeg7U_MdiI73"
      },
      "source": [
        "<a href=\"https://colab.research.google.com/github/kmeng01/rome/blob/main/notebooks/causal_trace.ipynb\"><img src=\"https://colab.research.google.com/assets/colab-badge.svg\" align=\"left\"/></a>&nbsp;or in a local notebook."
      ]
    },
    {
      "cell_type": "code",
      "execution_count": 1,
      "metadata": {
        "colab": {
          "base_uri": "https://localhost:8080/"
        },
        "id": "PoDQ62jJ4Z9F",
        "outputId": "05be671b-15a8-4e7c-8ffe-7c24bc44365b"
      },
      "outputs": [
        {
          "name": "stdout",
          "output_type": "stream",
          "text": [
            "Mounted at /content/drive\n"
          ]
        }
      ],
      "source": [
        "from google.colab import drive\n",
        "drive.mount('/content/drive')"
      ]
    },
    {
      "cell_type": "code",
      "execution_count": 2,
      "metadata": {
        "colab": {
          "base_uri": "https://localhost:8080/"
        },
        "id": "N-wWzOyv4q4f",
        "outputId": "e09a2824-1630-4b6e-8944-2e0d74d64662"
      },
      "outputs": [
        {
          "name": "stdout",
          "output_type": "stream",
          "text": [
            "/content/drive/MyDrive\n"
          ]
        }
      ],
      "source": [
        "%cd /content/drive/MyDrive"
      ]
    },
    {
      "cell_type": "code",
      "execution_count": 3,
      "metadata": {
        "id": "KHCvZSXjiI76"
      },
      "outputs": [],
      "source": [
        "# %%bash\n",
        "# !(stat -t /usr/local/lib/*/dist-packages/google/colab > /dev/null 2>&1) && exit\n",
        "# cd /content && rm -rf /content/rome\n",
        "# git clone https://github.com/kmeng01/rome rome > install.log 2>&1"
      ]
    },
    {
      "cell_type": "code",
      "execution_count": 4,
      "metadata": {
        "id": "6Y4PA1LMleYl"
      },
      "outputs": [],
      "source": [
        "# !git clone https://github.com/kmeng01/rome"
      ]
    },
    {
      "cell_type": "code",
      "execution_count": 5,
      "metadata": {
        "colab": {
          "base_uri": "https://localhost:8080/"
        },
        "id": "j0pcD1H55jj4",
        "outputId": "3b6ca517-752d-44dc-b424-9dd56c62d8c6"
      },
      "outputs": [
        {
          "name": "stdout",
          "output_type": "stream",
          "text": [
            "  Installing build dependencies ... \u001b[?25l\u001b[?25hdone\n",
            "  Getting requirements to build wheel ... \u001b[?25l\u001b[?25hdone\n",
            "    Preparing wheel metadata ... \u001b[?25l\u001b[?25hdone\n",
            "\u001b[K     |████████████████████████████████| 311 kB 4.3 MB/s \n",
            "\u001b[K     |████████████████████████████████| 3.3 MB 58.2 MB/s \n",
            "\u001b[K     |████████████████████████████████| 120 kB 54.9 MB/s \n",
            "\u001b[K     |████████████████████████████████| 880 kB 43.2 MB/s \n",
            "\u001b[K     |████████████████████████████████| 115 kB 61.7 MB/s \n",
            "\u001b[K     |████████████████████████████████| 212 kB 53.2 MB/s \n",
            "\u001b[?25h  Building wheel for transformers (PEP 517) ... \u001b[?25l\u001b[?25hdone\n",
            "  Building wheel for sacremoses (setup.py) ... \u001b[?25l\u001b[?25hdone\n",
            "\u001b[K     |████████████████████████████████| 106 kB 4.0 MB/s \n",
            "\u001b[K     |████████████████████████████████| 76 kB 4.6 MB/s \n",
            "\u001b[31mERROR: pip's dependency resolver does not currently take into account all the packages that are installed. This behaviour is the source of the following dependency conflicts.\n",
            "google-cloud-translate 1.5.0 requires google-cloud-core<2.0dev,>=1.0.0, but you have google-cloud-core 2.3.2 which is incompatible.\n",
            "google-cloud-firestore 1.7.0 requires google-cloud-core<2.0dev,>=1.0.3, but you have google-cloud-core 2.3.2 which is incompatible.\n",
            "google-cloud-datastore 1.8.0 requires google-cloud-core<2.0dev,>=1.0.0, but you have google-cloud-core 2.3.2 which is incompatible.\n",
            "google-cloud-bigquery 1.21.0 requires google-cloud-core<2.0dev,>=1.0.3, but you have google-cloud-core 2.3.2 which is incompatible.\n",
            "google-cloud-bigquery 1.21.0 requires google-resumable-media!=0.4.0,<0.5.0dev,>=0.3.1, but you have google-resumable-media 2.3.3 which is incompatible.\u001b[0m\n",
            "\u001b[?25h"
          ]
        }
      ],
      "source": [
        "import os\n",
        "os.chdir('rome')\n",
        "!pip install -r /content/drive/MyDrive/rome/scripts/colab_reqs/rome.txt -q\n",
        "!pip install --upgrade google-cloud-storage -q"
      ]
    },
    {
      "cell_type": "code",
      "execution_count": 1,
      "metadata": {
        "id": "_KgBQ4RyiI77"
      },
      "outputs": [],
      "source": [
        "IS_COLAB = False\n",
        "try:\n",
        "    import google.colab, torch, os\n",
        "    IS_COLAB = True\n",
        "    if not torch.cuda.is_available():\n",
        "        raise Exception(\"Change runtime type to include a GPU.\")\n",
        "except ModuleNotFoundError as _:\n",
        "    pass"
      ]
    },
    {
      "cell_type": "markdown",
      "metadata": {
        "id": "3j2Jdir5iI79"
      },
      "source": [
        "# Causal Tracing\n",
        "\n",
        "A demonstration of the double-intervention causal tracing method.\n",
        "\n",
        "The strategy used by causal tracing is to understand important\n",
        "states within a transfomer by doing two interventions simultaneously:\n",
        "\n",
        "1. Corrupt a subset of the input.  In our paper, we corrupt the subject tokens\n",
        "   to frustrate the ability of the transformer to accurately complete factual\n",
        "   prompts about the subject.\n",
        "2. Restore a subset of the internal hidden states.  In our paper, we scan\n",
        "   hidden states at all layers and all tokens, searching for individual states\n",
        "   that carry the necessary information for the transformer to recover its\n",
        "   capability to complete the factual prompt.\n",
        "\n",
        "The traces of decisive states can be shown on a heatmap.  This notebook\n",
        "demonstrates the code for conducting causal traces and creating these heatmaps."
      ]
    },
    {
      "cell_type": "code",
      "execution_count": 2,
      "metadata": {
        "id": "e4EPoaXEiI7-",
        "scrolled": false
      },
      "outputs": [],
      "source": [
        "%load_ext autoreload\n",
        "%autoreload 2"
      ]
    },
    {
      "cell_type": "markdown",
      "metadata": {
        "id": "RpWk3Q-kiI7_"
      },
      "source": [
        "The `experiments.causal_trace` module contains a set of functions for running causal traces.\n",
        "\n",
        "In this notebook, we reproduce, demonstrate and discuss the interesting functions.\n",
        "\n",
        "We begin by importing several utility functions that deal with tokens and transformer models."
      ]
    },
    {
      "cell_type": "code",
      "execution_count": 3,
      "metadata": {
        "id": "Smr7sP8WiI8A",
        "scrolled": false
      },
      "outputs": [],
      "source": [
        "import os, re, json\n",
        "import torch, numpy\n",
        "from transformers import AutoModelForCausalLM, AutoTokenizer\n",
        "from collections import defaultdict\n",
        "from util import nethook\n",
        "from util.globals import DATA_DIR\n",
        "from experiments.causal_trace import ModelAndTokenizer, layername, guess_subject, plot_trace_heatmap\n",
        "from experiments.causal_trace import make_inputs, decode_tokens, find_token_range\n",
        "from experiments.causal_trace import predict_token, predict_from_input\n",
        "from dsets import KnownsDataset"
      ]
    },
    {
      "cell_type": "markdown",
      "metadata": {
        "id": "d-g07UKCiI8B"
      },
      "source": [
        "Now we load a model and tokenizer, and show that it can complete a couple factual statements correctly."
      ]
    },
    {
      "cell_type": "code",
      "execution_count": 4,
      "metadata": {
        "colab": {
          "base_uri": "https://localhost:8080/",
          "height": 195,
          "referenced_widgets": [
            "74427fb2f40140e8a8557c35fcc10ff4",
            "5159b5716f1d40b5989ec24652e01080",
            "13d6d45d033349d99c25cd2c31597e43",
            "9b37c43e55aa47b1ad1630d236518280",
            "1acdaec6e89746a7826263536c4a1d2c",
            "81f1228f55df41d6a11ede56d53cf524",
            "a7905ee3da0d4f1685c9f213580d7182",
            "f4c60f524df5438283a1c3af506261f0",
            "3007a30f1c5444eaa6a1289390631c07",
            "c0be0365fab34f379e5b4089a8157361",
            "a5161709c3c145e9a1a56c880b71511e",
            "e86b7f4a7ccc4dbca9354b02b7cf95eb",
            "dcd7e0ba1e7f4812bc91e15086db9b4b",
            "3cf71f75afda4d1ea6dbc1cff9ec6c84",
            "305156f493b0469a85f534cd2624ab1f",
            "8bdf47384f264b598b6f8ed205514c85",
            "101582fd7c094bc3acaa1f20ce857616",
            "a76dcf732e7046188484ffa890d56514",
            "b39b172cf7b644aeb2f21a851ede02dd",
            "3578d66ec5de48aa860a588e92ae904b",
            "fbaf9708a10d4568bd8a359f69dd92ec",
            "f6b1634d5ead460bb47cccc68ac0b951",
            "9699724f429a45428d16727fc915cb6d",
            "6472ec26374d48c3849f91e24c88fea7",
            "b31fc1004ea84e07baa35f8cd20eb4c8",
            "dc4f480eb2794a67af73d243a1336833",
            "ea348add4ba444698fa19bacf480f733",
            "e7fa5566331a4001ae464e62ae3135bf",
            "5844d6a032a6486385cfff5b6219daec",
            "dc41901a4c384de3a13862ed1d3eeb64",
            "45915720590f46058ed33ebfe93b6561",
            "bb35313e43294783bc0554a8cd4d5bf8",
            "5296e2e6021e4951ad0d50b8fe8c818c",
            "b6345a70f53549218cb8107dae891902",
            "60dc32533ed04cfcacac2a5f95daea45",
            "9822123840ee4bd081199a1eddb01719",
            "240a8aabc4c1437bb4b297b16436f6aa",
            "df8592d4ecba4fe2b707f81245e1836a",
            "267ef50a82774cb18adcccc84d36f31d",
            "50c006ddc87f456e8b7b85bc5d291c13",
            "5d0765fe42ea4b1988aad46dc18cfb17",
            "ef761d1512cf460b8b8f4fd255c374f7",
            "a47e43a0916948d9966f35354ddf0386",
            "c1f7a4721d254c1089962222b1790879",
            "726e940ccec84ea2af885bff491e5a59",
            "2655a972ffe841069914b385e2fad105",
            "41c98cbf71494f158ca8260abfd04e22",
            "0d94c6cbaa114057a53debae0fc8404b",
            "d97f0256cfea4e99ace401e7fda2bebf",
            "7cd2a41705e54c70a6528ee4a0d955c8",
            "2fe3e92acf374c109d738a312c406778",
            "d674ccb4a5904ed1953caaccb588ef0d",
            "22c6e5e2ce9f49128e48edbac842d95f",
            "2b84e0f3ac924b73a0b2123d1d166d1c",
            "975b09163e314f0fb1942a5cf4cb8971"
          ]
        },
        "id": "AcRNrjHXiI8C",
        "outputId": "e09aa004-642b-435f-ecc6-89481918e482",
        "scrolled": true
      },
      "outputs": [
        {
          "data": {
            "text/plain": [
              "([' soccer', ' Seattle'], tensor([0.6870, 0.9229], device='cuda:0'))"
            ]
          },
          "execution_count": 4,
          "metadata": {},
          "output_type": "execute_result"
        }
      ],
      "source": [
        "torch.set_grad_enabled(False)\n",
        "\n",
        "model_name = r\"EleutherAI/gpt-j-6B\"\n",
        "\n",
        "# Note that if you trace other models, you should set noise_level appropriately.\n",
        "# (We use 0.03 for gpt-neox-20b and 0.025 for gpt-j-6b)\n",
        "#model_name = r\"EleutherAI/gpt-neox-20b\"\n",
        "#model_name = r\"EleutherAI/gpt-j-6B\"\n",
        "\n",
        "torch_dtype = torch.float16 if '20b' in model_name else None\n",
        "\n",
        "mt = ModelAndTokenizer(model_name, low_cpu_mem_usage=IS_COLAB, torch_dtype=torch_dtype)\n",
        "predict_token(mt, ['Megan Rapinoe plays the sport of',\n",
        "                   'The Space Needle is in the city of'\n",
        "                  ], return_p=True)"
      ]
    },
    {
      "cell_type": "code",
      "execution_count": 5,
      "metadata": {
        "id": "0BOXyj2qr8QU"
      },
      "outputs": [],
      "source": [
        "prompts = ['Megan Rapinoe plays the sport of']\n",
        "device = 'cuda'\n",
        "token_lists = [mt.tokenizer.encode(p) for p in prompts]\n",
        "maxlen = max(len(t) for t in token_lists)\n",
        "if \"[PAD]\" in mt.tokenizer.all_special_tokens:\n",
        "    pad_id = mt.tokenizer.all_special_ids[mt.tokenizer.all_special_tokens.index(\"[PAD]\")]\n",
        "else:\n",
        "    pad_id = 0\n",
        "input_ids = [[pad_id] * (maxlen - len(t)) + t for t in token_lists]\n",
        "attention_mask = [[0] * (maxlen - len(t)) + [1] * len(t) for t in token_lists]\n",
        "inp = dict(\n",
        "    input_ids=torch.tensor(input_ids).to(device),\n",
        "    #    position_ids=torch.tensor(position_ids).to(device),\n",
        "    attention_mask=torch.tensor(attention_mask).to(device),\n",
        ")"
      ]
    },
    {
      "cell_type": "markdown",
      "metadata": {
        "id": "EEg7QdRBiI8E"
      },
      "source": [
        "## Tracing a single location\n",
        "\n",
        "The core intervention in causal tracing is captured in this function:\n",
        "\n",
        "`trace_with_patch` a single causal trace.\n",
        "\n",
        "It enables running a batch of inferences with two interventions.\n",
        "\n",
        "  1. Random noise can be added to corrupt the inputs of some of the batch.\n",
        "  2. At any point, clean non-noised state can be copied over from an\n",
        "     uncorrupted batch member to other batch members.\n",
        "  \n",
        "The convention used by this function is that the zeroth element of the\n",
        "batch is the uncorrupted run, and the subsequent elements of the batch\n",
        "are the corrupted runs.  The argument tokens_to_mix specifies an\n",
        "be corrupted by adding Gaussian noise to the embedding for the batch\n",
        "inputs other than the first element in the batch.  Alternately,\n",
        "subsequent runs could be corrupted by simply providing different\n",
        "input tokens via the passed input batch.\n",
        "\n",
        "To ensure that corrupted behavior is representative, in practice, we\n",
        "will actually run several (ten) corrupted runs in the same batch,\n",
        "each with its own sample of noise.\n",
        "\n",
        "Then when running, a specified set of hidden states will be uncorrupted\n",
        "by restoring their values to the same vector that they had in the\n",
        "zeroth uncorrupted run.  This set of hidden states is listed in\n",
        "states_to_patch, by listing [(token_index, layername), ...] pairs.\n",
        "To trace the effect of just a single state, this can be just a single\n",
        "token/layer pair.  To trace the effect of restoring a set of states,\n",
        "any number of token indices and layers can be listed.\n",
        "\n",
        "Note that this function is also in experiments.causal_trace; the code\n",
        "is shown here to show the logic."
      ]
    },
    {
      "cell_type": "code",
      "execution_count": 6,
      "metadata": {
        "id": "ejOsaX55iI8F"
      },
      "outputs": [],
      "source": [
        "def trace_with_patch(\n",
        "    model,            # The model\n",
        "    inp,              # A set of inputs\n",
        "    states_to_patch,  # A list of (token index, layername) triples to restore\n",
        "    answers_t,        # Answer probabilities to collect\n",
        "    tokens_to_mix,    # Range of tokens to corrupt (begin, end)\n",
        "    noise=0.1,        # Level of noise to add\n",
        "    trace_layers=None # List of traced outputs to return\n",
        "):\n",
        "    prng = numpy.random.RandomState(1)  # For reproducibility, use pseudorandom noise\n",
        "    patch_spec = defaultdict(list)\n",
        "    for t, l in states_to_patch:\n",
        "        patch_spec[l].append(t)\n",
        "    embed_layername = layername(model, 0, 'embed')\n",
        "    \n",
        "    def untuple(x):\n",
        "        return x[0] if isinstance(x, tuple) else x\n",
        "\n",
        "    # Define the model-patching rule.\n",
        "    def patch_rep(x, layer):\n",
        "        if layer == embed_layername:\n",
        "            # If requested, we corrupt a range of token embeddings on batch items x[1:]\n",
        "            if tokens_to_mix is not None:\n",
        "                b, e = tokens_to_mix\n",
        "                x[1:, b:e] += noise * torch.from_numpy(\n",
        "                    prng.randn(x.shape[0] - 1, e - b, x.shape[2])\n",
        "                ).to(x.device)\n",
        "            return x\n",
        "        if layer not in patch_spec:\n",
        "            return x\n",
        "        # If this layer is in the patch_spec, restore the uncorrupted hidden state\n",
        "        # for selected tokens.\n",
        "        h = untuple(x)\n",
        "        for t in patch_spec[layer]:\n",
        "            h[1:, t] = h[0, t]\n",
        "        return x\n",
        "\n",
        "    # With the patching rules defined, run the patched model in inference.\n",
        "    additional_layers = [] if trace_layers is None else trace_layers\n",
        "    with torch.no_grad(), nethook.TraceDict(\n",
        "        model,\n",
        "        [embed_layername] +\n",
        "            list(patch_spec.keys()) + additional_layers,\n",
        "        edit_output=patch_rep\n",
        "    ) as td:\n",
        "        outputs_exp = model(**inp)\n",
        "\n",
        "    # We report softmax probabilities for the answers_t token predictions of interest.\n",
        "    probs = torch.softmax(outputs_exp.logits[1:, -1, :], dim=1).mean(dim=0)[answers_t]\n",
        "\n",
        "    # If tracing all layers, collect all activations together to return.\n",
        "    if trace_layers is not None:\n",
        "        all_traced = torch.stack(\n",
        "            [untuple(td[layer].output).detach().cpu() for layer in trace_layers], dim=2)\n",
        "        return probs, all_traced\n",
        "\n",
        "    return probs"
      ]
    },
    {
      "cell_type": "markdown",
      "metadata": {
        "id": "kmiMzG9ViI8G"
      },
      "source": [
        "## Scanning all locations\n",
        "\n",
        "A causal flow heatmap is created by repeating `trace_with_patch` at every individual hidden state, and measuring the impact of restoring state at each location.\n",
        "\n",
        "The `calculate_hidden_flow` function does this loop.  It handles both the case of restoring a single hidden state, and also restoring MLP or attention states.  Because MLP and attention make small residual contributions, to observe a causal effect in those cases, we need to restore several layers of contributions at once, which is done by `trace_important_window`."
      ]
    },
    {
      "cell_type": "code",
      "execution_count": 39,
      "metadata": {},
      "outputs": [
        {
          "data": {
            "text/plain": [
              "(50, 100)"
            ]
          },
          "execution_count": 39,
          "metadata": {},
          "output_type": "execute_result"
        }
      ],
      "source": [
        "test = (0, 100)\n",
        "new = (50, test[-1])\n",
        "new"
      ]
    },
    {
      "cell_type": "code",
      "execution_count": 40,
      "metadata": {
        "id": "rdty20cEiI8G"
      },
      "outputs": [],
      "source": [
        "def calculate_hidden_flow(\n",
        "    mt, prompt, subject, samples=10, noise=0.1, window=10, kind=None, remove_context=0\n",
        "):\n",
        "    \"\"\"\n",
        "    Runs causal tracing over every token/layer combination in the network\n",
        "    and returns a dictionary numerically summarizing the results.\n",
        "    \"\"\"\n",
        "    print(f\"Calculating hidden flow for {subject} in {prompt}\")\n",
        "    print(remove_context)\n",
        "    inp = make_inputs(mt.tokenizer, [prompt] * (samples + 1))\n",
        "    with torch.no_grad():\n",
        "        answer_t, base_score = [d[0] for d in predict_from_input(mt.model, inp)]\n",
        "    [answer] = decode_tokens(mt.tokenizer, [answer_t])\n",
        "    e_range = find_token_range(mt.tokenizer, inp[\"input_ids\"][0], subject)\n",
        "    # e_range = (remove_context, e_range[-1])\n",
        "    low_score = trace_with_patch(mt.model, inp, [], answer_t, e_range,\n",
        "            noise=noise).item()\n",
        "    if not kind:\n",
        "        differences = trace_important_states(\n",
        "            mt.model, mt.num_layers, inp, e_range, answer_t, noise=noise, remove_context=remove_context\n",
        "        )\n",
        "    else:\n",
        "        differences = trace_important_window(\n",
        "            mt.model,\n",
        "            mt.num_layers,\n",
        "            inp,\n",
        "            e_range,\n",
        "            answer_t,\n",
        "            noise=noise,\n",
        "            window=window,\n",
        "            kind=kind,\n",
        "            remove_context=remove_context\n",
        "        )\n",
        "    differences = differences.detach().cpu()\n",
        "    return dict(\n",
        "        scores=differences,\n",
        "        low_score=low_score,\n",
        "        high_score=base_score,\n",
        "        input_ids=inp[\"input_ids\"][0],\n",
        "        input_tokens=decode_tokens(mt.tokenizer, inp[\"input_ids\"][0]),\n",
        "        subject_range=e_range,\n",
        "        answer=answer,\n",
        "        window=window,\n",
        "        kind=kind or \"\",\n",
        "    )\n",
        "\n",
        "def trace_important_states(model, num_layers, inp, e_range, answer_t, noise=0.1, remove_context=0):\n",
        "    ntoks = inp[\"input_ids\"].shape[1]\n",
        "    table = []\n",
        "    print('trace_important_states')\n",
        "    print('remove_context', remove_context)\n",
        "    for tnum in range(remove_context, ntoks):\n",
        "        row = []\n",
        "        for layer in range(0, num_layers):\n",
        "            r = trace_with_patch(\n",
        "                model,\n",
        "                inp,\n",
        "                [(tnum, layername(model, layer))],\n",
        "                answer_t,\n",
        "                tokens_to_mix=e_range,\n",
        "                noise=noise,\n",
        "            )\n",
        "            row.append(r)\n",
        "        table.append(torch.stack(row))\n",
        "    return torch.stack(table)\n",
        "\n",
        "\n",
        "def trace_important_window(\n",
        "    model, num_layers, inp, e_range, answer_t, kind, window=10, noise=0.1, remove_context=0\n",
        "):\n",
        "    ntoks = inp[\"input_ids\"].shape[1]\n",
        "    table = []\n",
        "    print('trace_important_window')\n",
        "    print('remove_context', remove_context)\n",
        "    for tnum in range(remove_context, ntoks):\n",
        "        print(\"tnum:\", tnum)\n",
        "        row = []\n",
        "        for layer in range(0, num_layers):\n",
        "            print(\"layer:\", layer)\n",
        "            layerlist = [\n",
        "                (tnum, layername(model, L, kind))\n",
        "                for L in range(\n",
        "                    max(0, layer - window // 2), min(num_layers, layer - (-window // 2))\n",
        "                )\n",
        "            ]\n",
        "            r = trace_with_patch(\n",
        "                model, inp, layerlist, answer_t, tokens_to_mix=e_range, noise=noise\n",
        "            )\n",
        "            row.append(r)\n",
        "        table.append(torch.stack(row))\n",
        "    return torch.stack(table)\n",
        "\n"
      ]
    },
    {
      "cell_type": "markdown",
      "metadata": {
        "id": "TV9CEzw3iI8H"
      },
      "source": [
        "## Plotting the results\n",
        "\n",
        "The `plot_trace_heatmap` function draws the data on a heatmap.  That function is not shown here; it is in `experiments.causal_trace`.\n"
      ]
    },
    {
      "cell_type": "code",
      "execution_count": 44,
      "metadata": {
        "id": "yr_HxNwxiI8I"
      },
      "outputs": [],
      "source": [
        "def plot_hidden_flow(\n",
        "    mt, prompt, subject=None, include_plots=True, samples=10, noise=0.1, window=10, \n",
        "    kind=None, modelname=None, savepdf=None, remove_context=0\n",
        "):\n",
        "    print('plot_hidden_flow')\n",
        "    print('savepdf:', savepdf)\n",
        "    if subject is None:\n",
        "        subject = guess_subject(prompt)\n",
        "    result = calculate_hidden_flow(\n",
        "        mt, prompt, subject, samples=samples, noise=noise, window=window, kind=kind, remove_context=remove_context\n",
        "    )\n",
        "    if include_plots:\n",
        "        print('plot_trace_heatmap')\n",
        "        print('remove_context:', remove_context)\n",
        "        plot_trace_heatmap(result, savepdf, modelname=modelname, remove_context=remove_context)\n",
        "    return result\n",
        "    \n",
        "def plot_flows(mt, prompt, subject=None, plot_num=0, noise=0.1, modelname=None, \n",
        "               plots=[None, \"mlp\", \"attn\"], include_plots=True, savepdf=None, \n",
        "               plotsubset=None, remove_context=0, results_dict={}):\n",
        "    i = plot_num\n",
        "    # print(savepdf)\n",
        "    # print('wtf')\n",
        "    for kind in plots:\n",
        "        if kind is None:\n",
        "            j = \"fully_restored\"\n",
        "        else:\n",
        "            j = kind\n",
        "        if savepdf:\n",
        "            filename = j + \"_\" + savepdf\n",
        "            filepath = plotsubset + filename\n",
        "        print(\"filepath:\", filepath)\n",
        "        if results_dict.get(filename) is None:\n",
        "            results_dict[filename] = {}\n",
        "        print('remove_context:', remove_context)\n",
        "        result = plot_hidden_flow(mt, prompt, subject, include_plots, modelname=modelname,\n",
        "                                  savepdf=filepath, noise=noise, kind=kind, remove_context=remove_context)\n",
        "        results_dict[filename][j] = {}\n",
        "        results_dict[filename][j] = result\n",
        "\n",
        "    return results_dict"
      ]
    },
    {
      "cell_type": "markdown",
      "metadata": {
        "id": "zwI4ggPIiI8J"
      },
      "source": [
        "The following prompt can be changed to any factual statement to trace."
      ]
    },
    {
      "cell_type": "code",
      "execution_count": 19,
      "metadata": {
        "colab": {
          "base_uri": "https://localhost:8080/",
          "height": 54
        },
        "id": "o9IYNmDDZQGX",
        "outputId": "c7b7ad02-fbad-49e0-a136-7849d3df0fe0"
      },
      "outputs": [
        {
          "data": {
            "text/plain": [
              "'This silent film produced by Dadasaheb Torne was released in 18 May 1912 and was the first feature film of this country. And that country was India.\\n\\nThe film was made by'"
            ]
          },
          "execution_count": 19,
          "metadata": {},
          "output_type": "execute_result"
        }
      ],
      "source": [
        "prompt = \"\"\"Q: Take the last letters of the words in \"Elon Musk\" and concatenate them.\n",
        "A: The last letter of \"Elon\" is \"n\". The last letter of \"Musk\" is \"k\". Concatenating them is \"nk\". The answer is nk.\n",
        "Q: Take the last letters of the words in \"Larry Page\" and concatenate them.\n",
        "A: The last letter of \"Larry\" is \"y\". The last letter of \"Page\" is \"e\". Concatenating them is \"ye\". The answer is ye.\n",
        "Q: Take the last letters of the words in \"Sergey Brin\" and concatenate them.\n",
        "A: The last letter of \"Sergey\" is \"y\". The last letter of \"Brin\" is \"n\". Concatenating them is \"yn\". The answer is\n",
        "yn.\n",
        "Q: Take the last letters of the words in \"Bill Gates\" and concatenate them.\n",
        "A: The last letter of \"Bill\" is \"l\". The last letter of \"Gates\" is \"s\". Concatenating them is \"ls\". The answer is\"\"\"\n",
        "\n",
        "prompt = \"\"\"Shree Pundalik, created in the country of his birth,\"\"\"\n",
        "prompt = \"\"\"This silent film produced by Dadasaheb Torne was released in 18 May 1912 and was the first feature film of this country. And that country was\"\"\"\n",
        "# prompt = \"The famous tower people go visit in France is called the\"\n",
        "# prompt = \"The tower named after the engineer Gustave Eiffel is called the\"\n",
        "# prompt = \"The famous tower located located in Paris is called the\"\n",
        "# prompt = \"The Eiffel Tower is located in\"\n",
        "# prompt = \"The famous tower that was built to celebrate the 100th year anniversary of the French Revolution is located in the city of\"\n",
        "\n",
        "subject = \"\"\"The last letter of \"Bill\" is \"l\". The last letter of \"Gates\" is \"s\". Concatenating them is \"ls\".\"\"\"\n",
        "\n",
        "# predict_token(mt, [prompt])\n",
        "device = 'cuda'\n",
        "input = mt.tokenizer(\n",
        "        prompt, add_special_tokens=False, return_tensors=\"pt\"\n",
        "    ).input_ids.to(device)\n",
        "gen_outputs = mt.model.generate(\n",
        "        input,\n",
        "        do_sample=True,\n",
        "        early_stopping=True,\n",
        "        max_length=40,\n",
        "        num_return_sequences=1,\n",
        "        output_scores=True,\n",
        "        return_dict_in_generate=True,\n",
        "        device=device,\n",
        "        # repetition_penalty=1.2,\n",
        "        # length_penalty=0.8,\n",
        "        pad_token_id=mt.tokenizer.eos_token_id,\n",
        "        temperature=0.05\n",
        "    )\n",
        "mt.tokenizer.decode(gen_outputs.sequences[0])\n"
      ]
    },
    {
      "cell_type": "code",
      "execution_count": 28,
      "metadata": {
        "id": "oFWKVnH2fmZa"
      },
      "outputs": [],
      "source": [
        "prompts = [\"\"\"Shree Pundalik, created in the country of his birth,\"\"\",\n",
        "           \"\"\"This silent film produced by Dadasaheb Torne was released in 18 May 1912 and was the first feature film of this country. And that country was\"\"\",\n",
        "           \"The famous tower people go visit in France is called the\",\n",
        "           \"The tower named after the engineer Gustave Eiffel is called the\",\n",
        "           \"The famous tower located located in Paris is called the\",\n",
        "           \"The Eiffel Tower is located in\",\n",
        "           \"The famous tower that was built to celebrate the 100th year anniversary of the French Revolution is located in the city of\",\n",
        "           \"The mother tongue of Danielle Darrieux is\",\n",
        "           \"\"\"The mother tongue of the lead actress from the film 'The Earrings of Madame de' is\"\"\",\n",
        "           \"Iron Man is affiliated with the\",\n",
        "           \"The Marvel hero in the iron suit is affiliated with the\",\n",
        "           \"In Singapore, the language spoken is\",\n",
        "           \"The country where Lee Hsien Loong is the prime minister mainly speaks in\",\n",
        "           ]\n",
        "subjects = [\"Shree Pundalik\",\n",
        "            \"silent film produced by Dadasaheb Torne was released in 18 May 1912\",\n",
        "            \"famous tower people go visit in France\",\n",
        "            \"tower named after the engineer Gustave Eiffel\",\n",
        "            \"famous tower located located in Paris\",\n",
        "            \"Eiffel Tower\",\n",
        "            \"famous tower that was built to celebrate the 100th year anniversary of the French Revolution\",\n",
        "            \"Danielle Darrieux\",\n",
        "            \"lead actress from the film 'The Earrings of Madame de'\",\n",
        "            \"Iron Man\",\n",
        "            \"Marvel hero in the iron suit\",\n",
        "            \"Singapore\",\n",
        "            \"country where Lee Hsien Loong is the prime minister\",\n",
        "            ]\n",
        "\n",
        "# prompts = [\"In the country of Singapore, the main language that is spoken is\"]\n",
        "# subjects = [\"Singapore\"]\n",
        "\n",
        "# prompts = [\"Iron Man is with\"]\n",
        "# subjects = [\"Iron\"]\n",
        "\n",
        "# prompts = [\"\"\"Question: Are more people today related to Genghis Khan than Julius Caesar?\n",
        "# Facts: Julius Caesar had three children. Genghis Khan had sixteen children. Modern geneticists have determined that out of every 200 men today has DNA that can be traced to Genghis Khan. \n",
        "# Answer (True or False): True\n",
        "# \"\"\"]\n",
        "\n",
        "# subjects = []"
      ]
    },
    {
      "cell_type": "code",
      "execution_count": 21,
      "metadata": {
        "colab": {
          "base_uri": "https://localhost:8080/"
        },
        "id": "MfiHxCiv0YTr",
        "outputId": "1611adfd-5ffd-4a8a-cb5b-86d2bd0ab120"
      },
      "outputs": [
        {
          "ename": "FileNotFoundError",
          "evalue": "[Errno 2] No such file or directory: './data/good_sqa_gpt2.json'",
          "output_type": "error",
          "traceback": [
            "\u001b[0;31m---------------------------------------------------------------------------\u001b[0m",
            "\u001b[0;31mFileNotFoundError\u001b[0m                         Traceback (most recent call last)",
            "\u001b[1;32m/home/jacquesthibodeau/rome-experiments/notebooks/causal_trace.ipynb Cell 25\u001b[0m in \u001b[0;36m<module>\u001b[0;34m\u001b[0m\n\u001b[1;32m      <a href='vscode-notebook-cell://ssh-remote%2Bgpt-j-rome.us-east1-b.mats-355413/home/jacquesthibodeau/rome-experiments/notebooks/causal_trace.ipynb#Y214sdnNjb2RlLXJlbW90ZQ%3D%3D?line=0'>1</a>\u001b[0m \u001b[39mimport\u001b[39;00m \u001b[39mjson\u001b[39;00m\n\u001b[1;32m      <a href='vscode-notebook-cell://ssh-remote%2Bgpt-j-rome.us-east1-b.mats-355413/home/jacquesthibodeau/rome-experiments/notebooks/causal_trace.ipynb#Y214sdnNjb2RlLXJlbW90ZQ%3D%3D?line=1'>2</a>\u001b[0m os\u001b[39m.\u001b[39mchdir(\u001b[39m\"\u001b[39m\u001b[39m..\u001b[39m\u001b[39m\"\u001b[39m)\n\u001b[0;32m----> <a href='vscode-notebook-cell://ssh-remote%2Bgpt-j-rome.us-east1-b.mats-355413/home/jacquesthibodeau/rome-experiments/notebooks/causal_trace.ipynb#Y214sdnNjb2RlLXJlbW90ZQ%3D%3D?line=2'>3</a>\u001b[0m \u001b[39mwith\u001b[39;00m \u001b[39mopen\u001b[39;49m(\u001b[39m\"\u001b[39;49m\u001b[39m./data/good_sqa_gpt2.json\u001b[39;49m\u001b[39m\"\u001b[39;49m) \u001b[39mas\u001b[39;00m f:\n\u001b[1;32m      <a href='vscode-notebook-cell://ssh-remote%2Bgpt-j-rome.us-east1-b.mats-355413/home/jacquesthibodeau/rome-experiments/notebooks/causal_trace.ipynb#Y214sdnNjb2RlLXJlbW90ZQ%3D%3D?line=3'>4</a>\u001b[0m     good_sqa \u001b[39m=\u001b[39m json\u001b[39m.\u001b[39mload(f)\n\u001b[1;32m      <a href='vscode-notebook-cell://ssh-remote%2Bgpt-j-rome.us-east1-b.mats-355413/home/jacquesthibodeau/rome-experiments/notebooks/causal_trace.ipynb#Y214sdnNjb2RlLXJlbW90ZQ%3D%3D?line=5'>6</a>\u001b[0m good_sqa[\u001b[39m'\u001b[39m\u001b[39m0\u001b[39m\u001b[39m'\u001b[39m]\n",
            "\u001b[0;31mFileNotFoundError\u001b[0m: [Errno 2] No such file or directory: './data/good_sqa_gpt2.json'"
          ]
        }
      ],
      "source": [
        "import json\n",
        "os.chdir(\"..\")\n",
        "with open(\"./data/good_sqa_gpt2.json\") as f:\n",
        "    good_sqa = json.load(f)\n",
        "\n",
        "good_sqa['0']"
      ]
    },
    {
      "cell_type": "code",
      "execution_count": 34,
      "metadata": {},
      "outputs": [
        {
          "data": {
            "text/plain": [
              "{'qid': '7419826e4373eb1e83ff',\n",
              " 'term': 'Grey seal',\n",
              " 'description': 'species of seal',\n",
              " 'question': 'Would a dog respond to bell before Grey seal?',\n",
              " 'answer': True,\n",
              " 'facts': ['Grey seals have no ear flaps and their ears canals are filled with wax.',\n",
              "  'Grey seals hear better underwater when their ears open like a valve.',\n",
              "  'Dogs have sensitive ears that can hear as far as a quarter of a mile away.'],\n",
              " 'decomposition': [\"How sensitive is a grey seal's hearing on land?\",\n",
              "  \"How sensitive is a dog's hearing on land?\",\n",
              "  'Is #2 better than #1?'],\n",
              " 'evidence': [[[['Pinniped-24']],\n",
              "   [['Hearing range-11', 'Hertz-5']],\n",
              "   ['operation']],\n",
              "  [[['Grey seal-1'], 'no_evidence'],\n",
              "   [['Dog-54'], 'no_evidence'],\n",
              "   ['no_evidence', 'operation']],\n",
              "  [[['Grey seal-1'], 'no_evidence'], [['Dog anatomy-114']], ['operation']]],\n",
              " 'first_generated_token': 'True',\n",
              " 'gpt2_main_completion': ' True\\nQuestion: What is the longest distance a dog can travel in one day?\\nFacts: A dog can travel up to 100 miles in one day.\\nAnswer (True or False): True\\nQuestion: What is the longest distance a dog can travel in one day?\\nFacts: A dog',\n",
              " 'ct_prompt': 'Question: Are more people today related to Genghis Khan than Julius Caesar?\\nFacts: Julius Caesar had three children. Genghis Khan had sixteen children. Modern geneticists have determined that out of every 200 men today has DNA that can be traced to Genghis Khan.\\nAnswer (True or False): True\\nQuestion: Would a dog respond to bell before Grey seal?\\nFacts: Grey seals have no ear flaps and their ears canals are filled with wax. Grey seals hear better underwater when their ears open like a valve. Dogs have sensitive ears that can hear as far as a quarter of a mile away.\\nAnswer (True or False):',\n",
              " 'good_gpt2_prompt': True,\n",
              " 'token_probs': [[' True', '1.0'],\n",
              "  ['\\n', '1.0'],\n",
              "  ['Question', '1.0'],\n",
              "  [':', '1.0'],\n",
              "  [' What', '0.9998229'],\n",
              "  [' is', '1.0'],\n",
              "  [' the', '1.0'],\n",
              "  [' longest', '0.9275269'],\n",
              "  [' distance', '1.0'],\n",
              "  [' a', '0.99992764'],\n",
              "  [' dog', '0.97145456'],\n",
              "  [' can', '1.0'],\n",
              "  [' travel', '0.9906508'],\n",
              "  [' in', '0.97518855'],\n",
              "  [' one', '0.9999696'],\n",
              "  [' day', '1.0'],\n",
              "  ['?', '1.0'],\n",
              "  ['\\n', '1.0'],\n",
              "  ['F', '1.0'],\n",
              "  ['acts', '1.0'],\n",
              "  [':', '1.0'],\n",
              "  [' A', '0.99997425'],\n",
              "  [' dog', '1.0'],\n",
              "  [' can', '1.0'],\n",
              "  [' travel', '1.0'],\n",
              "  [' up', '0.99981517'],\n",
              "  [' to', '1.0'],\n",
              "  [' 100', '0.9668751'],\n",
              "  [' miles', '1.0'],\n",
              "  [' in', '1.0'],\n",
              "  [' one', '0.99999607'],\n",
              "  [' day', '1.0'],\n",
              "  ['.', '1.0'],\n",
              "  ['\\n', '0.99999905'],\n",
              "  ['Answer', '1.0'],\n",
              "  [' (', '1.0'],\n",
              "  ['True', '1.0'],\n",
              "  [' or', '1.0'],\n",
              "  [' False', '1.0'],\n",
              "  ['):', '1.0'],\n",
              "  [' True', '1.0'],\n",
              "  ['\\n', '1.0'],\n",
              "  ['Question', '1.0'],\n",
              "  [':', '1.0'],\n",
              "  [' What', '1.0'],\n",
              "  [' is', '1.0'],\n",
              "  [' the', '1.0'],\n",
              "  [' longest', '1.0'],\n",
              "  [' distance', '1.0'],\n",
              "  [' a', '1.0'],\n",
              "  [' dog', '1.0'],\n",
              "  [' can', '1.0'],\n",
              "  [' travel', '1.0'],\n",
              "  [' in', '1.0'],\n",
              "  [' one', '1.0'],\n",
              "  [' day', '0.9999261'],\n",
              "  ['?', '1.0'],\n",
              "  ['\\n', '1.0'],\n",
              "  ['F', '1.0'],\n",
              "  ['acts', '1.0'],\n",
              "  [':', '1.0'],\n",
              "  [' A', '1.0'],\n",
              "  [' dog', '1.0']],\n",
              " 'ct_subject': 'Grey seals have no ear flaps and their ears canals are filled with wax. Grey seals hear better underwater when their ears open like a valve. Dogs have sensitive ears that can hear as far as a quarter of a mile away.'}"
            ]
          },
          "execution_count": 34,
          "metadata": {},
          "output_type": "execute_result"
        }
      ],
      "source": [
        "good_sqa['0']"
      ]
    },
    {
      "cell_type": "code",
      "execution_count": 45,
      "metadata": {
        "id": "08zLM6TZ14Wo"
      },
      "outputs": [],
      "source": [
        "results_dict = {}"
      ]
    },
    {
      "cell_type": "code",
      "execution_count": 46,
      "metadata": {
        "colab": {
          "base_uri": "https://localhost:8080/"
        },
        "id": "I-imPk-_iI8J",
        "outputId": "9715a7ee-7f6e-47f7-d451-aba6d469eb0f"
      },
      "outputs": [
        {
          "name": "stderr",
          "output_type": "stream",
          "text": [
            "  0%|          | 0/1070 [00:00<?, ?it/s]"
          ]
        },
        {
          "name": "stdout",
          "output_type": "stream",
          "text": [
            "subject: Grey seals have no ear flaps and their ears canals are filled with wax. Grey seals hear better underwater when their ears open like a valve. Dogs have sensitive ears that can hear as far as a quarter of a mile away.\n",
            "prompt: Question: Are more people today related to Genghis Khan than Julius Caesar?\n",
            "Facts: Julius Caesar had three children. Genghis Khan had sixteen children. Modern geneticists have determined that out of every 200 men today has DNA that can be traced to Genghis Khan.\n",
            "Answer (True or False): True\n",
            "Question: Would a dog respond to bell before Grey seal?\n",
            "Facts: Grey seals have no ear flaps and their ears canals are filled with wax. Grey seals hear better underwater when their ears open like a valve. Dogs have sensitive ears that can hear as far as a quarter of a mile away.\n",
            "Answer (True or False):\n",
            "1p0_Grey_seals_have_no_ear_flaps_and_the\n",
            "filepath: ./data/good_cot_sqa/fully_restored_1p0_Grey_seals_have_no_ear_flaps_and_the\n",
            "remove_context: 67\n",
            "plot_hidden_flow\n",
            "savepdf: ./data/good_cot_sqa/fully_restored_1p0_Grey_seals_have_no_ear_flaps_and_the\n",
            "Calculating hidden flow for Grey seals have no ear flaps and their ears canals are filled with wax. Grey seals hear better underwater when their ears open like a valve. Dogs have sensitive ears that can hear as far as a quarter of a mile away. in Question: Are more people today related to Genghis Khan than Julius Caesar?\n",
            "Facts: Julius Caesar had three children. Genghis Khan had sixteen children. Modern geneticists have determined that out of every 200 men today has DNA that can be traced to Genghis Khan.\n",
            "Answer (True or False): True\n",
            "Question: Would a dog respond to bell before Grey seal?\n",
            "Facts: Grey seals have no ear flaps and their ears canals are filled with wax. Grey seals hear better underwater when their ears open like a valve. Dogs have sensitive ears that can hear as far as a quarter of a mile away.\n",
            "Answer (True or False):\n",
            "67\n",
            "Grey seals have no ear flaps and their ears canals are filled with wax. Grey seals hear better underwater when their ears open like a valve. Dogs have sensitive ears that can hear as far as a quarter of a mile away.\n",
            "trace_important_states\n",
            "remove_context 0\n"
          ]
        },
        {
          "name": "stderr",
          "output_type": "stream",
          "text": [
            "  0%|          | 0/1070 [00:06<?, ?it/s]\n"
          ]
        },
        {
          "ename": "KeyboardInterrupt",
          "evalue": "",
          "output_type": "error",
          "traceback": [
            "\u001b[0;31m---------------------------------------------------------------------------\u001b[0m",
            "\u001b[0;31mKeyboardInterrupt\u001b[0m                         Traceback (most recent call last)",
            "\u001b[1;32m/home/jacquesthibodeau/rome-experiments/notebooks/causal_trace.ipynb Cell 29\u001b[0m in \u001b[0;36m<module>\u001b[0;34m\u001b[0m\n\u001b[1;32m     <a href='vscode-notebook-cell://ssh-remote%2Bgpt-j-rome.us-east1-b.mats-355413/home/jacquesthibodeau/rome-experiments/notebooks/causal_trace.ipynb#Y216sdnNjb2RlLXJlbW90ZQ%3D%3D?line=49'>50</a>\u001b[0m pdf_name \u001b[39m=\u001b[39m re\u001b[39m.\u001b[39msub(\u001b[39m'\u001b[39m\u001b[39m[^0-9a-zA-Z]\u001b[39m\u001b[39m'\u001b[39m, \u001b[39m'\u001b[39m\u001b[39m_\u001b[39m\u001b[39m'\u001b[39m, pdf_name)[:\u001b[39m40\u001b[39m]\n\u001b[1;32m     <a href='vscode-notebook-cell://ssh-remote%2Bgpt-j-rome.us-east1-b.mats-355413/home/jacquesthibodeau/rome-experiments/notebooks/causal_trace.ipynb#Y216sdnNjb2RlLXJlbW90ZQ%3D%3D?line=50'>51</a>\u001b[0m \u001b[39mprint\u001b[39m(pdf_name)\n\u001b[0;32m---> <a href='vscode-notebook-cell://ssh-remote%2Bgpt-j-rome.us-east1-b.mats-355413/home/jacquesthibodeau/rome-experiments/notebooks/causal_trace.ipynb#Y216sdnNjb2RlLXJlbW90ZQ%3D%3D?line=51'>52</a>\u001b[0m results_dict \u001b[39m=\u001b[39m plot_flows(mt, prompt, subject, plot_num\u001b[39m=\u001b[39;49mi,\n\u001b[1;32m     <a href='vscode-notebook-cell://ssh-remote%2Bgpt-j-rome.us-east1-b.mats-355413/home/jacquesthibodeau/rome-experiments/notebooks/causal_trace.ipynb#Y216sdnNjb2RlLXJlbW90ZQ%3D%3D?line=52'>53</a>\u001b[0m                         include_plots\u001b[39m=\u001b[39;49m\u001b[39mTrue\u001b[39;49;00m, savepdf\u001b[39m=\u001b[39;49mpdf_name, \n\u001b[1;32m     <a href='vscode-notebook-cell://ssh-remote%2Bgpt-j-rome.us-east1-b.mats-355413/home/jacquesthibodeau/rome-experiments/notebooks/causal_trace.ipynb#Y216sdnNjb2RlLXJlbW90ZQ%3D%3D?line=53'>54</a>\u001b[0m                         plotsubset\u001b[39m=\u001b[39;49mplotsubset, results_dict\u001b[39m=\u001b[39;49mresults_dict,\n\u001b[1;32m     <a href='vscode-notebook-cell://ssh-remote%2Bgpt-j-rome.us-east1-b.mats-355413/home/jacquesthibodeau/rome-experiments/notebooks/causal_trace.ipynb#Y216sdnNjb2RlLXJlbW90ZQ%3D%3D?line=54'>55</a>\u001b[0m                         remove_context\u001b[39m=\u001b[39;49m\u001b[39m67\u001b[39;49m)\n",
            "\u001b[1;32m/home/jacquesthibodeau/rome-experiments/notebooks/causal_trace.ipynb Cell 29\u001b[0m in \u001b[0;36mplot_flows\u001b[0;34m(mt, prompt, subject, plot_num, noise, modelname, plots, include_plots, savepdf, plotsubset, remove_context, results_dict)\u001b[0m\n\u001b[1;32m     <a href='vscode-notebook-cell://ssh-remote%2Bgpt-j-rome.us-east1-b.mats-355413/home/jacquesthibodeau/rome-experiments/notebooks/causal_trace.ipynb#Y216sdnNjb2RlLXJlbW90ZQ%3D%3D?line=33'>34</a>\u001b[0m     results_dict[filename] \u001b[39m=\u001b[39m {}\n\u001b[1;32m     <a href='vscode-notebook-cell://ssh-remote%2Bgpt-j-rome.us-east1-b.mats-355413/home/jacquesthibodeau/rome-experiments/notebooks/causal_trace.ipynb#Y216sdnNjb2RlLXJlbW90ZQ%3D%3D?line=34'>35</a>\u001b[0m \u001b[39mprint\u001b[39m(\u001b[39m'\u001b[39m\u001b[39mremove_context:\u001b[39m\u001b[39m'\u001b[39m, remove_context)\n\u001b[0;32m---> <a href='vscode-notebook-cell://ssh-remote%2Bgpt-j-rome.us-east1-b.mats-355413/home/jacquesthibodeau/rome-experiments/notebooks/causal_trace.ipynb#Y216sdnNjb2RlLXJlbW90ZQ%3D%3D?line=35'>36</a>\u001b[0m result \u001b[39m=\u001b[39m plot_hidden_flow(mt, prompt, subject, include_plots, modelname\u001b[39m=\u001b[39;49mmodelname,\n\u001b[1;32m     <a href='vscode-notebook-cell://ssh-remote%2Bgpt-j-rome.us-east1-b.mats-355413/home/jacquesthibodeau/rome-experiments/notebooks/causal_trace.ipynb#Y216sdnNjb2RlLXJlbW90ZQ%3D%3D?line=36'>37</a>\u001b[0m                           savepdf\u001b[39m=\u001b[39;49mfilepath, noise\u001b[39m=\u001b[39;49mnoise, kind\u001b[39m=\u001b[39;49mkind, remove_context\u001b[39m=\u001b[39;49mremove_context)\n\u001b[1;32m     <a href='vscode-notebook-cell://ssh-remote%2Bgpt-j-rome.us-east1-b.mats-355413/home/jacquesthibodeau/rome-experiments/notebooks/causal_trace.ipynb#Y216sdnNjb2RlLXJlbW90ZQ%3D%3D?line=37'>38</a>\u001b[0m results_dict[filename][j] \u001b[39m=\u001b[39m {}\n\u001b[1;32m     <a href='vscode-notebook-cell://ssh-remote%2Bgpt-j-rome.us-east1-b.mats-355413/home/jacquesthibodeau/rome-experiments/notebooks/causal_trace.ipynb#Y216sdnNjb2RlLXJlbW90ZQ%3D%3D?line=38'>39</a>\u001b[0m results_dict[filename][j] \u001b[39m=\u001b[39m result\n",
            "\u001b[1;32m/home/jacquesthibodeau/rome-experiments/notebooks/causal_trace.ipynb Cell 29\u001b[0m in \u001b[0;36mplot_hidden_flow\u001b[0;34m(mt, prompt, subject, include_plots, samples, noise, window, kind, modelname, savepdf, remove_context)\u001b[0m\n\u001b[1;32m      <a href='vscode-notebook-cell://ssh-remote%2Bgpt-j-rome.us-east1-b.mats-355413/home/jacquesthibodeau/rome-experiments/notebooks/causal_trace.ipynb#Y216sdnNjb2RlLXJlbW90ZQ%3D%3D?line=6'>7</a>\u001b[0m \u001b[39mif\u001b[39;00m subject \u001b[39mis\u001b[39;00m \u001b[39mNone\u001b[39;00m:\n\u001b[1;32m      <a href='vscode-notebook-cell://ssh-remote%2Bgpt-j-rome.us-east1-b.mats-355413/home/jacquesthibodeau/rome-experiments/notebooks/causal_trace.ipynb#Y216sdnNjb2RlLXJlbW90ZQ%3D%3D?line=7'>8</a>\u001b[0m     subject \u001b[39m=\u001b[39m guess_subject(prompt)\n\u001b[0;32m----> <a href='vscode-notebook-cell://ssh-remote%2Bgpt-j-rome.us-east1-b.mats-355413/home/jacquesthibodeau/rome-experiments/notebooks/causal_trace.ipynb#Y216sdnNjb2RlLXJlbW90ZQ%3D%3D?line=8'>9</a>\u001b[0m result \u001b[39m=\u001b[39m calculate_hidden_flow(\n\u001b[1;32m     <a href='vscode-notebook-cell://ssh-remote%2Bgpt-j-rome.us-east1-b.mats-355413/home/jacquesthibodeau/rome-experiments/notebooks/causal_trace.ipynb#Y216sdnNjb2RlLXJlbW90ZQ%3D%3D?line=9'>10</a>\u001b[0m     mt, prompt, subject, samples\u001b[39m=\u001b[39;49msamples, noise\u001b[39m=\u001b[39;49mnoise, window\u001b[39m=\u001b[39;49mwindow, kind\u001b[39m=\u001b[39;49mkind, remove_context\u001b[39m=\u001b[39;49mremove_context\n\u001b[1;32m     <a href='vscode-notebook-cell://ssh-remote%2Bgpt-j-rome.us-east1-b.mats-355413/home/jacquesthibodeau/rome-experiments/notebooks/causal_trace.ipynb#Y216sdnNjb2RlLXJlbW90ZQ%3D%3D?line=10'>11</a>\u001b[0m )\n\u001b[1;32m     <a href='vscode-notebook-cell://ssh-remote%2Bgpt-j-rome.us-east1-b.mats-355413/home/jacquesthibodeau/rome-experiments/notebooks/causal_trace.ipynb#Y216sdnNjb2RlLXJlbW90ZQ%3D%3D?line=11'>12</a>\u001b[0m \u001b[39mif\u001b[39;00m include_plots:\n\u001b[1;32m     <a href='vscode-notebook-cell://ssh-remote%2Bgpt-j-rome.us-east1-b.mats-355413/home/jacquesthibodeau/rome-experiments/notebooks/causal_trace.ipynb#Y216sdnNjb2RlLXJlbW90ZQ%3D%3D?line=12'>13</a>\u001b[0m     \u001b[39mprint\u001b[39m(\u001b[39m'\u001b[39m\u001b[39mplot_trace_heatmap\u001b[39m\u001b[39m'\u001b[39m)\n",
            "\u001b[1;32m/home/jacquesthibodeau/rome-experiments/notebooks/causal_trace.ipynb Cell 29\u001b[0m in \u001b[0;36mcalculate_hidden_flow\u001b[0;34m(mt, prompt, subject, samples, noise, window, kind, remove_context)\u001b[0m\n\u001b[1;32m     <a href='vscode-notebook-cell://ssh-remote%2Bgpt-j-rome.us-east1-b.mats-355413/home/jacquesthibodeau/rome-experiments/notebooks/causal_trace.ipynb#Y216sdnNjb2RlLXJlbW90ZQ%3D%3D?line=15'>16</a>\u001b[0m low_score \u001b[39m=\u001b[39m trace_with_patch(mt\u001b[39m.\u001b[39mmodel, inp, [], answer_t, e_range,\n\u001b[1;32m     <a href='vscode-notebook-cell://ssh-remote%2Bgpt-j-rome.us-east1-b.mats-355413/home/jacquesthibodeau/rome-experiments/notebooks/causal_trace.ipynb#Y216sdnNjb2RlLXJlbW90ZQ%3D%3D?line=16'>17</a>\u001b[0m         noise\u001b[39m=\u001b[39mnoise)\u001b[39m.\u001b[39mitem()\n\u001b[1;32m     <a href='vscode-notebook-cell://ssh-remote%2Bgpt-j-rome.us-east1-b.mats-355413/home/jacquesthibodeau/rome-experiments/notebooks/causal_trace.ipynb#Y216sdnNjb2RlLXJlbW90ZQ%3D%3D?line=17'>18</a>\u001b[0m \u001b[39mif\u001b[39;00m \u001b[39mnot\u001b[39;00m kind:\n\u001b[0;32m---> <a href='vscode-notebook-cell://ssh-remote%2Bgpt-j-rome.us-east1-b.mats-355413/home/jacquesthibodeau/rome-experiments/notebooks/causal_trace.ipynb#Y216sdnNjb2RlLXJlbW90ZQ%3D%3D?line=18'>19</a>\u001b[0m     differences \u001b[39m=\u001b[39m trace_important_states(\n\u001b[1;32m     <a href='vscode-notebook-cell://ssh-remote%2Bgpt-j-rome.us-east1-b.mats-355413/home/jacquesthibodeau/rome-experiments/notebooks/causal_trace.ipynb#Y216sdnNjb2RlLXJlbW90ZQ%3D%3D?line=19'>20</a>\u001b[0m         mt\u001b[39m.\u001b[39;49mmodel, mt\u001b[39m.\u001b[39;49mnum_layers, inp, e_range, answer_t, noise\u001b[39m=\u001b[39;49mnoise\n\u001b[1;32m     <a href='vscode-notebook-cell://ssh-remote%2Bgpt-j-rome.us-east1-b.mats-355413/home/jacquesthibodeau/rome-experiments/notebooks/causal_trace.ipynb#Y216sdnNjb2RlLXJlbW90ZQ%3D%3D?line=20'>21</a>\u001b[0m     )\n\u001b[1;32m     <a href='vscode-notebook-cell://ssh-remote%2Bgpt-j-rome.us-east1-b.mats-355413/home/jacquesthibodeau/rome-experiments/notebooks/causal_trace.ipynb#Y216sdnNjb2RlLXJlbW90ZQ%3D%3D?line=21'>22</a>\u001b[0m \u001b[39melse\u001b[39;00m:\n\u001b[1;32m     <a href='vscode-notebook-cell://ssh-remote%2Bgpt-j-rome.us-east1-b.mats-355413/home/jacquesthibodeau/rome-experiments/notebooks/causal_trace.ipynb#Y216sdnNjb2RlLXJlbW90ZQ%3D%3D?line=22'>23</a>\u001b[0m     differences \u001b[39m=\u001b[39m trace_important_window(\n\u001b[1;32m     <a href='vscode-notebook-cell://ssh-remote%2Bgpt-j-rome.us-east1-b.mats-355413/home/jacquesthibodeau/rome-experiments/notebooks/causal_trace.ipynb#Y216sdnNjb2RlLXJlbW90ZQ%3D%3D?line=23'>24</a>\u001b[0m         mt\u001b[39m.\u001b[39mmodel,\n\u001b[1;32m     <a href='vscode-notebook-cell://ssh-remote%2Bgpt-j-rome.us-east1-b.mats-355413/home/jacquesthibodeau/rome-experiments/notebooks/causal_trace.ipynb#Y216sdnNjb2RlLXJlbW90ZQ%3D%3D?line=24'>25</a>\u001b[0m         mt\u001b[39m.\u001b[39mnum_layers,\n\u001b[0;32m   (...)\u001b[0m\n\u001b[1;32m     <a href='vscode-notebook-cell://ssh-remote%2Bgpt-j-rome.us-east1-b.mats-355413/home/jacquesthibodeau/rome-experiments/notebooks/causal_trace.ipynb#Y216sdnNjb2RlLXJlbW90ZQ%3D%3D?line=30'>31</a>\u001b[0m         kind\u001b[39m=\u001b[39mkind,\n\u001b[1;32m     <a href='vscode-notebook-cell://ssh-remote%2Bgpt-j-rome.us-east1-b.mats-355413/home/jacquesthibodeau/rome-experiments/notebooks/causal_trace.ipynb#Y216sdnNjb2RlLXJlbW90ZQ%3D%3D?line=31'>32</a>\u001b[0m     )\n",
            "\u001b[1;32m/home/jacquesthibodeau/rome-experiments/notebooks/causal_trace.ipynb Cell 29\u001b[0m in \u001b[0;36mtrace_important_states\u001b[0;34m(model, num_layers, inp, e_range, answer_t, noise, remove_context)\u001b[0m\n\u001b[1;32m     <a href='vscode-notebook-cell://ssh-remote%2Bgpt-j-rome.us-east1-b.mats-355413/home/jacquesthibodeau/rome-experiments/notebooks/causal_trace.ipynb#Y216sdnNjb2RlLXJlbW90ZQ%3D%3D?line=51'>52</a>\u001b[0m row \u001b[39m=\u001b[39m []\n\u001b[1;32m     <a href='vscode-notebook-cell://ssh-remote%2Bgpt-j-rome.us-east1-b.mats-355413/home/jacquesthibodeau/rome-experiments/notebooks/causal_trace.ipynb#Y216sdnNjb2RlLXJlbW90ZQ%3D%3D?line=52'>53</a>\u001b[0m \u001b[39mfor\u001b[39;00m layer \u001b[39min\u001b[39;00m \u001b[39mrange\u001b[39m(\u001b[39m0\u001b[39m, num_layers):\n\u001b[0;32m---> <a href='vscode-notebook-cell://ssh-remote%2Bgpt-j-rome.us-east1-b.mats-355413/home/jacquesthibodeau/rome-experiments/notebooks/causal_trace.ipynb#Y216sdnNjb2RlLXJlbW90ZQ%3D%3D?line=53'>54</a>\u001b[0m     r \u001b[39m=\u001b[39m trace_with_patch(\n\u001b[1;32m     <a href='vscode-notebook-cell://ssh-remote%2Bgpt-j-rome.us-east1-b.mats-355413/home/jacquesthibodeau/rome-experiments/notebooks/causal_trace.ipynb#Y216sdnNjb2RlLXJlbW90ZQ%3D%3D?line=54'>55</a>\u001b[0m         model,\n\u001b[1;32m     <a href='vscode-notebook-cell://ssh-remote%2Bgpt-j-rome.us-east1-b.mats-355413/home/jacquesthibodeau/rome-experiments/notebooks/causal_trace.ipynb#Y216sdnNjb2RlLXJlbW90ZQ%3D%3D?line=55'>56</a>\u001b[0m         inp,\n\u001b[1;32m     <a href='vscode-notebook-cell://ssh-remote%2Bgpt-j-rome.us-east1-b.mats-355413/home/jacquesthibodeau/rome-experiments/notebooks/causal_trace.ipynb#Y216sdnNjb2RlLXJlbW90ZQ%3D%3D?line=56'>57</a>\u001b[0m         [(tnum, layername(model, layer))],\n\u001b[1;32m     <a href='vscode-notebook-cell://ssh-remote%2Bgpt-j-rome.us-east1-b.mats-355413/home/jacquesthibodeau/rome-experiments/notebooks/causal_trace.ipynb#Y216sdnNjb2RlLXJlbW90ZQ%3D%3D?line=57'>58</a>\u001b[0m         answer_t,\n\u001b[1;32m     <a href='vscode-notebook-cell://ssh-remote%2Bgpt-j-rome.us-east1-b.mats-355413/home/jacquesthibodeau/rome-experiments/notebooks/causal_trace.ipynb#Y216sdnNjb2RlLXJlbW90ZQ%3D%3D?line=58'>59</a>\u001b[0m         tokens_to_mix\u001b[39m=\u001b[39;49me_range,\n\u001b[1;32m     <a href='vscode-notebook-cell://ssh-remote%2Bgpt-j-rome.us-east1-b.mats-355413/home/jacquesthibodeau/rome-experiments/notebooks/causal_trace.ipynb#Y216sdnNjb2RlLXJlbW90ZQ%3D%3D?line=59'>60</a>\u001b[0m         noise\u001b[39m=\u001b[39;49mnoise,\n\u001b[1;32m     <a href='vscode-notebook-cell://ssh-remote%2Bgpt-j-rome.us-east1-b.mats-355413/home/jacquesthibodeau/rome-experiments/notebooks/causal_trace.ipynb#Y216sdnNjb2RlLXJlbW90ZQ%3D%3D?line=60'>61</a>\u001b[0m     )\n\u001b[1;32m     <a href='vscode-notebook-cell://ssh-remote%2Bgpt-j-rome.us-east1-b.mats-355413/home/jacquesthibodeau/rome-experiments/notebooks/causal_trace.ipynb#Y216sdnNjb2RlLXJlbW90ZQ%3D%3D?line=61'>62</a>\u001b[0m     row\u001b[39m.\u001b[39mappend(r)\n\u001b[1;32m     <a href='vscode-notebook-cell://ssh-remote%2Bgpt-j-rome.us-east1-b.mats-355413/home/jacquesthibodeau/rome-experiments/notebooks/causal_trace.ipynb#Y216sdnNjb2RlLXJlbW90ZQ%3D%3D?line=62'>63</a>\u001b[0m table\u001b[39m.\u001b[39mappend(torch\u001b[39m.\u001b[39mstack(row))\n",
            "\u001b[1;32m/home/jacquesthibodeau/rome-experiments/notebooks/causal_trace.ipynb Cell 29\u001b[0m in \u001b[0;36mtrace_with_patch\u001b[0;34m(model, inp, states_to_patch, answers_t, tokens_to_mix, noise, trace_layers)\u001b[0m\n\u001b[1;32m     <a href='vscode-notebook-cell://ssh-remote%2Bgpt-j-rome.us-east1-b.mats-355413/home/jacquesthibodeau/rome-experiments/notebooks/causal_trace.ipynb#Y216sdnNjb2RlLXJlbW90ZQ%3D%3D?line=38'>39</a>\u001b[0m additional_layers \u001b[39m=\u001b[39m [] \u001b[39mif\u001b[39;00m trace_layers \u001b[39mis\u001b[39;00m \u001b[39mNone\u001b[39;00m \u001b[39melse\u001b[39;00m trace_layers\n\u001b[1;32m     <a href='vscode-notebook-cell://ssh-remote%2Bgpt-j-rome.us-east1-b.mats-355413/home/jacquesthibodeau/rome-experiments/notebooks/causal_trace.ipynb#Y216sdnNjb2RlLXJlbW90ZQ%3D%3D?line=39'>40</a>\u001b[0m \u001b[39mwith\u001b[39;00m torch\u001b[39m.\u001b[39mno_grad(), nethook\u001b[39m.\u001b[39mTraceDict(\n\u001b[1;32m     <a href='vscode-notebook-cell://ssh-remote%2Bgpt-j-rome.us-east1-b.mats-355413/home/jacquesthibodeau/rome-experiments/notebooks/causal_trace.ipynb#Y216sdnNjb2RlLXJlbW90ZQ%3D%3D?line=40'>41</a>\u001b[0m     model,\n\u001b[1;32m     <a href='vscode-notebook-cell://ssh-remote%2Bgpt-j-rome.us-east1-b.mats-355413/home/jacquesthibodeau/rome-experiments/notebooks/causal_trace.ipynb#Y216sdnNjb2RlLXJlbW90ZQ%3D%3D?line=41'>42</a>\u001b[0m     [embed_layername] \u001b[39m+\u001b[39m\n\u001b[1;32m     <a href='vscode-notebook-cell://ssh-remote%2Bgpt-j-rome.us-east1-b.mats-355413/home/jacquesthibodeau/rome-experiments/notebooks/causal_trace.ipynb#Y216sdnNjb2RlLXJlbW90ZQ%3D%3D?line=42'>43</a>\u001b[0m         \u001b[39mlist\u001b[39m(patch_spec\u001b[39m.\u001b[39mkeys()) \u001b[39m+\u001b[39m additional_layers,\n\u001b[1;32m     <a href='vscode-notebook-cell://ssh-remote%2Bgpt-j-rome.us-east1-b.mats-355413/home/jacquesthibodeau/rome-experiments/notebooks/causal_trace.ipynb#Y216sdnNjb2RlLXJlbW90ZQ%3D%3D?line=43'>44</a>\u001b[0m     edit_output\u001b[39m=\u001b[39mpatch_rep\n\u001b[1;32m     <a href='vscode-notebook-cell://ssh-remote%2Bgpt-j-rome.us-east1-b.mats-355413/home/jacquesthibodeau/rome-experiments/notebooks/causal_trace.ipynb#Y216sdnNjb2RlLXJlbW90ZQ%3D%3D?line=44'>45</a>\u001b[0m ) \u001b[39mas\u001b[39;00m td:\n\u001b[0;32m---> <a href='vscode-notebook-cell://ssh-remote%2Bgpt-j-rome.us-east1-b.mats-355413/home/jacquesthibodeau/rome-experiments/notebooks/causal_trace.ipynb#Y216sdnNjb2RlLXJlbW90ZQ%3D%3D?line=45'>46</a>\u001b[0m     outputs_exp \u001b[39m=\u001b[39m model(\u001b[39m*\u001b[39;49m\u001b[39m*\u001b[39;49minp)\n\u001b[1;32m     <a href='vscode-notebook-cell://ssh-remote%2Bgpt-j-rome.us-east1-b.mats-355413/home/jacquesthibodeau/rome-experiments/notebooks/causal_trace.ipynb#Y216sdnNjb2RlLXJlbW90ZQ%3D%3D?line=47'>48</a>\u001b[0m \u001b[39m# We report softmax probabilities for the answers_t token predictions of interest.\u001b[39;00m\n\u001b[1;32m     <a href='vscode-notebook-cell://ssh-remote%2Bgpt-j-rome.us-east1-b.mats-355413/home/jacquesthibodeau/rome-experiments/notebooks/causal_trace.ipynb#Y216sdnNjb2RlLXJlbW90ZQ%3D%3D?line=48'>49</a>\u001b[0m probs \u001b[39m=\u001b[39m torch\u001b[39m.\u001b[39msoftmax(outputs_exp\u001b[39m.\u001b[39mlogits[\u001b[39m1\u001b[39m:, \u001b[39m-\u001b[39m\u001b[39m1\u001b[39m, :], dim\u001b[39m=\u001b[39m\u001b[39m1\u001b[39m)\u001b[39m.\u001b[39mmean(dim\u001b[39m=\u001b[39m\u001b[39m0\u001b[39m)[answers_t]\n",
            "File \u001b[0;32m/opt/conda/envs/rome/lib/python3.9/site-packages/torch/nn/modules/module.py:1102\u001b[0m, in \u001b[0;36mModule._call_impl\u001b[0;34m(self, *input, **kwargs)\u001b[0m\n\u001b[1;32m   1098\u001b[0m \u001b[39m# If we don't have any hooks, we want to skip the rest of the logic in\u001b[39;00m\n\u001b[1;32m   1099\u001b[0m \u001b[39m# this function, and just call forward.\u001b[39;00m\n\u001b[1;32m   1100\u001b[0m \u001b[39mif\u001b[39;00m \u001b[39mnot\u001b[39;00m (\u001b[39mself\u001b[39m\u001b[39m.\u001b[39m_backward_hooks \u001b[39mor\u001b[39;00m \u001b[39mself\u001b[39m\u001b[39m.\u001b[39m_forward_hooks \u001b[39mor\u001b[39;00m \u001b[39mself\u001b[39m\u001b[39m.\u001b[39m_forward_pre_hooks \u001b[39mor\u001b[39;00m _global_backward_hooks\n\u001b[1;32m   1101\u001b[0m         \u001b[39mor\u001b[39;00m _global_forward_hooks \u001b[39mor\u001b[39;00m _global_forward_pre_hooks):\n\u001b[0;32m-> 1102\u001b[0m     \u001b[39mreturn\u001b[39;00m forward_call(\u001b[39m*\u001b[39;49m\u001b[39minput\u001b[39;49m, \u001b[39m*\u001b[39;49m\u001b[39m*\u001b[39;49mkwargs)\n\u001b[1;32m   1103\u001b[0m \u001b[39m# Do not call functions when jit is used\u001b[39;00m\n\u001b[1;32m   1104\u001b[0m full_backward_hooks, non_full_backward_hooks \u001b[39m=\u001b[39m [], []\n",
            "File \u001b[0;32m/opt/conda/envs/rome/lib/python3.9/site-packages/transformers/models/gptj/modeling_gptj.py:786\u001b[0m, in \u001b[0;36mGPTJForCausalLM.forward\u001b[0;34m(self, input_ids, past_key_values, attention_mask, token_type_ids, position_ids, head_mask, inputs_embeds, labels, use_cache, output_attentions, output_hidden_states, return_dict)\u001b[0m\n\u001b[1;32m    778\u001b[0m \u001b[39mr\u001b[39m\u001b[39m\"\"\"\u001b[39;00m\n\u001b[1;32m    779\u001b[0m \u001b[39mlabels (`torch.LongTensor` of shape `(batch_size, sequence_length)`, *optional*):\u001b[39;00m\n\u001b[1;32m    780\u001b[0m \u001b[39m    Labels for language modeling. Note that the labels **are shifted** inside the model, i.e. you can set\u001b[39;00m\n\u001b[1;32m    781\u001b[0m \u001b[39m    `labels = input_ids` Indices are selected in `[-100, 0, ..., config.vocab_size]` All labels set to\u001b[39;00m\n\u001b[1;32m    782\u001b[0m \u001b[39m    `-100` are ignored (masked), the loss is only computed for labels in `[0, ..., config.vocab_size]`\u001b[39;00m\n\u001b[1;32m    783\u001b[0m \u001b[39m\"\"\"\u001b[39;00m\n\u001b[1;32m    784\u001b[0m return_dict \u001b[39m=\u001b[39m return_dict \u001b[39mif\u001b[39;00m return_dict \u001b[39mis\u001b[39;00m \u001b[39mnot\u001b[39;00m \u001b[39mNone\u001b[39;00m \u001b[39melse\u001b[39;00m \u001b[39mself\u001b[39m\u001b[39m.\u001b[39mconfig\u001b[39m.\u001b[39muse_return_dict\n\u001b[0;32m--> 786\u001b[0m transformer_outputs \u001b[39m=\u001b[39m \u001b[39mself\u001b[39;49m\u001b[39m.\u001b[39;49mtransformer(\n\u001b[1;32m    787\u001b[0m     input_ids,\n\u001b[1;32m    788\u001b[0m     past_key_values\u001b[39m=\u001b[39;49mpast_key_values,\n\u001b[1;32m    789\u001b[0m     attention_mask\u001b[39m=\u001b[39;49mattention_mask,\n\u001b[1;32m    790\u001b[0m     token_type_ids\u001b[39m=\u001b[39;49mtoken_type_ids,\n\u001b[1;32m    791\u001b[0m     position_ids\u001b[39m=\u001b[39;49mposition_ids,\n\u001b[1;32m    792\u001b[0m     head_mask\u001b[39m=\u001b[39;49mhead_mask,\n\u001b[1;32m    793\u001b[0m     inputs_embeds\u001b[39m=\u001b[39;49minputs_embeds,\n\u001b[1;32m    794\u001b[0m     use_cache\u001b[39m=\u001b[39;49muse_cache,\n\u001b[1;32m    795\u001b[0m     output_attentions\u001b[39m=\u001b[39;49moutput_attentions,\n\u001b[1;32m    796\u001b[0m     output_hidden_states\u001b[39m=\u001b[39;49moutput_hidden_states,\n\u001b[1;32m    797\u001b[0m     return_dict\u001b[39m=\u001b[39;49mreturn_dict,\n\u001b[1;32m    798\u001b[0m )\n\u001b[1;32m    799\u001b[0m hidden_states \u001b[39m=\u001b[39m transformer_outputs[\u001b[39m0\u001b[39m]\n\u001b[1;32m    801\u001b[0m \u001b[39m# Set device for model parallelism\u001b[39;00m\n",
            "File \u001b[0;32m/opt/conda/envs/rome/lib/python3.9/site-packages/torch/nn/modules/module.py:1102\u001b[0m, in \u001b[0;36mModule._call_impl\u001b[0;34m(self, *input, **kwargs)\u001b[0m\n\u001b[1;32m   1098\u001b[0m \u001b[39m# If we don't have any hooks, we want to skip the rest of the logic in\u001b[39;00m\n\u001b[1;32m   1099\u001b[0m \u001b[39m# this function, and just call forward.\u001b[39;00m\n\u001b[1;32m   1100\u001b[0m \u001b[39mif\u001b[39;00m \u001b[39mnot\u001b[39;00m (\u001b[39mself\u001b[39m\u001b[39m.\u001b[39m_backward_hooks \u001b[39mor\u001b[39;00m \u001b[39mself\u001b[39m\u001b[39m.\u001b[39m_forward_hooks \u001b[39mor\u001b[39;00m \u001b[39mself\u001b[39m\u001b[39m.\u001b[39m_forward_pre_hooks \u001b[39mor\u001b[39;00m _global_backward_hooks\n\u001b[1;32m   1101\u001b[0m         \u001b[39mor\u001b[39;00m _global_forward_hooks \u001b[39mor\u001b[39;00m _global_forward_pre_hooks):\n\u001b[0;32m-> 1102\u001b[0m     \u001b[39mreturn\u001b[39;00m forward_call(\u001b[39m*\u001b[39;49m\u001b[39minput\u001b[39;49m, \u001b[39m*\u001b[39;49m\u001b[39m*\u001b[39;49mkwargs)\n\u001b[1;32m   1103\u001b[0m \u001b[39m# Do not call functions when jit is used\u001b[39;00m\n\u001b[1;32m   1104\u001b[0m full_backward_hooks, non_full_backward_hooks \u001b[39m=\u001b[39m [], []\n",
            "File \u001b[0;32m/opt/conda/envs/rome/lib/python3.9/site-packages/transformers/models/gptj/modeling_gptj.py:640\u001b[0m, in \u001b[0;36mGPTJModel.forward\u001b[0;34m(self, input_ids, past_key_values, attention_mask, token_type_ids, position_ids, head_mask, inputs_embeds, use_cache, output_attentions, output_hidden_states, return_dict)\u001b[0m\n\u001b[1;32m    632\u001b[0m     outputs \u001b[39m=\u001b[39m torch\u001b[39m.\u001b[39mutils\u001b[39m.\u001b[39mcheckpoint\u001b[39m.\u001b[39mcheckpoint(\n\u001b[1;32m    633\u001b[0m         create_custom_forward(block),\n\u001b[1;32m    634\u001b[0m         hidden_states,\n\u001b[0;32m   (...)\u001b[0m\n\u001b[1;32m    637\u001b[0m         head_mask[i],\n\u001b[1;32m    638\u001b[0m     )\n\u001b[1;32m    639\u001b[0m \u001b[39melse\u001b[39;00m:\n\u001b[0;32m--> 640\u001b[0m     outputs \u001b[39m=\u001b[39m block(\n\u001b[1;32m    641\u001b[0m         hidden_states,\n\u001b[1;32m    642\u001b[0m         layer_past\u001b[39m=\u001b[39;49mlayer_past,\n\u001b[1;32m    643\u001b[0m         attention_mask\u001b[39m=\u001b[39;49mattention_mask,\n\u001b[1;32m    644\u001b[0m         head_mask\u001b[39m=\u001b[39;49mhead_mask[i],\n\u001b[1;32m    645\u001b[0m         use_cache\u001b[39m=\u001b[39;49muse_cache,\n\u001b[1;32m    646\u001b[0m         output_attentions\u001b[39m=\u001b[39;49moutput_attentions,\n\u001b[1;32m    647\u001b[0m     )\n\u001b[1;32m    649\u001b[0m hidden_states \u001b[39m=\u001b[39m outputs[\u001b[39m0\u001b[39m]\n\u001b[1;32m    650\u001b[0m \u001b[39mif\u001b[39;00m use_cache \u001b[39mis\u001b[39;00m \u001b[39mTrue\u001b[39;00m:\n",
            "File \u001b[0;32m/opt/conda/envs/rome/lib/python3.9/site-packages/torch/nn/modules/module.py:1102\u001b[0m, in \u001b[0;36mModule._call_impl\u001b[0;34m(self, *input, **kwargs)\u001b[0m\n\u001b[1;32m   1098\u001b[0m \u001b[39m# If we don't have any hooks, we want to skip the rest of the logic in\u001b[39;00m\n\u001b[1;32m   1099\u001b[0m \u001b[39m# this function, and just call forward.\u001b[39;00m\n\u001b[1;32m   1100\u001b[0m \u001b[39mif\u001b[39;00m \u001b[39mnot\u001b[39;00m (\u001b[39mself\u001b[39m\u001b[39m.\u001b[39m_backward_hooks \u001b[39mor\u001b[39;00m \u001b[39mself\u001b[39m\u001b[39m.\u001b[39m_forward_hooks \u001b[39mor\u001b[39;00m \u001b[39mself\u001b[39m\u001b[39m.\u001b[39m_forward_pre_hooks \u001b[39mor\u001b[39;00m _global_backward_hooks\n\u001b[1;32m   1101\u001b[0m         \u001b[39mor\u001b[39;00m _global_forward_hooks \u001b[39mor\u001b[39;00m _global_forward_pre_hooks):\n\u001b[0;32m-> 1102\u001b[0m     \u001b[39mreturn\u001b[39;00m forward_call(\u001b[39m*\u001b[39;49m\u001b[39minput\u001b[39;49m, \u001b[39m*\u001b[39;49m\u001b[39m*\u001b[39;49mkwargs)\n\u001b[1;32m   1103\u001b[0m \u001b[39m# Do not call functions when jit is used\u001b[39;00m\n\u001b[1;32m   1104\u001b[0m full_backward_hooks, non_full_backward_hooks \u001b[39m=\u001b[39m [], []\n",
            "File \u001b[0;32m/opt/conda/envs/rome/lib/python3.9/site-packages/transformers/models/gptj/modeling_gptj.py:280\u001b[0m, in \u001b[0;36mGPTJBlock.forward\u001b[0;34m(self, hidden_states, layer_past, attention_mask, head_mask, use_cache, output_attentions)\u001b[0m\n\u001b[1;32m    278\u001b[0m residual \u001b[39m=\u001b[39m hidden_states\n\u001b[1;32m    279\u001b[0m hidden_states \u001b[39m=\u001b[39m \u001b[39mself\u001b[39m\u001b[39m.\u001b[39mln_1(hidden_states)\n\u001b[0;32m--> 280\u001b[0m attn_outputs \u001b[39m=\u001b[39m \u001b[39mself\u001b[39;49m\u001b[39m.\u001b[39;49mattn(\n\u001b[1;32m    281\u001b[0m     hidden_states,\n\u001b[1;32m    282\u001b[0m     layer_past\u001b[39m=\u001b[39;49mlayer_past,\n\u001b[1;32m    283\u001b[0m     attention_mask\u001b[39m=\u001b[39;49mattention_mask,\n\u001b[1;32m    284\u001b[0m     head_mask\u001b[39m=\u001b[39;49mhead_mask,\n\u001b[1;32m    285\u001b[0m     use_cache\u001b[39m=\u001b[39;49muse_cache,\n\u001b[1;32m    286\u001b[0m     output_attentions\u001b[39m=\u001b[39;49moutput_attentions,\n\u001b[1;32m    287\u001b[0m )\n\u001b[1;32m    288\u001b[0m attn_output \u001b[39m=\u001b[39m attn_outputs[\u001b[39m0\u001b[39m]  \u001b[39m# output_attn: a, present, (attentions)\u001b[39;00m\n\u001b[1;32m    289\u001b[0m outputs \u001b[39m=\u001b[39m attn_outputs[\u001b[39m1\u001b[39m:]\n",
            "File \u001b[0;32m/opt/conda/envs/rome/lib/python3.9/site-packages/torch/nn/modules/module.py:1102\u001b[0m, in \u001b[0;36mModule._call_impl\u001b[0;34m(self, *input, **kwargs)\u001b[0m\n\u001b[1;32m   1098\u001b[0m \u001b[39m# If we don't have any hooks, we want to skip the rest of the logic in\u001b[39;00m\n\u001b[1;32m   1099\u001b[0m \u001b[39m# this function, and just call forward.\u001b[39;00m\n\u001b[1;32m   1100\u001b[0m \u001b[39mif\u001b[39;00m \u001b[39mnot\u001b[39;00m (\u001b[39mself\u001b[39m\u001b[39m.\u001b[39m_backward_hooks \u001b[39mor\u001b[39;00m \u001b[39mself\u001b[39m\u001b[39m.\u001b[39m_forward_hooks \u001b[39mor\u001b[39;00m \u001b[39mself\u001b[39m\u001b[39m.\u001b[39m_forward_pre_hooks \u001b[39mor\u001b[39;00m _global_backward_hooks\n\u001b[1;32m   1101\u001b[0m         \u001b[39mor\u001b[39;00m _global_forward_hooks \u001b[39mor\u001b[39;00m _global_forward_pre_hooks):\n\u001b[0;32m-> 1102\u001b[0m     \u001b[39mreturn\u001b[39;00m forward_call(\u001b[39m*\u001b[39;49m\u001b[39minput\u001b[39;49m, \u001b[39m*\u001b[39;49m\u001b[39m*\u001b[39;49mkwargs)\n\u001b[1;32m   1103\u001b[0m \u001b[39m# Do not call functions when jit is used\u001b[39;00m\n\u001b[1;32m   1104\u001b[0m full_backward_hooks, non_full_backward_hooks \u001b[39m=\u001b[39m [], []\n",
            "File \u001b[0;32m/opt/conda/envs/rome/lib/python3.9/site-packages/transformers/models/gptj/modeling_gptj.py:203\u001b[0m, in \u001b[0;36mGPTJAttention.forward\u001b[0;34m(self, hidden_states, attention_mask, layer_past, head_mask, use_cache, output_attentions)\u001b[0m\n\u001b[1;32m    200\u001b[0m q_rot \u001b[39m=\u001b[39m query[:, :, :, : \u001b[39mself\u001b[39m\u001b[39m.\u001b[39mrotary_dim]\n\u001b[1;32m    201\u001b[0m q_pass \u001b[39m=\u001b[39m query[:, :, :, \u001b[39mself\u001b[39m\u001b[39m.\u001b[39mrotary_dim :]\n\u001b[0;32m--> 203\u001b[0m sincos \u001b[39m=\u001b[39m fixed_pos_embedding(k_rot, \u001b[39m1\u001b[39;49m, seq_len\u001b[39m=\u001b[39;49mseq_len)\n\u001b[1;32m    204\u001b[0m k_rot \u001b[39m=\u001b[39m apply_rotary_pos_emb(k_rot, sincos, offset\u001b[39m=\u001b[39moffset)\n\u001b[1;32m    205\u001b[0m q_rot \u001b[39m=\u001b[39m apply_rotary_pos_emb(q_rot, sincos, offset\u001b[39m=\u001b[39moffset)\n",
            "File \u001b[0;32m/opt/conda/envs/rome/lib/python3.9/site-packages/transformers/models/gptj/modeling_gptj.py:55\u001b[0m, in \u001b[0;36mfixed_pos_embedding\u001b[0;34m(x, seq_dim, seq_len)\u001b[0m\n\u001b[1;32m     53\u001b[0m     seq_len \u001b[39m=\u001b[39m x\u001b[39m.\u001b[39mshape[seq_dim]\n\u001b[1;32m     54\u001b[0m inv_freq \u001b[39m=\u001b[39m \u001b[39m1.0\u001b[39m \u001b[39m/\u001b[39m (\u001b[39m10000\u001b[39m \u001b[39m*\u001b[39m\u001b[39m*\u001b[39m (torch\u001b[39m.\u001b[39marange(\u001b[39m0\u001b[39m, dim, \u001b[39m2\u001b[39m) \u001b[39m/\u001b[39m dim))\n\u001b[0;32m---> 55\u001b[0m sinusoid_inp \u001b[39m=\u001b[39m torch\u001b[39m.\u001b[39;49meinsum(\u001b[39m\"\u001b[39;49m\u001b[39mi , j -> i j\u001b[39;49m\u001b[39m\"\u001b[39;49m, torch\u001b[39m.\u001b[39;49marange(seq_len), inv_freq)\u001b[39m.\u001b[39;49mto(x\u001b[39m.\u001b[39;49mdevice)\u001b[39m.\u001b[39mfloat()\n\u001b[1;32m     56\u001b[0m \u001b[39mreturn\u001b[39;00m torch\u001b[39m.\u001b[39msin(sinusoid_inp), torch\u001b[39m.\u001b[39mcos(sinusoid_inp)\n",
            "\u001b[0;31mKeyboardInterrupt\u001b[0m: "
          ]
        }
      ],
      "source": [
        "from tqdm import tqdm\n",
        "# plotsubset = \"./data/curated_ct_prompts/\"\n",
        "# os.makedirs(plotsubset, exist_ok=True)\n",
        "# for prompt, subject in zip(prompts, subjects):\n",
        "#     # try:\n",
        "#     # tokens = mt.tokenizer(prompt, add_special_tokens=False, \n",
        "#     #                     return_tensors=\"pt\").input_ids.to(device)\n",
        "#     # tokens = tokens[0][:70]\n",
        "#     # prompt = mt.tokenizer.decode(tokens)\n",
        "#     # subject = tokens[68:70]\n",
        "#     # subject = mt.tokenizer.decode(subject)\n",
        "#     # print(prompt)\n",
        "#     # print(subject)\n",
        "#     pdf_name = subject.replace(' ', '_').replace(\".\", \"_\")\n",
        "#     pdf_name = re.sub('[^0-9a-zA-Z]', '_', pdf_name)[:40]\n",
        "#     plot_flows(mt, prompt, subject=subject, savepdf=pdf_name,\n",
        "#     plotsubset=plotsubset, remove_context=0)\n",
        "#     # except:\n",
        "#     #     pass\n",
        "\n",
        "# for sqa_i in good_sqa:\n",
        "#     try:\n",
        "#         prompt = sqa_i['ct_prompt']\n",
        "#         subject = sqa_i['ct_subject']\n",
        "#         plot_flows(mt, prompt, subject=subject, )\n",
        "#     except:\n",
        "#         pass\n",
        "\n",
        "i = 0\n",
        "plotsubset = \"./data/good_cot_sqa/\"\n",
        "os.makedirs(plotsubset, exist_ok=True)\n",
        "# for knowledge in knowns[0:2]:\n",
        "for i in tqdm(good_sqa):\n",
        "    # try:\n",
        "    i = str(i)\n",
        "    subject = good_sqa[i]['ct_subject']\n",
        "    print('subject:', subject)\n",
        "    prompt = good_sqa[i]['ct_prompt']\n",
        "    print('prompt:', prompt)\n",
        "    # tokens = mt.tokenizer(prompt, add_special_tokens=False, \n",
        "    #                         return_tensors=\"pt\").input_ids.to(device)\n",
        "    # tokens = tokens[0][:70]\n",
        "    # prompt = mt.tokenizer.decode(tokens)\n",
        "    # print(prompt)\n",
        "    # break\n",
        "    # subject = tokens[67:]\n",
        "    # subject = mt.tokenizer.decode(subject)\n",
        "    token_prob = str(round(float(good_sqa[i]['token_probs'][0][1]), 3)).replace(\".\", \"p\")\n",
        "    pdf_name = token_prob + \"_\" + subject.replace(' ', '_').replace(\".\", \"_\")\n",
        "    pdf_name = re.sub('[^0-9a-zA-Z]', '_', pdf_name)[:40]\n",
        "    print(pdf_name)\n",
        "    results_dict = plot_flows(mt, prompt, subject, plot_num=i,\n",
        "                            include_plots=True, savepdf=pdf_name, \n",
        "                            plotsubset=plotsubset, results_dict=results_dict,\n",
        "                            remove_context=67)\n",
        "#     # except:\n",
        "#     #     pass"
      ]
    },
    {
      "cell_type": "code",
      "execution_count": 44,
      "metadata": {
        "colab": {
          "base_uri": "https://localhost:8080/",
          "height": 73
        },
        "id": "rM_faF2V7UqD",
        "outputId": "dcf699d4-f921-4def-a138-d4fc74b5495d"
      },
      "outputs": [
        {
          "data": {
            "application/vnd.google.colaboratory.intrinsic+json": {
              "type": "string"
            },
            "text/plain": [
              "'Grey seals have no ear flaps and their ears canals are filled with wax. Grey seals hear better underwater when their ears open like a valve. Dogs have sensitive ears that can hear as far as a quarter of a mile away.'"
            ]
          },
          "execution_count": 44,
          "metadata": {},
          "output_type": "execute_result"
        }
      ],
      "source": [
        "subject = good_sqa[i]['ct_subject']\n",
        "prompt = good_sqa[i]['ct_prompt']\n",
        "subject"
      ]
    },
    {
      "cell_type": "code",
      "execution_count": 124,
      "metadata": {
        "colab": {
          "base_uri": "https://localhost:8080/",
          "height": 91
        },
        "id": "MAN7SwEn8vvn",
        "outputId": "d5343d77-5c59-4248-9356-f6694a05a09e"
      },
      "outputs": [
        {
          "data": {
            "application/vnd.google.colaboratory.intrinsic+json": {
              "type": "string"
            },
            "text/plain": [
              "'Question: Are more people today related to Genghis Khan than Julius Caesar?\\nFacts: Julius Caesar had three children. Genghis Khan had sixteen children. Modern geneticists have determined that out of every 200 men today has DNA that can be traced to Genghis Khan.\\nAnswer (True or False): True\\nQuestion: Is'"
            ]
          },
          "execution_count": 124,
          "metadata": {},
          "output_type": "execute_result"
        }
      ],
      "source": [
        "tokens = mt.tokenizer(\n",
        "        prompt, add_special_tokens=False, return_tensors=\"pt\"\n",
        "    ).input_ids.to(device)\n",
        "tokens = tokens[0][:70]\n",
        "text = mt.tokenizer.decode(tokens)\n",
        "text"
      ]
    },
    {
      "cell_type": "markdown",
      "metadata": {
        "id": "1EQsaTLoiI8K"
      },
      "source": [
        "Here we trace a few more factual statements from a file of test cases."
      ]
    },
    {
      "cell_type": "code",
      "execution_count": 49,
      "metadata": {
        "colab": {
          "base_uri": "https://localhost:8080/"
        },
        "id": "Xlv2NCn8iI8K",
        "outputId": "52c4adee-511f-4784-beeb-0811bd53e457"
      },
      "outputs": [
        {
          "name": "stdout",
          "output_type": "stream",
          "text": [
            "Loaded dataset with 1209 elements\n"
          ]
        }
      ],
      "source": [
        "knowns = KnownsDataset(DATA_DIR)\n",
        "\n",
        "# for knowledge in knowns[0:1]:\n",
        "#     plot_flows(mt, knowledge['prompt'], knowledge['subject'])"
      ]
    },
    {
      "cell_type": "markdown",
      "metadata": {
        "id": "QkTd8r-MkQBt"
      },
      "source": [
        "Now, let's try to find out some interesting stuff using Causal Tracing. Are there some patterns we can recognize?\n",
        "\n",
        "Let's run through the entire Known dataset and then have a look at some commonalities between the subjects that have more effect in the later layers than the earlier layers."
      ]
    },
    {
      "cell_type": "code",
      "execution_count": 37,
      "metadata": {
        "colab": {
          "base_uri": "https://localhost:8080/"
        },
        "id": "YpqwsvK14RPW",
        "outputId": "3de34ed7-9bbf-4c7a-f772-b12e932a9120"
      },
      "outputs": [
        {
          "data": {
            "text/plain": [
              "{'known_id': 0,\n",
              " 'subject': 'Vinson Massif',\n",
              " 'attribute': 'Antarctica',\n",
              " 'template': '{} is located in the continent',\n",
              " 'prediction': ' of Antarctica. It is the largest of the three',\n",
              " 'prompt': 'Vinson Massif is located in the continent of',\n",
              " 'relation_id': 'P30'}"
            ]
          },
          "execution_count": 37,
          "metadata": {},
          "output_type": "execute_result"
        }
      ],
      "source": [
        "knowns[0]"
      ]
    },
    {
      "cell_type": "code",
      "execution_count": 38,
      "metadata": {
        "id": "SjTovN8gMwM3"
      },
      "outputs": [],
      "source": [
        "import json\n",
        "\n",
        "good_cf_filename = \"/content/drive/MyDrive/rome/data/good_counterfact_gpt2.json\"\n",
        "with open(good_cf_filename, 'r') as f:\n",
        "    good_cfs = json.loads(f.read())\n",
        "\n",
        "bad_cf_filename = \"/content/drive/MyDrive/rome/data/bad_counterfacts_gpt2.json\"\n",
        "with open(bad_cf_filename) as f:\n",
        "    bad_cfs = json.loads(f.read())"
      ]
    },
    {
      "cell_type": "code",
      "execution_count": 39,
      "metadata": {
        "colab": {
          "base_uri": "https://localhost:8080/"
        },
        "id": "jPiokhygWV-C",
        "outputId": "9aaee057-2ef4-48b9-eba1-dac72674b325"
      },
      "outputs": [
        {
          "data": {
            "text/plain": [
              "0.9990845"
            ]
          },
          "execution_count": 39,
          "metadata": {},
          "output_type": "execute_result"
        }
      ],
      "source": [
        "float(bad_cfs['0']['token_probs'][0][1])"
      ]
    },
    {
      "cell_type": "code",
      "execution_count": 40,
      "metadata": {
        "colab": {
          "base_uri": "https://localhost:8080/"
        },
        "id": "DLuCwTC1VjQ7",
        "outputId": "5c0c0e61-53af-4549-f45d-1c05dfa2ee3f"
      },
      "outputs": [
        {
          "name": "stdout",
          "output_type": "stream",
          "text": [
            "486\n",
            "9883\n"
          ]
        }
      ],
      "source": [
        "uncertain_count = 0\n",
        "certain_count = 0\n",
        "bad_uncertain_cfs = {}\n",
        "bad_certain_cfs = {}\n",
        "for i in list(bad_cfs.keys()):\n",
        "    first_gen_token_prob = float(bad_cfs[i]['token_probs'][0][1])\n",
        "    if first_gen_token_prob < 0.2:\n",
        "        bad_uncertain_cfs[uncertain_count] = bad_cfs[i]\n",
        "        uncertain_count += 1\n",
        "    elif first_gen_token_prob > 0.999:\n",
        "        bad_certain_cfs[certain_count] = bad_cfs[i]\n",
        "        certain_count += 1\n",
        "\n",
        "print(uncertain_count)\n",
        "print(certain_count)"
      ]
    },
    {
      "cell_type": "code",
      "execution_count": 41,
      "metadata": {
        "colab": {
          "base_uri": "https://localhost:8080/"
        },
        "id": "-fafnNm55gSx",
        "outputId": "88c657ba-60f5-409a-b161-11a32957eda4"
      },
      "outputs": [
        {
          "name": "stdout",
          "output_type": "stream",
          "text": [
            "77\n",
            "2677\n"
          ]
        }
      ],
      "source": [
        "uncertain_count = 0\n",
        "certain_count = 0\n",
        "good_uncertain_cfs = {}\n",
        "good_certain_cfs = {}\n",
        "for i in list(good_cfs.keys()):\n",
        "    first_gen_token_prob = float(good_cfs[i]['token_probs'][0][1])\n",
        "    if first_gen_token_prob < 0.2:\n",
        "        good_uncertain_cfs[uncertain_count] = good_cfs[i]\n",
        "        uncertain_count += 1\n",
        "    elif first_gen_token_prob > 0.999:\n",
        "        good_certain_cfs[certain_count] = good_cfs[i]\n",
        "        certain_count += 1\n",
        "\n",
        "print(uncertain_count)\n",
        "print(certain_count)"
      ]
    },
    {
      "cell_type": "code",
      "execution_count": 19,
      "metadata": {
        "colab": {
          "base_uri": "https://localhost:8080/"
        },
        "id": "_MlMQXgPY2KY",
        "outputId": "cab97bb4-b900-482b-fe3e-ac297d4cee24"
      },
      "outputs": [
        {
          "name": "stdout",
          "output_type": "stream",
          "text": [
            "/content/drive/MyDrive/rome/data\n"
          ]
        }
      ],
      "source": [
        "savepdf = \"/content/drive/MyDrive/rome/data/image.png\"\n",
        "if savepdf:\n",
        "    print(os.path.dirname(savepdf))"
      ]
    },
    {
      "cell_type": "code",
      "execution_count": 43,
      "metadata": {
        "id": "ATerKoVClQRx"
      },
      "outputs": [],
      "source": [
        "# import shutil\n",
        "# shutil.rmtree('/content/rome/data/bad_uncertains')"
      ]
    },
    {
      "cell_type": "code",
      "execution_count": 44,
      "metadata": {
        "id": "tJRJyfcgXCGw"
      },
      "outputs": [],
      "source": [
        "results_dict = {}"
      ]
    },
    {
      "cell_type": "code",
      "execution_count": 45,
      "metadata": {
        "colab": {
          "base_uri": "https://localhost:8080/"
        },
        "id": "YU-4lsH9Zopv",
        "outputId": "2b0e1259-1747-42bb-a70a-4eae72c243e9"
      },
      "outputs": [
        {
          "name": "stderr",
          "output_type": "stream",
          "text": [
            "\r  0%|          | 0/486 [00:00<?, ?it/s]"
          ]
        },
        {
          "name": "stdout",
          "output_type": "stream",
          "text": [
            "Toko Yasuda, the\n",
            "0p137_Toko_Yasuda__the\n",
            "0p137\n"
          ]
        },
        {
          "name": "stderr",
          "output_type": "stream",
          "text": [
            "WARNING:matplotlib.font_manager:findfont: Font family ['Times New Roman'] not found. Falling back to DejaVu Sans.\n",
            "WARNING:matplotlib.font_manager:findfont: Font family ['Times New Roman'] not found. Falling back to DejaVu Sans.\n",
            "  0%|          | 1/486 [00:19<2:40:11, 19.82s/it]"
          ]
        },
        {
          "name": "stdout",
          "output_type": "stream",
          "text": [
            "The Loner was released on\n",
            "0p107_The_Loner_was_released_on\n",
            "0p107\n"
          ]
        },
        {
          "name": "stderr",
          "output_type": "stream",
          "text": [
            "\r  0%|          | 2/486 [00:39<2:38:46, 19.68s/it]"
          ]
        },
        {
          "name": "stdout",
          "output_type": "stream",
          "text": [
            "Charles IV of Spain's life ended in\n",
            "0p019_Charles_IV_of_Spain_s_life_ended_in\n",
            "0p019\n"
          ]
        },
        {
          "name": "stderr",
          "output_type": "stream",
          "text": [
            "\r  1%|          | 3/486 [01:06<3:04:24, 22.91s/it]"
          ]
        },
        {
          "name": "stdout",
          "output_type": "stream",
          "text": [
            "Flotation Toy Warning, founded in\n",
            "0p084_Flotation_Toy_Warning__founded_in\n",
            "0p084\n"
          ]
        },
        {
          "name": "stderr",
          "output_type": "stream",
          "text": [
            "\r  1%|          | 4/486 [01:29<3:04:29, 22.97s/it]"
          ]
        },
        {
          "name": "stdout",
          "output_type": "stream",
          "text": [
            "Luana Walters's profession is an\n",
            "0p177_Luana_Walters_s_profession_is_an\n",
            "0p177\n"
          ]
        },
        {
          "name": "stderr",
          "output_type": "stream",
          "text": [
            "\r  1%|          | 5/486 [01:52<3:03:39, 22.91s/it]"
          ]
        },
        {
          "name": "stdout",
          "output_type": "stream",
          "text": [
            "Pinhas Hirschprung passed away in\n",
            "0p006_Pinhas_Hirschprung_passed_away_in\n",
            "0p006\n"
          ]
        },
        {
          "name": "stderr",
          "output_type": "stream",
          "text": [
            "\r  1%|          | 6/486 [02:27<3:38:09, 27.27s/it]"
          ]
        },
        {
          "name": "stdout",
          "output_type": "stream",
          "text": [
            "Onufri works in the field of\n",
            "0p051_Onufri_works_in_the_field_of\n",
            "0p051\n"
          ]
        },
        {
          "name": "stderr",
          "output_type": "stream",
          "text": [
            "\r  1%|▏         | 7/486 [02:54<3:35:04, 26.94s/it]"
          ]
        },
        {
          "name": "stdout",
          "output_type": "stream",
          "text": [
            "The occupation of Sepala Attygalle is\n",
            "0p017_The_occupation_of_Sepala_Attygalle_is\n",
            "0p017\n"
          ]
        },
        {
          "name": "stderr",
          "output_type": "stream",
          "text": [
            "\r  2%|▏         | 8/486 [03:34<4:08:26, 31.19s/it]"
          ]
        },
        {
          "name": "stdout",
          "output_type": "stream",
          "text": [
            "Murphy Brown was originally aired on\n",
            "0p157_Murphy_Brown_was_originally_aired_on\n",
            "0p157\n"
          ]
        },
        {
          "name": "stderr",
          "output_type": "stream",
          "text": [
            "\r  2%|▏         | 9/486 [03:57<3:46:57, 28.55s/it]"
          ]
        },
        {
          "name": "stdout",
          "output_type": "stream",
          "text": [
            "Delchev Ridge is located in the continent\n",
            "0p173_Delchev_Ridge_is_located_in_the_continent\n",
            "0p173\n"
          ]
        },
        {
          "name": "stderr",
          "output_type": "stream",
          "text": [
            "\r  2%|▏         | 10/486 [04:23<3:40:55, 27.85s/it]"
          ]
        },
        {
          "name": "stdout",
          "output_type": "stream",
          "text": [
            "The language of Planet of the Apes was\n",
            "0p008_The_language_of_Planet_of_the_Apes_was\n",
            "0p008\n"
          ]
        },
        {
          "name": "stderr",
          "output_type": "stream",
          "text": [
            "\r  2%|▏         | 11/486 [04:58<3:58:54, 30.18s/it]"
          ]
        },
        {
          "name": "stdout",
          "output_type": "stream",
          "text": [
            "Novelas ejemplares was developed in\n",
            "0p077_Novelas_ejemplares_was_developed_in\n",
            "0p077\n"
          ]
        },
        {
          "name": "stderr",
          "output_type": "stream",
          "text": [
            "\r  2%|▏         | 12/486 [05:39<4:22:48, 33.27s/it]"
          ]
        },
        {
          "name": "stdout",
          "output_type": "stream",
          "text": [
            "The language of Rasayana is\n",
            "0p041_The_language_of_Rasayana_is\n",
            "0p041\n"
          ]
        },
        {
          "name": "stderr",
          "output_type": "stream",
          "text": [
            "\r  3%|▎         | 13/486 [06:01<3:57:21, 30.11s/it]"
          ]
        },
        {
          "name": "stdout",
          "output_type": "stream",
          "text": [
            "Joe Darensbourg is known for performing\n",
            "0p117_Joe_Darensbourg_is_known_for_performing\n",
            "0p117\n"
          ]
        },
        {
          "name": "stderr",
          "output_type": "stream",
          "text": [
            "\r  3%|▎         | 14/486 [06:37<4:09:32, 31.72s/it]"
          ]
        },
        {
          "name": "stdout",
          "output_type": "stream",
          "text": [
            "Matt Lavelle is known for performing\n",
            "0p11_Matt_Lavelle_is_known_for_performing\n",
            "0p11\n"
          ]
        },
        {
          "name": "stderr",
          "output_type": "stream",
          "text": [
            "\r  3%|▎         | 15/486 [07:03<3:56:38, 30.15s/it]"
          ]
        },
        {
          "name": "stdout",
          "output_type": "stream",
          "text": [
            "Cape Legoupil is located in the continent\n",
            "0p049_Cape_Legoupil_is_located_in_the_continent\n",
            "0p049\n"
          ]
        },
        {
          "name": "stderr",
          "output_type": "stream",
          "text": [
            "\r  3%|▎         | 16/486 [07:43<4:18:49, 33.04s/it]"
          ]
        },
        {
          "name": "stdout",
          "output_type": "stream",
          "text": [
            "Carol & Company was originally aired on\n",
            "0p087_Carol___Company_was_originally_aired_on\n",
            "0p087\n"
          ]
        },
        {
          "name": "stderr",
          "output_type": "stream",
          "text": [
            "\r  3%|▎         | 17/486 [08:10<4:02:56, 31.08s/it]"
          ]
        },
        {
          "name": "stdout",
          "output_type": "stream",
          "text": [
            "Neko Entertainment was formed in\n",
            "0p049_Neko_Entertainment_was_formed_in\n",
            "0p049\n"
          ]
        },
        {
          "name": "stderr",
          "output_type": "stream",
          "text": [
            "\r  4%|▎         | 18/486 [08:33<3:43:26, 28.65s/it]"
          ]
        },
        {
          "name": "stdout",
          "output_type": "stream",
          "text": [
            "The mother tongue of Toine Manders is\n",
            "0p132_The_mother_tongue_of_Toine_Manders_is\n",
            "0p132\n"
          ]
        },
        {
          "name": "stderr",
          "output_type": "stream",
          "text": [
            "\r  4%|▍         | 19/486 [09:08<3:58:15, 30.61s/it]"
          ]
        },
        {
          "name": "stdout",
          "output_type": "stream",
          "text": [
            "Heyday Films, founded in\n",
            "0p043_Heyday_Films__founded_in\n",
            "0p043\n"
          ]
        },
        {
          "name": "stderr",
          "output_type": "stream",
          "text": [
            "\r  4%|▍         | 20/486 [09:27<3:31:30, 27.23s/it]"
          ]
        },
        {
          "name": "stdout",
          "output_type": "stream",
          "text": [
            "Barnstable (village), Massachusetts, in\n",
            "0p068_Barnstable__village___Massachusetts__in\n",
            "0p068\n"
          ]
        },
        {
          "name": "stderr",
          "output_type": "stream",
          "text": [
            "\r  4%|▍         | 21/486 [10:03<3:51:41, 29.90s/it]"
          ]
        },
        {
          "name": "stdout",
          "output_type": "stream",
          "text": [
            "Robert Raymond passed away in\n",
            "0p134_Robert_Raymond_passed_away_in\n",
            "0p134\n"
          ]
        },
        {
          "name": "stderr",
          "output_type": "stream",
          "text": [
            "\r  5%|▍         | 22/486 [10:15<3:07:46, 24.28s/it]"
          ]
        },
        {
          "name": "stdout",
          "output_type": "stream",
          "text": [
            "In Kingdom of Tavolara, an official language is\n",
            "0p1_In_Kingdom_of_Tavolara__an_official_language_is\n",
            "0p1\n"
          ]
        },
        {
          "name": "stderr",
          "output_type": "stream",
          "text": [
            "\r  5%|▍         | 23/486 [10:59<3:54:08, 30.34s/it]"
          ]
        },
        {
          "name": "stdout",
          "output_type": "stream",
          "text": [
            "Manuel Ruiz Sosa, the\n",
            "0p158_Manuel_Ruiz_Sosa__the\n",
            "0p158\n"
          ]
        },
        {
          "name": "stderr",
          "output_type": "stream",
          "text": [
            "\r  5%|▍         | 24/486 [11:26<3:45:54, 29.34s/it]"
          ]
        },
        {
          "name": "stdout",
          "output_type": "stream",
          "text": [
            "The location of Radical War is\n",
            "0p002_The_location_of_Radical_War_is\n",
            "0p002\n"
          ]
        },
        {
          "name": "stderr",
          "output_type": "stream",
          "text": [
            "\r  5%|▌         | 25/486 [11:45<3:22:02, 26.30s/it]"
          ]
        },
        {
          "name": "stdout",
          "output_type": "stream",
          "text": [
            "The language of The Harvest Month was\n",
            "0p111_The_language_of_The_Harvest_Month_was\n",
            "0p111\n"
          ]
        },
        {
          "name": "stderr",
          "output_type": "stream",
          "text": [
            "\r  5%|▌         | 26/486 [12:08<3:13:25, 25.23s/it]"
          ]
        },
        {
          "name": "stdout",
          "output_type": "stream",
          "text": [
            "In Biasca, the language spoken is\n",
            "0p003_In_Biasca__the_language_spoken_is\n",
            "0p003\n"
          ]
        },
        {
          "name": "stderr",
          "output_type": "stream",
          "text": [
            "\r  6%|▌         | 27/486 [12:34<3:14:47, 25.46s/it]"
          ]
        },
        {
          "name": "stdout",
          "output_type": "stream",
          "text": [
            "James Rennell passed away in\n",
            "0p154_James_Rennell_passed_away_in\n",
            "0p154\n"
          ]
        },
        {
          "name": "stderr",
          "output_type": "stream",
          "text": [
            "\r  6%|▌         | 28/486 [12:57<3:08:36, 24.71s/it]"
          ]
        },
        {
          "name": "stdout",
          "output_type": "stream",
          "text": [
            "The native language of Francis Jammes is\n",
            "0p01_The_native_language_of_Francis_Jammes_is\n",
            "0p01\n"
          ]
        },
        {
          "name": "stderr",
          "output_type": "stream",
          "text": [
            "\r  6%|▌         | 29/486 [13:32<3:32:10, 27.86s/it]"
          ]
        },
        {
          "name": "stdout",
          "output_type": "stream",
          "text": [
            "Walker Digital was formed in\n",
            "0p01_Walker_Digital_was_formed_in\n",
            "0p01\n"
          ]
        },
        {
          "name": "stderr",
          "output_type": "stream",
          "text": [
            "\r  6%|▌         | 30/486 [13:43<2:53:45, 22.86s/it]"
          ]
        },
        {
          "name": "stdout",
          "output_type": "stream",
          "text": [
            "Cadillac Northstar LMP is developed by\n",
            "0p062_Cadillac_Northstar_LMP_is_developed_by\n",
            "0p062\n"
          ]
        },
        {
          "name": "stderr",
          "output_type": "stream",
          "text": [
            "\r  6%|▋         | 31/486 [14:24<3:33:08, 28.11s/it]"
          ]
        },
        {
          "name": "stdout",
          "output_type": "stream",
          "text": [
            "Kiev-Sviatoshyn Raion's capital city is\n",
            "0p082_Kiev_Sviatoshyn_Raion_s_capital_city_is\n",
            "0p082\n"
          ]
        },
        {
          "name": "stderr",
          "output_type": "stream",
          "text": [
            "\r  7%|▋         | 32/486 [15:46<5:36:35, 44.48s/it]"
          ]
        },
        {
          "name": "stdout",
          "output_type": "stream",
          "text": [
            "William Michael Rooke performs\n",
            "0p02_William_Michael_Rooke_performs\n",
            "0p02\n"
          ]
        },
        {
          "name": "stderr",
          "output_type": "stream",
          "text": [
            "\r  7%|▋         | 33/486 [15:58<4:21:13, 34.60s/it]"
          ]
        },
        {
          "name": "stdout",
          "output_type": "stream",
          "text": [
            "Jayakanthan speaks\n",
            "0p033_Jayakanthan_speaks\n",
            "0p033\n"
          ]
        },
        {
          "name": "stderr",
          "output_type": "stream",
          "text": [
            "\r  7%|▋         | 34/486 [16:09<3:28:30, 27.68s/it]"
          ]
        },
        {
          "name": "stdout",
          "output_type": "stream",
          "text": [
            "About Anglia, created in\n",
            "0p023_About_Anglia__created_in\n",
            "0p023\n"
          ]
        },
        {
          "name": "stderr",
          "output_type": "stream",
          "text": [
            "\r  7%|▋         | 35/486 [16:29<3:09:21, 25.19s/it]"
          ]
        },
        {
          "name": "stdout",
          "output_type": "stream",
          "text": [
            "James Morris Blaut works in the area of\n",
            "0p06_James_Morris_Blaut_works_in_the_area_of\n",
            "0p06\n"
          ]
        },
        {
          "name": "stderr",
          "output_type": "stream",
          "text": [
            "\r  7%|▋         | 36/486 [17:04<3:31:27, 28.19s/it]"
          ]
        },
        {
          "name": "stdout",
          "output_type": "stream",
          "text": [
            "Gabriel Heinze plays in the position of\n",
            "0p14_Gabriel_Heinze_plays_in_the_position_of\n",
            "0p14\n"
          ]
        },
        {
          "name": "stderr",
          "output_type": "stream",
          "text": [
            "\r  8%|▊         | 37/486 [17:39<3:46:41, 30.29s/it]"
          ]
        },
        {
          "name": "stdout",
          "output_type": "stream",
          "text": [
            "Jean Titelouze's occupation is\n",
            "0p121_Jean_Titelouze_s_occupation_is\n",
            "0p121\n"
          ]
        },
        {
          "name": "stderr",
          "output_type": "stream",
          "text": [
            "\r  8%|▊         | 38/486 [18:06<3:38:15, 29.23s/it]"
          ]
        },
        {
          "name": "stdout",
          "output_type": "stream",
          "text": [
            "Crossing Lines premieres on\n",
            "0p028_Crossing_Lines_premieres_on\n",
            "0p028\n"
          ]
        },
        {
          "name": "stderr",
          "output_type": "stream",
          "text": [
            "\r  8%|▊         | 39/486 [18:25<3:15:44, 26.27s/it]"
          ]
        },
        {
          "name": "stdout",
          "output_type": "stream",
          "text": [
            "The profession of Charles FitzGerald, 1st Baron Lecale is\n",
            "0p141_The_profession_of_Charles_FitzGerald__1st_Baron_Lecale_is\n",
            "0p141\n"
          ]
        },
        {
          "name": "stderr",
          "output_type": "stream",
          "text": [
            "\r  8%|▊         | 40/486 [19:58<5:43:18, 46.19s/it]"
          ]
        },
        {
          "name": "stdout",
          "output_type": "stream",
          "text": [
            "Agilbert, who has the position of\n",
            "0p191_Agilbert__who_has_the_position_of\n",
            "0p191\n"
          ]
        },
        {
          "name": "stderr",
          "output_type": "stream",
          "text": [
            "\r  8%|▊         | 41/486 [20:33<5:17:29, 42.81s/it]"
          ]
        },
        {
          "name": "stdout",
          "output_type": "stream",
          "text": [
            "Jim Magilton plays in the position of\n",
            "0p015_Jim_Magilton_plays_in_the_position_of\n",
            "0p015\n"
          ]
        },
        {
          "name": "stderr",
          "output_type": "stream",
          "text": [
            "\r  9%|▊         | 42/486 [20:59<4:40:03, 37.85s/it]"
          ]
        },
        {
          "name": "stdout",
          "output_type": "stream",
          "text": [
            "The domain of work of Nicole-Reine Lepaute is\n",
            "0p147_The_domain_of_work_of_Nicole_Reine_Lepaute_is\n",
            "0p147\n"
          ]
        },
        {
          "name": "stderr",
          "output_type": "stream",
          "text": [
            "\r  9%|▉         | 43/486 [22:14<6:01:12, 48.92s/it]"
          ]
        },
        {
          "name": "stdout",
          "output_type": "stream",
          "text": [
            "Snowbeast was released on\n",
            "0p124_Snowbeast_was_released_on\n",
            "0p124\n"
          ]
        },
        {
          "name": "stderr",
          "output_type": "stream",
          "text": [
            "\r  9%|▉         | 44/486 [22:33<4:55:07, 40.06s/it]"
          ]
        },
        {
          "name": "stdout",
          "output_type": "stream",
          "text": [
            "Joe Magrane, the\n",
            "0p106_Joe_Magrane__the\n",
            "0p106\n"
          ]
        },
        {
          "name": "stderr",
          "output_type": "stream",
          "text": [
            "\r  9%|▉         | 45/486 [22:45<3:51:15, 31.46s/it]"
          ]
        },
        {
          "name": "stdout",
          "output_type": "stream",
          "text": [
            "The headquarter of Samsung is in\n",
            "0p137_The_headquarter_of_Samsung_is_in\n",
            "0p137\n"
          ]
        },
        {
          "name": "stderr",
          "output_type": "stream",
          "text": [
            "\r  9%|▉         | 46/486 [23:07<3:30:38, 28.72s/it]"
          ]
        },
        {
          "name": "stdout",
          "output_type": "stream",
          "text": [
            "Selfish Cunt was formed in\n",
            "0p159_Selfish_Cunt_was_formed_in\n",
            "0p159\n"
          ]
        },
        {
          "name": "stderr",
          "output_type": "stream",
          "text": [
            "\r 10%|▉         | 47/486 [23:30<3:17:32, 27.00s/it]"
          ]
        },
        {
          "name": "stdout",
          "output_type": "stream",
          "text": [
            "Nathan Appleton worked in the city of\n",
            "0p166_Nathan_Appleton_worked_in_the_city_of\n",
            "0p166\n"
          ]
        },
        {
          "name": "stderr",
          "output_type": "stream",
          "text": [
            "\r 10%|▉         | 48/486 [24:05<3:35:01, 29.46s/it]"
          ]
        },
        {
          "name": "stdout",
          "output_type": "stream",
          "text": [
            "Vega4 that was founded in\n",
            "0p078_Vega4_that_was_founded_in\n",
            "0p078\n"
          ]
        },
        {
          "name": "stderr",
          "output_type": "stream",
          "text": [
            "\r 10%|█         | 49/486 [24:28<3:19:53, 27.44s/it]"
          ]
        },
        {
          "name": "stdout",
          "output_type": "stream",
          "text": [
            "Joan Dickson was born in\n",
            "0p152_Joan_Dickson_was_born_in\n",
            "0p152\n"
          ]
        },
        {
          "name": "stderr",
          "output_type": "stream",
          "text": [
            "\r 10%|█         | 50/486 [24:51<3:09:38, 26.10s/it]"
          ]
        },
        {
          "name": "stdout",
          "output_type": "stream",
          "text": [
            "Darol Anger, the\n",
            "0p005_Darol_Anger__the\n",
            "0p005\n"
          ]
        },
        {
          "name": "stderr",
          "output_type": "stream",
          "text": [
            "\r 10%|█         | 51/486 [25:02<2:37:11, 21.68s/it]"
          ]
        },
        {
          "name": "stdout",
          "output_type": "stream",
          "text": [
            "Carpentras, in\n",
            "0p05_Carpentras__in\n",
            "0p05\n"
          ]
        },
        {
          "name": "stderr",
          "output_type": "stream",
          "text": [
            "\r 11%|█         | 52/486 [25:22<2:32:13, 21.05s/it]"
          ]
        },
        {
          "name": "stdout",
          "output_type": "stream",
          "text": [
            "Betsson, founded in\n",
            "0p125_Betsson__founded_in\n",
            "0p125\n"
          ]
        },
        {
          "name": "stderr",
          "output_type": "stream",
          "text": [
            "\r 11%|█         | 53/486 [25:33<2:10:36, 18.10s/it]"
          ]
        },
        {
          "name": "stdout",
          "output_type": "stream",
          "text": [
            "Thomas Vose Daily holds the position of\n",
            "0p008_Thomas_Vose_Daily_holds_the_position_of\n",
            "0p008\n"
          ]
        },
        {
          "name": "stderr",
          "output_type": "stream",
          "text": [
            "\r 11%|█         | 54/486 [26:00<2:28:26, 20.62s/it]"
          ]
        },
        {
          "name": "stdout",
          "output_type": "stream",
          "text": [
            "Alabama Shakes was founded in\n",
            "0p005_Alabama_Shakes_was_founded_in\n",
            "0p005\n"
          ]
        },
        {
          "name": "stderr",
          "output_type": "stream",
          "text": [
            "\r 11%|█▏        | 55/486 [26:19<2:25:29, 20.25s/it]"
          ]
        },
        {
          "name": "stdout",
          "output_type": "stream",
          "text": [
            "Friday Night Videos was released on\n",
            "0p085_Friday_Night_Videos_was_released_on\n",
            "0p085\n"
          ]
        },
        {
          "name": "stderr",
          "output_type": "stream",
          "text": [
            "\r 12%|█▏        | 56/486 [26:39<2:24:11, 20.12s/it]"
          ]
        },
        {
          "name": "stdout",
          "output_type": "stream",
          "text": [
            "MacPaint was created by\n",
            "0p063_MacPaint_was_created_by\n",
            "0p063\n"
          ]
        },
        {
          "name": "stderr",
          "output_type": "stream",
          "text": [
            "\r 12%|█▏        | 57/486 [26:58<2:22:13, 19.89s/it]"
          ]
        },
        {
          "name": "stdout",
          "output_type": "stream",
          "text": [
            "The genre played by Hugo Weisgall is\n",
            "0p023_The_genre_played_by_Hugo_Weisgall_is\n",
            "0p023\n"
          ]
        },
        {
          "name": "stderr",
          "output_type": "stream",
          "text": [
            "\r 12%|█▏        | 58/486 [27:33<2:54:38, 24.48s/it]"
          ]
        },
        {
          "name": "stdout",
          "output_type": "stream",
          "text": [
            "Second Verdict was released on\n",
            "0p102_Second_Verdict_was_released_on\n",
            "0p102\n"
          ]
        },
        {
          "name": "stderr",
          "output_type": "stream",
          "text": [
            "\r 12%|█▏        | 59/486 [27:53<2:43:23, 22.96s/it]"
          ]
        },
        {
          "name": "stdout",
          "output_type": "stream",
          "text": [
            "myGRAIN was founded in\n",
            "0p105_myGRAIN_was_founded_in\n",
            "0p105\n"
          ]
        },
        {
          "name": "stderr",
          "output_type": "stream",
          "text": [
            "\r 12%|█▏        | 60/486 [28:16<2:42:55, 22.95s/it]"
          ]
        },
        {
          "name": "stdout",
          "output_type": "stream",
          "text": [
            "Hjalmar Branting passed away in\n",
            "0p035_Hjalmar_Branting_passed_away_in\n",
            "0p035\n"
          ]
        },
        {
          "name": "stderr",
          "output_type": "stream",
          "text": [
            "\r 13%|█▎        | 61/486 [28:51<3:09:40, 26.78s/it]"
          ]
        },
        {
          "name": "stdout",
          "output_type": "stream",
          "text": [
            "The language of Van der Valk was\n",
            "0p197_The_language_of_Van_der_Valk_was\n",
            "0p197\n"
          ]
        },
        {
          "name": "stderr",
          "output_type": "stream",
          "text": [
            "\r 13%|█▎        | 62/486 [29:18<3:08:39, 26.70s/it]"
          ]
        },
        {
          "name": "stdout",
          "output_type": "stream",
          "text": [
            "The twin city of Chicago is\n",
            "0p182_The_twin_city_of_Chicago_is\n",
            "0p182\n"
          ]
        },
        {
          "name": "stderr",
          "output_type": "stream",
          "text": [
            "\r 13%|█▎        | 63/486 [29:37<2:52:00, 24.40s/it]"
          ]
        },
        {
          "name": "stdout",
          "output_type": "stream",
          "text": [
            "What does Dhoom 3 play? They play\n",
            "0p159_What_does_Dhoom_3_play__They_play\n",
            "0p159\n"
          ]
        },
        {
          "name": "stderr",
          "output_type": "stream",
          "text": [
            "\r 13%|█▎        | 64/486 [30:12<3:13:46, 27.55s/it]"
          ]
        },
        {
          "name": "stdout",
          "output_type": "stream",
          "text": [
            "Marie Versini's occupation is\n",
            "0p027_Marie_Versini_s_occupation_is\n",
            "0p027\n"
          ]
        },
        {
          "name": "stderr",
          "output_type": "stream",
          "text": [
            "\r 13%|█▎        | 65/486 [30:31<2:56:10, 25.11s/it]"
          ]
        },
        {
          "name": "stdout",
          "output_type": "stream",
          "text": [
            "Rampart Ridge belongs to the continent of\n",
            "0p034_Rampart_Ridge_belongs_to_the_continent_of\n",
            "0p034\n"
          ]
        },
        {
          "name": "stderr",
          "output_type": "stream",
          "text": [
            "\r 14%|█▎        | 66/486 [31:06<3:16:53, 28.13s/it]"
          ]
        },
        {
          "name": "stdout",
          "output_type": "stream",
          "text": [
            "Iraq Football Association is a part of the\n",
            "0p169_Iraq_Football_Association_is_a_part_of_the\n",
            "0p169\n"
          ]
        },
        {
          "name": "stderr",
          "output_type": "stream",
          "text": [
            "\r 14%|█▍        | 67/486 [31:33<3:12:32, 27.57s/it]"
          ]
        },
        {
          "name": "stdout",
          "output_type": "stream",
          "text": [
            "The language used by Salvatore Accardo is\n",
            "0p184_The_language_used_by_Salvatore_Accardo_is\n",
            "0p184\n"
          ]
        },
        {
          "name": "stderr",
          "output_type": "stream",
          "text": [
            "\r 14%|█▍        | 68/486 [32:12<3:37:34, 31.23s/it]"
          ]
        },
        {
          "name": "stdout",
          "output_type": "stream",
          "text": [
            "The domain of work of Svante August Arrhenius is\n",
            "0p017_The_domain_of_work_of_Svante_August_Arrhenius_is\n",
            "0p017\n"
          ]
        },
        {
          "name": "stderr",
          "output_type": "stream",
          "text": [
            "\r 14%|█▍        | 69/486 [33:34<5:22:40, 46.43s/it]"
          ]
        },
        {
          "name": "stdout",
          "output_type": "stream",
          "text": [
            "Yangtze is in\n",
            "0p003_Yangtze_is_in\n",
            "0p003\n"
          ]
        },
        {
          "name": "stderr",
          "output_type": "stream",
          "text": [
            "\r 14%|█▍        | 70/486 [33:46<4:09:01, 35.92s/it]"
          ]
        },
        {
          "name": "stdout",
          "output_type": "stream",
          "text": [
            "The twin city of Karachi is\n",
            "0p179_The_twin_city_of_Karachi_is\n",
            "0p179\n"
          ]
        },
        {
          "name": "stderr",
          "output_type": "stream",
          "text": [
            "\r 15%|█▍        | 71/486 [34:05<3:33:22, 30.85s/it]"
          ]
        },
        {
          "name": "stdout",
          "output_type": "stream",
          "text": [
            "The profession of Jill Hyem is\n",
            "0p004_The_profession_of_Jill_Hyem_is\n",
            "0p004\n"
          ]
        },
        {
          "name": "stderr",
          "output_type": "stream",
          "text": [
            "\r 15%|█▍        | 72/486 [34:27<3:16:04, 28.42s/it]"
          ]
        },
        {
          "name": "stdout",
          "output_type": "stream",
          "text": [
            "Halle Berry's profession is a\n",
            "0p009_Halle_Berry_s_profession_is_a\n",
            "0p009\n"
          ]
        },
        {
          "name": "stderr",
          "output_type": "stream",
          "text": [
            "\r 15%|█▌        | 73/486 [34:50<3:03:52, 26.71s/it]"
          ]
        },
        {
          "name": "stdout",
          "output_type": "stream",
          "text": [
            "Odbert Island is a part of the continent of\n",
            "0p014_Odbert_Island_is_a_part_of_the_continent_of\n",
            "0p014\n"
          ]
        },
        {
          "name": "stderr",
          "output_type": "stream",
          "text": [
            "\r 15%|█▌        | 74/486 [35:34<3:39:21, 31.95s/it]"
          ]
        },
        {
          "name": "stdout",
          "output_type": "stream",
          "text": [
            "Wohlthat Mountains is a part of the continent of\n",
            "0p052_Wohlthat_Mountains_is_a_part_of_the_continent_of\n",
            "0p052\n"
          ]
        },
        {
          "name": "stderr",
          "output_type": "stream",
          "text": [
            "\r 15%|█▌        | 75/486 [36:19<4:03:55, 35.61s/it]"
          ]
        },
        {
          "name": "stdout",
          "output_type": "stream",
          "text": [
            "The mother tongue of Yuliya Snigir is\n",
            "0p054_The_mother_tongue_of_Yuliya_Snigir_is\n",
            "0p054\n"
          ]
        },
        {
          "name": "stderr",
          "output_type": "stream",
          "text": [
            "\r 16%|█▌        | 76/486 [37:03<4:22:08, 38.36s/it]"
          ]
        },
        {
          "name": "stdout",
          "output_type": "stream",
          "text": [
            "MMA Live premieres on\n",
            "0p011_MMA_Live_premieres_on\n",
            "0p011\n"
          ]
        },
        {
          "name": "stderr",
          "output_type": "stream",
          "text": [
            "\r 16%|█▌        | 77/486 [37:23<3:42:51, 32.69s/it]"
          ]
        },
        {
          "name": "stdout",
          "output_type": "stream",
          "text": [
            "Don Lusher performs\n",
            "0p134_Don_Lusher_performs\n",
            "0p134\n"
          ]
        },
        {
          "name": "stderr",
          "output_type": "stream",
          "text": [
            "\r 16%|█▌        | 78/486 [37:32<2:54:00, 25.59s/it]"
          ]
        },
        {
          "name": "stdout",
          "output_type": "stream",
          "text": [
            "Semyon Vorontsov is originally from\n",
            "0p121_Semyon_Vorontsov_is_originally_from\n",
            "0p121\n"
          ]
        },
        {
          "name": "stderr",
          "output_type": "stream",
          "text": [
            "\r 16%|█▋        | 79/486 [38:08<3:14:12, 28.63s/it]"
          ]
        },
        {
          "name": "stdout",
          "output_type": "stream",
          "text": [
            "Mercer Ellington plays\n",
            "0p044_Mercer_Ellington_plays\n",
            "0p044\n"
          ]
        },
        {
          "name": "stderr",
          "output_type": "stream",
          "text": [
            "\r 16%|█▋        | 80/486 [38:27<2:55:44, 25.97s/it]"
          ]
        },
        {
          "name": "stdout",
          "output_type": "stream",
          "text": [
            "Dodge Challenger, developed by\n",
            "0p145_Dodge_Challenger__developed_by\n",
            "0p145\n"
          ]
        },
        {
          "name": "stderr",
          "output_type": "stream",
          "text": [
            "\r 17%|█▋        | 81/486 [38:47<2:42:00, 24.00s/it]"
          ]
        },
        {
          "name": "stdout",
          "output_type": "stream",
          "text": [
            "Urban Outfitters was formed in\n",
            "0p004_Urban_Outfitters_was_formed_in\n",
            "0p004\n"
          ]
        },
        {
          "name": "stderr",
          "output_type": "stream",
          "text": [
            "\r 17%|█▋        | 82/486 [39:10<2:39:30, 23.69s/it]"
          ]
        },
        {
          "name": "stdout",
          "output_type": "stream",
          "text": [
            "selenium, which is named for\n",
            "0p144_selenium__which_is_named_for\n",
            "0p144\n"
          ]
        },
        {
          "name": "stderr",
          "output_type": "stream",
          "text": [
            "\r 17%|█▋        | 83/486 [39:32<2:36:44, 23.34s/it]"
          ]
        },
        {
          "name": "stdout",
          "output_type": "stream",
          "text": [
            "The language used by Giovanni Bertati is\n",
            "0p014_The_language_used_by_Giovanni_Bertati_is\n",
            "0p014\n"
          ]
        },
        {
          "name": "stderr",
          "output_type": "stream",
          "text": [
            "\r 17%|█▋        | 84/486 [39:58<2:42:13, 24.21s/it]"
          ]
        },
        {
          "name": "stdout",
          "output_type": "stream",
          "text": [
            "Frank Markham worked in the city of\n",
            "0p107_Frank_Markham_worked_in_the_city_of\n",
            "0p107\n"
          ]
        },
        {
          "name": "stderr",
          "output_type": "stream",
          "text": [
            "\r 17%|█▋        | 85/486 [40:25<2:45:52, 24.82s/it]"
          ]
        },
        {
          "name": "stdout",
          "output_type": "stream",
          "text": [
            "Flavio Zanonato, who has the position of\n",
            "0p061_Flavio_Zanonato__who_has_the_position_of\n",
            "0p061\n"
          ]
        },
        {
          "name": "stderr",
          "output_type": "stream",
          "text": [
            "\r 18%|█▊        | 86/486 [41:33<4:11:38, 37.75s/it]"
          ]
        },
        {
          "name": "stdout",
          "output_type": "stream",
          "text": [
            "The Banana Splits premieres on\n",
            "0p185_The_Banana_Splits_premieres_on\n",
            "0p185\n"
          ]
        },
        {
          "name": "stderr",
          "output_type": "stream",
          "text": [
            "\r 18%|█▊        | 87/486 [41:56<3:41:29, 33.31s/it]"
          ]
        },
        {
          "name": "stdout",
          "output_type": "stream",
          "text": [
            "Doriva, who plays the position\n",
            "0p051_Doriva__who_plays_the_position\n",
            "0p051\n"
          ]
        },
        {
          "name": "stderr",
          "output_type": "stream",
          "text": [
            "\r 18%|█▊        | 88/486 [42:22<3:26:53, 31.19s/it]"
          ]
        },
        {
          "name": "stdout",
          "output_type": "stream",
          "text": [
            "The original language of Yalkut Yosef is\n",
            "0p094_The_original_language_of_Yalkut_Yosef_is\n",
            "0p094\n"
          ]
        },
        {
          "name": "stderr",
          "output_type": "stream",
          "text": [
            "\r 18%|█▊        | 89/486 [43:01<3:43:20, 33.75s/it]"
          ]
        },
        {
          "name": "stdout",
          "output_type": "stream",
          "text": [
            "Bobby Hull is a professional\n",
            "0p06_Bobby_Hull_is_a_professional\n",
            "0p06\n"
          ]
        },
        {
          "name": "stderr",
          "output_type": "stream",
          "text": [
            "\r 19%|█▊        | 90/486 [43:21<3:14:24, 29.46s/it]"
          ]
        },
        {
          "name": "stdout",
          "output_type": "stream",
          "text": [
            "The official language of Tavannes is\n",
            "0p115_The_official_language_of_Tavannes_is\n",
            "0p115\n"
          ]
        },
        {
          "name": "stderr",
          "output_type": "stream",
          "text": [
            "\r 19%|█▊        | 91/486 [43:47<3:07:36, 28.50s/it]"
          ]
        },
        {
          "name": "stdout",
          "output_type": "stream",
          "text": [
            "Toronto is a twin city of\n",
            "0p031_Toronto_is_a_twin_city_of\n",
            "0p031\n"
          ]
        },
        {
          "name": "stderr",
          "output_type": "stream",
          "text": [
            "\r 19%|█▉        | 92/486 [44:06<2:48:27, 25.65s/it]"
          ]
        },
        {
          "name": "stdout",
          "output_type": "stream",
          "text": [
            "Anton Zeilinger works in the field of\n",
            "0p196_Anton_Zeilinger_works_in_the_field_of\n",
            "0p196\n"
          ]
        },
        {
          "name": "stderr",
          "output_type": "stream",
          "text": [
            "\r 19%|█▉        | 93/486 [44:46<3:15:47, 29.89s/it]"
          ]
        },
        {
          "name": "stdout",
          "output_type": "stream",
          "text": [
            "Real People premieres on\n",
            "0p19_Real_People_premieres_on\n",
            "0p19\n"
          ]
        },
        {
          "name": "stderr",
          "output_type": "stream",
          "text": [
            "\r 19%|█▉        | 94/486 [44:57<2:38:48, 24.31s/it]"
          ]
        },
        {
          "name": "stdout",
          "output_type": "stream",
          "text": [
            "Ken O'Brien plays in the position of\n",
            "0p164_Ken_O_Brien_plays_in_the_position_of\n",
            "0p164\n"
          ]
        },
        {
          "name": "stderr",
          "output_type": "stream",
          "text": [
            "\r 20%|█▉        | 95/486 [45:32<2:59:38, 27.57s/it]"
          ]
        },
        {
          "name": "stdout",
          "output_type": "stream",
          "text": [
            "Noel Mewton-Wood, performing on the\n",
            "0p09_Noel_Mewton_Wood__performing_on_the\n",
            "0p09\n"
          ]
        },
        {
          "name": "stderr",
          "output_type": "stream",
          "text": [
            "\r 20%|█▉        | 96/486 [46:12<3:23:33, 31.32s/it]"
          ]
        },
        {
          "name": "stdout",
          "output_type": "stream",
          "text": [
            "In Janakkala, the language spoken is\n",
            "0p073_In_Janakkala__the_language_spoken_is\n",
            "0p073\n"
          ]
        },
        {
          "name": "stderr",
          "output_type": "stream",
          "text": [
            " 20%|██        | 98/486 [46:52<2:33:06, 23.68s/it]"
          ]
        },
        {
          "name": "stdout",
          "output_type": "stream",
          "text": [
            "Vladimír Růžička, the\n",
            "0p017_Vladim_r_R__i_ka__the\n",
            "0p017\n",
            "Skylar Grey, performing on the\n",
            "0p077_Skylar_Grey__performing_on_the\n",
            "0p077\n"
          ]
        },
        {
          "name": "stderr",
          "output_type": "stream",
          "text": [
            "\r 20%|██        | 99/486 [47:15<2:30:54, 23.40s/it]"
          ]
        },
        {
          "name": "stdout",
          "output_type": "stream",
          "text": [
            "The official religion of Amānullāh Khān is\n",
            "0p121_The_official_religion_of_Am_null_h_Kh_n_is\n",
            "0p121\n"
          ]
        },
        {
          "name": "stderr",
          "output_type": "stream",
          "text": [
            "\r 21%|██        | 100/486 [48:30<4:10:23, 38.92s/it]"
          ]
        },
        {
          "name": "stdout",
          "output_type": "stream",
          "text": [
            "Mark Malone plays as\n",
            "0p188_Mark_Malone_plays_as\n",
            "0p188\n"
          ]
        },
        {
          "name": "stderr",
          "output_type": "stream",
          "text": [
            "\r 21%|██        | 100/486 [48:39<3:07:48, 29.19s/it]\n"
          ]
        }
      ],
      "source": [
        "from tqdm import tqdm\n",
        "i = 0\n",
        "plotsubset = \"/content/drive/MyDrive/rome/data/bad_uncertains/\"\n",
        "os.makedirs(plotsubset, exist_ok=True)\n",
        "# for knowledge in knowns[0:2]:\n",
        "for i in tqdm(bad_uncertain_cfs):\n",
        "    try:\n",
        "        subject = bad_uncertain_cfs[i]['requested_rewrite']['subject']\n",
        "        prompt = bad_uncertain_cfs[i]['requested_rewrite']['prompt'].replace(\"{}\", subject)\n",
        "        print(prompt)\n",
        "        token_prob = str(round(float(bad_uncertain_cfs[i]['token_probs'][0][1]), 3)).replace(\".\", \"p\")\n",
        "        pdf_name = token_prob + \"_\" + prompt.replace(' ', '_').replace(\".\", \"_\")\n",
        "        pdf_name = re.sub('[^0-9a-zA-Z]', '_', pdf_name)\n",
        "        print(pdf_name)\n",
        "        print(token_prob)\n",
        "        results_dict = plot_flows(mt, prompt, subject, plot_num=i,\n",
        "                                include_plots=True, plots=[\"mlp\"], \n",
        "                                savepdf=pdf_name, plotsubset=plotsubset, results_dict=results_dict)\n",
        "    except:\n",
        "        pass\n",
        "    i += 1\n",
        "    if i > 100:\n",
        "        break"
      ]
    },
    {
      "cell_type": "code",
      "execution_count": 46,
      "metadata": {
        "colab": {
          "base_uri": "https://localhost:8080/"
        },
        "id": "n5reGnc4kax4",
        "outputId": "afc0cbd4-2b7b-4946-fe68-45dbf2a5aff8"
      },
      "outputs": [
        {
          "name": "stderr",
          "output_type": "stream",
          "text": [
            "\r  0%|          | 0/50 [00:00<?, ?it/s]"
          ]
        },
        {
          "name": "stdout",
          "output_type": "stream",
          "text": [
            "Vinson_Massif_is_located_in_the_continent_of\n"
          ]
        },
        {
          "name": "stderr",
          "output_type": "stream",
          "text": [
            "\r  2%|▏         | 1/50 [00:39<32:12, 39.45s/it]"
          ]
        },
        {
          "name": "stdout",
          "output_type": "stream",
          "text": [
            "Beats_Music_is_owned_by\n"
          ]
        },
        {
          "name": "stderr",
          "output_type": "stream",
          "text": [
            "\r  4%|▍         | 2/50 [00:58<22:07, 27.65s/it]"
          ]
        },
        {
          "name": "stdout",
          "output_type": "stream",
          "text": [
            "Audible_com_is_owned_by\n"
          ]
        },
        {
          "name": "stderr",
          "output_type": "stream",
          "text": [
            "\r  6%|▌         | 3/50 [01:21<19:57, 25.49s/it]"
          ]
        },
        {
          "name": "stdout",
          "output_type": "stream",
          "text": [
            "The_Big_Bang_Theory_premieres_on\n"
          ]
        },
        {
          "name": "stderr",
          "output_type": "stream",
          "text": [
            "\r  8%|▊         | 4/50 [01:44<18:45, 24.48s/it]"
          ]
        },
        {
          "name": "stdout",
          "output_type": "stream",
          "text": [
            "MacApp__a_product_created_by\n"
          ]
        },
        {
          "name": "stderr",
          "output_type": "stream",
          "text": [
            "\r 10%|█         | 5/50 [02:07<17:49, 23.76s/it]"
          ]
        },
        {
          "name": "stdout",
          "output_type": "stream",
          "text": [
            "Giuseppe_Angeli__who_has_a_citizenship_of\n"
          ]
        },
        {
          "name": "stderr",
          "output_type": "stream",
          "text": [
            "\r 12%|█▏        | 6/50 [02:51<22:34, 30.78s/it]"
          ]
        },
        {
          "name": "stdout",
          "output_type": "stream",
          "text": [
            "Catalonia_belongs_to_the_continent_of\n"
          ]
        },
        {
          "name": "stderr",
          "output_type": "stream",
          "text": [
            "\r 14%|█▍        | 7/50 [03:14<20:06, 28.06s/it]"
          ]
        },
        {
          "name": "stdout",
          "output_type": "stream",
          "text": [
            "In_Marshall_Islands__the_language_spoken_is_a_mixture_of\n"
          ]
        },
        {
          "name": "stderr",
          "output_type": "stream",
          "text": [
            "\r 16%|█▌        | 8/50 [03:57<23:02, 32.93s/it]"
          ]
        },
        {
          "name": "stdout",
          "output_type": "stream",
          "text": [
            "Leslie_Moonves_is_employed_by\n"
          ]
        },
        {
          "name": "stderr",
          "output_type": "stream",
          "text": [
            "\r 18%|█▊        | 9/50 [04:20<20:21, 29.80s/it]"
          ]
        },
        {
          "name": "stdout",
          "output_type": "stream",
          "text": [
            "The_original_language_of_De_finibus_bonorum_et_malorum_is_the_same_as_the\n"
          ]
        },
        {
          "name": "stderr",
          "output_type": "stream",
          "text": [
            "\r 20%|██        | 10/50 [06:07<35:47, 53.68s/it]"
          ]
        },
        {
          "name": "stdout",
          "output_type": "stream",
          "text": [
            "Kirkpatrick_Glacier_belongs_to_the_continent_of\n"
          ]
        },
        {
          "name": "stderr",
          "output_type": "stream",
          "text": [
            "\r 22%|██▏       | 11/50 [06:42<31:11, 47.99s/it]"
          ]
        },
        {
          "name": "stdout",
          "output_type": "stream",
          "text": [
            "The_headquarter_of_Army_of_the_Guardians_of_the_Islamic_Revolution_is_in\n"
          ]
        },
        {
          "name": "stderr",
          "output_type": "stream",
          "text": [
            "\r 24%|██▍       | 12/50 [08:04<36:53, 58.25s/it]"
          ]
        },
        {
          "name": "stdout",
          "output_type": "stream",
          "text": [
            "Il_Gazzettino_was_written_in_the_early_1980s__when_the\n"
          ]
        },
        {
          "name": "stderr",
          "output_type": "stream",
          "text": [
            "\r 26%|██▌       | 13/50 [09:34<41:49, 67.83s/it]"
          ]
        },
        {
          "name": "stdout",
          "output_type": "stream",
          "text": [
            "Xamarin__from_the\n"
          ]
        },
        {
          "name": "stderr",
          "output_type": "stream",
          "text": [
            "\r 28%|██▊       | 14/50 [09:53<31:54, 53.19s/it]"
          ]
        },
        {
          "name": "stdout",
          "output_type": "stream",
          "text": [
            "Eavan_Boland_was_born_in\n"
          ]
        },
        {
          "name": "stderr",
          "output_type": "stream",
          "text": [
            "\r 30%|███       | 15/50 [10:16<25:42, 44.06s/it]"
          ]
        },
        {
          "name": "stdout",
          "output_type": "stream",
          "text": [
            "Comme_j_ai_mal_is_written_in\n"
          ]
        },
        {
          "name": "stderr",
          "output_type": "stream",
          "text": [
            "\r 32%|███▏      | 16/50 [10:52<23:31, 41.52s/it]"
          ]
        },
        {
          "name": "stdout",
          "output_type": "stream",
          "text": [
            "The_language_used_by_Juan_Bautista_de_Anza_is_a_bit_different_from_the_language_used_by_the\n"
          ]
        },
        {
          "name": "stderr",
          "output_type": "stream",
          "text": [
            "\r 34%|███▍      | 17/50 [13:20<40:35, 73.80s/it]"
          ]
        },
        {
          "name": "stdout",
          "output_type": "stream",
          "text": [
            "Alfred_Hitchcock_Presents_debuted_on\n"
          ]
        },
        {
          "name": "stderr",
          "output_type": "stream",
          "text": [
            "\r 36%|███▌      | 18/50 [13:44<31:14, 58.58s/it]"
          ]
        },
        {
          "name": "stdout",
          "output_type": "stream",
          "text": [
            "Tizen_is_developed_by_a_consortium_of_companies_including\n"
          ]
        },
        {
          "name": "stderr",
          "output_type": "stream",
          "text": [
            "\r 38%|███▊      | 19/50 [14:22<27:12, 52.66s/it]"
          ]
        },
        {
          "name": "stdout",
          "output_type": "stream",
          "text": [
            "Honus_Wagner_professionally_plays_the_sport_of\n"
          ]
        },
        {
          "name": "stderr",
          "output_type": "stream",
          "text": [
            "\r 40%|████      | 20/50 [14:49<22:21, 44.73s/it]"
          ]
        },
        {
          "name": "stdout",
          "output_type": "stream",
          "text": [
            "samurai_cinema__that_originated_in\n"
          ]
        },
        {
          "name": "stderr",
          "output_type": "stream",
          "text": [
            "\r 42%|████▏     | 21/50 [15:11<18:25, 38.12s/it]"
          ]
        },
        {
          "name": "stdout",
          "output_type": "stream",
          "text": [
            "The_capital_of_Roman_Republic_is\n"
          ]
        },
        {
          "name": "stderr",
          "output_type": "stream",
          "text": [
            "\r 44%|████▍     | 22/50 [15:31<15:08, 32.44s/it]"
          ]
        },
        {
          "name": "stdout",
          "output_type": "stream",
          "text": [
            "Henri_Debain_was_born_in\n"
          ]
        },
        {
          "name": "stderr",
          "output_type": "stream",
          "text": [
            "\r 46%|████▌     | 23/50 [15:54<13:19, 29.60s/it]"
          ]
        },
        {
          "name": "stdout",
          "output_type": "stream",
          "text": [
            "Adriano_Celentano_is_a_citizen_of\n"
          ]
        },
        {
          "name": "stderr",
          "output_type": "stream",
          "text": [
            "\r 48%|████▊     | 24/50 [16:34<14:11, 32.75s/it]"
          ]
        },
        {
          "name": "stdout",
          "output_type": "stream",
          "text": [
            "Czech_Republic_national_football_team_is_a_member_of_the\n"
          ]
        },
        {
          "name": "stderr",
          "output_type": "stream",
          "text": [
            "\r 50%|█████     | 25/50 [17:18<15:07, 36.32s/it]"
          ]
        },
        {
          "name": "stdout",
          "output_type": "stream",
          "text": [
            "Windows_Media_Player_is_developed_by\n"
          ]
        },
        {
          "name": "stderr",
          "output_type": "stream",
          "text": [
            "\r 52%|█████▏    | 26/50 [17:38<12:29, 31.23s/it]"
          ]
        },
        {
          "name": "stdout",
          "output_type": "stream",
          "text": [
            "NTFS_is_developed_by\n"
          ]
        },
        {
          "name": "stderr",
          "output_type": "stream",
          "text": [
            "\r 54%|█████▍    | 27/50 [17:57<10:36, 27.69s/it]"
          ]
        },
        {
          "name": "stdout",
          "output_type": "stream",
          "text": [
            "Knud__Hereditary_Prince_of_Denmark_passed_away_in\n"
          ]
        },
        {
          "name": "stderr",
          "output_type": "stream",
          "text": [
            "\r 56%|█████▌    | 28/50 [18:42<12:06, 33.01s/it]"
          ]
        },
        {
          "name": "stdout",
          "output_type": "stream",
          "text": [
            "Don_Shula_professionally_plays_the_sport_of\n"
          ]
        },
        {
          "name": "stderr",
          "output_type": "stream",
          "text": [
            "\r 58%|█████▊    | 29/50 [19:09<10:50, 30.98s/it]"
          ]
        },
        {
          "name": "stdout",
          "output_type": "stream",
          "text": [
            "The_language_of_El_Mercurio_was_a_mixture_of\n"
          ]
        },
        {
          "name": "stderr",
          "output_type": "stream",
          "text": [
            "\r 60%|██████    | 30/50 [19:53<11:38, 34.91s/it]"
          ]
        },
        {
          "name": "stdout",
          "output_type": "stream",
          "text": [
            "Iron_Man_is_affiliated_with_the\n"
          ]
        },
        {
          "name": "stderr",
          "output_type": "stream",
          "text": [
            "\r 62%|██████▏   | 31/50 [20:12<09:33, 30.19s/it]"
          ]
        },
        {
          "name": "stdout",
          "output_type": "stream",
          "text": [
            "The_location_of_Massachusetts_Institute_of_Technology_is_in\n"
          ]
        },
        {
          "name": "stderr",
          "output_type": "stream",
          "text": [
            "\r 64%|██████▍   | 32/50 [20:47<09:30, 31.67s/it]"
          ]
        },
        {
          "name": "stdout",
          "output_type": "stream",
          "text": [
            "Vietnam_belongs_to_the_continent_of\n"
          ]
        },
        {
          "name": "stderr",
          "output_type": "stream",
          "text": [
            "\r 66%|██████▌   | 33/50 [21:14<08:34, 30.26s/it]"
          ]
        },
        {
          "name": "stdout",
          "output_type": "stream",
          "text": [
            "The_Tonight_Show_with_Jay_Leno_premieres_on\n"
          ]
        },
        {
          "name": "stderr",
          "output_type": "stream",
          "text": [
            "\r 68%|██████▊   | 34/50 [21:54<08:52, 33.27s/it]"
          ]
        },
        {
          "name": "stdout",
          "output_type": "stream",
          "text": [
            "Philippines_s_capital_\n"
          ]
        },
        {
          "name": "stderr",
          "output_type": "stream",
          "text": [
            "\r 70%|███████   | 35/50 [22:06<06:39, 26.66s/it]"
          ]
        },
        {
          "name": "stdout",
          "output_type": "stream",
          "text": [
            "Frederick_Banting_specializes_in_the_study_of_the\n"
          ]
        },
        {
          "name": "stderr",
          "output_type": "stream",
          "text": [
            "\r 72%|███████▏  | 36/50 [22:45<07:06, 30.49s/it]"
          ]
        },
        {
          "name": "stdout",
          "output_type": "stream",
          "text": [
            "Clifford_Curzon__performing_on_the\n"
          ]
        },
        {
          "name": "stderr",
          "output_type": "stream",
          "text": [
            "\r 74%|███████▍  | 37/50 [23:20<06:55, 31.96s/it]"
          ]
        },
        {
          "name": "stdout",
          "output_type": "stream",
          "text": [
            "Windows_Media_Audio__a_product_developed_by\n"
          ]
        },
        {
          "name": "stderr",
          "output_type": "stream",
          "text": [
            "\r 76%|███████▌  | 38/50 [23:47<06:02, 30.24s/it]"
          ]
        },
        {
          "name": "stdout",
          "output_type": "stream",
          "text": [
            "The_location_of_Galatasaray_University_is_in_the_heart_of\n"
          ]
        },
        {
          "name": "stderr",
          "output_type": "stream",
          "text": [
            "\r 78%|███████▊  | 39/50 [25:01<07:56, 43.35s/it]"
          ]
        },
        {
          "name": "stdout",
          "output_type": "stream",
          "text": [
            "In_Nokia__the_language_spoken_is\n"
          ]
        },
        {
          "name": "stderr",
          "output_type": "stream",
          "text": [
            "\r 80%|████████  | 40/50 [25:23<06:10, 37.04s/it]"
          ]
        },
        {
          "name": "stdout",
          "output_type": "stream",
          "text": [
            "Northern_Nigeria_Protectorate_follows_the_religion_of\n"
          ]
        },
        {
          "name": "stderr",
          "output_type": "stream",
          "text": [
            "\r 82%|████████▏ | 41/50 [25:49<05:04, 33.88s/it]"
          ]
        },
        {
          "name": "stdout",
          "output_type": "stream",
          "text": [
            "Deobandi_follows_the_religion_of\n"
          ]
        },
        {
          "name": "stderr",
          "output_type": "stream",
          "text": [
            "\r 84%|████████▍ | 42/50 [26:12<04:04, 30.53s/it]"
          ]
        },
        {
          "name": "stdout",
          "output_type": "stream",
          "text": [
            "Odnoklassniki_was_written_in_the_early_1990s_by_a_group_of\n"
          ]
        },
        {
          "name": "stderr",
          "output_type": "stream",
          "text": [
            "\r 86%|████████▌ | 43/50 [27:58<06:12, 53.25s/it]"
          ]
        },
        {
          "name": "stdout",
          "output_type": "stream",
          "text": [
            "Zeno_of_Verona_holds_the_position_of_the_first\n"
          ]
        },
        {
          "name": "stderr",
          "output_type": "stream",
          "text": [
            "\r 88%|████████▊ | 44/50 [28:43<05:03, 50.58s/it]"
          ]
        },
        {
          "name": "stdout",
          "output_type": "stream",
          "text": [
            "Jean_Pierre_Van_Rossem__who_has_a_citizenship_of\n"
          ]
        },
        {
          "name": "stderr",
          "output_type": "stream",
          "text": [
            "\r 90%|█████████ | 45/50 [29:51<04:38, 55.75s/it]"
          ]
        },
        {
          "name": "stdout",
          "output_type": "stream",
          "text": [
            "Joseph_Schumpeter_s_domain_of_work_is_the\n"
          ]
        },
        {
          "name": "stderr",
          "output_type": "stream",
          "text": [
            "\r 92%|█████████▏| 46/50 [30:30<03:23, 50.86s/it]"
          ]
        },
        {
          "name": "stdout",
          "output_type": "stream",
          "text": [
            "Felix_Salmon__who_works_as_a\n"
          ]
        },
        {
          "name": "stderr",
          "output_type": "stream",
          "text": [
            "\r 94%|█████████▍| 47/50 [30:56<02:10, 43.47s/it]"
          ]
        },
        {
          "name": "stdout",
          "output_type": "stream",
          "text": [
            "Grand_Duchy_of_Finland_s_capital_\n"
          ]
        },
        {
          "name": "stderr",
          "output_type": "stream",
          "text": [
            "\r 96%|█████████▌| 48/50 [31:32<01:22, 41.12s/it]"
          ]
        },
        {
          "name": "stdout",
          "output_type": "stream",
          "text": [
            "Goodreads_owner__and_former\n"
          ]
        },
        {
          "name": "stderr",
          "output_type": "stream",
          "text": [
            "\r 98%|█████████▊| 49/50 [31:51<00:34, 34.53s/it]"
          ]
        },
        {
          "name": "stdout",
          "output_type": "stream",
          "text": [
            "Rhine_belongs_to_the_continent_of\n"
          ]
        },
        {
          "name": "stderr",
          "output_type": "stream",
          "text": [
            "100%|██████████| 50/50 [32:14<00:00, 38.68s/it]\n"
          ]
        }
      ],
      "source": [
        "from tqdm import tqdm\n",
        "i = 0\n",
        "# results_dict = {}\n",
        "plotsubset = \"/content/drive/MyDrive/rome/data/knowns/\"\n",
        "os.makedirs(plotsubset, exist_ok=True)\n",
        "for known in tqdm(knowns[0:50]):\n",
        "    try:\n",
        "        subject = known['subject']\n",
        "        prompt = known['prompt'].replace(\"{}\", subject)\n",
        "        pdf_name = prompt.replace(' ', '_').replace(\".\", \"_\")\n",
        "        pdf_name = re.sub('[^0-9a-zA-Z]', '_', pdf_name)\n",
        "        print(pdf_name)\n",
        "        results_dict = plot_flows(mt, prompt, subject, plot_num=i,\n",
        "                                include_plots=True, plots=[\"mlp\"], \n",
        "                                savepdf=pdf_name, plotsubset=plotsubset, results_dict=results_dict)\n",
        "    except:\n",
        "        pass\n",
        "    i += 1\n",
        "    # if i > 400:\n",
        "    #     break"
      ]
    },
    {
      "cell_type": "code",
      "execution_count": 47,
      "metadata": {
        "colab": {
          "base_uri": "https://localhost:8080/"
        },
        "id": "qhQd8FrAXmQY",
        "outputId": "34aef428-b32f-4ce1-f5d1-2353cb2e1c30"
      },
      "outputs": [
        {
          "name": "stderr",
          "output_type": "stream",
          "text": [
            "\r  0%|          | 0/2677 [00:00<?, ?it/s]"
          ]
        },
        {
          "name": "stdout",
          "output_type": "stream",
          "text": [
            "1p0_The_mother_tongue_of_Danielle_Darrieux_is\n",
            "1p0\n"
          ]
        },
        {
          "name": "stderr",
          "output_type": "stream",
          "text": [
            "\r  0%|          | 1/2677 [00:35<26:05:29, 35.10s/it]"
          ]
        },
        {
          "name": "stdout",
          "output_type": "stream",
          "text": [
            "1p0_The_mother_tongue_of_Go_Hyeon_jeong_is\n",
            "1p0\n"
          ]
        },
        {
          "name": "stderr",
          "output_type": "stream",
          "text": [
            "\r  0%|          | 2/2677 [01:43<40:33:08, 54.58s/it]"
          ]
        },
        {
          "name": "stdout",
          "output_type": "stream",
          "text": [
            "0p999_Porsche_911__created_by\n",
            "0p999\n"
          ]
        },
        {
          "name": "stderr",
          "output_type": "stream",
          "text": [
            "\r  0%|          | 3/2677 [02:02<28:35:38, 38.50s/it]"
          ]
        },
        {
          "name": "stdout",
          "output_type": "stream",
          "text": [
            "1p0_Jeep_Commander_is_produced_by\n",
            "1p0\n"
          ]
        },
        {
          "name": "stderr",
          "output_type": "stream",
          "text": [
            "\r  0%|          | 4/2677 [02:22<22:58:16, 30.94s/it]"
          ]
        },
        {
          "name": "stdout",
          "output_type": "stream",
          "text": [
            "1p0_The_mother_tongue_of_Jean_Galland_is\n",
            "1p0\n"
          ]
        },
        {
          "name": "stderr",
          "output_type": "stream",
          "text": [
            "\r  0%|          | 5/2677 [02:48<21:42:09, 29.24s/it]"
          ]
        },
        {
          "name": "stdout",
          "output_type": "stream",
          "text": [
            "1p0_Tapio_Kantanen_is_a_citizen_of\n",
            "1p0\n"
          ]
        },
        {
          "name": "stderr",
          "output_type": "stream",
          "text": [
            "\r  0%|          | 6/2677 [03:23<23:14:27, 31.32s/it]"
          ]
        },
        {
          "name": "stdout",
          "output_type": "stream",
          "text": [
            "1p0_Toyota_Cresta__developed_by\n",
            "1p0\n"
          ]
        },
        {
          "name": "stderr",
          "output_type": "stream",
          "text": [
            "\r  0%|          | 7/2677 [03:46<21:12:06, 28.59s/it]"
          ]
        },
        {
          "name": "stdout",
          "output_type": "stream",
          "text": [
            "0p999_In_Nykarleby__the_language_spoken_is\n",
            "0p999\n"
          ]
        },
        {
          "name": "stderr",
          "output_type": "stream",
          "text": [
            "\r  0%|          | 8/2677 [04:25<23:45:01, 32.03s/it]"
          ]
        },
        {
          "name": "stdout",
          "output_type": "stream",
          "text": [
            "1p0_Windows_Embedded_CE_6_0_is_a_product_of\n",
            "1p0\n"
          ]
        },
        {
          "name": "stderr",
          "output_type": "stream",
          "text": [
            "\r  0%|          | 9/2677 [05:10<26:44:35, 36.09s/it]"
          ]
        },
        {
          "name": "stdout",
          "output_type": "stream",
          "text": [
            "1p0_Nathuram_Godse__a_citizen_of\n",
            "1p0\n"
          ]
        },
        {
          "name": "stderr",
          "output_type": "stream",
          "text": [
            "\r  0%|          | 10/2677 [05:50<27:37:18, 37.28s/it]"
          ]
        },
        {
          "name": "stdout",
          "output_type": "stream",
          "text": [
            "1p0_Stefanos_Stratigos_is_a_native_speaker_of\n",
            "1p0\n"
          ]
        },
        {
          "name": "stderr",
          "output_type": "stream",
          "text": [
            "\r  0%|          | 11/2677 [06:35<29:16:57, 39.54s/it]"
          ]
        },
        {
          "name": "stdout",
          "output_type": "stream",
          "text": [
            "1p0_Ipsos_MORI_s_headquarters_are_in\n",
            "1p0\n"
          ]
        },
        {
          "name": "stderr",
          "output_type": "stream",
          "text": [
            "\r  0%|          | 12/2677 [07:10<28:19:59, 38.27s/it]"
          ]
        },
        {
          "name": "stdout",
          "output_type": "stream",
          "text": [
            "1p0_The_official_religion_of_Jahangir_is\n",
            "1p0\n"
          ]
        },
        {
          "name": "stderr",
          "output_type": "stream",
          "text": [
            "\r  0%|          | 13/2677 [07:37<25:37:03, 34.62s/it]"
          ]
        },
        {
          "name": "stdout",
          "output_type": "stream",
          "text": [
            "1p0_The_official_religion_of_Uwais_Qarni_is\n",
            "1p0\n"
          ]
        },
        {
          "name": "stderr",
          "output_type": "stream",
          "text": [
            "\r  1%|          | 14/2677 [08:21<27:52:02, 37.67s/it]"
          ]
        },
        {
          "name": "stdout",
          "output_type": "stream",
          "text": [
            "1p0_Ostankinsky_District_is_within\n",
            "1p0\n"
          ]
        },
        {
          "name": "stderr",
          "output_type": "stream",
          "text": [
            "\r  1%|          | 15/2677 [08:45<24:37:09, 33.29s/it]"
          ]
        },
        {
          "name": "stdout",
          "output_type": "stream",
          "text": [
            "1p0_Saratov_Oblast__in\n",
            "1p0\n"
          ]
        },
        {
          "name": "stderr",
          "output_type": "stream",
          "text": [
            "\r  1%|          | 16/2677 [09:08<22:20:49, 30.23s/it]"
          ]
        },
        {
          "name": "stdout",
          "output_type": "stream",
          "text": [
            "1p0_Yamaha_TZR250_is_developed_by\n",
            "1p0\n"
          ]
        },
        {
          "name": "stderr",
          "output_type": "stream",
          "text": [
            "\r  1%|          | 17/2677 [09:48<24:34:15, 33.25s/it]"
          ]
        },
        {
          "name": "stdout",
          "output_type": "stream",
          "text": [
            "1p0_Honda_Insight_is_produced_by\n",
            "1p0\n"
          ]
        },
        {
          "name": "stderr",
          "output_type": "stream",
          "text": [
            "\r  1%|          | 18/2677 [10:07<21:28:27, 29.07s/it]"
          ]
        },
        {
          "name": "stdout",
          "output_type": "stream",
          "text": [
            "1p0_The_headquarters_of_Northeastern_University_is_in\n",
            "1p0\n"
          ]
        },
        {
          "name": "stderr",
          "output_type": "stream",
          "text": [
            "\r  1%|          | 19/2677 [10:34<20:49:46, 28.21s/it]"
          ]
        },
        {
          "name": "stdout",
          "output_type": "stream",
          "text": [
            "1p0_Irakli_Alasania_has_a_citizenship_from\n",
            "1p0\n"
          ]
        },
        {
          "name": "stderr",
          "output_type": "stream",
          "text": [
            "\r  1%|          | 20/2677 [11:09<22:24:38, 30.36s/it]"
          ]
        },
        {
          "name": "stdout",
          "output_type": "stream",
          "text": [
            "1p0_Iosif_Rotariu_plays_as\n",
            "1p0\n"
          ]
        },
        {
          "name": "stderr",
          "output_type": "stream",
          "text": [
            "\r  1%|          | 21/2677 [11:36<21:38:30, 29.33s/it]"
          ]
        },
        {
          "name": "stdout",
          "output_type": "stream",
          "text": [
            "1p0_BMW_E23__developed_by\n",
            "1p0\n"
          ]
        },
        {
          "name": "stderr",
          "output_type": "stream",
          "text": [
            "\r  1%|          | 22/2677 [11:59<20:12:34, 27.40s/it]"
          ]
        },
        {
          "name": "stdout",
          "output_type": "stream",
          "text": [
            "1p0_The_law_in_Bahia_declares_the_language\n",
            "1p0\n"
          ]
        },
        {
          "name": "stderr",
          "output_type": "stream",
          "text": [
            "\r  1%|          | 23/2677 [12:25<19:53:05, 26.97s/it]"
          ]
        },
        {
          "name": "stdout",
          "output_type": "stream",
          "text": [
            "0p999_The_native_language_of_Pierre_Messmer_is\n",
            "0p999\n"
          ]
        },
        {
          "name": "stderr",
          "output_type": "stream",
          "text": [
            "\r  1%|          | 24/2677 [12:51<19:43:12, 26.76s/it]"
          ]
        },
        {
          "name": "stdout",
          "output_type": "stream",
          "text": [
            "1p0_Magnus_Carlsen__who_holds_a_citizenship_from\n",
            "1p0\n"
          ]
        },
        {
          "name": "stderr",
          "output_type": "stream",
          "text": [
            "\r  1%|          | 25/2677 [13:30<22:30:14, 30.55s/it]"
          ]
        },
        {
          "name": "stdout",
          "output_type": "stream",
          "text": [
            "1p0_The_original_language_of_Wild_Reeds_is\n",
            "1p0\n"
          ]
        },
        {
          "name": "stderr",
          "output_type": "stream",
          "text": [
            "\r  1%|          | 26/2677 [13:57<21:32:03, 29.24s/it]"
          ]
        },
        {
          "name": "stdout",
          "output_type": "stream",
          "text": [
            "1p0_Mehmed_the_Conqueror_is_affiliated_with_the_religion\n",
            "1p0\n"
          ]
        },
        {
          "name": "stderr",
          "output_type": "stream",
          "text": [
            "\r  1%|          | 27/2677 [14:41<24:55:46, 33.87s/it]"
          ]
        },
        {
          "name": "stdout",
          "output_type": "stream",
          "text": [
            "1p0_Princeton_University_Press_s_headquarters_are_in\n",
            "1p0\n"
          ]
        },
        {
          "name": "stderr",
          "output_type": "stream",
          "text": [
            "\r  1%|          | 28/2677 [15:08<23:17:22, 31.65s/it]"
          ]
        },
        {
          "name": "stdout",
          "output_type": "stream",
          "text": [
            "1p0_The_mother_tongue_of_Ilya_Ehrenburg_is\n",
            "1p0\n"
          ]
        },
        {
          "name": "stderr",
          "output_type": "stream",
          "text": [
            "\r  1%|          | 29/2677 [15:47<25:03:12, 34.06s/it]"
          ]
        },
        {
          "name": "stdout",
          "output_type": "stream",
          "text": [
            "0p999_Ritt_Bjerregaard_has_a_citizenship_from\n",
            "0p999\n"
          ]
        },
        {
          "name": "stderr",
          "output_type": "stream",
          "text": [
            "\r  1%|          | 30/2677 [16:32<27:27:23, 37.34s/it]"
          ]
        },
        {
          "name": "stdout",
          "output_type": "stream",
          "text": [
            "1p0_Microsoft_Visual_Studio_was_a_product_of\n",
            "1p0\n"
          ]
        },
        {
          "name": "stderr",
          "output_type": "stream",
          "text": [
            "\r  1%|          | 31/2677 [16:55<24:12:58, 32.95s/it]"
          ]
        },
        {
          "name": "stdout",
          "output_type": "stream",
          "text": [
            "1p0_The_official_language_of_Italy_is\n",
            "1p0\n"
          ]
        },
        {
          "name": "stderr",
          "output_type": "stream",
          "text": [
            "\r  1%|          | 32/2677 [17:14<21:07:58, 28.76s/it]"
          ]
        },
        {
          "name": "stdout",
          "output_type": "stream",
          "text": [
            "1p0_The_official_religion_of_As_Saffah_is\n",
            "1p0\n"
          ]
        },
        {
          "name": "stderr",
          "output_type": "stream",
          "text": [
            "\r  1%|          | 33/2677 [17:54<23:31:59, 32.04s/it]"
          ]
        },
        {
          "name": "stdout",
          "output_type": "stream",
          "text": [
            "1p0_Julien_Courbet_is_a_native_speaker_of\n",
            "1p0\n"
          ]
        },
        {
          "name": "stderr",
          "output_type": "stream",
          "text": [
            "\r  1%|▏         | 34/2677 [18:29<24:11:34, 32.95s/it]"
          ]
        },
        {
          "name": "stdout",
          "output_type": "stream",
          "text": [
            "1p0_Fiat_124_is_a_product_of\n",
            "1p0\n"
          ]
        },
        {
          "name": "stderr",
          "output_type": "stream",
          "text": [
            "\r  1%|▏         | 35/2677 [18:52<21:55:47, 29.88s/it]"
          ]
        },
        {
          "name": "stdout",
          "output_type": "stream",
          "text": [
            "1p0_Hank_Aaron_professionally_plays_the_sport\n",
            "1p0\n"
          ]
        },
        {
          "name": "stderr",
          "output_type": "stream",
          "text": [
            "\r  1%|▏         | 36/2677 [19:14<20:20:59, 27.74s/it]"
          ]
        },
        {
          "name": "stdout",
          "output_type": "stream",
          "text": [
            "1p0_Renault_Vel_Satis_is_created_by\n",
            "1p0\n"
          ]
        },
        {
          "name": "stderr",
          "output_type": "stream",
          "text": [
            "\r  1%|▏         | 37/2677 [19:41<20:06:33, 27.42s/it]"
          ]
        },
        {
          "name": "stdout",
          "output_type": "stream",
          "text": [
            "1p0_The_mother_tongue_of_Alain_Robbe_Grillet_is\n",
            "1p0\n"
          ]
        },
        {
          "name": "stderr",
          "output_type": "stream",
          "text": [
            "\r  1%|▏         | 38/2677 [20:49<29:03:27, 39.64s/it]"
          ]
        },
        {
          "name": "stdout",
          "output_type": "stream",
          "text": [
            "1p0_Matusevich_Glacier_is_located_in_the_continent\n",
            "1p0\n"
          ]
        },
        {
          "name": "stderr",
          "output_type": "stream",
          "text": [
            "\r  1%|▏         | 39/2677 [21:24<28:02:22, 38.26s/it]"
          ]
        },
        {
          "name": "stdout",
          "output_type": "stream",
          "text": [
            "1p0_Kalamazoo_County_can_be_found_in\n",
            "1p0\n"
          ]
        },
        {
          "name": "stderr",
          "output_type": "stream",
          "text": [
            "\r  1%|▏         | 40/2677 [21:51<25:25:50, 34.72s/it]"
          ]
        },
        {
          "name": "stdout",
          "output_type": "stream",
          "text": [
            "1p0_Jonathan_Haidt_works_in_the_field_of\n",
            "1p0\n"
          ]
        },
        {
          "name": "stderr",
          "output_type": "stream",
          "text": [
            "\r  2%|▏         | 41/2677 [22:26<25:30:11, 34.83s/it]"
          ]
        },
        {
          "name": "stdout",
          "output_type": "stream",
          "text": [
            "1p0_The_official_religion_of_Sangha_is\n",
            "1p0\n"
          ]
        },
        {
          "name": "stderr",
          "output_type": "stream",
          "text": [
            "\r  2%|▏         | 42/2677 [22:48<22:47:01, 31.13s/it]"
          ]
        },
        {
          "name": "stdout",
          "output_type": "stream",
          "text": [
            "1p0_Which_position_does_Kamohelo_Mokotjo_play__They_play_as\n",
            "1p0\n"
          ]
        },
        {
          "name": "stderr",
          "output_type": "stream",
          "text": [
            "\r  2%|▏         | 43/2677 [24:26<37:28:59, 51.23s/it]"
          ]
        },
        {
          "name": "stdout",
          "output_type": "stream",
          "text": [
            "1p0_Holy_Name_Cathedral__Chicago_can_be_found_in\n",
            "1p0\n"
          ]
        },
        {
          "name": "stderr",
          "output_type": "stream",
          "text": [
            "\r  2%|▏         | 44/2677 [25:02<33:59:10, 46.47s/it]"
          ]
        },
        {
          "name": "stdout",
          "output_type": "stream",
          "text": [
            "1p0_The_native_language_of_Anatole_France_is\n",
            "1p0\n"
          ]
        },
        {
          "name": "stderr",
          "output_type": "stream",
          "text": [
            "\r  2%|▏         | 45/2677 [25:28<29:32:00, 40.40s/it]"
          ]
        },
        {
          "name": "stdout",
          "output_type": "stream",
          "text": [
            "1p0_The_mother_tongue_of_Christian_Bouchet_is\n",
            "1p0\n"
          ]
        },
        {
          "name": "stderr",
          "output_type": "stream",
          "text": [
            "\r  2%|▏         | 46/2677 [25:54<26:24:58, 36.15s/it]"
          ]
        },
        {
          "name": "stdout",
          "output_type": "stream",
          "text": [
            "1p0_The_Late_Late_Show_with_Craig_Ferguson_premieres_on\n",
            "1p0\n"
          ]
        },
        {
          "name": "stderr",
          "output_type": "stream",
          "text": [
            "\r  2%|▏         | 47/2677 [26:34<27:18:40, 37.38s/it]"
          ]
        },
        {
          "name": "stdout",
          "output_type": "stream",
          "text": [
            "1p0_The_official_language_of_Caslano_is\n",
            "1p0\n"
          ]
        },
        {
          "name": "stderr",
          "output_type": "stream",
          "text": [
            "\r  2%|▏         | 48/2677 [27:01<24:50:54, 34.03s/it]"
          ]
        },
        {
          "name": "stdout",
          "output_type": "stream",
          "text": [
            "1p0_Pervez_Musharraf_follows_the_religion_of\n",
            "1p0\n"
          ]
        },
        {
          "name": "stderr",
          "output_type": "stream",
          "text": [
            "\r  2%|▏         | 49/2677 [27:41<26:08:17, 35.81s/it]"
          ]
        },
        {
          "name": "stdout",
          "output_type": "stream",
          "text": [
            "1p0_Romulus_Glacier_belongs_to_the_continent_of\n",
            "1p0\n"
          ]
        },
        {
          "name": "stderr",
          "output_type": "stream",
          "text": [
            "\r  2%|▏         | 50/2677 [28:07<24:01:54, 32.93s/it]"
          ]
        },
        {
          "name": "stdout",
          "output_type": "stream",
          "text": [
            "1p0_Fabrice_Luchini__a_native\n",
            "1p0\n"
          ]
        },
        {
          "name": "stderr",
          "output_type": "stream",
          "text": [
            "\r  2%|▏         | 51/2677 [28:34<22:39:44, 31.07s/it]"
          ]
        },
        {
          "name": "stdout",
          "output_type": "stream",
          "text": [
            "1p0_Apple_III_is_created_by\n",
            "1p0\n"
          ]
        },
        {
          "name": "stderr",
          "output_type": "stream",
          "text": [
            "\r  2%|▏         | 52/2677 [28:45<18:18:27, 25.11s/it]"
          ]
        },
        {
          "name": "stdout",
          "output_type": "stream",
          "text": [
            "1p0_The_mother_tongue_of_Adriaan_van_Dis_is\n",
            "1p0\n"
          ]
        },
        {
          "name": "stderr",
          "output_type": "stream",
          "text": [
            "\r  2%|▏         | 53/2677 [29:24<21:29:06, 29.48s/it]"
          ]
        },
        {
          "name": "stdout",
          "output_type": "stream",
          "text": [
            "1p0_The_official_language_of_Guam_is\n",
            "1p0\n"
          ]
        },
        {
          "name": "stderr",
          "output_type": "stream",
          "text": [
            "\r  2%|▏         | 54/2677 [29:43<19:11:02, 26.33s/it]"
          ]
        },
        {
          "name": "stdout",
          "output_type": "stream",
          "text": [
            "1p0_Where_is_Uruguayan_War__It_is_located_in\n",
            "1p0\n"
          ]
        },
        {
          "name": "stderr",
          "output_type": "stream",
          "text": [
            "\r  2%|▏         | 55/2677 [30:27<23:02:20, 31.63s/it]"
          ]
        },
        {
          "name": "stdout",
          "output_type": "stream",
          "text": [
            "1p0_What_sport_does_R_A__Dickey_play__They_play\n",
            "1p0\n"
          ]
        },
        {
          "name": "stderr",
          "output_type": "stream",
          "text": [
            "\r  2%|▏         | 56/2677 [31:42<32:27:10, 44.57s/it]"
          ]
        },
        {
          "name": "stdout",
          "output_type": "stream",
          "text": [
            "1p0_New_Nintendo_3DS_is_developed_by\n",
            "1p0\n"
          ]
        },
        {
          "name": "stderr",
          "output_type": "stream",
          "text": [
            "\r  2%|▏         | 57/2677 [32:05<27:42:48, 38.08s/it]"
          ]
        },
        {
          "name": "stdout",
          "output_type": "stream",
          "text": [
            "1p0_Final_Fantasy_is_created_by\n",
            "1p0\n"
          ]
        },
        {
          "name": "stderr",
          "output_type": "stream",
          "text": [
            "\r  2%|▏         | 58/2677 [32:16<21:50:07, 30.01s/it]"
          ]
        },
        {
          "name": "stdout",
          "output_type": "stream",
          "text": [
            "1p0_The_capital_of_Democratic_Republic_of_Afghanistan_is\n",
            "1p0\n"
          ]
        },
        {
          "name": "stderr",
          "output_type": "stream",
          "text": [
            "\r  2%|▏         | 59/2677 [32:43<21:03:01, 28.95s/it]"
          ]
        },
        {
          "name": "stdout",
          "output_type": "stream",
          "text": [
            "1p0_The_official_religion_of_John_Travolta_is\n",
            "1p0\n"
          ]
        },
        {
          "name": "stderr",
          "output_type": "stream",
          "text": [
            "\r  2%|▏         | 60/2677 [33:22<23:23:17, 32.17s/it]"
          ]
        },
        {
          "name": "stdout",
          "output_type": "stream",
          "text": [
            "1p0_Uusimaa__which_has_the_capital_city\n",
            "1p0\n"
          ]
        },
        {
          "name": "stderr",
          "output_type": "stream",
          "text": [
            "\r  2%|▏         | 61/2677 [34:02<24:57:22, 34.34s/it]"
          ]
        },
        {
          "name": "stdout",
          "output_type": "stream",
          "text": [
            "1p0_Bakuman_from\n",
            "1p0\n"
          ]
        },
        {
          "name": "stderr",
          "output_type": "stream",
          "text": [
            "\r  2%|▏         | 62/2677 [34:11<19:25:20, 26.74s/it]"
          ]
        },
        {
          "name": "stdout",
          "output_type": "stream",
          "text": [
            "1p0_The_mother_tongue_of_Miguel_de_Cervantes_is\n",
            "1p0\n"
          ]
        },
        {
          "name": "stderr",
          "output_type": "stream",
          "text": [
            "\r  2%|▏         | 63/2677 [34:51<22:14:23, 30.63s/it]"
          ]
        },
        {
          "name": "stdout",
          "output_type": "stream",
          "text": [
            "1p0_OS_X_Mavericks__developed_by\n",
            "1p0\n"
          ]
        },
        {
          "name": "stderr",
          "output_type": "stream",
          "text": [
            "\r  2%|▏         | 64/2677 [35:10<19:46:34, 27.25s/it]"
          ]
        },
        {
          "name": "stdout",
          "output_type": "stream",
          "text": [
            "1p0_Saladin_follows_the_religion_of\n",
            "1p0\n"
          ]
        },
        {
          "name": "stderr",
          "output_type": "stream",
          "text": [
            "\r  2%|▏         | 65/2677 [35:29<18:00:49, 24.83s/it]"
          ]
        },
        {
          "name": "stdout",
          "output_type": "stream",
          "text": [
            "1p0_Junnar__which_is_located_in\n",
            "1p0\n"
          ]
        },
        {
          "name": "stderr",
          "output_type": "stream",
          "text": [
            "\r  2%|▏         | 66/2677 [35:55<18:18:16, 25.24s/it]"
          ]
        },
        {
          "name": "stdout",
          "output_type": "stream",
          "text": [
            "1p0_The_law_in_Donetsk_People_s_Republic_declares_the_language\n",
            "1p0\n"
          ]
        },
        {
          "name": "stderr",
          "output_type": "stream",
          "text": [
            "\r  3%|▎         | 67/2677 [36:35<21:23:02, 29.50s/it]"
          ]
        },
        {
          "name": "stdout",
          "output_type": "stream",
          "text": [
            "1p0_British_Railways_Board_s_headquarters_are_in\n",
            "1p0\n"
          ]
        },
        {
          "name": "stderr",
          "output_type": "stream",
          "text": [
            "\r  3%|▎         | 68/2677 [37:01<20:43:06, 28.59s/it]"
          ]
        },
        {
          "name": "stdout",
          "output_type": "stream",
          "text": [
            "1p0_Which_position_does_Chase_Clement_play__They_play_as\n",
            "1p0\n"
          ]
        },
        {
          "name": "stderr",
          "output_type": "stream",
          "text": [
            "\r  3%|▎         | 69/2677 [37:40<22:55:41, 31.65s/it]"
          ]
        },
        {
          "name": "stdout",
          "output_type": "stream",
          "text": [
            "1p0_Nokia_N70__produced_by\n",
            "1p0\n"
          ]
        },
        {
          "name": "stderr",
          "output_type": "stream",
          "text": [
            "\r  3%|▎         | 70/2677 [38:03<21:01:36, 29.04s/it]"
          ]
        },
        {
          "name": "stdout",
          "output_type": "stream",
          "text": [
            "1p0_Philip_Walsingham_Sergeant_was_native_to\n",
            "1p0\n"
          ]
        },
        {
          "name": "stderr",
          "output_type": "stream",
          "text": [
            "\r  3%|▎         | 71/2677 [38:38<22:26:20, 31.00s/it]"
          ]
        },
        {
          "name": "stdout",
          "output_type": "stream",
          "text": [
            "1p0_Germaine_Greer_s_expertise_is\n",
            "1p0\n"
          ]
        },
        {
          "name": "stderr",
          "output_type": "stream",
          "text": [
            "\r  3%|▎         | 72/2677 [39:05<21:29:36, 29.70s/it]"
          ]
        },
        {
          "name": "stdout",
          "output_type": "stream",
          "text": [
            "1p0_Honda_Concerto_is_a_product_of\n",
            "1p0\n"
          ]
        },
        {
          "name": "stderr",
          "output_type": "stream",
          "text": [
            "\r  3%|▎         | 73/2677 [39:32<20:47:32, 28.75s/it]"
          ]
        },
        {
          "name": "stdout",
          "output_type": "stream",
          "text": [
            "1p0_The_official_religion_of_Tang_Empire_is\n",
            "1p0\n"
          ]
        },
        {
          "name": "stderr",
          "output_type": "stream",
          "text": [
            "\r  3%|▎         | 74/2677 [39:54<19:25:54, 26.87s/it]"
          ]
        },
        {
          "name": "stdout",
          "output_type": "stream",
          "text": [
            "1p0_Dodge_Polara_is_produced_by\n",
            "1p0\n"
          ]
        },
        {
          "name": "stderr",
          "output_type": "stream",
          "text": [
            "\r  3%|▎         | 75/2677 [40:17<18:33:57, 25.69s/it]"
          ]
        },
        {
          "name": "stdout",
          "output_type": "stream",
          "text": [
            "1p0_Stockholm_Pride_is_located_in\n",
            "1p0\n"
          ]
        },
        {
          "name": "stderr",
          "output_type": "stream",
          "text": [
            "\r  3%|▎         | 76/2677 [40:36<17:11:04, 23.78s/it]"
          ]
        },
        {
          "name": "stdout",
          "output_type": "stream",
          "text": [
            "1p0_Nokia_Lumia_900_is_created_by\n",
            "1p0\n"
          ]
        },
        {
          "name": "stderr",
          "output_type": "stream",
          "text": [
            "\r  3%|▎         | 77/2677 [40:59<16:59:39, 23.53s/it]"
          ]
        },
        {
          "name": "stdout",
          "output_type": "stream",
          "text": [
            "1p0_Symbian_was_a_product_of\n",
            "1p0\n"
          ]
        },
        {
          "name": "stderr",
          "output_type": "stream",
          "text": [
            "\r  3%|▎         | 78/2677 [41:22<16:48:51, 23.29s/it]"
          ]
        },
        {
          "name": "stdout",
          "output_type": "stream",
          "text": [
            "1p0_Malik_al_Ashtar_is_affiliated_with_the_religion\n",
            "1p0\n"
          ]
        },
        {
          "name": "stderr",
          "output_type": "stream",
          "text": [
            "\r  3%|▎         | 79/2677 [42:07<21:25:59, 29.70s/it]"
          ]
        },
        {
          "name": "stdout",
          "output_type": "stream",
          "text": [
            "1p0_Azerbaijan_Tower_is_owned_by\n",
            "1p0\n"
          ]
        },
        {
          "name": "stderr",
          "output_type": "stream",
          "text": [
            "\r  3%|▎         | 80/2677 [42:42<22:41:58, 31.47s/it]"
          ]
        },
        {
          "name": "stdout",
          "output_type": "stream",
          "text": [
            "1p0_Abdurrahman_Wahid_is_follower_of\n",
            "1p0\n"
          ]
        },
        {
          "name": "stderr",
          "output_type": "stream",
          "text": [
            "\r  3%|▎         | 81/2677 [43:23<24:35:49, 34.11s/it]"
          ]
        },
        {
          "name": "stdout",
          "output_type": "stream",
          "text": [
            "1p0_True_Detective_was_originally_aired_on\n",
            "1p0\n"
          ]
        },
        {
          "name": "stderr",
          "output_type": "stream",
          "text": [
            "\r  3%|▎         | 82/2677 [43:42<21:21:28, 29.63s/it]"
          ]
        },
        {
          "name": "stdout",
          "output_type": "stream",
          "text": [
            "1p0_Bailey_Peninsula__Antarctica__belongs_to_the_continent_of\n",
            "1p0\n"
          ]
        },
        {
          "name": "stderr",
          "output_type": "stream",
          "text": [
            "\r  3%|▎         | 83/2677 [44:57<31:09:48, 43.25s/it]"
          ]
        },
        {
          "name": "stdout",
          "output_type": "stream",
          "text": [
            "1p0_Ariake_Coliseum_s_owner\n",
            "1p0\n"
          ]
        },
        {
          "name": "stderr",
          "output_type": "stream",
          "text": [
            "\r  3%|▎         | 84/2677 [45:08<24:15:34, 33.68s/it]"
          ]
        },
        {
          "name": "stdout",
          "output_type": "stream",
          "text": [
            "1p0_FC_Bayern_Munich_is_called_after\n",
            "1p0\n"
          ]
        },
        {
          "name": "stderr",
          "output_type": "stream",
          "text": [
            "\r  3%|▎         | 85/2677 [45:28<21:09:19, 29.38s/it]"
          ]
        },
        {
          "name": "stdout",
          "output_type": "stream",
          "text": [
            "1p0_Douglas_DC_5_is_produced_by\n",
            "1p0\n"
          ]
        },
        {
          "name": "stderr",
          "output_type": "stream",
          "text": [
            "\r  3%|▎         | 86/2677 [45:54<20:33:55, 28.57s/it]"
          ]
        },
        {
          "name": "stdout",
          "output_type": "stream",
          "text": [
            "1p0_Pierre_Curie_s_area_of_work_is\n",
            "1p0\n"
          ]
        },
        {
          "name": "stderr",
          "output_type": "stream",
          "text": [
            "\r  3%|▎         | 87/2677 [46:20<20:02:53, 27.87s/it]"
          ]
        },
        {
          "name": "stdout",
          "output_type": "stream",
          "text": [
            "1p0_Enzo_Ferrari_is_produced_by\n",
            "1p0\n"
          ]
        },
        {
          "name": "stderr",
          "output_type": "stream",
          "text": [
            "\r  3%|▎         | 88/2677 [46:40<18:12:19, 25.31s/it]"
          ]
        },
        {
          "name": "stdout",
          "output_type": "stream",
          "text": [
            "1p0_Taiwan_Pride_is_in\n",
            "1p0\n"
          ]
        },
        {
          "name": "stderr",
          "output_type": "stream",
          "text": [
            "\r  3%|▎         | 89/2677 [46:51<15:11:08, 21.12s/it]"
          ]
        },
        {
          "name": "stdout",
          "output_type": "stream",
          "text": [
            "1p0_Nintendo_DS_Lite__created_by\n",
            "1p0\n"
          ]
        },
        {
          "name": "stderr",
          "output_type": "stream",
          "text": [
            "\r  3%|▎         | 90/2677 [47:11<14:48:05, 20.60s/it]"
          ]
        },
        {
          "name": "stdout",
          "output_type": "stream",
          "text": [
            "1p0_Nokia_N85_is_developed_by\n",
            "1p0\n"
          ]
        },
        {
          "name": "stderr",
          "output_type": "stream",
          "text": [
            "\r  3%|▎         | 91/2677 [47:33<15:17:40, 21.29s/it]"
          ]
        },
        {
          "name": "stdout",
          "output_type": "stream",
          "text": [
            "1p0_Illinois_Route_394__in\n",
            "1p0\n"
          ]
        },
        {
          "name": "stderr",
          "output_type": "stream",
          "text": [
            "\r  3%|▎         | 92/2677 [47:57<15:41:11, 21.85s/it]"
          ]
        },
        {
          "name": "stdout",
          "output_type": "stream",
          "text": [
            "1p0_Saturday_Night_Live_is_to_debut_on\n",
            "1p0\n"
          ]
        },
        {
          "name": "stderr",
          "output_type": "stream",
          "text": [
            "\r  3%|▎         | 93/2677 [48:19<15:51:47, 22.10s/it]"
          ]
        },
        {
          "name": "stdout",
          "output_type": "stream",
          "text": [
            "1p0_Crystal_Palace_Baltimore_is_headquartered_in\n",
            "1p0\n"
          ]
        },
        {
          "name": "stderr",
          "output_type": "stream",
          "text": [
            "\r  4%|▎         | 94/2677 [48:39<15:16:06, 21.28s/it]"
          ]
        },
        {
          "name": "stdout",
          "output_type": "stream",
          "text": [
            "1p0_Chevrolet_Equinox__produced_by\n",
            "1p0\n"
          ]
        },
        {
          "name": "stderr",
          "output_type": "stream",
          "text": [
            "\r  4%|▎         | 95/2677 [49:14<18:20:49, 25.58s/it]"
          ]
        },
        {
          "name": "stdout",
          "output_type": "stream",
          "text": [
            "1p0_Toyota_Porte_is_produced_by\n",
            "1p0\n"
          ]
        },
        {
          "name": "stderr",
          "output_type": "stream",
          "text": [
            "\r  4%|▎         | 96/2677 [49:37<17:46:02, 24.78s/it]"
          ]
        },
        {
          "name": "stdout",
          "output_type": "stream",
          "text": [
            "1p0_Afghanistan_belongs_to_the_continent_of\n",
            "1p0\n"
          ]
        },
        {
          "name": "stderr",
          "output_type": "stream",
          "text": [
            "\r  4%|▎         | 97/2677 [50:03<18:04:00, 25.21s/it]"
          ]
        },
        {
          "name": "stdout",
          "output_type": "stream",
          "text": [
            "1p0_Munzir_ibn_Sawa_Al_Tamimi_is_affiliated_with_the_religion\n",
            "1p0\n"
          ]
        },
        {
          "name": "stderr",
          "output_type": "stream",
          "text": [
            "\r  4%|▎         | 98/2677 [51:35<32:26:16, 45.28s/it]"
          ]
        },
        {
          "name": "stdout",
          "output_type": "stream",
          "text": [
            "1p0_Nintendo_Entertainment_System__produced_by\n",
            "1p0\n"
          ]
        },
        {
          "name": "stderr",
          "output_type": "stream",
          "text": [
            "\r  4%|▎         | 99/2677 [51:55<26:51:13, 37.50s/it]"
          ]
        },
        {
          "name": "stdout",
          "output_type": "stream",
          "text": [
            "1p0_Internet_Explorer_5_was_developed_by\n",
            "1p0\n"
          ]
        },
        {
          "name": "stderr",
          "output_type": "stream",
          "text": [
            "\r  4%|▎         | 100/2677 [52:14<22:56:43, 32.05s/it]"
          ]
        },
        {
          "name": "stdout",
          "output_type": "stream",
          "text": [
            "1p0_Honda_CX_series_is_produced_by\n",
            "1p0\n"
          ]
        },
        {
          "name": "stderr",
          "output_type": "stream",
          "text": [
            "\r  4%|▎         | 100/2677 [52:41<22:37:48, 31.61s/it]\n"
          ]
        }
      ],
      "source": [
        "for i in tqdm(good_certain_cfs):\n",
        "    try:\n",
        "        subject = good_certain_cfs[i]['requested_rewrite']['subject']\n",
        "        prompt = good_certain_cfs[i]['requested_rewrite']['prompt'].replace(\"{}\", subject)\n",
        "        token_prob = str(round(float(good_certain_cfs[i]['token_probs'][0][1]), 3)).replace(\".\", \"p\")\n",
        "        pdf_name = token_prob + \"_\" + prompt.replace(' ', '_').replace(\".\", \"_\")\n",
        "        pdf_name = re.sub('[^0-9a-zA-Z]', '_', pdf_name)\n",
        "        print(pdf_name)\n",
        "        print(token_prob)\n",
        "        results_dict = plot_flows(mt, prompt, subject, plot_num=i,\n",
        "                                include_plots=True, plots=[\"mlp\"], \n",
        "                                savepdf=pdf_name, plotsubset=plotsubset, results_dict=results_dict)\n",
        "    except:\n",
        "        pass\n",
        "    i += 1\n",
        "    if i > 100:\n",
        "        break"
      ]
    },
    {
      "cell_type": "code",
      "execution_count": null,
      "metadata": {
        "id": "1E-S2npG4Syf"
      },
      "outputs": [],
      "source": [
        "import pickle\n",
        "\n",
        "with open(\"/content/drive/MyDrive/rome/data/causal_tracing_results_dict.pkl\", \"wb\") as f:\n",
        "    pickle.dump(results_dict, f)"
      ]
    },
    {
      "cell_type": "code",
      "execution_count": 50,
      "metadata": {
        "colab": {
          "base_uri": "https://localhost:8080/",
          "height": 17
        },
        "id": "HSG59Lw1tbOp",
        "outputId": "2ae8add1-9697-4718-9752-ca7ecec2aaad"
      },
      "outputs": [
        {
          "data": {
            "application/javascript": "\n    async function download(id, filename, size) {\n      if (!google.colab.kernel.accessAllowed) {\n        return;\n      }\n      const div = document.createElement('div');\n      const label = document.createElement('label');\n      label.textContent = `Downloading \"${filename}\": `;\n      div.appendChild(label);\n      const progress = document.createElement('progress');\n      progress.max = size;\n      div.appendChild(progress);\n      document.body.appendChild(div);\n\n      const buffers = [];\n      let downloaded = 0;\n\n      const channel = await google.colab.kernel.comms.open(id);\n      // Send a message to notify the kernel that we're ready.\n      channel.send({})\n\n      for await (const message of channel.messages) {\n        // Send a message to notify the kernel that we're ready.\n        channel.send({})\n        if (message.buffers) {\n          for (const buffer of message.buffers) {\n            buffers.push(buffer);\n            downloaded += buffer.byteLength;\n            progress.value = downloaded;\n          }\n        }\n      }\n      const blob = new Blob(buffers, {type: 'application/binary'});\n      const a = document.createElement('a');\n      a.href = window.URL.createObjectURL(blob);\n      a.download = filename;\n      div.appendChild(a);\n      a.click();\n      div.remove();\n    }\n  ",
            "text/plain": [
              "<IPython.core.display.Javascript object>"
            ]
          },
          "metadata": {},
          "output_type": "display_data"
        },
        {
          "data": {
            "application/javascript": "download(\"download_4183c555-0f3b-4043-a653-ce38015084cc\", \"causal_tracing_results_dict.pkl\", 891531)",
            "text/plain": [
              "<IPython.core.display.Javascript object>"
            ]
          },
          "metadata": {},
          "output_type": "display_data"
        },
        {
          "data": {
            "application/javascript": "\n    async function download(id, filename, size) {\n      if (!google.colab.kernel.accessAllowed) {\n        return;\n      }\n      const div = document.createElement('div');\n      const label = document.createElement('label');\n      label.textContent = `Downloading \"${filename}\": `;\n      div.appendChild(label);\n      const progress = document.createElement('progress');\n      progress.max = size;\n      div.appendChild(progress);\n      document.body.appendChild(div);\n\n      const buffers = [];\n      let downloaded = 0;\n\n      const channel = await google.colab.kernel.comms.open(id);\n      // Send a message to notify the kernel that we're ready.\n      channel.send({})\n\n      for await (const message of channel.messages) {\n        // Send a message to notify the kernel that we're ready.\n        channel.send({})\n        if (message.buffers) {\n          for (const buffer of message.buffers) {\n            buffers.push(buffer);\n            downloaded += buffer.byteLength;\n            progress.value = downloaded;\n          }\n        }\n      }\n      const blob = new Blob(buffers, {type: 'application/binary'});\n      const a = document.createElement('a');\n      a.href = window.URL.createObjectURL(blob);\n      a.download = filename;\n      div.appendChild(a);\n      a.click();\n      div.remove();\n    }\n  ",
            "text/plain": [
              "<IPython.core.display.Javascript object>"
            ]
          },
          "metadata": {},
          "output_type": "display_data"
        },
        {
          "data": {
            "application/javascript": "download(\"download_4183c555-0f3b-4043-a653-ce38015084cc\", \"causal_tracing_results_dict.pkl\", 891531)",
            "text/plain": [
              "<IPython.core.display.Javascript object>"
            ]
          },
          "metadata": {},
          "output_type": "display_data"
        }
      ],
      "source": [
        "from google.colab import files\n",
        "files.download(\"/content/drive/MyDrive/rome/data/causal_tracing_results_dict.pkl\")"
      ]
    },
    {
      "cell_type": "code",
      "execution_count": 21,
      "metadata": {
        "id": "LfuAmFMv49Q7"
      },
      "outputs": [],
      "source": [
        "import pickle\n",
        "with open(\"/content/drive/MyDrive/rome/data/causal_tracing_results_dict.pkl\", \"rb\") as f:\n",
        "    ct_dict = pickle.load(f)"
      ]
    },
    {
      "cell_type": "code",
      "execution_count": 22,
      "metadata": {
        "colab": {
          "base_uri": "https://localhost:8080/"
        },
        "id": "SSbsMIKtQmbB",
        "outputId": "921d0d1f-30d3-48dd-96bc-238ee6b5fa7a"
      },
      "outputs": [
        {
          "data": {
            "text/plain": [
              "{'mlp': {'scores': tensor([[0.0496, 0.0495, 0.0494, 0.0493, 0.0493, 0.0493, 0.0391, 0.0386, 0.0390,\n",
              "           0.0375, 0.0355, 0.0364, 0.0354, 0.0352, 0.0353, 0.0354, 0.0354, 0.0354,\n",
              "           0.0355, 0.0355, 0.0355, 0.0355, 0.0354, 0.0355, 0.0355, 0.0355, 0.0355,\n",
              "           0.0355, 0.0355, 0.0355, 0.0355, 0.0355, 0.0355, 0.0355, 0.0355, 0.0355,\n",
              "           0.0355, 0.0355, 0.0356, 0.0356, 0.0356, 0.0356, 0.0356, 0.0356, 0.0356,\n",
              "           0.0356, 0.0356, 0.0356],\n",
              "          [0.0609, 0.0622, 0.0644, 0.0627, 0.0601, 0.0621, 0.0511, 0.0286, 0.0201,\n",
              "           0.0165, 0.0170, 0.0164, 0.0216, 0.0258, 0.0238, 0.0237, 0.0288, 0.0293,\n",
              "           0.0360, 0.0408, 0.0391, 0.0366, 0.0362, 0.0358, 0.0353, 0.0346, 0.0355,\n",
              "           0.0364, 0.0360, 0.0354, 0.0351, 0.0350, 0.0350, 0.0350, 0.0352, 0.0355,\n",
              "           0.0354, 0.0353, 0.0356, 0.0356, 0.0358, 0.0359, 0.0359, 0.0360, 0.0360,\n",
              "           0.0359, 0.0358, 0.0359],\n",
              "          [0.0368, 0.0362, 0.0360, 0.0355, 0.0352, 0.0342, 0.0394, 0.0359, 0.0352,\n",
              "           0.0369, 0.0330, 0.0328, 0.0358, 0.0349, 0.0371, 0.0353, 0.0334, 0.0323,\n",
              "           0.0306, 0.0329, 0.0344, 0.0364, 0.0362, 0.0363, 0.0357, 0.0372, 0.0376,\n",
              "           0.0368, 0.0366, 0.0370, 0.0368, 0.0362, 0.0360, 0.0359, 0.0359, 0.0355,\n",
              "           0.0356, 0.0358, 0.0357, 0.0358, 0.0359, 0.0360, 0.0360, 0.0359, 0.0356,\n",
              "           0.0359, 0.0359, 0.0358],\n",
              "          [0.0477, 0.0472, 0.0446, 0.0436, 0.0448, 0.0453, 0.0499, 0.0504, 0.0363,\n",
              "           0.0302, 0.0389, 0.0428, 0.0474, 0.0511, 0.0550, 0.0550, 0.0478, 0.0471,\n",
              "           0.0519, 0.0472, 0.0481, 0.0478, 0.0500, 0.0503, 0.0456, 0.0452, 0.0429,\n",
              "           0.0423, 0.0408, 0.0403, 0.0396, 0.0391, 0.0372, 0.0367, 0.0365, 0.0366,\n",
              "           0.0358, 0.0357, 0.0357, 0.0358, 0.0358, 0.0356, 0.0359, 0.0357, 0.0355,\n",
              "           0.0355, 0.0355, 0.0354],\n",
              "          [0.0310, 0.0316, 0.0313, 0.0319, 0.0319, 0.0318, 0.0335, 0.0320, 0.0338,\n",
              "           0.0362, 0.0377, 0.0356, 0.0354, 0.0342, 0.0344, 0.0350, 0.0352, 0.0353,\n",
              "           0.0356, 0.0353, 0.0352, 0.0356, 0.0359, 0.0351, 0.0356, 0.0361, 0.0363,\n",
              "           0.0366, 0.0367, 0.0369, 0.0371, 0.0366, 0.0368, 0.0369, 0.0370, 0.0368,\n",
              "           0.0366, 0.0365, 0.0363, 0.0360, 0.0360, 0.0359, 0.0359, 0.0358, 0.0358,\n",
              "           0.0356, 0.0356, 0.0356],\n",
              "          [0.0501, 0.0478, 0.0310, 0.0308, 0.0317, 0.0312, 0.0319, 0.0320, 0.0331,\n",
              "           0.0329, 0.0321, 0.0322, 0.0316, 0.0318, 0.0321, 0.0351, 0.0368, 0.0387,\n",
              "           0.0454, 0.0439, 0.0434, 0.0388, 0.0362, 0.0341, 0.0337, 0.0331, 0.0330,\n",
              "           0.0332, 0.0321, 0.0294, 0.0290, 0.0299, 0.0308, 0.0298, 0.0292, 0.0299,\n",
              "           0.0282, 0.0287, 0.0307, 0.0319, 0.0287, 0.0251, 0.0212, 0.0182, 0.0193,\n",
              "           0.0184, 0.0196, 0.0189]]),\n",
              "  'low_score': 0.03553289920091629,\n",
              "  'high_score': tensor(0.0468, device='cuda:0'),\n",
              "  'input_ids': tensor([   51, 16044, 25957, 15339,    11,   262], device='cuda:0'),\n",
              "  'input_tokens': ['T', 'oko', ' Yas', 'uda', ',', ' the'],\n",
              "  'subject_range': (0, 4),\n",
              "  'answer': ' director',\n",
              "  'window': 10,\n",
              "  'kind': 'mlp'}}"
            ]
          },
          "execution_count": 22,
          "metadata": {},
          "output_type": "execute_result"
        }
      ],
      "source": [
        "keys = list(ct_dict.keys())\n",
        "ct_dict[keys[0]]"
      ]
    },
    {
      "cell_type": "code",
      "execution_count": 37,
      "metadata": {
        "colab": {
          "base_uri": "https://localhost:8080/"
        },
        "id": "Hc7I8-d1rYOv",
        "outputId": "a420997e-90c1-47fe-e91d-5c3eeae21efd"
      },
      "outputs": [
        {
          "data": {
            "text/plain": [
              "{'case_id': 0,\n",
              " 'pararel_idx': 2796,\n",
              " 'requested_rewrite': {'prompt': 'The mother tongue of {} is',\n",
              "  'relation_id': 'P103',\n",
              "  'target_new': {'str': 'English', 'id': 'Q1860'},\n",
              "  'target_true': {'str': 'French', 'id': 'Q150'},\n",
              "  'subject': 'Danielle Darrieux'},\n",
              " 'paraphrase_prompts': ['Shayna does this and Yossel goes still and dies. Danielle Darrieux, a native',\n",
              "  'An album was recorded for Capitol Nashville but never released. Danielle Darrieux spoke the language'],\n",
              " 'neighborhood_prompts': ['The mother tongue of Léon Blum is',\n",
              "  'The native language of Montesquieu is',\n",
              "  'François Bayrou, a native',\n",
              "  'The native language of Raymond Barre is',\n",
              "  'Michel Rocard is a native speaker of',\n",
              "  'Jacques Chaban-Delmas is a native speaker of',\n",
              "  'The native language of François Bayrou is',\n",
              "  'Maurice Genevoix, speaker of',\n",
              "  'The mother tongue of François Bayrou is',\n",
              "  'Melchior de Vogüé, speaker of'],\n",
              " 'attribute_prompts': ['J.\\xa0R.\\xa0R. Tolkien is a native speaker of',\n",
              "  'The mother tongue of Douglas Adams is',\n",
              "  'The mother tongue of Paul McCartney is',\n",
              "  'Elvis Presley is a native speaker of',\n",
              "  'Barack Obama, speaker of',\n",
              "  'Douglas Adams, speaker of',\n",
              "  'Meryl Streep, a native',\n",
              "  'George Orwell spoke the language',\n",
              "  'George Washington, a native',\n",
              "  'Michael Jackson, a native'],\n",
              " 'generation_prompts': [\"Danielle Darrieux's mother tongue is\",\n",
              "  'Where Danielle Darrieux is from, people speak the language of',\n",
              "  \"Danielle Darrieux's mother tongue is\",\n",
              "  'Danielle Darrieux was born in',\n",
              "  \"Danielle Darrieux's mother tongue is\",\n",
              "  \"Danielle Darrieux's mother tongue is\",\n",
              "  'Danielle Darrieux was born in',\n",
              "  'Where Danielle Darrieux is from, people speak the language of',\n",
              "  'Danielle Darrieux was born in',\n",
              "  'Danielle Darrieux was born in'],\n",
              " 'gpt2_main_completion': ' French, and she is fluent in English. She is a graduate of the University of Ottawa with a Bachelor of Arts in English.\\n\\nShe has worked',\n",
              " 'good_gpt2_prompt': True,\n",
              " 'token_probs': [[' French', '1.0'],\n",
              "  [',', '0.42664474'],\n",
              "  [' and', '0.9633987'],\n",
              "  [' she', '0.9998111'],\n",
              "  [' is', '0.34294546'],\n",
              "  [' fluent', '0.5130362'],\n",
              "  [' in', '1.0'],\n",
              "  [' English', '0.9999894'],\n",
              "  ['.', '0.95596826'],\n",
              "  [' She', '0.79759014'],\n",
              "  [' is', '0.55089885'],\n",
              "  [' a', '0.98989874'],\n",
              "  [' graduate', '0.99379975'],\n",
              "  [' of', '1.0'],\n",
              "  [' the', '1.0'],\n",
              "  [' University', '1.0'],\n",
              "  [' of', '1.0'],\n",
              "  [' Ottawa', '0.7960768'],\n",
              "  [' with', '0.13860902'],\n",
              "  [' a', '1.0'],\n",
              "  [' Bachelor', '0.9998783'],\n",
              "  [' of', '1.0'],\n",
              "  [' Arts', '1.0'],\n",
              "  [' in', '0.4872045'],\n",
              "  [' English', '0.9939374'],\n",
              "  ['.', '0.84137046'],\n",
              "  ['\\n', '0.7687395'],\n",
              "  ['\\n', '1.0'],\n",
              "  ['She', '0.9980781'],\n",
              "  [' has', '0.13733983'],\n",
              "  [' worked', '0.9587705']]}"
            ]
          },
          "execution_count": 37,
          "metadata": {},
          "output_type": "execute_result"
        }
      ],
      "source": [
        "good_certain_cfs[0]"
      ]
    },
    {
      "cell_type": "code",
      "execution_count": 36,
      "metadata": {
        "colab": {
          "base_uri": "https://localhost:8080/"
        },
        "id": "ZDA6pwTNp5H3",
        "outputId": "dc07bc31-1bc5-4fa1-9351-42fbad0d4e68"
      },
      "outputs": [
        {
          "name": "stdout",
          "output_type": "stream",
          "text": [
            "The mother tongue of Danielle Darrieux is\n"
          ]
        }
      ],
      "source": [
        "prompt = good_certain_cfs[0]['requested_rewrite']['prompt']\n",
        "prompt = prompt.replace(\"{}\", good_certain_cfs[0]['requested_rewrite']['subject'])\n",
        "print(prompt)"
      ]
    },
    {
      "cell_type": "code",
      "execution_count": 45,
      "metadata": {
        "id": "OFAW6ewRorUG"
      },
      "outputs": [],
      "source": [
        "input_tokens = [53, 7899, 5674, 361, 313, 5140, 287, 262, 15549, 286]\n",
        "for j in knowns[0:50]:\n",
        "    id = j['known_id']\n",
        "    for i in good_certain_cfs:\n",
        "        prompt = good_certain_cfs[0]['requested_rewrite']['prompt']\n",
        "        prompt = prompt.replace(\"{}\", good_certain_cfs[0]['requested_rewrite']['subject'])\n",
        "        # input_tokens = mt.tokenizer.encode(prompt)\n",
        "        if knowns[id]['prompt'] == prompt:\n",
        "            print('yes')\n",
        "            # knowns[id] = good_certain_cfs[i]['token_probs']\n",
        "            break"
      ]
    },
    {
      "cell_type": "code",
      "execution_count": 70,
      "metadata": {
        "colab": {
          "base_uri": "https://localhost:8080/"
        },
        "id": "8in4LJHstaKk",
        "outputId": "a9910473-45f9-4b16-a76f-951cf3aecf89"
      },
      "outputs": [
        {
          "name": "stderr",
          "output_type": "stream",
          "text": [
            "1it [00:01,  1.64s/it]"
          ]
        },
        {
          "name": "stdout",
          "output_type": "stream",
          "text": [
            "Good known:  Antarctica\n"
          ]
        },
        {
          "name": "stderr",
          "output_type": "stream",
          "text": [
            "\r2it [00:03,  1.70s/it]"
          ]
        },
        {
          "name": "stdout",
          "output_type": "stream",
          "text": [
            "Good known:  Apple\n"
          ]
        },
        {
          "name": "stderr",
          "output_type": "stream",
          "text": [
            "\r3it [00:03,  1.19s/it]"
          ]
        },
        {
          "name": "stdout",
          "output_type": "stream",
          "text": [
            "Good known:  Amazon\n"
          ]
        },
        {
          "name": "stderr",
          "output_type": "stream",
          "text": [
            "\r4it [00:04,  1.18it/s]"
          ]
        },
        {
          "name": "stdout",
          "output_type": "stream",
          "text": [
            "Good known:  CBS\n"
          ]
        },
        {
          "name": "stderr",
          "output_type": "stream",
          "text": [
            "\r5it [00:06,  1.18s/it]"
          ]
        },
        {
          "name": "stdout",
          "output_type": "stream",
          "text": [
            "Good known:  Apple\n"
          ]
        },
        {
          "name": "stderr",
          "output_type": "stream",
          "text": [
            "\r6it [00:07,  1.36s/it]"
          ]
        },
        {
          "name": "stdout",
          "output_type": "stream",
          "text": [
            "Good known:  Italy\n"
          ]
        },
        {
          "name": "stderr",
          "output_type": "stream",
          "text": [
            "\r7it [00:09,  1.54s/it]"
          ]
        },
        {
          "name": "stdout",
          "output_type": "stream",
          "text": [
            "Good known:  Europe\n"
          ]
        },
        {
          "name": "stderr",
          "output_type": "stream",
          "text": [
            "\r8it [00:11,  1.56s/it]"
          ]
        },
        {
          "name": "stdout",
          "output_type": "stream",
          "text": [
            "Good known:  English\n"
          ]
        },
        {
          "name": "stderr",
          "output_type": "stream",
          "text": [
            "\r9it [00:13,  1.61s/it]"
          ]
        },
        {
          "name": "stdout",
          "output_type": "stream",
          "text": [
            "Good known:  CBS\n"
          ]
        },
        {
          "name": "stderr",
          "output_type": "stream",
          "text": [
            "\r10it [00:14,  1.48s/it]"
          ]
        },
        {
          "name": "stdout",
          "output_type": "stream",
          "text": [
            "Good known:  Latin\n"
          ]
        },
        {
          "name": "stderr",
          "output_type": "stream",
          "text": [
            "\r11it [00:15,  1.51s/it]"
          ]
        },
        {
          "name": "stdout",
          "output_type": "stream",
          "text": [
            "Good known:  Antarctica\n"
          ]
        },
        {
          "name": "stderr",
          "output_type": "stream",
          "text": [
            "\r12it [00:17,  1.47s/it]"
          ]
        },
        {
          "name": "stdout",
          "output_type": "stream",
          "text": [
            "Good known:  Tehran\n"
          ]
        },
        {
          "name": "stderr",
          "output_type": "stream",
          "text": [
            "\r13it [00:18,  1.45s/it]"
          ]
        },
        {
          "name": "stdout",
          "output_type": "stream",
          "text": [
            "Good known:  Italian\n"
          ]
        },
        {
          "name": "stderr",
          "output_type": "stream",
          "text": [
            "\r14it [00:20,  1.58s/it]"
          ]
        },
        {
          "name": "stdout",
          "output_type": "stream",
          "text": [
            "Good known:  Microsoft\n"
          ]
        },
        {
          "name": "stderr",
          "output_type": "stream",
          "text": [
            "\r15it [00:22,  1.62s/it]"
          ]
        },
        {
          "name": "stdout",
          "output_type": "stream",
          "text": [
            "Good known:  Dublin\n"
          ]
        },
        {
          "name": "stderr",
          "output_type": "stream",
          "text": [
            "\r16it [00:23,  1.62s/it]"
          ]
        },
        {
          "name": "stdout",
          "output_type": "stream",
          "text": [
            "Good known:  French\n"
          ]
        },
        {
          "name": "stderr",
          "output_type": "stream",
          "text": [
            "\r17it [00:24,  1.43s/it]"
          ]
        },
        {
          "name": "stdout",
          "output_type": "stream",
          "text": [
            "Good known:  Spanish\n"
          ]
        },
        {
          "name": "stderr",
          "output_type": "stream",
          "text": [
            "\r18it [00:26,  1.55s/it]"
          ]
        },
        {
          "name": "stdout",
          "output_type": "stream",
          "text": [
            "Good known:  NBC\n"
          ]
        },
        {
          "name": "stderr",
          "output_type": "stream",
          "text": [
            "\r19it [00:28,  1.55s/it]"
          ]
        },
        {
          "name": "stdout",
          "output_type": "stream",
          "text": [
            "Good known:  Samsung\n"
          ]
        },
        {
          "name": "stderr",
          "output_type": "stream",
          "text": [
            "\r20it [00:29,  1.58s/it]"
          ]
        },
        {
          "name": "stdout",
          "output_type": "stream",
          "text": [
            "Good known:  baseball\n"
          ]
        },
        {
          "name": "stderr",
          "output_type": "stream",
          "text": [
            "\r21it [00:31,  1.61s/it]"
          ]
        },
        {
          "name": "stdout",
          "output_type": "stream",
          "text": [
            "Good known:  Japan\n"
          ]
        },
        {
          "name": "stderr",
          "output_type": "stream",
          "text": [
            "\r22it [00:33,  1.65s/it]"
          ]
        },
        {
          "name": "stdout",
          "output_type": "stream",
          "text": [
            "Good known:  Rome\n"
          ]
        },
        {
          "name": "stderr",
          "output_type": "stream",
          "text": [
            "\r23it [00:34,  1.66s/it]"
          ]
        },
        {
          "name": "stdout",
          "output_type": "stream",
          "text": [
            "Good known:  Paris\n"
          ]
        },
        {
          "name": "stderr",
          "output_type": "stream",
          "text": [
            "\r24it [00:35,  1.32s/it]"
          ]
        },
        {
          "name": "stdout",
          "output_type": "stream",
          "text": [
            "Good known:  Italy\n"
          ]
        },
        {
          "name": "stderr",
          "output_type": "stream",
          "text": [
            "\r25it [00:36,  1.39s/it]"
          ]
        },
        {
          "name": "stdout",
          "output_type": "stream",
          "text": [
            "Good known:  FIFA\n"
          ]
        },
        {
          "name": "stderr",
          "output_type": "stream",
          "text": [
            "\r26it [00:38,  1.54s/it]"
          ]
        },
        {
          "name": "stdout",
          "output_type": "stream",
          "text": [
            "Good known:  Microsoft\n"
          ]
        },
        {
          "name": "stderr",
          "output_type": "stream",
          "text": [
            "\r27it [00:40,  1.61s/it]"
          ]
        },
        {
          "name": "stdout",
          "output_type": "stream",
          "text": [
            "Good known:  Microsoft\n"
          ]
        },
        {
          "name": "stderr",
          "output_type": "stream",
          "text": [
            "29it [00:43,  1.62s/it]"
          ]
        },
        {
          "name": "stdout",
          "output_type": "stream",
          "text": [
            "Good known:  football\n"
          ]
        },
        {
          "name": "stderr",
          "output_type": "stream",
          "text": [
            "\r30it [00:45,  1.59s/it]"
          ]
        },
        {
          "name": "stdout",
          "output_type": "stream",
          "text": [
            "Good known:  Spanish\n"
          ]
        },
        {
          "name": "stderr",
          "output_type": "stream",
          "text": [
            "\r31it [00:47,  1.64s/it]"
          ]
        },
        {
          "name": "stdout",
          "output_type": "stream",
          "text": [
            "Good known:  Avengers\n"
          ]
        },
        {
          "name": "stderr",
          "output_type": "stream",
          "text": [
            "\r32it [00:49,  1.74s/it]"
          ]
        },
        {
          "name": "stdout",
          "output_type": "stream",
          "text": [
            "Good known:  Cambridge\n"
          ]
        },
        {
          "name": "stderr",
          "output_type": "stream",
          "text": [
            "\r33it [00:50,  1.71s/it]"
          ]
        },
        {
          "name": "stdout",
          "output_type": "stream",
          "text": [
            "Good known:  Asia\n"
          ]
        },
        {
          "name": "stderr",
          "output_type": "stream",
          "text": [
            "\r34it [00:51,  1.44s/it]"
          ]
        },
        {
          "name": "stdout",
          "output_type": "stream",
          "text": [
            "Good known:  NBC\n"
          ]
        },
        {
          "name": "stderr",
          "output_type": "stream",
          "text": [
            "\r35it [00:53,  1.55s/it]"
          ]
        },
        {
          "name": "stdout",
          "output_type": "stream",
          "text": [
            "Good known:  Manila\n"
          ]
        },
        {
          "name": "stderr",
          "output_type": "stream",
          "text": [
            "37it [00:56,  1.58s/it]"
          ]
        },
        {
          "name": "stdout",
          "output_type": "stream",
          "text": [
            "Good known:  piano\n"
          ]
        },
        {
          "name": "stderr",
          "output_type": "stream",
          "text": [
            "\r38it [00:58,  1.60s/it]"
          ]
        },
        {
          "name": "stdout",
          "output_type": "stream",
          "text": [
            "Good known:  Microsoft\n"
          ]
        },
        {
          "name": "stderr",
          "output_type": "stream",
          "text": [
            "\r39it [00:59,  1.53s/it]"
          ]
        },
        {
          "name": "stdout",
          "output_type": "stream",
          "text": [
            "Good known:  Istanbul\n"
          ]
        },
        {
          "name": "stderr",
          "output_type": "stream",
          "text": [
            "\r40it [01:01,  1.57s/it]"
          ]
        },
        {
          "name": "stdout",
          "output_type": "stream",
          "text": [
            "Good known:  Finnish\n"
          ]
        },
        {
          "name": "stderr",
          "output_type": "stream",
          "text": [
            "\r41it [01:02,  1.59s/it]"
          ]
        },
        {
          "name": "stdout",
          "output_type": "stream",
          "text": [
            "Good known:  Islam\n"
          ]
        },
        {
          "name": "stderr",
          "output_type": "stream",
          "text": [
            "\r42it [01:04,  1.62s/it]"
          ]
        },
        {
          "name": "stdout",
          "output_type": "stream",
          "text": [
            "Good known:  Islam\n"
          ]
        },
        {
          "name": "stderr",
          "output_type": "stream",
          "text": [
            "\r43it [01:05,  1.48s/it]"
          ]
        },
        {
          "name": "stdout",
          "output_type": "stream",
          "text": [
            "Good known:  Russian\n"
          ]
        },
        {
          "name": "stderr",
          "output_type": "stream",
          "text": [
            "\r44it [01:07,  1.49s/it]"
          ]
        },
        {
          "name": "stdout",
          "output_type": "stream",
          "text": [
            "Good known:  bishop\n"
          ]
        },
        {
          "name": "stderr",
          "output_type": "stream",
          "text": [
            "\r45it [01:08,  1.48s/it]"
          ]
        },
        {
          "name": "stdout",
          "output_type": "stream",
          "text": [
            "Good known:  Belgium\n"
          ]
        },
        {
          "name": "stderr",
          "output_type": "stream",
          "text": [
            "\r46it [01:10,  1.51s/it]"
          ]
        },
        {
          "name": "stdout",
          "output_type": "stream",
          "text": [
            "Good known:  economics\n"
          ]
        },
        {
          "name": "stderr",
          "output_type": "stream",
          "text": [
            "\r47it [01:11,  1.55s/it]"
          ]
        },
        {
          "name": "stdout",
          "output_type": "stream",
          "text": [
            "Good known:  journalist\n"
          ]
        },
        {
          "name": "stderr",
          "output_type": "stream",
          "text": [
            "\r48it [01:13,  1.55s/it]"
          ]
        },
        {
          "name": "stdout",
          "output_type": "stream",
          "text": [
            "Good known:  Helsinki\n"
          ]
        },
        {
          "name": "stderr",
          "output_type": "stream",
          "text": [
            "\r49it [01:15,  1.62s/it]"
          ]
        },
        {
          "name": "stdout",
          "output_type": "stream",
          "text": [
            "Good known:  Amazon\n"
          ]
        },
        {
          "name": "stderr",
          "output_type": "stream",
          "text": [
            "\r50it [01:16,  1.65s/it]"
          ]
        },
        {
          "name": "stdout",
          "output_type": "stream",
          "text": [
            "Good known:  Europe\n"
          ]
        },
        {
          "name": "stderr",
          "output_type": "stream",
          "text": [
            "\r51it [01:18,  1.62s/it]"
          ]
        },
        {
          "name": "stdout",
          "output_type": "stream",
          "text": [
            "Good known:  Islam\n"
          ]
        },
        {
          "name": "stderr",
          "output_type": "stream",
          "text": [
            "\r52it [01:20,  1.60s/it]"
          ]
        },
        {
          "name": "stdout",
          "output_type": "stream",
          "text": [
            "Good known:  Islam\n"
          ]
        },
        {
          "name": "stderr",
          "output_type": "stream",
          "text": [
            "\r53it [01:21,  1.60s/it]"
          ]
        },
        {
          "name": "stdout",
          "output_type": "stream",
          "text": [
            "Good known:  Islam\n"
          ]
        },
        {
          "name": "stderr",
          "output_type": "stream",
          "text": [
            "\r54it [01:23,  1.64s/it]"
          ]
        },
        {
          "name": "stdout",
          "output_type": "stream",
          "text": [
            "Good known:  Paris\n"
          ]
        },
        {
          "name": "stderr",
          "output_type": "stream",
          "text": [
            "\r55it [01:25,  1.64s/it]"
          ]
        },
        {
          "name": "stdout",
          "output_type": "stream",
          "text": [
            "Good known:  London\n"
          ]
        },
        {
          "name": "stderr",
          "output_type": "stream",
          "text": [
            "\r56it [01:26,  1.63s/it]"
          ]
        },
        {
          "name": "stdout",
          "output_type": "stream",
          "text": [
            "Good known:  fantasy\n"
          ]
        },
        {
          "name": "stderr",
          "output_type": "stream",
          "text": [
            "\r57it [01:28,  1.59s/it]"
          ]
        },
        {
          "name": "stdout",
          "output_type": "stream",
          "text": [
            "Good known:  French\n"
          ]
        },
        {
          "name": "stderr",
          "output_type": "stream",
          "text": [
            "\r58it [01:29,  1.60s/it]"
          ]
        },
        {
          "name": "stdout",
          "output_type": "stream",
          "text": [
            "Good known:  film\n"
          ]
        },
        {
          "name": "stderr",
          "output_type": "stream",
          "text": [
            "\r59it [01:31,  1.59s/it]"
          ]
        },
        {
          "name": "stdout",
          "output_type": "stream",
          "text": [
            "Good known:  Japan\n"
          ]
        },
        {
          "name": "stderr",
          "output_type": "stream",
          "text": [
            "\r60it [01:32,  1.59s/it]"
          ]
        },
        {
          "name": "stdout",
          "output_type": "stream",
          "text": [
            "Good known:  Spanish\n"
          ]
        },
        {
          "name": "stderr",
          "output_type": "stream",
          "text": [
            "\r61it [01:34,  1.55s/it]"
          ]
        },
        {
          "name": "stdout",
          "output_type": "stream",
          "text": [
            "Good known:  Stockholm\n"
          ]
        },
        {
          "name": "stderr",
          "output_type": "stream",
          "text": [
            "\r62it [01:35,  1.54s/it]"
          ]
        },
        {
          "name": "stdout",
          "output_type": "stream",
          "text": [
            "Good known:  soccer\n"
          ]
        },
        {
          "name": "stderr",
          "output_type": "stream",
          "text": [
            "\r63it [01:37,  1.59s/it]"
          ]
        },
        {
          "name": "stdout",
          "output_type": "stream",
          "text": [
            "Good known:  pitcher\n"
          ]
        },
        {
          "name": "stderr",
          "output_type": "stream",
          "text": [
            "\r64it [01:39,  1.59s/it]"
          ]
        },
        {
          "name": "stdout",
          "output_type": "stream",
          "text": [
            "Good known:  Japan\n"
          ]
        },
        {
          "name": "stderr",
          "output_type": "stream",
          "text": [
            "\r65it [01:40,  1.62s/it]"
          ]
        },
        {
          "name": "stdout",
          "output_type": "stream",
          "text": [
            "Good known:  Paris\n"
          ]
        },
        {
          "name": "stderr",
          "output_type": "stream",
          "text": [
            "\r66it [01:42,  1.64s/it]"
          ]
        },
        {
          "name": "stdout",
          "output_type": "stream",
          "text": [
            "Good known:  Intel\n"
          ]
        },
        {
          "name": "stderr",
          "output_type": "stream",
          "text": [
            "\r67it [01:44,  1.62s/it]"
          ]
        },
        {
          "name": "stdout",
          "output_type": "stream",
          "text": [
            "Good known:  Cuba\n"
          ]
        },
        {
          "name": "stderr",
          "output_type": "stream",
          "text": [
            "\r68it [01:45,  1.63s/it]"
          ]
        },
        {
          "name": "stdout",
          "output_type": "stream",
          "text": [
            "Good known:  Stockholm\n"
          ]
        },
        {
          "name": "stderr",
          "output_type": "stream",
          "text": [
            "\r69it [01:47,  1.65s/it]"
          ]
        },
        {
          "name": "stdout",
          "output_type": "stream",
          "text": [
            "Good known:  BBC\n"
          ]
        },
        {
          "name": "stderr",
          "output_type": "stream",
          "text": [
            "\r70it [01:49,  1.66s/it]"
          ]
        },
        {
          "name": "stdout",
          "output_type": "stream",
          "text": [
            "Good known:  quarterback\n"
          ]
        },
        {
          "name": "stderr",
          "output_type": "stream",
          "text": [
            "\r71it [01:50,  1.65s/it]"
          ]
        },
        {
          "name": "stdout",
          "output_type": "stream",
          "text": [
            "Good known:  Denmark\n"
          ]
        },
        {
          "name": "stderr",
          "output_type": "stream",
          "text": [
            "\r72it [01:52,  1.63s/it]"
          ]
        },
        {
          "name": "stdout",
          "output_type": "stream",
          "text": [
            "Good known:  Danish\n"
          ]
        },
        {
          "name": "stderr",
          "output_type": "stream",
          "text": [
            "\r73it [01:53,  1.62s/it]"
          ]
        },
        {
          "name": "stdout",
          "output_type": "stream",
          "text": [
            "Good known:  Japan\n"
          ]
        },
        {
          "name": "stderr",
          "output_type": "stream",
          "text": [
            "\r74it [01:55,  1.63s/it]"
          ]
        },
        {
          "name": "stdout",
          "output_type": "stream",
          "text": [
            "Good known:  Sega\n"
          ]
        },
        {
          "name": "stderr",
          "output_type": "stream",
          "text": [
            "\r75it [01:57,  1.69s/it]"
          ]
        },
        {
          "name": "stdout",
          "output_type": "stream",
          "text": [
            "Good known:  Toyota\n"
          ]
        },
        {
          "name": "stderr",
          "output_type": "stream",
          "text": [
            "78it [02:01,  1.57s/it]"
          ]
        },
        {
          "name": "stdout",
          "output_type": "stream",
          "text": [
            "Good known:  astronomy\n"
          ]
        },
        {
          "name": "stderr",
          "output_type": "stream",
          "text": [
            "\r79it [02:03,  1.57s/it]"
          ]
        },
        {
          "name": "stdout",
          "output_type": "stream",
          "text": [
            "Good known:  Berlin\n"
          ]
        },
        {
          "name": "stderr",
          "output_type": "stream",
          "text": [
            "\r80it [02:04,  1.50s/it]"
          ]
        },
        {
          "name": "stdout",
          "output_type": "stream",
          "text": [
            "Good known:  Berlin\n"
          ]
        },
        {
          "name": "stderr",
          "output_type": "stream",
          "text": [
            "\r81it [02:06,  1.50s/it]"
          ]
        },
        {
          "name": "stdout",
          "output_type": "stream",
          "text": [
            "Good known:  bishop\n"
          ]
        },
        {
          "name": "stderr",
          "output_type": "stream",
          "text": [
            "\r82it [02:08,  1.61s/it]"
          ]
        },
        {
          "name": "stdout",
          "output_type": "stream",
          "text": [
            "Good known:  Rome\n"
          ]
        },
        {
          "name": "stderr",
          "output_type": "stream",
          "text": [
            "\r83it [02:08,  1.22s/it]"
          ]
        },
        {
          "name": "stdout",
          "output_type": "stream",
          "text": [
            "Good known:  HBO\n"
          ]
        },
        {
          "name": "stderr",
          "output_type": "stream",
          "text": [
            "\r84it [02:10,  1.37s/it]"
          ]
        },
        {
          "name": "stdout",
          "output_type": "stream",
          "text": [
            "Good known:  coffee\n"
          ]
        },
        {
          "name": "stderr",
          "output_type": "stream",
          "text": [
            "\r85it [02:11,  1.36s/it]"
          ]
        },
        {
          "name": "stdout",
          "output_type": "stream",
          "text": [
            "Good known:  Munich\n"
          ]
        },
        {
          "name": "stderr",
          "output_type": "stream",
          "text": [
            "\r86it [02:13,  1.42s/it]"
          ]
        },
        {
          "name": "stdout",
          "output_type": "stream",
          "text": [
            "Good known:  Antarctica\n"
          ]
        },
        {
          "name": "stderr",
          "output_type": "stream",
          "text": [
            "\r87it [02:14,  1.50s/it]"
          ]
        },
        {
          "name": "stdout",
          "output_type": "stream",
          "text": [
            "Good known:  Asia\n"
          ]
        },
        {
          "name": "stderr",
          "output_type": "stream",
          "text": [
            "\r88it [02:16,  1.55s/it]"
          ]
        },
        {
          "name": "stdout",
          "output_type": "stream",
          "text": [
            "Good known:  Philippines\n"
          ]
        },
        {
          "name": "stderr",
          "output_type": "stream",
          "text": [
            "\r89it [02:18,  1.59s/it]"
          ]
        },
        {
          "name": "stdout",
          "output_type": "stream",
          "text": [
            "Good known:  Quebec\n"
          ]
        },
        {
          "name": "stderr",
          "output_type": "stream",
          "text": [
            "\r90it [02:19,  1.47s/it]"
          ]
        },
        {
          "name": "stdout",
          "output_type": "stream",
          "text": [
            "Good known:  Greek\n"
          ]
        },
        {
          "name": "stderr",
          "output_type": "stream",
          "text": [
            "\r91it [02:20,  1.50s/it]"
          ]
        },
        {
          "name": "stdout",
          "output_type": "stream",
          "text": [
            "Good known:  Islam\n"
          ]
        },
        {
          "name": "stderr",
          "output_type": "stream",
          "text": [
            "\r92it [02:22,  1.51s/it]"
          ]
        },
        {
          "name": "stdout",
          "output_type": "stream",
          "text": [
            "Good known:  Warsaw\n"
          ]
        },
        {
          "name": "stderr",
          "output_type": "stream",
          "text": [
            "94it [02:25,  1.50s/it]"
          ]
        },
        {
          "name": "stdout",
          "output_type": "stream",
          "text": [
            "Good known:  Brazil\n"
          ]
        },
        {
          "name": "stderr",
          "output_type": "stream",
          "text": [
            "\r95it [02:26,  1.42s/it]"
          ]
        },
        {
          "name": "stdout",
          "output_type": "stream",
          "text": [
            "Good known:  Germany\n"
          ]
        },
        {
          "name": "stderr",
          "output_type": "stream",
          "text": [
            "\r96it [02:28,  1.46s/it]"
          ]
        },
        {
          "name": "stdout",
          "output_type": "stream",
          "text": [
            "Good known:  Greece\n"
          ]
        },
        {
          "name": "stderr",
          "output_type": "stream",
          "text": [
            "\r97it [02:29,  1.56s/it]"
          ]
        },
        {
          "name": "stdout",
          "output_type": "stream",
          "text": [
            "Good known:  Melbourne\n"
          ]
        },
        {
          "name": "stderr",
          "output_type": "stream",
          "text": [
            "\r98it [02:31,  1.44s/it]"
          ]
        },
        {
          "name": "stdout",
          "output_type": "stream",
          "text": [
            "Good known:  Rome\n"
          ]
        },
        {
          "name": "stderr",
          "output_type": "stream",
          "text": [
            "\r99it [02:32,  1.47s/it]"
          ]
        },
        {
          "name": "stdout",
          "output_type": "stream",
          "text": [
            "Good known:  Ireland\n"
          ]
        },
        {
          "name": "stderr",
          "output_type": "stream",
          "text": [
            "\r100it [02:33,  1.43s/it]"
          ]
        },
        {
          "name": "stdout",
          "output_type": "stream",
          "text": [
            "Good known:  French\n"
          ]
        },
        {
          "name": "stderr",
          "output_type": "stream",
          "text": [
            "\r101it [02:35,  1.47s/it]"
          ]
        },
        {
          "name": "stdout",
          "output_type": "stream",
          "text": [
            "Good known:  Tokyo\n"
          ]
        },
        {
          "name": "stderr",
          "output_type": "stream",
          "text": [
            "\r102it [02:37,  1.61s/it]"
          ]
        },
        {
          "name": "stdout",
          "output_type": "stream",
          "text": [
            "Good known:  Microsoft\n"
          ]
        },
        {
          "name": "stderr",
          "output_type": "stream",
          "text": [
            "\r103it [02:39,  1.64s/it]"
          ]
        },
        {
          "name": "stdout",
          "output_type": "stream",
          "text": [
            "Good known:  English\n"
          ]
        },
        {
          "name": "stderr",
          "output_type": "stream",
          "text": [
            "\r104it [02:40,  1.59s/it]"
          ]
        },
        {
          "name": "stdout",
          "output_type": "stream",
          "text": [
            "Good known:  London\n"
          ]
        },
        {
          "name": "stderr",
          "output_type": "stream",
          "text": [
            "\r105it [02:42,  1.57s/it]"
          ]
        },
        {
          "name": "stdout",
          "output_type": "stream",
          "text": [
            "Good known:  India\n"
          ]
        },
        {
          "name": "stderr",
          "output_type": "stream",
          "text": [
            "\r106it [02:43,  1.48s/it]"
          ]
        },
        {
          "name": "stdout",
          "output_type": "stream",
          "text": [
            "Good known:  Buddhism\n"
          ]
        },
        {
          "name": "stderr",
          "output_type": "stream",
          "text": [
            "\r107it [02:45,  1.56s/it]"
          ]
        },
        {
          "name": "stdout",
          "output_type": "stream",
          "text": [
            "Good known:  Paris\n"
          ]
        },
        {
          "name": "stderr",
          "output_type": "stream",
          "text": [
            "\r108it [02:46,  1.56s/it]"
          ]
        },
        {
          "name": "stdout",
          "output_type": "stream",
          "text": [
            "Good known:  Canada\n"
          ]
        },
        {
          "name": "stderr",
          "output_type": "stream",
          "text": [
            "\r109it [02:48,  1.58s/it]"
          ]
        },
        {
          "name": "stdout",
          "output_type": "stream",
          "text": [
            "Good known:  Apple\n"
          ]
        },
        {
          "name": "stderr",
          "output_type": "stream",
          "text": [
            "\r110it [02:50,  1.63s/it]"
          ]
        },
        {
          "name": "stdout",
          "output_type": "stream",
          "text": [
            "Good known:  WWE\n"
          ]
        },
        {
          "name": "stderr",
          "output_type": "stream",
          "text": [
            "\r111it [02:51,  1.61s/it]"
          ]
        },
        {
          "name": "stdout",
          "output_type": "stream",
          "text": [
            "Good known:  Canada\n"
          ]
        },
        {
          "name": "stderr",
          "output_type": "stream",
          "text": [
            "\r112it [02:53,  1.63s/it]"
          ]
        },
        {
          "name": "stdout",
          "output_type": "stream",
          "text": [
            "Good known:  Microsoft\n"
          ]
        },
        {
          "name": "stderr",
          "output_type": "stream",
          "text": [
            "\r113it [02:55,  1.66s/it]"
          ]
        },
        {
          "name": "stdout",
          "output_type": "stream",
          "text": [
            "Good known:  Vietnamese\n"
          ]
        },
        {
          "name": "stderr",
          "output_type": "stream",
          "text": [
            "\r114it [02:56,  1.54s/it]"
          ]
        },
        {
          "name": "stdout",
          "output_type": "stream",
          "text": [
            "Good known:  Tokyo\n"
          ]
        },
        {
          "name": "stderr",
          "output_type": "stream",
          "text": [
            "\r115it [02:57,  1.45s/it]"
          ]
        },
        {
          "name": "stdout",
          "output_type": "stream",
          "text": [
            "Good known:  opera\n"
          ]
        },
        {
          "name": "stderr",
          "output_type": "stream",
          "text": [
            "\r116it [02:59,  1.50s/it]"
          ]
        },
        {
          "name": "stdout",
          "output_type": "stream",
          "text": [
            "Good known:  soccer\n"
          ]
        },
        {
          "name": "stderr",
          "output_type": "stream",
          "text": [
            "\r117it [03:01,  1.58s/it]"
          ]
        },
        {
          "name": "stdout",
          "output_type": "stream",
          "text": [
            "Good known:  Fiat\n"
          ]
        },
        {
          "name": "stderr",
          "output_type": "stream",
          "text": [
            "\r118it [03:02,  1.60s/it]"
          ]
        },
        {
          "name": "stdout",
          "output_type": "stream",
          "text": [
            "Good known:  soccer\n"
          ]
        },
        {
          "name": "stderr",
          "output_type": "stream",
          "text": [
            "\r119it [03:04,  1.57s/it]"
          ]
        },
        {
          "name": "stdout",
          "output_type": "stream",
          "text": [
            "Good known:  Budapest\n"
          ]
        },
        {
          "name": "stderr",
          "output_type": "stream",
          "text": [
            "\r120it [03:05,  1.46s/it]"
          ]
        },
        {
          "name": "stdout",
          "output_type": "stream",
          "text": [
            "Good known:  Russian\n"
          ]
        },
        {
          "name": "stderr",
          "output_type": "stream",
          "text": [
            "\r121it [03:06,  1.47s/it]"
          ]
        },
        {
          "name": "stdout",
          "output_type": "stream",
          "text": [
            "Good known:  Canada\n"
          ]
        },
        {
          "name": "stderr",
          "output_type": "stream",
          "text": [
            "\r122it [03:08,  1.44s/it]"
          ]
        },
        {
          "name": "stdout",
          "output_type": "stream",
          "text": [
            "Good known:  pope\n"
          ]
        },
        {
          "name": "stderr",
          "output_type": "stream",
          "text": [
            "124it [03:11,  1.58s/it]"
          ]
        },
        {
          "name": "stdout",
          "output_type": "stream",
          "text": [
            "Good known:  Cairo\n"
          ]
        },
        {
          "name": "stderr",
          "output_type": "stream",
          "text": [
            "\r125it [03:13,  1.61s/it]"
          ]
        },
        {
          "name": "stdout",
          "output_type": "stream",
          "text": [
            "Good known:  Paris\n"
          ]
        },
        {
          "name": "stderr",
          "output_type": "stream",
          "text": [
            "\r126it [03:14,  1.58s/it]"
          ]
        },
        {
          "name": "stdout",
          "output_type": "stream",
          "text": [
            "Good known:  Seattle\n"
          ]
        },
        {
          "name": "stderr",
          "output_type": "stream",
          "text": [
            "\r127it [03:16,  1.58s/it]"
          ]
        },
        {
          "name": "stdout",
          "output_type": "stream",
          "text": [
            "Good known:  Italy\n"
          ]
        },
        {
          "name": "stderr",
          "output_type": "stream",
          "text": [
            "\r128it [03:17,  1.57s/it]"
          ]
        },
        {
          "name": "stdout",
          "output_type": "stream",
          "text": [
            "Good known:  Amsterdam\n"
          ]
        },
        {
          "name": "stderr",
          "output_type": "stream",
          "text": [
            "\r129it [03:19,  1.59s/it]"
          ]
        },
        {
          "name": "stdout",
          "output_type": "stream",
          "text": [
            "Good known:  pope\n"
          ]
        },
        {
          "name": "stderr",
          "output_type": "stream",
          "text": [
            "\r130it [03:21,  1.65s/it]"
          ]
        },
        {
          "name": "stdout",
          "output_type": "stream",
          "text": [
            "Good known:  London\n"
          ]
        },
        {
          "name": "stderr",
          "output_type": "stream",
          "text": [
            "\r131it [03:22,  1.55s/it]"
          ]
        },
        {
          "name": "stdout",
          "output_type": "stream",
          "text": [
            "Good known:  Islam\n"
          ]
        },
        {
          "name": "stderr",
          "output_type": "stream",
          "text": [
            "\r132it [03:24,  1.57s/it]"
          ]
        },
        {
          "name": "stdout",
          "output_type": "stream",
          "text": [
            "Good known:  piano\n"
          ]
        },
        {
          "name": "stderr",
          "output_type": "stream",
          "text": [
            "\r133it [03:25,  1.60s/it]"
          ]
        },
        {
          "name": "stdout",
          "output_type": "stream",
          "text": [
            "Good known:  Tokyo\n"
          ]
        },
        {
          "name": "stderr",
          "output_type": "stream",
          "text": [
            "\r134it [03:27,  1.49s/it]"
          ]
        },
        {
          "name": "stdout",
          "output_type": "stream",
          "text": [
            "Good known:  opera\n"
          ]
        },
        {
          "name": "stderr",
          "output_type": "stream",
          "text": [
            "\r135it [03:28,  1.55s/it]"
          ]
        },
        {
          "name": "stdout",
          "output_type": "stream",
          "text": [
            "Good known:  English\n"
          ]
        },
        {
          "name": "stderr",
          "output_type": "stream",
          "text": [
            "\r136it [03:30,  1.54s/it]"
          ]
        },
        {
          "name": "stdout",
          "output_type": "stream",
          "text": [
            "Good known:  Paris\n"
          ]
        },
        {
          "name": "stderr",
          "output_type": "stream",
          "text": [
            "\r137it [03:32,  1.59s/it]"
          ]
        },
        {
          "name": "stdout",
          "output_type": "stream",
          "text": [
            "Good known:  Paris\n"
          ]
        },
        {
          "name": "stderr",
          "output_type": "stream",
          "text": [
            "\r138it [03:33,  1.59s/it]"
          ]
        },
        {
          "name": "stdout",
          "output_type": "stream",
          "text": [
            "Good known:  Brazil\n"
          ]
        },
        {
          "name": "stderr",
          "output_type": "stream",
          "text": [
            "\r139it [03:35,  1.63s/it]"
          ]
        },
        {
          "name": "stdout",
          "output_type": "stream",
          "text": [
            "Good known:  Google\n"
          ]
        },
        {
          "name": "stderr",
          "output_type": "stream",
          "text": [
            "\r140it [03:36,  1.61s/it]"
          ]
        },
        {
          "name": "stdout",
          "output_type": "stream",
          "text": [
            "Good known:  Italian\n"
          ]
        },
        {
          "name": "stderr",
          "output_type": "stream",
          "text": [
            "\r141it [03:38,  1.53s/it]"
          ]
        },
        {
          "name": "stdout",
          "output_type": "stream",
          "text": [
            "Good known:  London\n"
          ]
        },
        {
          "name": "stderr",
          "output_type": "stream",
          "text": [
            "\r142it [03:39,  1.51s/it]"
          ]
        },
        {
          "name": "stdout",
          "output_type": "stream",
          "text": [
            "Good known:  Bangkok\n"
          ]
        },
        {
          "name": "stderr",
          "output_type": "stream",
          "text": [
            "\r143it [03:41,  1.53s/it]"
          ]
        },
        {
          "name": "stdout",
          "output_type": "stream",
          "text": [
            "Good known:  Toronto\n"
          ]
        },
        {
          "name": "stderr",
          "output_type": "stream",
          "text": [
            "\r144it [03:42,  1.54s/it]"
          ]
        },
        {
          "name": "stdout",
          "output_type": "stream",
          "text": [
            "Good known:  France\n"
          ]
        },
        {
          "name": "stderr",
          "output_type": "stream",
          "text": [
            "\r145it [03:44,  1.57s/it]"
          ]
        },
        {
          "name": "stdout",
          "output_type": "stream",
          "text": [
            "Good known:  Antarctica\n"
          ]
        },
        {
          "name": "stderr",
          "output_type": "stream",
          "text": [
            "\r146it [03:46,  1.57s/it]"
          ]
        },
        {
          "name": "stdout",
          "output_type": "stream",
          "text": [
            "Good known:  Amsterdam\n"
          ]
        },
        {
          "name": "stderr",
          "output_type": "stream",
          "text": [
            "\r147it [03:47,  1.54s/it]"
          ]
        },
        {
          "name": "stdout",
          "output_type": "stream",
          "text": [
            "Good known:  Montana\n"
          ]
        },
        {
          "name": "stderr",
          "output_type": "stream",
          "text": [
            "\r148it [03:49,  1.54s/it]"
          ]
        },
        {
          "name": "stdout",
          "output_type": "stream",
          "text": [
            "Good known:  Russian\n"
          ]
        },
        {
          "name": "stderr",
          "output_type": "stream",
          "text": [
            "\r149it [03:50,  1.47s/it]"
          ]
        },
        {
          "name": "stdout",
          "output_type": "stream",
          "text": [
            "Good known:  Poland\n"
          ]
        },
        {
          "name": "stderr",
          "output_type": "stream",
          "text": [
            "\r150it [03:52,  1.53s/it]"
          ]
        },
        {
          "name": "stdout",
          "output_type": "stream",
          "text": [
            "Good known:  Budapest\n"
          ]
        },
        {
          "name": "stderr",
          "output_type": "stream",
          "text": [
            "\r151it [03:53,  1.54s/it]"
          ]
        },
        {
          "name": "stdout",
          "output_type": "stream",
          "text": [
            "Good known:  pope\n"
          ]
        },
        {
          "name": "stderr",
          "output_type": "stream",
          "text": [
            "\r152it [03:55,  1.64s/it]"
          ]
        },
        {
          "name": "stdout",
          "output_type": "stream",
          "text": [
            "Good known:  Microsoft\n"
          ]
        },
        {
          "name": "stderr",
          "output_type": "stream",
          "text": [
            "\r153it [03:57,  1.63s/it]"
          ]
        },
        {
          "name": "stdout",
          "output_type": "stream",
          "text": [
            "Good known:  French\n"
          ]
        },
        {
          "name": "stderr",
          "output_type": "stream",
          "text": [
            "\r154it [03:58,  1.60s/it]"
          ]
        },
        {
          "name": "stdout",
          "output_type": "stream",
          "text": [
            "Good known:  Glasgow\n"
          ]
        },
        {
          "name": "stderr",
          "output_type": "stream",
          "text": [
            "\r155it [04:00,  1.57s/it]"
          ]
        },
        {
          "name": "stdout",
          "output_type": "stream",
          "text": [
            "Good known:  France\n"
          ]
        },
        {
          "name": "stderr",
          "output_type": "stream",
          "text": [
            "\r156it [04:01,  1.56s/it]"
          ]
        },
        {
          "name": "stdout",
          "output_type": "stream",
          "text": [
            "Good known:  opera\n"
          ]
        },
        {
          "name": "stderr",
          "output_type": "stream",
          "text": [
            "\r157it [04:03,  1.56s/it]"
          ]
        },
        {
          "name": "stdout",
          "output_type": "stream",
          "text": [
            "Good known:  Finland\n"
          ]
        },
        {
          "name": "stderr",
          "output_type": "stream",
          "text": [
            "\r158it [04:04,  1.61s/it]"
          ]
        },
        {
          "name": "stdout",
          "output_type": "stream",
          "text": [
            "Good known:  Apple\n"
          ]
        },
        {
          "name": "stderr",
          "output_type": "stream",
          "text": [
            "\r159it [04:06,  1.59s/it]"
          ]
        },
        {
          "name": "stdout",
          "output_type": "stream",
          "text": [
            "Good known:  Berlin\n"
          ]
        },
        {
          "name": "stderr",
          "output_type": "stream",
          "text": [
            "\r160it [04:08,  1.65s/it]"
          ]
        },
        {
          "name": "stdout",
          "output_type": "stream",
          "text": [
            "Good known:  Microsoft\n"
          ]
        },
        {
          "name": "stderr",
          "output_type": "stream",
          "text": [
            "\r161it [04:09,  1.63s/it]"
          ]
        },
        {
          "name": "stdout",
          "output_type": "stream",
          "text": [
            "Good known:  Syria\n"
          ]
        },
        {
          "name": "stderr",
          "output_type": "stream",
          "text": [
            "\r162it [04:11,  1.68s/it]"
          ]
        },
        {
          "name": "stdout",
          "output_type": "stream",
          "text": [
            "Good known:  Islam\n"
          ]
        },
        {
          "name": "stderr",
          "output_type": "stream",
          "text": [
            "\r163it [04:13,  1.70s/it]"
          ]
        },
        {
          "name": "stdout",
          "output_type": "stream",
          "text": [
            "Good known:  physics\n"
          ]
        },
        {
          "name": "stderr",
          "output_type": "stream",
          "text": [
            "\r164it [04:15,  1.72s/it]"
          ]
        },
        {
          "name": "stdout",
          "output_type": "stream",
          "text": [
            "Good known:  basketball\n"
          ]
        },
        {
          "name": "stderr",
          "output_type": "stream",
          "text": [
            "\r165it [04:17,  1.81s/it]"
          ]
        },
        {
          "name": "stdout",
          "output_type": "stream",
          "text": [
            "Good known:  feminism\n"
          ]
        },
        {
          "name": "stderr",
          "output_type": "stream",
          "text": [
            "\r166it [04:18,  1.80s/it]"
          ]
        },
        {
          "name": "stdout",
          "output_type": "stream",
          "text": [
            "Good known:  baseball\n"
          ]
        },
        {
          "name": "stderr",
          "output_type": "stream",
          "text": [
            "\r167it [04:20,  1.80s/it]"
          ]
        },
        {
          "name": "stdout",
          "output_type": "stream",
          "text": [
            "Good known:  football\n"
          ]
        },
        {
          "name": "stderr",
          "output_type": "stream",
          "text": [
            "\r168it [04:22,  1.67s/it]"
          ]
        },
        {
          "name": "stdout",
          "output_type": "stream",
          "text": [
            "Good known:  French\n"
          ]
        },
        {
          "name": "stderr",
          "output_type": "stream",
          "text": [
            "\r169it [04:23,  1.71s/it]"
          ]
        },
        {
          "name": "stdout",
          "output_type": "stream",
          "text": [
            "Good known:  piano\n"
          ]
        },
        {
          "name": "stderr",
          "output_type": "stream",
          "text": [
            "\r170it [04:25,  1.73s/it]"
          ]
        },
        {
          "name": "stdout",
          "output_type": "stream",
          "text": [
            "Good known:  London\n"
          ]
        },
        {
          "name": "stderr",
          "output_type": "stream",
          "text": [
            "\r171it [04:27,  1.71s/it]"
          ]
        },
        {
          "name": "stdout",
          "output_type": "stream",
          "text": [
            "Good known:  physicist\n"
          ]
        },
        {
          "name": "stderr",
          "output_type": "stream",
          "text": [
            "\r172it [04:29,  1.72s/it]"
          ]
        },
        {
          "name": "stdout",
          "output_type": "stream",
          "text": [
            "Good known:  Melbourne\n"
          ]
        },
        {
          "name": "stderr",
          "output_type": "stream",
          "text": [
            "\r173it [04:30,  1.75s/it]"
          ]
        },
        {
          "name": "stdout",
          "output_type": "stream",
          "text": [
            "Good known:  French\n"
          ]
        },
        {
          "name": "stderr",
          "output_type": "stream",
          "text": [
            "\r174it [04:32,  1.58s/it]"
          ]
        },
        {
          "name": "stdout",
          "output_type": "stream",
          "text": [
            "Good known:  London\n"
          ]
        },
        {
          "name": "stderr",
          "output_type": "stream",
          "text": [
            "\r175it [04:33,  1.58s/it]"
          ]
        },
        {
          "name": "stdout",
          "output_type": "stream",
          "text": [
            "Good known:  Paris\n"
          ]
        },
        {
          "name": "stderr",
          "output_type": "stream",
          "text": [
            "\r176it [04:35,  1.54s/it]"
          ]
        },
        {
          "name": "stdout",
          "output_type": "stream",
          "text": [
            "Good known:  Austin\n"
          ]
        },
        {
          "name": "stderr",
          "output_type": "stream",
          "text": [
            "\r177it [04:36,  1.55s/it]"
          ]
        },
        {
          "name": "stdout",
          "output_type": "stream",
          "text": [
            "Good known:  Japan\n"
          ]
        },
        {
          "name": "stderr",
          "output_type": "stream",
          "text": [
            "\r178it [04:38,  1.57s/it]"
          ]
        },
        {
          "name": "stdout",
          "output_type": "stream",
          "text": [
            "Good known:  Apple\n"
          ]
        },
        {
          "name": "stderr",
          "output_type": "stream",
          "text": [
            "\r179it [04:39,  1.45s/it]"
          ]
        },
        {
          "name": "stdout",
          "output_type": "stream",
          "text": [
            "Good known:  Italian\n"
          ]
        },
        {
          "name": "stderr",
          "output_type": "stream",
          "text": [
            "\r180it [04:41,  1.54s/it]"
          ]
        },
        {
          "name": "stdout",
          "output_type": "stream",
          "text": [
            "Good known:  Netherlands\n"
          ]
        },
        {
          "name": "stderr",
          "output_type": "stream",
          "text": [
            "\r181it [04:42,  1.54s/it]"
          ]
        },
        {
          "name": "stdout",
          "output_type": "stream",
          "text": [
            "Good known:  Judaism\n"
          ]
        },
        {
          "name": "stderr",
          "output_type": "stream",
          "text": [
            "\r182it [04:44,  1.56s/it]"
          ]
        },
        {
          "name": "stdout",
          "output_type": "stream",
          "text": [
            "Good known:  French\n"
          ]
        },
        {
          "name": "stderr",
          "output_type": "stream",
          "text": [
            "\r183it [04:46,  1.59s/it]"
          ]
        },
        {
          "name": "stdout",
          "output_type": "stream",
          "text": [
            "Good known:  London\n"
          ]
        },
        {
          "name": "stderr",
          "output_type": "stream",
          "text": [
            "\r184it [04:47,  1.50s/it]"
          ]
        },
        {
          "name": "stdout",
          "output_type": "stream",
          "text": [
            "Good known:  French\n"
          ]
        },
        {
          "name": "stderr",
          "output_type": "stream",
          "text": [
            "\r185it [04:49,  1.57s/it]"
          ]
        },
        {
          "name": "stdout",
          "output_type": "stream",
          "text": [
            "Good known:  French\n"
          ]
        },
        {
          "name": "stderr",
          "output_type": "stream",
          "text": [
            "\r186it [04:50,  1.62s/it]"
          ]
        },
        {
          "name": "stdout",
          "output_type": "stream",
          "text": [
            "Good known:  Amazon\n"
          ]
        },
        {
          "name": "stderr",
          "output_type": "stream",
          "text": [
            "\r187it [04:52,  1.60s/it]"
          ]
        },
        {
          "name": "stdout",
          "output_type": "stream",
          "text": [
            "Good known:  French\n"
          ]
        },
        {
          "name": "stderr",
          "output_type": "stream",
          "text": [
            "\r188it [04:54,  1.66s/it]"
          ]
        },
        {
          "name": "stdout",
          "output_type": "stream",
          "text": [
            "Good known:  Karachi\n"
          ]
        },
        {
          "name": "stderr",
          "output_type": "stream",
          "text": [
            "\r189it [04:55,  1.67s/it]"
          ]
        },
        {
          "name": "stdout",
          "output_type": "stream",
          "text": [
            "Good known:  jazz\n"
          ]
        },
        {
          "name": "stderr",
          "output_type": "stream",
          "text": [
            "\r190it [04:57,  1.68s/it]"
          ]
        },
        {
          "name": "stdout",
          "output_type": "stream",
          "text": [
            "Good known:  Springfield\n"
          ]
        },
        {
          "name": "stderr",
          "output_type": "stream",
          "text": [
            "\r191it [04:59,  1.75s/it]"
          ]
        },
        {
          "name": "stdout",
          "output_type": "stream",
          "text": [
            "Good known:  London\n"
          ]
        },
        {
          "name": "stderr",
          "output_type": "stream",
          "text": [
            "\r192it [05:01,  1.73s/it]"
          ]
        },
        {
          "name": "stdout",
          "output_type": "stream",
          "text": [
            "Good known:  midfielder\n"
          ]
        },
        {
          "name": "stderr",
          "output_type": "stream",
          "text": [
            "\r193it [05:02,  1.71s/it]"
          ]
        },
        {
          "name": "stdout",
          "output_type": "stream",
          "text": [
            "Good known:  Finnish\n"
          ]
        },
        {
          "name": "stderr",
          "output_type": "stream",
          "text": [
            "\r194it [05:04,  1.77s/it]"
          ]
        },
        {
          "name": "stdout",
          "output_type": "stream",
          "text": [
            "Good known:  football\n"
          ]
        },
        {
          "name": "stderr",
          "output_type": "stream",
          "text": [
            "\r195it [05:06,  1.87s/it]"
          ]
        },
        {
          "name": "stdout",
          "output_type": "stream",
          "text": [
            "Good known:  Spanish\n"
          ]
        },
        {
          "name": "stderr",
          "output_type": "stream",
          "text": [
            "197it [05:10,  1.75s/it]"
          ]
        },
        {
          "name": "stdout",
          "output_type": "stream",
          "text": [
            "Good known:  Italian\n"
          ]
        },
        {
          "name": "stderr",
          "output_type": "stream",
          "text": [
            "\r198it [05:11,  1.74s/it]"
          ]
        },
        {
          "name": "stdout",
          "output_type": "stream",
          "text": [
            "Good known:  quarterback\n"
          ]
        },
        {
          "name": "stderr",
          "output_type": "stream",
          "text": [
            "\r199it [05:13,  1.72s/it]"
          ]
        },
        {
          "name": "stdout",
          "output_type": "stream",
          "text": [
            "Good known:  linebacker\n"
          ]
        },
        {
          "name": "stderr",
          "output_type": "stream",
          "text": [
            "200it [05:15,  1.58s/it]"
          ]
        },
        {
          "name": "stdout",
          "output_type": "stream",
          "text": [
            "Good known:  Irish\n"
          ]
        },
        {
          "name": "stderr",
          "output_type": "stream",
          "text": [
            "\n"
          ]
        }
      ],
      "source": [
        "import numpy as np\n",
        "from tqdm import tqdm\n",
        "count = 0\n",
        "good_knowns = {}\n",
        "for i, known in tqdm(enumerate(knowns[0:200])):\n",
        "    prompt = known['prompt']\n",
        "    input_ids = mt.tokenizer(\n",
        "        prompt, add_special_tokens=False, return_tensors=\"pt\"\n",
        "    ).input_ids.to(device)\n",
        "    generated_outputs = mt.model.generate(\n",
        "        input_ids,\n",
        "        do_sample=True,\n",
        "        early_stopping=True,\n",
        "        max_length=40,\n",
        "        num_return_sequences=1,\n",
        "        output_scores=True,\n",
        "        return_dict_in_generate=True,\n",
        "        device=device,\n",
        "        # repetition_penalty=1.2,\n",
        "        # length_penalty=0.8,\n",
        "        pad_token_id=mt.tokenizer.eos_token_id,\n",
        "        temperature=0.05\n",
        "    )\n",
        "    generated_text = mt.tokenizer.decode(generated_outputs.sequences[0])\n",
        "\n",
        "    # only use id's that were generated\n",
        "    # gen_sequences has shape [3, 15]\n",
        "    gen_sequences = generated_outputs.sequences[:, input_ids.shape[-1] :]\n",
        "    probs = torch.stack(generated_outputs.scores, dim=1).softmax(-1)  # -> shape [3, 15, vocab_size]\n",
        "    # now we need to collect the probability of the generated token\n",
        "    # we need to add a dummy dim in the end to make gather work\n",
        "    gen_probs = torch.gather(probs, 2, gen_sequences[:, :, None]).squeeze(-1)\n",
        "    # print(gen_probs)\n",
        "    for j, sequence in enumerate(generated_outputs.sequences):\n",
        "        generated_seq = sequence[len(sequence) - len(gen_probs[j]):len(sequence)]\n",
        "        token_list = []\n",
        "        for token in generated_seq:\n",
        "            token_list.append(mt.tokenizer.decode(token))\n",
        "        generated_text = mt.tokenizer.decode(generated_seq)\n",
        "        first_token = mt.tokenizer.decode(generated_seq[0]).replace(' ', '')\n",
        "    \n",
        "    token_probs = []\n",
        "    for token, prob in zip(generated_seq, gen_probs[0]):\n",
        "        text = mt.tokenizer.decode(token)\n",
        "        prob = str(np.array(prob.cpu()))\n",
        "        token_probs.append((text, prob))\n",
        "\n",
        "    knowns[i][\"gpt2_main_completion\"] = generated_text\n",
        "    knowns[i][\"token_probs\"] = token_probs\n",
        "    if first_token == knowns[i]['attribute']:\n",
        "        print(\"Good known: \", first_token)\n",
        "        good_knowns[j] = knowns[i]\n",
        "        good_knowns[j][\"first_token\"] = first_token\n",
        "        j += 1\n",
        "    "
      ]
    },
    {
      "cell_type": "code",
      "execution_count": 71,
      "metadata": {
        "colab": {
          "base_uri": "https://localhost:8080/"
        },
        "id": "NmoRPjGOZPTv",
        "outputId": "aee00b49-8f1e-452b-a1ba-a8fa106d82e8"
      },
      "outputs": [
        {
          "data": {
            "text/plain": [
              "{'known_id': 199,\n",
              " 'subject': 'Dominic Behan',\n",
              " 'attribute': 'Irish',\n",
              " 'template': '{} writes in',\n",
              " 'prediction': ' the Irish Times:\\n\\n\"The Irish government',\n",
              " 'prompt': 'Dominic Behan writes in the',\n",
              " 'relation_id': 'P1412',\n",
              " 'gpt2_main_completion': ' Irish Times:\\n\\n\"The Irish government has been accused of \"failing to protect\" the rights of the Roma community after it emerged that the government had failed',\n",
              " 'token_probs': [(' Irish', '0.89230347'),\n",
              "  (' Times', '1.0'),\n",
              "  (':', '0.99996245'),\n",
              "  ('\\n', '1.0'),\n",
              "  ('\\n', '1.0'),\n",
              "  ('\"', '0.99848676'),\n",
              "  ('The', '1.0'),\n",
              "  (' Irish', '0.99951243'),\n",
              "  (' government', '0.99998105'),\n",
              "  (' has', '0.99907696'),\n",
              "  (' been', '1.0'),\n",
              "  (' accused', '0.99987495'),\n",
              "  (' of', '1.0'),\n",
              "  (' \"', '0.9999877'),\n",
              "  ('f', '0.7563271'),\n",
              "  ('ailing', '1.0'),\n",
              "  (' to', '1.0'),\n",
              "  (' protect', '0.9988545'),\n",
              "  ('\"', '1.0'),\n",
              "  (' the', '1.0'),\n",
              "  (' rights', '0.999754'),\n",
              "  (' of', '1.0'),\n",
              "  (' the', '0.9999999'),\n",
              "  (' Roma', '0.48382202'),\n",
              "  (' community', '0.93366486'),\n",
              "  (' after', '0.99991035'),\n",
              "  (' it', '1.0'),\n",
              "  (' emerged', '0.91461647'),\n",
              "  (' that', '1.0'),\n",
              "  (' the', '0.99926347'),\n",
              "  (' government', '0.10076092'),\n",
              "  (' had', '0.99950266'),\n",
              "  (' failed', '0.99998665')],\n",
              " 'first_token': 'Irish'}"
            ]
          },
          "execution_count": 71,
          "metadata": {},
          "output_type": "execute_result"
        }
      ],
      "source": [
        "known"
      ]
    },
    {
      "cell_type": "code",
      "execution_count": 72,
      "metadata": {
        "colab": {
          "base_uri": "https://localhost:8080/",
          "height": 206
        },
        "id": "1M8CaDZQWOdv",
        "outputId": "d53bd51d-3c14-496f-ea0a-84459ad50f46"
      },
      "outputs": [
        {
          "data": {
            "text/html": [
              "\n",
              "  <div id=\"df-0720134b-2ac7-4487-9bd1-a82bcf9dbce2\">\n",
              "    <div class=\"colab-df-container\">\n",
              "      <div>\n",
              "<style scoped>\n",
              "    .dataframe tbody tr th:only-of-type {\n",
              "        vertical-align: middle;\n",
              "    }\n",
              "\n",
              "    .dataframe tbody tr th {\n",
              "        vertical-align: top;\n",
              "    }\n",
              "\n",
              "    .dataframe thead th {\n",
              "        text-align: right;\n",
              "    }\n",
              "</style>\n",
              "<table border=\"1\" class=\"dataframe\">\n",
              "  <thead>\n",
              "    <tr style=\"text-align: right;\">\n",
              "      <th></th>\n",
              "      <th>prompt</th>\n",
              "      <th>correct_answer</th>\n",
              "      <th>prob</th>\n",
              "    </tr>\n",
              "  </thead>\n",
              "  <tbody>\n",
              "    <tr>\n",
              "      <th>0</th>\n",
              "      <td>Vinson Massif is located in the continent of</td>\n",
              "      <td>Antarctica</td>\n",
              "      <td>Antarctica</td>\n",
              "    </tr>\n",
              "    <tr>\n",
              "      <th>1</th>\n",
              "      <td>Beats Music is owned by</td>\n",
              "      <td>Apple</td>\n",
              "      <td>Apple</td>\n",
              "    </tr>\n",
              "    <tr>\n",
              "      <th>2</th>\n",
              "      <td>Audible.com is owned by</td>\n",
              "      <td>Amazon</td>\n",
              "      <td>Amazon</td>\n",
              "    </tr>\n",
              "    <tr>\n",
              "      <th>3</th>\n",
              "      <td>The Big Bang Theory premieres on</td>\n",
              "      <td>CBS</td>\n",
              "      <td>CBS</td>\n",
              "    </tr>\n",
              "    <tr>\n",
              "      <th>4</th>\n",
              "      <td>MacApp, a product created by</td>\n",
              "      <td>Apple</td>\n",
              "      <td>Apple</td>\n",
              "    </tr>\n",
              "  </tbody>\n",
              "</table>\n",
              "</div>\n",
              "      <button class=\"colab-df-convert\" onclick=\"convertToInteractive('df-0720134b-2ac7-4487-9bd1-a82bcf9dbce2')\"\n",
              "              title=\"Convert this dataframe to an interactive table.\"\n",
              "              style=\"display:none;\">\n",
              "        \n",
              "  <svg xmlns=\"http://www.w3.org/2000/svg\" height=\"24px\"viewBox=\"0 0 24 24\"\n",
              "       width=\"24px\">\n",
              "    <path d=\"M0 0h24v24H0V0z\" fill=\"none\"/>\n",
              "    <path d=\"M18.56 5.44l.94 2.06.94-2.06 2.06-.94-2.06-.94-.94-2.06-.94 2.06-2.06.94zm-11 1L8.5 8.5l.94-2.06 2.06-.94-2.06-.94L8.5 2.5l-.94 2.06-2.06.94zm10 10l.94 2.06.94-2.06 2.06-.94-2.06-.94-.94-2.06-.94 2.06-2.06.94z\"/><path d=\"M17.41 7.96l-1.37-1.37c-.4-.4-.92-.59-1.43-.59-.52 0-1.04.2-1.43.59L10.3 9.45l-7.72 7.72c-.78.78-.78 2.05 0 2.83L4 21.41c.39.39.9.59 1.41.59.51 0 1.02-.2 1.41-.59l7.78-7.78 2.81-2.81c.8-.78.8-2.07 0-2.86zM5.41 20L4 18.59l7.72-7.72 1.47 1.35L5.41 20z\"/>\n",
              "  </svg>\n",
              "      </button>\n",
              "      \n",
              "  <style>\n",
              "    .colab-df-container {\n",
              "      display:flex;\n",
              "      flex-wrap:wrap;\n",
              "      gap: 12px;\n",
              "    }\n",
              "\n",
              "    .colab-df-convert {\n",
              "      background-color: #E8F0FE;\n",
              "      border: none;\n",
              "      border-radius: 50%;\n",
              "      cursor: pointer;\n",
              "      display: none;\n",
              "      fill: #1967D2;\n",
              "      height: 32px;\n",
              "      padding: 0 0 0 0;\n",
              "      width: 32px;\n",
              "    }\n",
              "\n",
              "    .colab-df-convert:hover {\n",
              "      background-color: #E2EBFA;\n",
              "      box-shadow: 0px 1px 2px rgba(60, 64, 67, 0.3), 0px 1px 3px 1px rgba(60, 64, 67, 0.15);\n",
              "      fill: #174EA6;\n",
              "    }\n",
              "\n",
              "    [theme=dark] .colab-df-convert {\n",
              "      background-color: #3B4455;\n",
              "      fill: #D2E3FC;\n",
              "    }\n",
              "\n",
              "    [theme=dark] .colab-df-convert:hover {\n",
              "      background-color: #434B5C;\n",
              "      box-shadow: 0px 1px 3px 1px rgba(0, 0, 0, 0.15);\n",
              "      filter: drop-shadow(0px 1px 2px rgba(0, 0, 0, 0.3));\n",
              "      fill: #FFFFFF;\n",
              "    }\n",
              "  </style>\n",
              "\n",
              "      <script>\n",
              "        const buttonEl =\n",
              "          document.querySelector('#df-0720134b-2ac7-4487-9bd1-a82bcf9dbce2 button.colab-df-convert');\n",
              "        buttonEl.style.display =\n",
              "          google.colab.kernel.accessAllowed ? 'block' : 'none';\n",
              "\n",
              "        async function convertToInteractive(key) {\n",
              "          const element = document.querySelector('#df-0720134b-2ac7-4487-9bd1-a82bcf9dbce2');\n",
              "          const dataTable =\n",
              "            await google.colab.kernel.invokeFunction('convertToInteractive',\n",
              "                                                     [key], {});\n",
              "          if (!dataTable) return;\n",
              "\n",
              "          const docLinkHtml = 'Like what you see? Visit the ' +\n",
              "            '<a target=\"_blank\" href=https://colab.research.google.com/notebooks/data_table.ipynb>data table notebook</a>'\n",
              "            + ' to learn more about interactive tables.';\n",
              "          element.innerHTML = '';\n",
              "          dataTable['output_type'] = 'display_data';\n",
              "          await google.colab.output.renderOutput(dataTable, element);\n",
              "          const docLink = document.createElement('div');\n",
              "          docLink.innerHTML = docLinkHtml;\n",
              "          element.appendChild(docLink);\n",
              "        }\n",
              "      </script>\n",
              "    </div>\n",
              "  </div>\n",
              "  "
            ],
            "text/plain": [
              "                                         prompt correct_answer         prob\n",
              "0  Vinson Massif is located in the continent of     Antarctica   Antarctica\n",
              "1                       Beats Music is owned by          Apple        Apple\n",
              "2                       Audible.com is owned by         Amazon       Amazon\n",
              "3              The Big Bang Theory premieres on            CBS          CBS\n",
              "4                  MacApp, a product created by          Apple        Apple"
            ]
          },
          "execution_count": 72,
          "metadata": {},
          "output_type": "execute_result"
        }
      ],
      "source": [
        "import pandas as pd\n",
        "knowns[0]\n",
        "prompts = []\n",
        "correct_answer = []\n",
        "probs = []\n",
        "for known in knowns[0:200]:\n",
        "    prompts.append(known['prompt'])\n",
        "    correct_answer.append(known['attribute'])\n",
        "    probs.append(known['token_probs'][0][0])\n",
        "df = pd.DataFrame({\"prompt\": prompts, \"correct_answer\": correct_answer, \"prob\": probs})\n",
        "df.head()"
      ]
    },
    {
      "cell_type": "code",
      "execution_count": 73,
      "metadata": {
        "id": "i000xxUmY6SG"
      },
      "outputs": [],
      "source": [
        "df.to_csv(\"good_knowns_with_prob.csv\")"
      ]
    },
    {
      "cell_type": "code",
      "execution_count": 102,
      "metadata": {
        "colab": {
          "base_uri": "https://localhost:8080/"
        },
        "id": "2bvMCzJ9onaG",
        "outputId": "b42b3ece-fd74-45cc-e6ef-685d6879c897"
      },
      "outputs": [
        {
          "name": "stdout",
          "output_type": "stream",
          "text": [
            "Microsoft\n",
            "Xamarin, from the\n",
            "[(' developer', '0.016318861'), (' team', '0.030414667'), (' at', '0.1957023')]\n",
            "Microsoft\n",
            "Windows Media Player is developed by\n",
            "[(' V', '0.004145599'), ('LC', '0.91789305'), (',', '0.08347914')]\n",
            "Microsoft\n",
            "NTFS is developed by\n",
            "[(' the', '0.17151275'), (' N', '0.39584285'), ('TF', '0.9532869')]\n",
            "Microsoft\n",
            "Windows Media Audio, a product developed by\n",
            "[(' Microsoft', '0.26757678'), (' for', '0.115875155'), (' Windows', '0.3069984')]\n"
          ]
        }
      ],
      "source": [
        "correct_output = \"Microsoft\"\n",
        "for k in knowns[0:50]:\n",
        "    if correct_output in k['attribute']:\n",
        "        print(k['attribute'])\n",
        "        print(k['prompt'])\n",
        "        print(k['token_probs'][0:3])"
      ]
    },
    {
      "cell_type": "code",
      "execution_count": null,
      "metadata": {
        "id": "JKrniJR052in"
      },
      "outputs": [],
      "source": [
        "max_location = {}\n",
        "\n",
        "for example_i in range(len(ct_dict)):\n",
        "    max_effect = 0\n",
        "    global_max_effect = 0\n",
        "    prompt = '_P_: ' + ''.join(ct_dict[example_i]['mlp']['input_tokens'])\n",
        "    answer = ' _A_:' + ct_dict[example_i]['mlp']['answer']\n",
        "    text = prompt + answer\n",
        "    s_start, s_end = ct_dict[example_i]['mlp']['subject_range']\n",
        "    subject = ''.join(ct_dict[example_i]['mlp']['input_tokens'][s_start:s_end])\n",
        "    for token_num in range(s_start, s_end):\n",
        "        for layer_num in range(0,48):\n",
        "            max_effect = max(ct_dict[example_i]['mlp']['scores'][token_num][layer_num], max_effect)\n",
        "            if max_effect != global_max_effect:\n",
        "                global_max_effect = max_effect\n",
        "                peak_token = ct_dict[example_i]['mlp']['input_tokens'][token_num]\n",
        "                max_location[example_i] = {\"token_num\": token_num, \n",
        "                                           \"peak_token\": peak_token,\n",
        "                                           \"layer_num\": layer_num,\n",
        "                                           \"subject\": subject,\n",
        "                                           \"text\": text}"
      ]
    },
    {
      "cell_type": "code",
      "execution_count": null,
      "metadata": {
        "colab": {
          "base_uri": "https://localhost:8080/"
        },
        "id": "tmxcIxWRPaxT",
        "outputId": "9af2362b-68c2-4ddb-8a2b-e75b1e4d1550"
      },
      "outputs": [
        {
          "name": "stdout",
          "output_type": "stream",
          "text": [
            "Early Retrivals: \n",
            "{'token_num': 1, 'peak_token': 'ats', 'layer_num': 11, 'subject': 'Beats Music', 'text': '_P_: Beats Music is owned by _A_: Apple'}\n",
            "{'token_num': 1, 'peak_token': 'ible', 'layer_num': 11, 'subject': 'Audible.com', 'text': '_P_: Audible.com is owned by _A_: Amazon'}\n",
            "{'token_num': 3, 'peak_token': ' Theory', 'layer_num': 10, 'subject': 'The Big Bang Theory', 'text': '_P_: The Big Bang Theory premieres on _A_: CBS'}\n",
            "{'token_num': 2, 'peak_token': ' Islands', 'layer_num': 3, 'subject': ' Marshall Islands', 'text': '_P_: In Marshall Islands, the language spoken is a mixture of _A_: English'}\n",
            "{'token_num': 5, 'peak_token': ' fin', 'layer_num': 8, 'subject': ' De finibus bonorum et malorum', 'text': '_P_: The original language of De finibus bonorum et malorum is the same as the _A_: Latin'}\n",
            "{'token_num': 3, 'peak_token': ' Glacier', 'layer_num': 2, 'subject': 'Kirkpatrick Glacier', 'text': '_P_: Kirkpatrick Glacier belongs to the continent of _A_: Antarctica'}\n",
            "{'token_num': 0, 'peak_token': 'Il', 'layer_num': 4, 'subject': 'Il Gazzettino', 'text': '_P_: Il Gazzettino was written in the early 1980s, when the _A_: Italian'}\n",
            "{'token_num': 2, 'peak_token': 'arin', 'layer_num': 7, 'subject': 'Xamarin', 'text': '_P_: Xamarin, from the _A_: Microsoft'}\n",
            "{'token_num': 4, 'peak_token': ' Presents', 'layer_num': 3, 'subject': 'Alfred Hitchcock Presents', 'text': '_P_: Alfred Hitchcock Presents debuted on _A_: NBC'}\n",
            "{'token_num': 1, 'peak_token': 'izen', 'layer_num': 5, 'subject': 'Tizen', 'text': '_P_: Tizen is developed by a consortium of companies including _A_: Samsung'}\n",
            "{'token_num': 4, 'peak_token': ' football', 'layer_num': 0, 'subject': 'Czech Republic national football team', 'text': '_P_: Czech Republic national football team is a member of the _A_: FIFA'}\n",
            "{'token_num': 0, 'peak_token': 'Windows', 'layer_num': 1, 'subject': 'Windows Media Player', 'text': '_P_: Windows Media Player is developed by _A_: Microsoft'}\n",
            "{'token_num': 7, 'peak_token': ' Denmark', 'layer_num': 4, 'subject': 'Knud, Hereditary Prince of Denmark', 'text': '_P_: Knud, Hereditary Prince of Denmark passed away in _A_: Copenhagen'}\n",
            "{'token_num': 2, 'peak_token': 'ula', 'layer_num': 8, 'subject': 'Don Shula', 'text': '_P_: Don Shula professionally plays the sport of _A_: football'}\n",
            "{'token_num': 3, 'peak_token': ' El', 'layer_num': 1, 'subject': ' El Mercurio', 'text': '_P_: The language of El Mercurio was a mixture of _A_: Spanish'}\n",
            "{'token_num': 2, 'peak_token': 'nam', 'layer_num': 7, 'subject': 'Vietnam', 'text': '_P_: Vietnam belongs to the continent of _A_: Asia'}\n",
            "{'token_num': 1, 'peak_token': ' Tonight', 'layer_num': 4, 'subject': 'The Tonight Show with Jay Leno', 'text': '_P_: The Tonight Show with Jay Leno premieres on _A_: NBC'}\n",
            "{'token_num': 1, 'peak_token': 'ines', 'layer_num': 7, 'subject': 'Philippines', 'text': \"_P_: Philippines's capital, _A_: Manila\"}\n",
            "{'token_num': 0, 'peak_token': 'Windows', 'layer_num': 5, 'subject': 'Windows Media Audio', 'text': '_P_: Windows Media Audio, a product developed by _A_: Microsoft'}\n",
            "{'token_num': 5, 'peak_token': 'asar', 'layer_num': 11, 'subject': ' Galatasaray University', 'text': '_P_: The location of Galatasaray University is in the heart of _A_: Istanbul'}\n",
            "{'token_num': 1, 'peak_token': ' Nokia', 'layer_num': 7, 'subject': ' Nokia', 'text': '_P_: In Nokia, the language spoken is _A_: Finnish'}\n",
            "{'token_num': 1, 'peak_token': ' Nigeria', 'layer_num': 0, 'subject': 'Northern Nigeria Protectorate', 'text': '_P_: Northern Nigeria Protectorate follows the religion of _A_: Islam'}\n",
            "{'token_num': 2, 'peak_token': 'andi', 'layer_num': 11, 'subject': 'Deobandi', 'text': '_P_: Deobandi follows the religion of _A_: Islam'}\n",
            "{'token_num': 5, 'peak_token': 'iki', 'layer_num': 11, 'subject': 'Odnoklassniki', 'text': '_P_: Odnoklassniki was written in the early 1990s by a group of _A_: Russian'}\n",
            "{'token_num': 5, 'peak_token': 'sem', 'layer_num': 3, 'subject': 'Jean-Pierre Van Rossem', 'text': '_P_: Jean-Pierre Van Rossem, who has a citizenship of _A_: Belgium'}\n",
            "{'token_num': 3, 'peak_token': 'eter', 'layer_num': 5, 'subject': 'Joseph Schumpeter', 'text': \"_P_: Joseph Schumpeter's domain of work is the _A_: economics\"}\n",
            "{'token_num': 5, 'peak_token': ' Finland', 'layer_num': 1, 'subject': 'Grand Duchy of Finland', 'text': \"_P_: Grand Duchy of Finland's capital, _A_: Helsinki\"}\n",
            "{'token_num': 1, 'peak_token': 'reads', 'layer_num': 3, 'subject': 'Goodreads', 'text': '_P_: Goodreads owner, and former _A_: Amazon'}\n",
            "{'token_num': 3, 'peak_token': ' I', 'layer_num': 8, 'subject': 'Muawiyah I', 'text': '_P_: Muawiyah I is affiliated with the religion of _A_: Islam'}\n",
            "{'token_num': 0, 'peak_token': 'Far', 'layer_num': 3, 'subject': 'Farrukhsiyar', 'text': '_P_: Farrukhsiyar follows the religion of _A_: Islam'}\n",
            "{'token_num': 3, 'peak_token': ' France', 'layer_num': 7, 'subject': 'Vichy France', 'text': \"_P_: Vichy France's capital, _A_: Paris\"}\n",
            "{'token_num': 2, 'peak_token': 'ym', 'layer_num': 9, 'subject': 'John Pym', 'text': '_P_: John Pym died in the city of _A_: London'}\n",
            "{'token_num': 6, 'peak_token': 'olini', 'layer_num': 0, 'subject': ' Christopher Paolini', 'text': '_P_: The genre played by Christopher Paolini is a mix of _A_: fantasy'}\n",
            "{'token_num': 3, 'peak_token': 'ie', 'layer_num': 1, 'subject': 'Si la vie est cadeau', 'text': '_P_: Si la vie est cadeau is written in _A_: French'}\n",
            "{'token_num': 2, 'peak_token': ' Robo', 'layer_num': 5, 'subject': 'Magne Robo Gakeen', 'text': '_P_: Magne Robo Gakeen was created in the country of _A_: Japan'}\n",
            "{'token_num': 2, 'peak_token': 'ish', 'layer_num': 11, 'subject': 'Swedish Orphan Biovitrum', 'text': '_P_: Swedish Orphan Biovitrum is headquartered in _A_: Stockholm'}\n",
            "{'token_num': 2, 'peak_token': ' Hearts', 'layer_num': 11, 'subject': 'Pandora Hearts', 'text': '_P_: Pandora Hearts was created in the country of _A_: Japan'}\n",
            "{'token_num': 1, 'peak_token': ' Curtis', 'layer_num': 10, 'subject': 'Adam Curtis', 'text': '_P_: Adam Curtis is employed by the _A_: BBC'}\n",
            "{'token_num': 1, 'peak_token': 'ach', 'layer_num': 1, 'subject': 'Sachimi Iwao', 'text': '_P_: Sachimi Iwao is a citizen of _A_: Japan'}\n",
            "{'token_num': 2, 'peak_token': 'iological', 'layer_num': 0, 'subject': 'The Physiological Society', 'text': '_P_: The Physiological Society works in the area of the _A_: physiology'}\n",
            "{'token_num': 2, 'peak_token': 'chel', 'layer_num': 2, 'subject': 'William Herschel', 'text': '_P_: William Herschel works in the area of _A_: astronomy'}\n",
            "{'token_num': 1, 'peak_token': 'utsche', 'layer_num': 1, 'subject': 'Deutsche Bahn', 'text': '_P_: Deutsche Bahn formed in 1883, and the first train to _A_: Berlin'}\n",
            "{'token_num': 0, 'peak_token': 'Saint', 'layer_num': 0, 'subject': 'Saint Domnius', 'text': '_P_: Saint Domnius, who has the position of the _A_: bishop'}\n",
            "{'token_num': 0, 'peak_token': 'Italy', 'layer_num': 1, 'subject': 'Italy', 'text': \"_P_: Italy's capital, _A_: Rome\"}\n",
            "{'token_num': 1, 'peak_token': 'affe', 'layer_num': 6, 'subject': 'caffeine', 'text': '_P_: caffeine, called after the _A_: coffee'}\n",
            "{'token_num': 4, 'peak_token': ' Glacier', 'layer_num': 0, 'subject': 'Urdoviza Glacier', 'text': '_P_: Urdoviza Glacier belongs to the continent of _A_: Antarctica'}\n",
            "{'token_num': 1, 'peak_token': ' Southeast', 'layer_num': 5, 'subject': '2005 Southeast Asian Games', 'text': '_P_: 2005 Southeast Asian Games is in full swing in the _A_: Philippines'}\n",
            "{'token_num': 0, 'peak_token': 'Georg', 'layer_num': 0, 'subject': 'Georgios Babiniotis', 'text': \"_P_: Georgios Babiniotis's domain of work is the study of the history of the _A_: Greek\"}\n",
            "{'token_num': 5, 'peak_token': 'oom', 'layer_num': 5, 'subject': 'Maumoon Abdul Gayoom', 'text': '_P_: Maumoon Abdul Gayoom follows the religion of _A_: Islam'}\n",
            "{'token_num': 2, 'peak_token': ' Open', 'layer_num': 0, 'subject': '2005 Australian Open', 'text': '_P_: 2005 Australian Open is located in _A_: Melbourne'}\n",
            "\n",
            "-------------------------\n",
            "\n",
            "Late Retrivals: \n",
            "{'token_num': 3, 'peak_token': 'yd', 'layer_num': 23, 'subject': 'Emilia Rydberg', 'text': '_P_: Emilia Rydberg was born in _A_: Stockholm'}\n",
            "{'token_num': 1, 'peak_token': 'anish', 'layer_num': 22, 'subject': 'Danish pastry', 'text': '_P_: Danish pastry was created in the country of _A_: Denmark'}\n"
          ]
        }
      ],
      "source": [
        "early_retrievals = []\n",
        "late_retrievals = []\n",
        "for i in range(len(max_location)):\n",
        "    if max_location[i]['layer_num'] < 12:\n",
        "        early_retrievals.append(max_location[i])\n",
        "    elif max_location[i]['layer_num'] > 20:\n",
        "        late_retrievals.append(max_location[i])\n",
        "\n",
        "print(\"Early Retrivals: \")\n",
        "for er in early_retrievals:\n",
        "    print(er)\n",
        "print(\"\\n-------------------------\\n\")\n",
        "print(\"Late Retrivals: \")\n",
        "for lr in late_retrievals:\n",
        "    print(lr)"
      ]
    },
    {
      "cell_type": "code",
      "execution_count": null,
      "metadata": {
        "id": "tViP1P6JqHE_"
      },
      "outputs": [],
      "source": [
        "text = \"The official religion of Edwin of Northumbria is\""
      ]
    },
    {
      "cell_type": "code",
      "execution_count": null,
      "metadata": {
        "colab": {
          "base_uri": "https://localhost:8080/"
        },
        "id": "HSVvZDuPRGxv",
        "outputId": "5e747a78-986f-4909-a677-ca41bcb748c4"
      },
      "outputs": [
        {
          "data": {
            "text/plain": [
              "([' the'], tensor([0.2196], device='cuda:0'))"
            ]
          },
          "execution_count": 13,
          "metadata": {},
          "output_type": "execute_result"
        }
      ],
      "source": [
        "predict_token(mt, [text], return_p=True)"
      ]
    },
    {
      "cell_type": "code",
      "execution_count": null,
      "metadata": {
        "id": "AntSZRqupzoZ"
      },
      "outputs": [],
      "source": [
        "device = \"cuda\"\n",
        "MODEL_NAME = \"gpt2-xl\"  # gpt2-{medium,large,xl} or EleutherAI/gpt-j-6B\n",
        "model, tok = (\n",
        "    AutoModelForCausalLM.from_pretrained(MODEL_NAME, low_cpu_mem_usage=IS_COLAB).to(device),\n",
        "    AutoTokenizer.from_pretrained(MODEL_NAME)\n",
        ")\n",
        "tok.pad_token = tok.eos_token"
      ]
    },
    {
      "cell_type": "code",
      "execution_count": null,
      "metadata": {
        "colab": {
          "base_uri": "https://localhost:8080/"
        },
        "id": "_3kdxw-2pqu8",
        "outputId": "9c150262-94ba-4b3b-d49c-26d8d99568e4"
      },
      "outputs": [
        {
          "name": "stdout",
          "output_type": "stream",
          "text": [
            "The official religion of Edwin of Northumbria is the Church of the Holy Trinity, which is a combination of the Roman Catholic and Eastern Orthodox churches. The church is based on the belief that the Holy\n"
          ]
        }
      ],
      "source": [
        "input_ids = tok(\n",
        "    text, add_special_tokens=False, return_tensors=\"pt\"\n",
        ").input_ids.to(device)\n",
        "generated_outputs = model.generate(\n",
        "        input_ids,\n",
        "        do_sample=True,\n",
        "        early_stopping=True,\n",
        "        max_length=40,\n",
        "        num_return_sequences=1,\n",
        "        output_scores=True,\n",
        "        return_dict_in_generate=True,\n",
        "        device=device,\n",
        "        # repetition_penalty=1.2,\n",
        "        # length_penalty=0.8,\n",
        "        pad_token_id=tok.eos_token_id,\n",
        "        temperature=0.1,\n",
        "    )\n",
        "\n",
        "print(tok.decode(generated_outputs.sequences[0]))"
      ]
    },
    {
      "cell_type": "markdown",
      "metadata": {
        "id": "In5gljTdh2rc"
      },
      "source": [
        "# Testing Causal Tracing on Bad CounterFact Completions\n",
        "\n",
        "In order to check if bad outputs lead to different causality on the predicted token, let's create a sub-dataset from the CounterFact dataset. We will check a portion of the examples GPT-2 gets incorrect."
      ]
    },
    {
      "cell_type": "code",
      "execution_count": null,
      "metadata": {
        "id": "t-Q7nasNigjN"
      },
      "outputs": [],
      "source": [
        "with open(\"/content/rome/data/good_counterfact_gpt2.json\") as f:\n",
        "    good_counterfacts = json.load(f)\n",
        "\n",
        "with open(\"/content/rome/data/bad_counterfacts_gpt2.json\") as f:\n",
        "    bad_counterfacts = json.load(f)\n",
        "\n",
        "# with open(\"/content/rome/data/counterfact.json\") as f:\n",
        "#     all_counterfacts = json.load(f)"
      ]
    },
    {
      "cell_type": "code",
      "execution_count": null,
      "metadata": {
        "id": "Gvmac4N8mrCw"
      },
      "outputs": [],
      "source": [
        "list_of_good_ids = []\n",
        "for id in good_counterfacts.keys():\n",
        "    list_of_good_ids.append(good_counterfacts[str(id)]['case_id'])"
      ]
    },
    {
      "cell_type": "code",
      "execution_count": null,
      "metadata": {
        "colab": {
          "base_uri": "https://localhost:8080/"
        },
        "id": "Z0I47p6bc1ze",
        "outputId": "a4c4f9bf-3a9c-4c97-c0a9-1ef0aad5299c"
      },
      "outputs": [
        {
          "name": "stdout",
          "output_type": "stream",
          "text": [
            "16476\n",
            "21919\n"
          ]
        }
      ],
      "source": [
        "j = 0\n",
        "bad_counterfacts = {}\n",
        "for id in range(len(all_counterfacts)):\n",
        "    if id not in list_of_good_ids:\n",
        "        bad_counterfacts[j] = all_counterfacts[id]\n",
        "        j += 1\n",
        "\n",
        "print(str(len(bad_counterfacts)))\n",
        "print(str(len(all_counterfacts)))"
      ]
    },
    {
      "cell_type": "code",
      "execution_count": null,
      "metadata": {
        "colab": {
          "base_uri": "https://localhost:8080/"
        },
        "id": "JAqUsH6fkSkJ",
        "outputId": "b6beb1b7-1ee2-4d2f-9ab9-19a9d13696f9"
      },
      "outputs": [
        {
          "data": {
            "text/plain": [
              "{'case_id': 1,\n",
              " 'pararel_idx': 19501,\n",
              " 'requested_rewrite': {'prompt': 'The official religion of {} is',\n",
              "  'relation_id': 'P140',\n",
              "  'target_new': {'str': 'Islam', 'id': 'Q432'},\n",
              "  'target_true': {'str': 'Christianity', 'id': 'Q5043'},\n",
              "  'subject': 'Edwin of Northumbria'},\n",
              " 'paraphrase_prompts': ['The school chiefly served tribal girls of Dang. Edwin of Northumbria follows the religion of',\n",
              "  'Regarding individual vitamin and mineral supplementation, research shows mixed results. Edwin of Northumbria is affiliated with the religion'],\n",
              " 'neighborhood_prompts': ['The official religion of Charles Aznavour is',\n",
              "  'Nicolas Sarkozy is affiliated with the religion',\n",
              "  'Andrew Johnson is affiliated with the religion',\n",
              "  'The official religion of Paul is',\n",
              "  'Ringo Starr is follower of',\n",
              "  'The official religion of Nicolas Sarkozy is',\n",
              "  'The official religion of Andrew Johnson is',\n",
              "  'Orson Welles is affiliated with the religion',\n",
              "  'Lady Gaga is follower of',\n",
              "  'Quentin Tarantino is affiliated with the religion'],\n",
              " 'attribute_prompts': ['Dave Chappelle is affiliated with the religion',\n",
              "  'Mos Def is follower of',\n",
              "  'Hema Malini is affiliated with the religion',\n",
              "  'The official religion of Mos Def is',\n",
              "  'The official religion of Benazir Bhutto is',\n",
              "  'Benazir Bhutto is follower of',\n",
              "  'Rasul Gamzatov follows the religion of',\n",
              "  'saint follows the religion of',\n",
              "  'Averroes follows the religion of',\n",
              "  'The official religion of Rasul Gamzatov is'],\n",
              " 'generation_prompts': [\"Edwin of Northumbria's religious values strongly emphasize\",\n",
              "  'Edwin of Northumbria worships',\n",
              "  'Edwin of Northumbria regularly attends religious events at the local',\n",
              "  'Edwin of Northumbria regularly attends religious events at the local',\n",
              "  'Edwin of Northumbria regularly attends religious events at the local',\n",
              "  'Edwin of Northumbria regularly attends religious events at the local',\n",
              "  'Edwin of Northumbria regularly attends religious events at the local',\n",
              "  'Edwin of Northumbria worships',\n",
              "  'Edwin of Northumbria worships',\n",
              "  'Edwin of Northumbria regularly attends religious events at the local']}"
            ]
          },
          "execution_count": 22,
          "metadata": {},
          "output_type": "execute_result"
        }
      ],
      "source": [
        "bad_counterfacts[0]"
      ]
    },
    {
      "cell_type": "code",
      "execution_count": null,
      "metadata": {
        "colab": {
          "base_uri": "https://localhost:8080/",
          "height": 1000
        },
        "id": "gj4V8sJnkZji",
        "outputId": "8f96db80-7005-42b3-a28b-5fc48bdc1a01"
      },
      "outputs": [
        {
          "data": {
            "image/png": "[encoded data removed]",
            "text/plain": [
              "<Figure size 700x400 with 2 Axes>"
            ]
          },
          "metadata": {
            "needs_background": "light"
          },
          "output_type": "display_data"
        },
        {
          "data": {
            "text/plain": [
              "{0: {'mlp': {'scores': tensor([[0.2418, 0.2418, 0.2418, 0.2418, 0.2418, 0.2418, 0.2418, 0.2418, 0.2418,\n",
              "            0.2418, 0.2418, 0.2418, 0.2418, 0.2418, 0.2418, 0.2418, 0.2418, 0.2418,\n",
              "            0.2418, 0.2418, 0.2418, 0.2418, 0.2418, 0.2418, 0.2418, 0.2418, 0.2418,\n",
              "            0.2418, 0.2418, 0.2418, 0.2418, 0.2418, 0.2418, 0.2418, 0.2418, 0.2418,\n",
              "            0.2418, 0.2418, 0.2418, 0.2418, 0.2418, 0.2418, 0.2418, 0.2418, 0.2418,\n",
              "            0.2418, 0.2418, 0.2418],\n",
              "           [0.2418, 0.2418, 0.2418, 0.2418, 0.2418, 0.2418, 0.2418, 0.2418, 0.2418,\n",
              "            0.2418, 0.2418, 0.2418, 0.2418, 0.2418, 0.2418, 0.2418, 0.2418, 0.2418,\n",
              "            0.2418, 0.2418, 0.2418, 0.2418, 0.2418, 0.2418, 0.2418, 0.2418, 0.2418,\n",
              "            0.2418, 0.2418, 0.2418, 0.2418, 0.2418, 0.2418, 0.2418, 0.2418, 0.2418,\n",
              "            0.2418, 0.2418, 0.2418, 0.2418, 0.2418, 0.2418, 0.2418, 0.2418, 0.2418,\n",
              "            0.2418, 0.2418, 0.2418],\n",
              "           [0.2418, 0.2418, 0.2418, 0.2418, 0.2418, 0.2418, 0.2418, 0.2418, 0.2418,\n",
              "            0.2418, 0.2418, 0.2418, 0.2418, 0.2418, 0.2418, 0.2418, 0.2418, 0.2418,\n",
              "            0.2418, 0.2418, 0.2418, 0.2418, 0.2418, 0.2418, 0.2418, 0.2418, 0.2418,\n",
              "            0.2418, 0.2418, 0.2418, 0.2418, 0.2418, 0.2418, 0.2418, 0.2418, 0.2418,\n",
              "            0.2418, 0.2418, 0.2418, 0.2418, 0.2418, 0.2418, 0.2418, 0.2418, 0.2418,\n",
              "            0.2418, 0.2418, 0.2418],\n",
              "           [0.2418, 0.2418, 0.2418, 0.2418, 0.2418, 0.2418, 0.2418, 0.2418, 0.2418,\n",
              "            0.2418, 0.2418, 0.2418, 0.2418, 0.2418, 0.2418, 0.2418, 0.2418, 0.2418,\n",
              "            0.2418, 0.2418, 0.2418, 0.2418, 0.2418, 0.2418, 0.2418, 0.2418, 0.2418,\n",
              "            0.2418, 0.2418, 0.2418, 0.2418, 0.2418, 0.2418, 0.2418, 0.2418, 0.2418,\n",
              "            0.2418, 0.2418, 0.2418, 0.2418, 0.2418, 0.2418, 0.2418, 0.2418, 0.2418,\n",
              "            0.2418, 0.2418, 0.2418],\n",
              "           [0.2418, 0.2418, 0.2418, 0.2418, 0.2418, 0.2418, 0.2418, 0.2418, 0.2418,\n",
              "            0.2418, 0.2418, 0.2418, 0.2418, 0.2418, 0.2418, 0.2418, 0.2418, 0.2418,\n",
              "            0.2418, 0.2418, 0.2418, 0.2418, 0.2418, 0.2418, 0.2418, 0.2418, 0.2418,\n",
              "            0.2418, 0.2418, 0.2418, 0.2418, 0.2418, 0.2418, 0.2418, 0.2418, 0.2418,\n",
              "            0.2418, 0.2418, 0.2418, 0.2418, 0.2418, 0.2418, 0.2418, 0.2418, 0.2418,\n",
              "            0.2418, 0.2418, 0.2418],\n",
              "           [0.2418, 0.2418, 0.2418, 0.2418, 0.2418, 0.2418, 0.2418, 0.2418, 0.2418,\n",
              "            0.2418, 0.2418, 0.2418, 0.2418, 0.2418, 0.2418, 0.2418, 0.2418, 0.2418,\n",
              "            0.2418, 0.2418, 0.2418, 0.2418, 0.2418, 0.2418, 0.2418, 0.2418, 0.2418,\n",
              "            0.2418, 0.2418, 0.2418, 0.2418, 0.2418, 0.2418, 0.2418, 0.2418, 0.2418,\n",
              "            0.2418, 0.2418, 0.2418, 0.2418, 0.2418, 0.2418, 0.2418, 0.2418, 0.2418,\n",
              "            0.2418, 0.2418, 0.2418],\n",
              "           [0.2203, 0.2204, 0.2201, 0.2203, 0.2203, 0.2203, 0.2348, 0.2227, 0.2530,\n",
              "            0.2265, 0.2394, 0.2374, 0.2295, 0.2328, 0.2348, 0.2373, 0.2332, 0.2312,\n",
              "            0.2339, 0.2342, 0.2346, 0.2375, 0.2364, 0.2365, 0.2367, 0.2402, 0.2400,\n",
              "            0.2405, 0.2409, 0.2415, 0.2415, 0.2424, 0.2432, 0.2422, 0.2425, 0.2421,\n",
              "            0.2420, 0.2418, 0.2412, 0.2404, 0.2413, 0.2412, 0.2411, 0.2414, 0.2411,\n",
              "            0.2411, 0.2413, 0.2419],\n",
              "           [0.3393, 0.3373, 0.3370, 0.3369, 0.3358, 0.3358, 0.3123, 0.2523, 0.2470,\n",
              "            0.2458, 0.2509, 0.2516, 0.2389, 0.2401, 0.2406, 0.2443, 0.2451, 0.2456,\n",
              "            0.2446, 0.2431, 0.2423, 0.2409, 0.2398, 0.2398, 0.2404, 0.2409, 0.2412,\n",
              "            0.2426, 0.2432, 0.2432, 0.2436, 0.2444, 0.2449, 0.2453, 0.2450, 0.2444,\n",
              "            0.2441, 0.2439, 0.2439, 0.2438, 0.2435, 0.2432, 0.2431, 0.2428, 0.2428,\n",
              "            0.2428, 0.2431, 0.2430],\n",
              "           [0.2622, 0.2638, 0.2568, 0.2537, 0.2551, 0.2612, 0.2473, 0.2129, 0.2108,\n",
              "            0.2141, 0.1984, 0.1923, 0.2063, 0.2169, 0.2118, 0.2083, 0.2025, 0.1990,\n",
              "            0.1952, 0.1877, 0.1976, 0.2180, 0.2084, 0.2097, 0.2202, 0.2349, 0.2322,\n",
              "            0.2313, 0.2404, 0.2394, 0.2387, 0.2375, 0.2406, 0.2393, 0.2375, 0.2393,\n",
              "            0.2402, 0.2399, 0.2385, 0.2377, 0.2388, 0.2393, 0.2392, 0.2390, 0.2394,\n",
              "            0.2403, 0.2401, 0.2408],\n",
              "           [0.2588, 0.2640, 0.2646, 0.2687, 0.2651, 0.2675, 0.2681, 0.2916, 0.3188,\n",
              "            0.2501, 0.2723, 0.2570, 0.2577, 0.2623, 0.2715, 0.2587, 0.2443, 0.2514,\n",
              "            0.2504, 0.2416, 0.2324, 0.2400, 0.2409, 0.2322, 0.2362, 0.2437, 0.2392,\n",
              "            0.2462, 0.2455, 0.2492, 0.2497, 0.2472, 0.2461, 0.2450, 0.2465, 0.2449,\n",
              "            0.2437, 0.2423, 0.2428, 0.2418, 0.2406, 0.2405, 0.2401, 0.2395, 0.2373,\n",
              "            0.2369, 0.2388, 0.2404],\n",
              "           [0.2996, 0.3024, 0.3033, 0.3086, 0.3107, 0.3083, 0.2897, 0.2678, 0.2660,\n",
              "            0.2933, 0.2937, 0.3091, 0.3073, 0.2525, 0.2653, 0.2714, 0.2734, 0.2699,\n",
              "            0.2708, 0.2664, 0.2591, 0.2616, 0.2504, 0.2504, 0.2496, 0.2478, 0.2493,\n",
              "            0.2476, 0.2509, 0.2491, 0.2511, 0.2499, 0.2467, 0.2452, 0.2468, 0.2462,\n",
              "            0.2449, 0.2432, 0.2418, 0.2420, 0.2411, 0.2419, 0.2422, 0.2421, 0.2415,\n",
              "            0.2410, 0.2402, 0.2399],\n",
              "           [0.3168, 0.3133, 0.3132, 0.3107, 0.3111, 0.3068, 0.3041, 0.2858, 0.2989,\n",
              "            0.2584, 0.2500, 0.2594, 0.2477, 0.2510, 0.2522, 0.2449, 0.2399, 0.2349,\n",
              "            0.2337, 0.2237, 0.2332, 0.2459, 0.2522, 0.2509, 0.2576, 0.2594, 0.2591,\n",
              "            0.2587, 0.2594, 0.2554, 0.2541, 0.2504, 0.2509, 0.2492, 0.2505, 0.2496,\n",
              "            0.2485, 0.2475, 0.2464, 0.2447, 0.2439, 0.2436, 0.2430, 0.2421, 0.2401,\n",
              "            0.2413, 0.2425, 0.2434],\n",
              "           [0.2812, 0.2868, 0.2890, 0.2896, 0.2913, 0.2889, 0.2897, 0.2705, 0.2651,\n",
              "            0.2495, 0.2486, 0.2418, 0.2434, 0.2368, 0.2356, 0.2374, 0.2367, 0.2439,\n",
              "            0.2378, 0.2392, 0.2350, 0.2347, 0.2377, 0.2377, 0.2379, 0.2402, 0.2420,\n",
              "            0.2414, 0.2408, 0.2423, 0.2436, 0.2431, 0.2430, 0.2417, 0.2435, 0.2458,\n",
              "            0.2469, 0.2459, 0.2428, 0.2407, 0.2420, 0.2425, 0.2426, 0.2427, 0.2418,\n",
              "            0.2415, 0.2414, 0.2422],\n",
              "           [0.4301, 0.4108, 0.4307, 0.4197, 0.4079, 0.4027, 0.3864, 0.3767, 0.3837,\n",
              "            0.4614, 0.3561, 0.3759, 0.3710, 0.3373, 0.2525, 0.2514, 0.2830, 0.2823,\n",
              "            0.2785, 0.2696, 0.2735, 0.2659, 0.2609, 0.2499, 0.2605, 0.2822, 0.2638,\n",
              "            0.2615, 0.2560, 0.2489, 0.2480, 0.2487, 0.2471, 0.2494, 0.2487, 0.2471,\n",
              "            0.2458, 0.2429, 0.2410, 0.2431, 0.2426, 0.2429, 0.2442, 0.2447, 0.2437,\n",
              "            0.2416, 0.2416, 0.2420],\n",
              "           [0.2399, 0.2442, 0.2516, 0.2547, 0.2581, 0.2550, 0.2518, 0.2522, 0.2491,\n",
              "            0.2566, 0.2614, 0.2514, 0.2496, 0.2353, 0.2265, 0.2160, 0.2145, 0.2126,\n",
              "            0.2030, 0.2103, 0.2095, 0.2164, 0.2210, 0.2340, 0.2407, 0.2353, 0.2393,\n",
              "            0.2400, 0.2447, 0.2409, 0.2426, 0.2472, 0.2498, 0.2505, 0.2504, 0.2502,\n",
              "            0.2507, 0.2498, 0.2489, 0.2465, 0.2463, 0.2460, 0.2444, 0.2443, 0.2449,\n",
              "            0.2442, 0.2440, 0.2428],\n",
              "           [0.2442, 0.2500, 0.2536, 0.2521, 0.2535, 0.2537, 0.2468, 0.2521, 0.2508,\n",
              "            0.2465, 0.2443, 0.2409, 0.2384, 0.2331, 0.2330, 0.2251, 0.2390, 0.2343,\n",
              "            0.2234, 0.2218, 0.1954, 0.1841, 0.1700, 0.1811, 0.1788, 0.1791, 0.1835,\n",
              "            0.2063, 0.2273, 0.2413, 0.2785, 0.2958, 0.2921, 0.2671, 0.2788, 0.2827,\n",
              "            0.2913, 0.3003, 0.3389, 0.3532, 0.3766, 0.4632, 0.4690, 0.5020, 0.5004,\n",
              "            0.4793, 0.4621, 0.4376]]),\n",
              "   'low_score': 0.24184881150722504,\n",
              "   'high_score': tensor(0.6878, device='cuda:0'),\n",
              "   'input_ids': tensor([  818,  2813,    11,  4196,  2716,   257,  3933,    12,  2545,  1080,\n",
              "             319,   663,  8150, 11594,  1444,   262], device='cuda:0'),\n",
              "   'input_tokens': ['In',\n",
              "    ' 2011',\n",
              "    ',',\n",
              "    ' Apple',\n",
              "    ' released',\n",
              "    ' a',\n",
              "    ' 32',\n",
              "    '-',\n",
              "    'bit',\n",
              "    ' system',\n",
              "    ' on',\n",
              "    ' its',\n",
              "    ' fifth',\n",
              "    ' chip',\n",
              "    ' called',\n",
              "    ' the'],\n",
              "   'subject_range': (6, 14),\n",
              "   'answer': ' A',\n",
              "   'window': 10,\n",
              "   'kind': 'mlp'}}}"
            ]
          },
          "execution_count": 25,
          "metadata": {},
          "output_type": "execute_result"
        }
      ],
      "source": [
        "plot_flows(mt, \"In 2011, Apple released a 32-bit system on its fifth chip called the\", plots=['mlp'], subject=\"32-bit system on its fifth chip\")"
      ]
    },
    {
      "cell_type": "code",
      "execution_count": null,
      "metadata": {
        "id": "iCX8lXqHousL"
      },
      "outputs": [],
      "source": [
        "from tqdm import tqdm\n",
        "\n",
        "for i, cf in tqdm(enumerate(counterfact)):\n",
        "    rew = cf['requested_rewrite']\n",
        "    text = rew['prompt'].replace(\"{}\", rew['subject'])"
      ]
    },
    {
      "cell_type": "markdown",
      "metadata": {
        "id": "Ydf69cy8E4lm"
      },
      "source": [
        "## Does more uncertainty mean more token effect spread?"
      ]
    },
    {
      "cell_type": "code",
      "execution_count": 100,
      "metadata": {
        "id": "gM_qZ9apUlCW"
      },
      "outputs": [],
      "source": [
        "import numpy as np\n",
        "import pandas as pd"
      ]
    },
    {
      "cell_type": "code",
      "execution_count": 102,
      "metadata": {
        "colab": {
          "base_uri": "https://localhost:8080/",
          "height": 1000
        },
        "id": "uj5Gs3KoFQJm",
        "outputId": "3379ade6-7202-4e1c-f5ee-553af2ca4167"
      },
      "outputs": [
        {
          "data": {
            "text/html": [
              "\n",
              "  <div id=\"df-d43a51df-c610-45dd-bf65-ee3121721908\">\n",
              "    <div class=\"colab-df-container\">\n",
              "      <div>\n",
              "<style scoped>\n",
              "    .dataframe tbody tr th:only-of-type {\n",
              "        vertical-align: middle;\n",
              "    }\n",
              "\n",
              "    .dataframe tbody tr th {\n",
              "        vertical-align: top;\n",
              "    }\n",
              "\n",
              "    .dataframe thead th {\n",
              "        text-align: right;\n",
              "    }\n",
              "</style>\n",
              "<table border=\"1\" class=\"dataframe\">\n",
              "  <thead>\n",
              "    <tr style=\"text-align: right;\">\n",
              "      <th></th>\n",
              "      <th>high_score</th>\n",
              "      <th>top_score_count</th>\n",
              "    </tr>\n",
              "  </thead>\n",
              "  <tbody>\n",
              "    <tr>\n",
              "      <th>35</th>\n",
              "      <td>0.0192</td>\n",
              "      <td>93</td>\n",
              "    </tr>\n",
              "    <tr>\n",
              "      <th>47</th>\n",
              "      <td>0.0198</td>\n",
              "      <td>432</td>\n",
              "    </tr>\n",
              "    <tr>\n",
              "      <th>40</th>\n",
              "      <td>0.0335</td>\n",
              "      <td>432</td>\n",
              "    </tr>\n",
              "    <tr>\n",
              "      <th>44</th>\n",
              "      <td>0.0341</td>\n",
              "      <td>239</td>\n",
              "    </tr>\n",
              "    <tr>\n",
              "      <th>49</th>\n",
              "      <td>0.0418</td>\n",
              "      <td>336</td>\n",
              "    </tr>\n",
              "    <tr>\n",
              "      <th>25</th>\n",
              "      <td>0.0430</td>\n",
              "      <td>336</td>\n",
              "    </tr>\n",
              "    <tr>\n",
              "      <th>50</th>\n",
              "      <td>0.0463</td>\n",
              "      <td>45</td>\n",
              "    </tr>\n",
              "    <tr>\n",
              "      <th>38</th>\n",
              "      <td>0.0482</td>\n",
              "      <td>83</td>\n",
              "    </tr>\n",
              "    <tr>\n",
              "      <th>48</th>\n",
              "      <td>0.0489</td>\n",
              "      <td>145</td>\n",
              "    </tr>\n",
              "    <tr>\n",
              "      <th>46</th>\n",
              "      <td>0.0522</td>\n",
              "      <td>80</td>\n",
              "    </tr>\n",
              "    <tr>\n",
              "      <th>41</th>\n",
              "      <td>0.0542</td>\n",
              "      <td>384</td>\n",
              "    </tr>\n",
              "    <tr>\n",
              "      <th>13</th>\n",
              "      <td>0.0547</td>\n",
              "      <td>7</td>\n",
              "    </tr>\n",
              "    <tr>\n",
              "      <th>9</th>\n",
              "      <td>0.0549</td>\n",
              "      <td>816</td>\n",
              "    </tr>\n",
              "    <tr>\n",
              "      <th>29</th>\n",
              "      <td>0.0556</td>\n",
              "      <td>52</td>\n",
              "    </tr>\n",
              "    <tr>\n",
              "      <th>27</th>\n",
              "      <td>0.0604</td>\n",
              "      <td>336</td>\n",
              "    </tr>\n",
              "    <tr>\n",
              "      <th>42</th>\n",
              "      <td>0.0660</td>\n",
              "      <td>624</td>\n",
              "    </tr>\n",
              "    <tr>\n",
              "      <th>36</th>\n",
              "      <td>0.0705</td>\n",
              "      <td>432</td>\n",
              "    </tr>\n",
              "    <tr>\n",
              "      <th>37</th>\n",
              "      <td>0.0732</td>\n",
              "      <td>384</td>\n",
              "    </tr>\n",
              "    <tr>\n",
              "      <th>26</th>\n",
              "      <td>0.0811</td>\n",
              "      <td>384</td>\n",
              "    </tr>\n",
              "    <tr>\n",
              "      <th>34</th>\n",
              "      <td>0.0828</td>\n",
              "      <td>46</td>\n",
              "    </tr>\n",
              "    <tr>\n",
              "      <th>16</th>\n",
              "      <td>0.0873</td>\n",
              "      <td>75</td>\n",
              "    </tr>\n",
              "    <tr>\n",
              "      <th>24</th>\n",
              "      <td>0.0892</td>\n",
              "      <td>288</td>\n",
              "    </tr>\n",
              "    <tr>\n",
              "      <th>28</th>\n",
              "      <td>0.0936</td>\n",
              "      <td>418</td>\n",
              "    </tr>\n",
              "    <tr>\n",
              "      <th>14</th>\n",
              "      <td>0.0945</td>\n",
              "      <td>13</td>\n",
              "    </tr>\n",
              "    <tr>\n",
              "      <th>0</th>\n",
              "      <td>0.0948</td>\n",
              "      <td>11</td>\n",
              "    </tr>\n",
              "    <tr>\n",
              "      <th>43</th>\n",
              "      <td>0.1009</td>\n",
              "      <td>283</td>\n",
              "    </tr>\n",
              "    <tr>\n",
              "      <th>39</th>\n",
              "      <td>0.1063</td>\n",
              "      <td>720</td>\n",
              "    </tr>\n",
              "    <tr>\n",
              "      <th>12</th>\n",
              "      <td>0.1102</td>\n",
              "      <td>41</td>\n",
              "    </tr>\n",
              "    <tr>\n",
              "      <th>31</th>\n",
              "      <td>0.1113</td>\n",
              "      <td>672</td>\n",
              "    </tr>\n",
              "    <tr>\n",
              "      <th>17</th>\n",
              "      <td>0.1166</td>\n",
              "      <td>1</td>\n",
              "    </tr>\n",
              "    <tr>\n",
              "      <th>4</th>\n",
              "      <td>0.1277</td>\n",
              "      <td>7</td>\n",
              "    </tr>\n",
              "    <tr>\n",
              "      <th>32</th>\n",
              "      <td>0.1329</td>\n",
              "      <td>236</td>\n",
              "    </tr>\n",
              "    <tr>\n",
              "      <th>30</th>\n",
              "      <td>0.1634</td>\n",
              "      <td>0</td>\n",
              "    </tr>\n",
              "    <tr>\n",
              "      <th>33</th>\n",
              "      <td>0.1649</td>\n",
              "      <td>240</td>\n",
              "    </tr>\n",
              "    <tr>\n",
              "      <th>22</th>\n",
              "      <td>0.1813</td>\n",
              "      <td>62</td>\n",
              "    </tr>\n",
              "    <tr>\n",
              "      <th>23</th>\n",
              "      <td>0.1813</td>\n",
              "      <td>0</td>\n",
              "    </tr>\n",
              "    <tr>\n",
              "      <th>45</th>\n",
              "      <td>0.2082</td>\n",
              "      <td>330</td>\n",
              "    </tr>\n",
              "    <tr>\n",
              "      <th>7</th>\n",
              "      <td>0.2252</td>\n",
              "      <td>528</td>\n",
              "    </tr>\n",
              "    <tr>\n",
              "      <th>2</th>\n",
              "      <td>0.2555</td>\n",
              "      <td>0</td>\n",
              "    </tr>\n",
              "    <tr>\n",
              "      <th>21</th>\n",
              "      <td>0.2681</td>\n",
              "      <td>74</td>\n",
              "    </tr>\n",
              "    <tr>\n",
              "      <th>5</th>\n",
              "      <td>0.2798</td>\n",
              "      <td>52</td>\n",
              "    </tr>\n",
              "    <tr>\n",
              "      <th>8</th>\n",
              "      <td>0.3122</td>\n",
              "      <td>0</td>\n",
              "    </tr>\n",
              "    <tr>\n",
              "      <th>3</th>\n",
              "      <td>0.3882</td>\n",
              "      <td>20</td>\n",
              "    </tr>\n",
              "    <tr>\n",
              "      <th>10</th>\n",
              "      <td>0.3958</td>\n",
              "      <td>23</td>\n",
              "    </tr>\n",
              "    <tr>\n",
              "      <th>19</th>\n",
              "      <td>0.4245</td>\n",
              "      <td>8</td>\n",
              "    </tr>\n",
              "    <tr>\n",
              "      <th>15</th>\n",
              "      <td>0.4247</td>\n",
              "      <td>0</td>\n",
              "    </tr>\n",
              "    <tr>\n",
              "      <th>11</th>\n",
              "      <td>0.4580</td>\n",
              "      <td>8</td>\n",
              "    </tr>\n",
              "    <tr>\n",
              "      <th>20</th>\n",
              "      <td>0.4854</td>\n",
              "      <td>0</td>\n",
              "    </tr>\n",
              "    <tr>\n",
              "      <th>18</th>\n",
              "      <td>0.6205</td>\n",
              "      <td>8</td>\n",
              "    </tr>\n",
              "    <tr>\n",
              "      <th>1</th>\n",
              "      <td>0.6837</td>\n",
              "      <td>1</td>\n",
              "    </tr>\n",
              "    <tr>\n",
              "      <th>6</th>\n",
              "      <td>0.8771</td>\n",
              "      <td>51</td>\n",
              "    </tr>\n",
              "  </tbody>\n",
              "</table>\n",
              "</div>\n",
              "      <button class=\"colab-df-convert\" onclick=\"convertToInteractive('df-d43a51df-c610-45dd-bf65-ee3121721908')\"\n",
              "              title=\"Convert this dataframe to an interactive table.\"\n",
              "              style=\"display:none;\">\n",
              "        \n",
              "  <svg xmlns=\"http://www.w3.org/2000/svg\" height=\"24px\"viewBox=\"0 0 24 24\"\n",
              "       width=\"24px\">\n",
              "    <path d=\"M0 0h24v24H0V0z\" fill=\"none\"/>\n",
              "    <path d=\"M18.56 5.44l.94 2.06.94-2.06 2.06-.94-2.06-.94-.94-2.06-.94 2.06-2.06.94zm-11 1L8.5 8.5l.94-2.06 2.06-.94-2.06-.94L8.5 2.5l-.94 2.06-2.06.94zm10 10l.94 2.06.94-2.06 2.06-.94-2.06-.94-.94-2.06-.94 2.06-2.06.94z\"/><path d=\"M17.41 7.96l-1.37-1.37c-.4-.4-.92-.59-1.43-.59-.52 0-1.04.2-1.43.59L10.3 9.45l-7.72 7.72c-.78.78-.78 2.05 0 2.83L4 21.41c.39.39.9.59 1.41.59.51 0 1.02-.2 1.41-.59l7.78-7.78 2.81-2.81c.8-.78.8-2.07 0-2.86zM5.41 20L4 18.59l7.72-7.72 1.47 1.35L5.41 20z\"/>\n",
              "  </svg>\n",
              "      </button>\n",
              "      \n",
              "  <style>\n",
              "    .colab-df-container {\n",
              "      display:flex;\n",
              "      flex-wrap:wrap;\n",
              "      gap: 12px;\n",
              "    }\n",
              "\n",
              "    .colab-df-convert {\n",
              "      background-color: #E8F0FE;\n",
              "      border: none;\n",
              "      border-radius: 50%;\n",
              "      cursor: pointer;\n",
              "      display: none;\n",
              "      fill: #1967D2;\n",
              "      height: 32px;\n",
              "      padding: 0 0 0 0;\n",
              "      width: 32px;\n",
              "    }\n",
              "\n",
              "    .colab-df-convert:hover {\n",
              "      background-color: #E2EBFA;\n",
              "      box-shadow: 0px 1px 2px rgba(60, 64, 67, 0.3), 0px 1px 3px 1px rgba(60, 64, 67, 0.15);\n",
              "      fill: #174EA6;\n",
              "    }\n",
              "\n",
              "    [theme=dark] .colab-df-convert {\n",
              "      background-color: #3B4455;\n",
              "      fill: #D2E3FC;\n",
              "    }\n",
              "\n",
              "    [theme=dark] .colab-df-convert:hover {\n",
              "      background-color: #434B5C;\n",
              "      box-shadow: 0px 1px 3px 1px rgba(0, 0, 0, 0.15);\n",
              "      filter: drop-shadow(0px 1px 2px rgba(0, 0, 0, 0.3));\n",
              "      fill: #FFFFFF;\n",
              "    }\n",
              "  </style>\n",
              "\n",
              "      <script>\n",
              "        const buttonEl =\n",
              "          document.querySelector('#df-d43a51df-c610-45dd-bf65-ee3121721908 button.colab-df-convert');\n",
              "        buttonEl.style.display =\n",
              "          google.colab.kernel.accessAllowed ? 'block' : 'none';\n",
              "\n",
              "        async function convertToInteractive(key) {\n",
              "          const element = document.querySelector('#df-d43a51df-c610-45dd-bf65-ee3121721908');\n",
              "          const dataTable =\n",
              "            await google.colab.kernel.invokeFunction('convertToInteractive',\n",
              "                                                     [key], {});\n",
              "          if (!dataTable) return;\n",
              "\n",
              "          const docLinkHtml = 'Like what you see? Visit the ' +\n",
              "            '<a target=\"_blank\" href=https://colab.research.google.com/notebooks/data_table.ipynb>data table notebook</a>'\n",
              "            + ' to learn more about interactive tables.';\n",
              "          element.innerHTML = '';\n",
              "          dataTable['output_type'] = 'display_data';\n",
              "          await google.colab.output.renderOutput(dataTable, element);\n",
              "          const docLink = document.createElement('div');\n",
              "          docLink.innerHTML = docLinkHtml;\n",
              "          element.appendChild(docLink);\n",
              "        }\n",
              "      </script>\n",
              "    </div>\n",
              "  </div>\n",
              "  "
            ],
            "text/plain": [
              "    high_score  top_score_count\n",
              "35      0.0192               93\n",
              "47      0.0198              432\n",
              "40      0.0335              432\n",
              "44      0.0341              239\n",
              "49      0.0418              336\n",
              "25      0.0430              336\n",
              "50      0.0463               45\n",
              "38      0.0482               83\n",
              "48      0.0489              145\n",
              "46      0.0522               80\n",
              "41      0.0542              384\n",
              "13      0.0547                7\n",
              "9       0.0549              816\n",
              "29      0.0556               52\n",
              "27      0.0604              336\n",
              "42      0.0660              624\n",
              "36      0.0705              432\n",
              "37      0.0732              384\n",
              "26      0.0811              384\n",
              "34      0.0828               46\n",
              "16      0.0873               75\n",
              "24      0.0892              288\n",
              "28      0.0936              418\n",
              "14      0.0945               13\n",
              "0       0.0948               11\n",
              "43      0.1009              283\n",
              "39      0.1063              720\n",
              "12      0.1102               41\n",
              "31      0.1113              672\n",
              "17      0.1166                1\n",
              "4       0.1277                7\n",
              "32      0.1329              236\n",
              "30      0.1634                0\n",
              "33      0.1649              240\n",
              "22      0.1813               62\n",
              "23      0.1813                0\n",
              "45      0.2082              330\n",
              "7       0.2252              528\n",
              "2       0.2555                0\n",
              "21      0.2681               74\n",
              "5       0.2798               52\n",
              "8       0.3122                0\n",
              "3       0.3882               20\n",
              "10      0.3958               23\n",
              "19      0.4245                8\n",
              "15      0.4247                0\n",
              "11      0.4580                8\n",
              "20      0.4854                0\n",
              "18      0.6205                8\n",
              "1       0.6837                1\n",
              "6       0.8771               51"
            ]
          },
          "execution_count": 102,
          "metadata": {},
          "output_type": "execute_result"
        }
      ],
      "source": [
        "# results_dict[0]['mlp']['high_score']\n",
        "highs = []\n",
        "tops = []\n",
        "i = 0\n",
        "for i in results_dict:\n",
        "    top_count = 0\n",
        "    if list(results_dict[i].keys()) == [\"mlp\"]:\n",
        "        high_score = round(float(results_dict[i]['mlp']['high_score']), 4)\n",
        "        top = high_score * 0.6\n",
        "        for token_probs in results_dict[i]['mlp']['scores']:\n",
        "            for prob in token_probs:\n",
        "                if prob >= top:\n",
        "                    top_count += 1\n",
        "    i += 1\n",
        "    highs.append(high_score)\n",
        "    tops.append(top_count)\n",
        "    # print(\"High Score: \", high_score, \"Top Count: \", top_count)\n",
        "    # if i > 2:\n",
        "    #     break\n",
        "\n",
        "df = pd.DataFrame({\"high_score\": highs, \"top_score_count\": tops})\n",
        "df.sort_values(by=\"high_score\")"
      ]
    },
    {
      "cell_type": "code",
      "execution_count": null,
      "metadata": {
        "id": "D_dlKXgxFU3s"
      },
      "outputs": [],
      "source": []
    },
    {
      "cell_type": "markdown",
      "metadata": {
        "id": "ZnxDwHDwf38H"
      },
      "source": []
    },
    {
      "cell_type": "markdown",
      "metadata": {
        "id": "HLemaPaQecgn"
      },
      "source": [
        "## Load StrategyQA Dataset"
      ]
    },
    {
      "cell_type": "code",
      "execution_count": 16,
      "metadata": {
        "id": "FFxku67Zfmd6"
      },
      "outputs": [],
      "source": [
        "from dsets.knowns import KnownsDataset"
      ]
    },
    {
      "cell_type": "code",
      "execution_count": 17,
      "metadata": {
        "colab": {
          "base_uri": "https://localhost:8080/"
        },
        "id": "AT5xSl02eesn",
        "outputId": "04f4bcf7-8174-4efa-a716-3d5f00fe1c0e"
      },
      "outputs": [
        {
          "name": "stdout",
          "output_type": "stream",
          "text": [
            "Loaded dataset with 1209 elements\n"
          ]
        }
      ],
      "source": [
        "knowns = KnownsDataset(DATA_DIR)"
      ]
    },
    {
      "cell_type": "code",
      "execution_count": 18,
      "metadata": {
        "colab": {
          "base_uri": "https://localhost:8080/",
          "height": 36
        },
        "id": "gW_KAsu4e9-j",
        "outputId": "3ec2f9be-5897-433a-cc67-0d5c771c679d"
      },
      "outputs": [
        {
          "data": {
            "application/vnd.google.colaboratory.intrinsic+json": {
              "type": "string"
            },
            "text/plain": [
              "'/content/drive/MyDrive/rome'"
            ]
          },
          "execution_count": 18,
          "metadata": {},
          "output_type": "execute_result"
        }
      ],
      "source": [
        "import os\n",
        "os.getcwd()"
      ]
    },
    {
      "cell_type": "code",
      "execution_count": 19,
      "metadata": {
        "id": "96W-_qs71IwN"
      },
      "outputs": [],
      "source": [
        "with open('/content/drive/MyDrive/rome/data/strategyqa_train.json') as f:\n",
        "    sqa = json.load(f)"
      ]
    },
    {
      "cell_type": "code",
      "execution_count": 20,
      "metadata": {
        "colab": {
          "base_uri": "https://localhost:8080/"
        },
        "id": "T7lDPavseowR",
        "outputId": "3ce4fdc6-6867-449c-b613-c5fbd43c8561"
      },
      "outputs": [
        {
          "data": {
            "text/plain": [
              "{'qid': 'b8677742616fef051f00',\n",
              " 'term': 'Genghis Khan',\n",
              " 'description': 'founder and first Great Khan of the Mongol Empire',\n",
              " 'question': 'Are more people today related to Genghis Khan than Julius Caesar?',\n",
              " 'answer': True,\n",
              " 'facts': ['Julius Caesar had three children.',\n",
              "  'Genghis Khan had sixteen children.',\n",
              "  'Modern geneticists have determined that  out of every 200 men today has DNA that can be traced to Genghis Khan.'],\n",
              " 'decomposition': ['How many kids did Julius Caesar have?',\n",
              "  'How many kids did Genghis Khan have?',\n",
              "  'Is #2 greater than #1?'],\n",
              " 'evidence': [[[['Caesarion-2', 'Julia (daughter of Caesar)-1']],\n",
              "   [['Alakhai Bekhi-1', 'Tolui-1'], 'no_evidence'],\n",
              "   ['operation']],\n",
              "  [[['Julius Caesar-75']], [['Genghis Khan-17']], ['operation']],\n",
              "  [[['Gaius Julius Caesar-7']],\n",
              "   [['Genghis Khan-15'], 'no_evidence'],\n",
              "   ['no_evidence', 'operation']]]}"
            ]
          },
          "execution_count": 20,
          "metadata": {},
          "output_type": "execute_result"
        }
      ],
      "source": [
        "sqa[0]\n"
      ]
    },
    {
      "cell_type": "code",
      "execution_count": 82,
      "metadata": {
        "colab": {
          "base_uri": "https://localhost:8080/"
        },
        "id": "VzFl_1wIfU8G",
        "outputId": "5ec54d31-cfda-4657-f731-0c483b46e02d"
      },
      "outputs": [
        {
          "name": "stdout",
          "output_type": "stream",
          "text": [
            "Question: Are more people today related to Genghis Khan than Julius Caesar?\n",
            "Facts: Julius Caesar had three children. Genghis Khan had sixteen children. Modern geneticists have determined that out of every 200 men today has DNA that can be traced to Genghis Khan. \n",
            "Answer: True\n"
          ]
        }
      ],
      "source": [
        "fact_str = \"Facts: \"\n",
        "\n",
        "for f in sqa[0]['facts']:\n",
        "    fact_str += f.replace(\"  \", \" \") + \" \"\n",
        "\n",
        "print(\"Question:\", sqa[0]['question'])\n",
        "print(fact_str)\n",
        "print(\"Answer:\", sqa[0]['answer'])"
      ]
    },
    {
      "cell_type": "code",
      "execution_count": 84,
      "metadata": {
        "id": "mQan144oxvpf"
      },
      "outputs": [],
      "source": [
        "sqa = sqa[1:]"
      ]
    },
    {
      "cell_type": "code",
      "execution_count": 154,
      "metadata": {
        "colab": {
          "base_uri": "https://localhost:8080/"
        },
        "id": "pGHefONqgcUS",
        "outputId": "2a3fac0a-2390-4414-b01e-c767ad795828"
      },
      "outputs": [
        {
          "name": "stderr",
          "output_type": "stream",
          "text": [
            "391it [15:50,  2.16s/it]Input length of input_ids is 211, but ``max_length`` is set to 200. This can lead to unexpected behavior. You should consider increasing ``config.max_length`` or ``max_length``.\n",
            "556it [22:29,  2.20s/it]Input length of input_ids is 205, but ``max_length`` is set to 200. This can lead to unexpected behavior. You should consider increasing ``config.max_length`` or ``max_length``.\n",
            "864it [34:53,  2.77s/it]Input length of input_ids is 216, but ``max_length`` is set to 200. This can lead to unexpected behavior. You should consider increasing ``config.max_length`` or ``max_length``.\n",
            "1438it [58:18,  2.09s/it]Input length of input_ids is 211, but ``max_length`` is set to 200. This can lead to unexpected behavior. You should consider increasing ``config.max_length`` or ``max_length``.\n",
            "2157it [1:27:39,  2.45s/it]Input length of input_ids is 201, but ``max_length`` is set to 200. This can lead to unexpected behavior. You should consider increasing ``config.max_length`` or ``max_length``.\n",
            "2236it [1:30:46,  2.69s/it]Input length of input_ids is 209, but ``max_length`` is set to 200. This can lead to unexpected behavior. You should consider increasing ``config.max_length`` or ``max_length``.\n",
            "2289it [1:32:49,  2.43s/it]"
          ]
        },
        {
          "name": "stdout",
          "output_type": "stream",
          "text": [
            "\n",
            "\n",
            " Number of prompts that created good completions: 1070\n"
          ]
        },
        {
          "name": "stderr",
          "output_type": "stream",
          "text": [
            "\n"
          ]
        }
      ],
      "source": [
        "from tqdm import tqdm\n",
        "import numpy as np\n",
        "device = 'cuda'\n",
        "count = 0\n",
        "for i, data in tqdm(enumerate(sqa)):\n",
        "    example = \"\"\"Question: Are more people today related to Genghis Khan than Julius Caesar?\\nFacts: Julius Caesar had three children. Genghis Khan had sixteen children. Modern geneticists have determined that out of every 200 men today has DNA that can be traced to Genghis Khan.\\nAnswer (True or False): True\\n\"\"\"\n",
        "    fact_str = \"Facts: \"\n",
        "    ct_subject = \"\"\n",
        "    for f in data['facts']:\n",
        "        fact_str += f.replace(\"  \", \" \") + \" \"\n",
        "        ct_subject += f.replace(\"  \", \" \") + \" \"\n",
        "    fact_str = fact_str[:-1]\n",
        "    ct_subject = ct_subject[:-1]\n",
        "    # print(ct÷_subject)\n",
        "    question = \"Question: \" + data['question']\n",
        "    answer = \"Answer (True or False):\"\n",
        "    correct_answer = str(data['answer'])\n",
        "    prompt = example + question + \"\\n\" + fact_str + \"\\n\" + answer\n",
        "    input_ids = mt.tokenizer(\n",
        "        prompt, add_special_tokens=False, return_tensors=\"pt\"\n",
        "    ).input_ids.to(device)\n",
        "    generated_outputs = mt.model.generate(\n",
        "        input_ids,\n",
        "        do_sample=True,\n",
        "        early_stopping=True,\n",
        "        max_length=200,\n",
        "        num_return_sequences=1,\n",
        "        output_scores=True,\n",
        "        return_dict_in_generate=True,\n",
        "        device=device,\n",
        "        # repetition_penalty=1.2,\n",
        "        # length_penalty=0.8,\n",
        "        pad_token_id=mt.tokenizer.eos_token_id,\n",
        "        temperature=0.05,\n",
        "    )\n",
        "    generated_text = mt.tokenizer.decode(generated_outputs.sequences[0])\n",
        "\n",
        "    # only use id's that were generated\n",
        "    # gen_sequences has shape [3, 15]\n",
        "    gen_sequences = generated_outputs.sequences[:, input_ids.shape[-1] :]\n",
        "    probs = torch.stack(generated_outputs.scores, dim=1).softmax(-1)  # -> shape [3, 15, vocab_size]\n",
        "    # now we need to collect the probability of the generated token\n",
        "    # we need to add a dummy dim in the end to make gather work\n",
        "    gen_probs = torch.gather(probs, 2, gen_sequences[:, :, None]).squeeze(-1)\n",
        "    # print(gen_probs)\n",
        "    for j, sequence in enumerate(generated_outputs.sequences):\n",
        "        generated_seq = sequence[len(sequence) - len(gen_probs[j]):len(sequence)]\n",
        "        token_list = []\n",
        "        for token in generated_seq:\n",
        "            token_list.append(mt.tokenizer.decode(token))\n",
        "        generated_text = mt.tokenizer.decode(generated_seq)\n",
        "        first_token = mt.tokenizer.decode(generated_seq[0]).replace(' ', '')\n",
        "    \n",
        "    token_probs = []\n",
        "    for token, prob in zip(generated_seq, gen_probs[0]):\n",
        "        text = mt.tokenizer.decode(token)\n",
        "        prob = str(np.array(prob.cpu()))\n",
        "        token_probs.append((text, prob))\n",
        "\n",
        "    # print(correct_answer)\n",
        "    # print(first_token)\n",
        "    try:\n",
        "        if correct_answer.lower() in first_token.lower():\n",
        "            sqa[i][\"first_generated_token\"] = first_token\n",
        "            sqa[i][\"gpt2_main_completion\"] = generated_text\n",
        "            sqa[i][\"ct_prompt\"] = prompt\n",
        "            sqa[i][\"ct_subject\"] = ct_subject\n",
        "            sqa[i][\"good_gpt2_prompt\"] = True\n",
        "            sqa[i][\"token_probs\"] = token_probs\n",
        "            count += 1\n",
        "        else:\n",
        "            sqa[i][\"first_generated_token\"] = first_token\n",
        "            sqa[i][\"gpt2_main_completion\"] = generated_text\n",
        "            sqa[i][\"ct_prompt\"] = prompt\n",
        "            sqa[i][\"ct_subject\"] = ct_subject\n",
        "            sqa[i][\"good_gpt2_prompt\"] = False\n",
        "            sqa[i][\"token_probs\"] = token_probs\n",
        "    except:\n",
        "        pass\n",
        "\n",
        "print(\"\\n\\n Number of prompts that created good completions: \" + str(count))"
      ]
    },
    {
      "cell_type": "code",
      "execution_count": 155,
      "metadata": {
        "colab": {
          "base_uri": "https://localhost:8080/"
        },
        "id": "PBPVpVVFggjy",
        "outputId": "8df4344f-9ba7-40d7-b378-d4aa3d3d6486"
      },
      "outputs": [
        {
          "name": "stderr",
          "output_type": "stream",
          "text": [
            "2288it [00:00, 933699.90it/s]"
          ]
        },
        {
          "name": "stdout",
          "output_type": "stream",
          "text": [
            "\n",
            "Good counts: 1070\n",
            "\n",
            "Bad counts: 1218\n"
          ]
        },
        {
          "name": "stderr",
          "output_type": "stream",
          "text": [
            "\n"
          ]
        }
      ],
      "source": [
        "good_count = 0\n",
        "bad_count = 0\n",
        "good_sqa = {}\n",
        "bad_sqa = {}\n",
        "for i, data in tqdm(enumerate(sqa[1:])):\n",
        "    try:\n",
        "        if data[\"good_gpt2_prompt\"] == True:\n",
        "            good_sqa[good_count] = data\n",
        "            good_count += 1\n",
        "        else:\n",
        "            bad_sqa[bad_count] = data\n",
        "            bad_count += 1\n",
        "    except:\n",
        "        pass\n",
        "\n",
        "print(\"\\nGood counts: \" + str(good_count))\n",
        "print(\"\\nBad counts: \" + str(bad_count))"
      ]
    },
    {
      "cell_type": "code",
      "execution_count": 156,
      "metadata": {
        "id": "mtQF0Se9glC_"
      },
      "outputs": [],
      "source": [
        "good_sqa_filename = \"/content/drive/MyDrive/rome/data/good_sqa_gpt2.json\"\n",
        "with open(good_sqa_filename, \"w\") as f:\n",
        "    json.dump(good_sqa, f)\n",
        "\n",
        "bad_sqa_filename = \"/content/drive/MyDrive/rome/data/bad_sqa_gpt2.json\"\n",
        "with open(bad_sqa_filename, \"w\") as f:\n",
        "    json.dump(bad_sqa, f)\n"
      ]
    },
    {
      "cell_type": "code",
      "execution_count": 157,
      "metadata": {
        "colab": {
          "base_uri": "https://localhost:8080/",
          "height": 17
        },
        "id": "1i1VDHzygiyQ",
        "outputId": "2f120ae3-8249-45dc-d3be-2e8f05d898cc"
      },
      "outputs": [
        {
          "data": {
            "application/javascript": "\n    async function download(id, filename, size) {\n      if (!google.colab.kernel.accessAllowed) {\n        return;\n      }\n      const div = document.createElement('div');\n      const label = document.createElement('label');\n      label.textContent = `Downloading \"${filename}\": `;\n      div.appendChild(label);\n      const progress = document.createElement('progress');\n      progress.max = size;\n      div.appendChild(progress);\n      document.body.appendChild(div);\n\n      const buffers = [];\n      let downloaded = 0;\n\n      const channel = await google.colab.kernel.comms.open(id);\n      // Send a message to notify the kernel that we're ready.\n      channel.send({})\n\n      for await (const message of channel.messages) {\n        // Send a message to notify the kernel that we're ready.\n        channel.send({})\n        if (message.buffers) {\n          for (const buffer of message.buffers) {\n            buffers.push(buffer);\n            downloaded += buffer.byteLength;\n            progress.value = downloaded;\n          }\n        }\n      }\n      const blob = new Blob(buffers, {type: 'application/binary'});\n      const a = document.createElement('a');\n      a.href = window.URL.createObjectURL(blob);\n      a.download = filename;\n      div.appendChild(a);\n      a.click();\n      div.remove();\n    }\n  ",
            "text/plain": [
              "<IPython.core.display.Javascript object>"
            ]
          },
          "metadata": {},
          "output_type": "display_data"
        },
        {
          "data": {
            "application/javascript": "download(\"download_650d9ad1-87c3-4ada-9bdb-624bfdde1146\", \"good_sqa_gpt2.json\", 3473216)",
            "text/plain": [
              "<IPython.core.display.Javascript object>"
            ]
          },
          "metadata": {},
          "output_type": "display_data"
        },
        {
          "data": {
            "application/javascript": "\n    async function download(id, filename, size) {\n      if (!google.colab.kernel.accessAllowed) {\n        return;\n      }\n      const div = document.createElement('div');\n      const label = document.createElement('label');\n      label.textContent = `Downloading \"${filename}\": `;\n      div.appendChild(label);\n      const progress = document.createElement('progress');\n      progress.max = size;\n      div.appendChild(progress);\n      document.body.appendChild(div);\n\n      const buffers = [];\n      let downloaded = 0;\n\n      const channel = await google.colab.kernel.comms.open(id);\n      // Send a message to notify the kernel that we're ready.\n      channel.send({})\n\n      for await (const message of channel.messages) {\n        // Send a message to notify the kernel that we're ready.\n        channel.send({})\n        if (message.buffers) {\n          for (const buffer of message.buffers) {\n            buffers.push(buffer);\n            downloaded += buffer.byteLength;\n            progress.value = downloaded;\n          }\n        }\n      }\n      const blob = new Blob(buffers, {type: 'application/binary'});\n      const a = document.createElement('a');\n      a.href = window.URL.createObjectURL(blob);\n      a.download = filename;\n      div.appendChild(a);\n      a.click();\n      div.remove();\n    }\n  ",
            "text/plain": [
              "<IPython.core.display.Javascript object>"
            ]
          },
          "metadata": {},
          "output_type": "display_data"
        },
        {
          "data": {
            "application/javascript": "download(\"download_3ba020f4-86fc-4c44-8d12-29c143fc966b\", \"bad_sqa_gpt2.json\", 3968364)",
            "text/plain": [
              "<IPython.core.display.Javascript object>"
            ]
          },
          "metadata": {},
          "output_type": "display_data"
        }
      ],
      "source": [
        "from google.colab import files\n",
        "files.download(good_sqa_filename)\n",
        "files.download(bad_sqa_filename)"
      ]
    },
    {
      "cell_type": "code",
      "execution_count": 157,
      "metadata": {
        "id": "gDp23uZ0hCdb"
      },
      "outputs": [],
      "source": []
    }
  ],
  "metadata": {
    "accelerator": "GPU",
    "colab": {
      "collapsed_sections": [],
      "include_colab_link": true,
      "machine_shape": "hm",
      "provenance": []
    },
    "gpuClass": "standard",
    "kernelspec": {
      "display_name": "Python 3.9.7 ('rome')",
      "language": "python",
      "name": "python3"
    },
    "language_info": {
      "codemirror_mode": {
        "name": "ipython",
        "version": 3
      },
      "file_extension": ".py",
      "mimetype": "text/x-python",
      "name": "python",
      "nbconvert_exporter": "python",
      "pygments_lexer": "ipython3",
      "version": "3.9.7"
    },
    "vscode": {
      "interpreter": {
        "hash": "8c2f2649cc7a6d42c627818a01a1fe192f9866f2986a7620315ca2a2b407622d"
      }
    },
    "widgets": {
      "application/vnd.jupyter.widget-state+json": {
        "0d94c6cbaa114057a53debae0fc8404b": {
          "model_module": "@jupyter-widgets/controls",
          "model_module_version": "1.5.0",
          "model_name": "HTMLModel",
          "state": {
            "_dom_classes": [],
            "_model_module": "@jupyter-widgets/controls",
            "_model_module_version": "1.5.0",
            "_model_name": "HTMLModel",
            "_view_count": null,
            "_view_module": "@jupyter-widgets/controls",
            "_view_module_version": "1.5.0",
            "_view_name": "HTMLView",
            "description": "",
            "description_tooltip": null,
            "layout": "IPY_MODEL_2b84e0f3ac924b73a0b2123d1d166d1c",
            "placeholder": "​",
            "style": "IPY_MODEL_975b09163e314f0fb1942a5cf4cb8971",
            "value": " 5.99G/5.99G [06:00&lt;00:00, 18.6MB/s]"
          }
        },
        "101582fd7c094bc3acaa1f20ce857616": {
          "model_module": "@jupyter-widgets/base",
          "model_module_version": "1.2.0",
          "model_name": "LayoutModel",
          "state": {
            "_model_module": "@jupyter-widgets/base",
            "_model_module_version": "1.2.0",
            "_model_name": "LayoutModel",
            "_view_count": null,
            "_view_module": "@jupyter-widgets/base",
            "_view_module_version": "1.2.0",
            "_view_name": "LayoutView",
            "align_content": null,
            "align_items": null,
            "align_self": null,
            "border": null,
            "bottom": null,
            "display": null,
            "flex": null,
            "flex_flow": null,
            "grid_area": null,
            "grid_auto_columns": null,
            "grid_auto_flow": null,
            "grid_auto_rows": null,
            "grid_column": null,
            "grid_gap": null,
            "grid_row": null,
            "grid_template_areas": null,
            "grid_template_columns": null,
            "grid_template_rows": null,
            "height": null,
            "justify_content": null,
            "justify_items": null,
            "left": null,
            "margin": null,
            "max_height": null,
            "max_width": null,
            "min_height": null,
            "min_width": null,
            "object_fit": null,
            "object_position": null,
            "order": null,
            "overflow": null,
            "overflow_x": null,
            "overflow_y": null,
            "padding": null,
            "right": null,
            "top": null,
            "visibility": null,
            "width": null
          }
        },
        "13d6d45d033349d99c25cd2c31597e43": {
          "model_module": "@jupyter-widgets/controls",
          "model_module_version": "1.5.0",
          "model_name": "FloatProgressModel",
          "state": {
            "_dom_classes": [],
            "_model_module": "@jupyter-widgets/controls",
            "_model_module_version": "1.5.0",
            "_model_name": "FloatProgressModel",
            "_view_count": null,
            "_view_module": "@jupyter-widgets/controls",
            "_view_module_version": "1.5.0",
            "_view_name": "ProgressView",
            "bar_style": "success",
            "description": "",
            "description_tooltip": null,
            "layout": "IPY_MODEL_f4c60f524df5438283a1c3af506261f0",
            "max": 689,
            "min": 0,
            "orientation": "horizontal",
            "style": "IPY_MODEL_3007a30f1c5444eaa6a1289390631c07",
            "value": 689
          }
        },
        "1acdaec6e89746a7826263536c4a1d2c": {
          "model_module": "@jupyter-widgets/base",
          "model_module_version": "1.2.0",
          "model_name": "LayoutModel",
          "state": {
            "_model_module": "@jupyter-widgets/base",
            "_model_module_version": "1.2.0",
            "_model_name": "LayoutModel",
            "_view_count": null,
            "_view_module": "@jupyter-widgets/base",
            "_view_module_version": "1.2.0",
            "_view_name": "LayoutView",
            "align_content": null,
            "align_items": null,
            "align_self": null,
            "border": null,
            "bottom": null,
            "display": null,
            "flex": null,
            "flex_flow": null,
            "grid_area": null,
            "grid_auto_columns": null,
            "grid_auto_flow": null,
            "grid_auto_rows": null,
            "grid_column": null,
            "grid_gap": null,
            "grid_row": null,
            "grid_template_areas": null,
            "grid_template_columns": null,
            "grid_template_rows": null,
            "height": null,
            "justify_content": null,
            "justify_items": null,
            "left": null,
            "margin": null,
            "max_height": null,
            "max_width": null,
            "min_height": null,
            "min_width": null,
            "object_fit": null,
            "object_position": null,
            "order": null,
            "overflow": null,
            "overflow_x": null,
            "overflow_y": null,
            "padding": null,
            "right": null,
            "top": null,
            "visibility": null,
            "width": null
          }
        },
        "22c6e5e2ce9f49128e48edbac842d95f": {
          "model_module": "@jupyter-widgets/controls",
          "model_module_version": "1.5.0",
          "model_name": "ProgressStyleModel",
          "state": {
            "_model_module": "@jupyter-widgets/controls",
            "_model_module_version": "1.5.0",
            "_model_name": "ProgressStyleModel",
            "_view_count": null,
            "_view_module": "@jupyter-widgets/base",
            "_view_module_version": "1.2.0",
            "_view_name": "StyleView",
            "bar_color": null,
            "description_width": ""
          }
        },
        "240a8aabc4c1437bb4b297b16436f6aa": {
          "model_module": "@jupyter-widgets/controls",
          "model_module_version": "1.5.0",
          "model_name": "HTMLModel",
          "state": {
            "_dom_classes": [],
            "_model_module": "@jupyter-widgets/controls",
            "_model_module_version": "1.5.0",
            "_model_name": "HTMLModel",
            "_view_count": null,
            "_view_module": "@jupyter-widgets/controls",
            "_view_module_version": "1.5.0",
            "_view_name": "HTMLView",
            "description": "",
            "description_tooltip": null,
            "layout": "IPY_MODEL_a47e43a0916948d9966f35354ddf0386",
            "placeholder": "​",
            "style": "IPY_MODEL_c1f7a4721d254c1089962222b1790879",
            "value": " 1.29M/1.29M [00:01&lt;00:00, 1.02MB/s]"
          }
        },
        "2655a972ffe841069914b385e2fad105": {
          "model_module": "@jupyter-widgets/controls",
          "model_module_version": "1.5.0",
          "model_name": "HTMLModel",
          "state": {
            "_dom_classes": [],
            "_model_module": "@jupyter-widgets/controls",
            "_model_module_version": "1.5.0",
            "_model_name": "HTMLModel",
            "_view_count": null,
            "_view_module": "@jupyter-widgets/controls",
            "_view_module_version": "1.5.0",
            "_view_name": "HTMLView",
            "description": "",
            "description_tooltip": null,
            "layout": "IPY_MODEL_7cd2a41705e54c70a6528ee4a0d955c8",
            "placeholder": "​",
            "style": "IPY_MODEL_2fe3e92acf374c109d738a312c406778",
            "value": "Downloading: 100%"
          }
        },
        "267ef50a82774cb18adcccc84d36f31d": {
          "model_module": "@jupyter-widgets/base",
          "model_module_version": "1.2.0",
          "model_name": "LayoutModel",
          "state": {
            "_model_module": "@jupyter-widgets/base",
            "_model_module_version": "1.2.0",
            "_model_name": "LayoutModel",
            "_view_count": null,
            "_view_module": "@jupyter-widgets/base",
            "_view_module_version": "1.2.0",
            "_view_name": "LayoutView",
            "align_content": null,
            "align_items": null,
            "align_self": null,
            "border": null,
            "bottom": null,
            "display": null,
            "flex": null,
            "flex_flow": null,
            "grid_area": null,
            "grid_auto_columns": null,
            "grid_auto_flow": null,
            "grid_auto_rows": null,
            "grid_column": null,
            "grid_gap": null,
            "grid_row": null,
            "grid_template_areas": null,
            "grid_template_columns": null,
            "grid_template_rows": null,
            "height": null,
            "justify_content": null,
            "justify_items": null,
            "left": null,
            "margin": null,
            "max_height": null,
            "max_width": null,
            "min_height": null,
            "min_width": null,
            "object_fit": null,
            "object_position": null,
            "order": null,
            "overflow": null,
            "overflow_x": null,
            "overflow_y": null,
            "padding": null,
            "right": null,
            "top": null,
            "visibility": null,
            "width": null
          }
        },
        "2b84e0f3ac924b73a0b2123d1d166d1c": {
          "model_module": "@jupyter-widgets/base",
          "model_module_version": "1.2.0",
          "model_name": "LayoutModel",
          "state": {
            "_model_module": "@jupyter-widgets/base",
            "_model_module_version": "1.2.0",
            "_model_name": "LayoutModel",
            "_view_count": null,
            "_view_module": "@jupyter-widgets/base",
            "_view_module_version": "1.2.0",
            "_view_name": "LayoutView",
            "align_content": null,
            "align_items": null,
            "align_self": null,
            "border": null,
            "bottom": null,
            "display": null,
            "flex": null,
            "flex_flow": null,
            "grid_area": null,
            "grid_auto_columns": null,
            "grid_auto_flow": null,
            "grid_auto_rows": null,
            "grid_column": null,
            "grid_gap": null,
            "grid_row": null,
            "grid_template_areas": null,
            "grid_template_columns": null,
            "grid_template_rows": null,
            "height": null,
            "justify_content": null,
            "justify_items": null,
            "left": null,
            "margin": null,
            "max_height": null,
            "max_width": null,
            "min_height": null,
            "min_width": null,
            "object_fit": null,
            "object_position": null,
            "order": null,
            "overflow": null,
            "overflow_x": null,
            "overflow_y": null,
            "padding": null,
            "right": null,
            "top": null,
            "visibility": null,
            "width": null
          }
        },
        "2fe3e92acf374c109d738a312c406778": {
          "model_module": "@jupyter-widgets/controls",
          "model_module_version": "1.5.0",
          "model_name": "DescriptionStyleModel",
          "state": {
            "_model_module": "@jupyter-widgets/controls",
            "_model_module_version": "1.5.0",
            "_model_name": "DescriptionStyleModel",
            "_view_count": null,
            "_view_module": "@jupyter-widgets/base",
            "_view_module_version": "1.2.0",
            "_view_name": "StyleView",
            "description_width": ""
          }
        },
        "3007a30f1c5444eaa6a1289390631c07": {
          "model_module": "@jupyter-widgets/controls",
          "model_module_version": "1.5.0",
          "model_name": "ProgressStyleModel",
          "state": {
            "_model_module": "@jupyter-widgets/controls",
            "_model_module_version": "1.5.0",
            "_model_name": "ProgressStyleModel",
            "_view_count": null,
            "_view_module": "@jupyter-widgets/base",
            "_view_module_version": "1.2.0",
            "_view_name": "StyleView",
            "bar_color": null,
            "description_width": ""
          }
        },
        "305156f493b0469a85f534cd2624ab1f": {
          "model_module": "@jupyter-widgets/controls",
          "model_module_version": "1.5.0",
          "model_name": "HTMLModel",
          "state": {
            "_dom_classes": [],
            "_model_module": "@jupyter-widgets/controls",
            "_model_module_version": "1.5.0",
            "_model_name": "HTMLModel",
            "_view_count": null,
            "_view_module": "@jupyter-widgets/controls",
            "_view_module_version": "1.5.0",
            "_view_name": "HTMLView",
            "description": "",
            "description_tooltip": null,
            "layout": "IPY_MODEL_fbaf9708a10d4568bd8a359f69dd92ec",
            "placeholder": "​",
            "style": "IPY_MODEL_f6b1634d5ead460bb47cccc68ac0b951",
            "value": " 0.99M/0.99M [00:01&lt;00:00, 1.19MB/s]"
          }
        },
        "3578d66ec5de48aa860a588e92ae904b": {
          "model_module": "@jupyter-widgets/controls",
          "model_module_version": "1.5.0",
          "model_name": "ProgressStyleModel",
          "state": {
            "_model_module": "@jupyter-widgets/controls",
            "_model_module_version": "1.5.0",
            "_model_name": "ProgressStyleModel",
            "_view_count": null,
            "_view_module": "@jupyter-widgets/base",
            "_view_module_version": "1.2.0",
            "_view_name": "StyleView",
            "bar_color": null,
            "description_width": ""
          }
        },
        "3cf71f75afda4d1ea6dbc1cff9ec6c84": {
          "model_module": "@jupyter-widgets/controls",
          "model_module_version": "1.5.0",
          "model_name": "FloatProgressModel",
          "state": {
            "_dom_classes": [],
            "_model_module": "@jupyter-widgets/controls",
            "_model_module_version": "1.5.0",
            "_model_name": "FloatProgressModel",
            "_view_count": null,
            "_view_module": "@jupyter-widgets/controls",
            "_view_module_version": "1.5.0",
            "_view_name": "ProgressView",
            "bar_style": "success",
            "description": "",
            "description_tooltip": null,
            "layout": "IPY_MODEL_b39b172cf7b644aeb2f21a851ede02dd",
            "max": 1042301,
            "min": 0,
            "orientation": "horizontal",
            "style": "IPY_MODEL_3578d66ec5de48aa860a588e92ae904b",
            "value": 1042301
          }
        },
        "41c98cbf71494f158ca8260abfd04e22": {
          "model_module": "@jupyter-widgets/controls",
          "model_module_version": "1.5.0",
          "model_name": "FloatProgressModel",
          "state": {
            "_dom_classes": [],
            "_model_module": "@jupyter-widgets/controls",
            "_model_module_version": "1.5.0",
            "_model_name": "FloatProgressModel",
            "_view_count": null,
            "_view_module": "@jupyter-widgets/controls",
            "_view_module_version": "1.5.0",
            "_view_name": "ProgressView",
            "bar_style": "success",
            "description": "",
            "description_tooltip": null,
            "layout": "IPY_MODEL_d674ccb4a5904ed1953caaccb588ef0d",
            "max": 6431878936,
            "min": 0,
            "orientation": "horizontal",
            "style": "IPY_MODEL_22c6e5e2ce9f49128e48edbac842d95f",
            "value": 6431878936
          }
        },
        "45915720590f46058ed33ebfe93b6561": {
          "model_module": "@jupyter-widgets/controls",
          "model_module_version": "1.5.0",
          "model_name": "ProgressStyleModel",
          "state": {
            "_model_module": "@jupyter-widgets/controls",
            "_model_module_version": "1.5.0",
            "_model_name": "ProgressStyleModel",
            "_view_count": null,
            "_view_module": "@jupyter-widgets/base",
            "_view_module_version": "1.2.0",
            "_view_name": "StyleView",
            "bar_color": null,
            "description_width": ""
          }
        },
        "50c006ddc87f456e8b7b85bc5d291c13": {
          "model_module": "@jupyter-widgets/controls",
          "model_module_version": "1.5.0",
          "model_name": "DescriptionStyleModel",
          "state": {
            "_model_module": "@jupyter-widgets/controls",
            "_model_module_version": "1.5.0",
            "_model_name": "DescriptionStyleModel",
            "_view_count": null,
            "_view_module": "@jupyter-widgets/base",
            "_view_module_version": "1.2.0",
            "_view_name": "StyleView",
            "description_width": ""
          }
        },
        "5159b5716f1d40b5989ec24652e01080": {
          "model_module": "@jupyter-widgets/controls",
          "model_module_version": "1.5.0",
          "model_name": "HTMLModel",
          "state": {
            "_dom_classes": [],
            "_model_module": "@jupyter-widgets/controls",
            "_model_module_version": "1.5.0",
            "_model_name": "HTMLModel",
            "_view_count": null,
            "_view_module": "@jupyter-widgets/controls",
            "_view_module_version": "1.5.0",
            "_view_name": "HTMLView",
            "description": "",
            "description_tooltip": null,
            "layout": "IPY_MODEL_81f1228f55df41d6a11ede56d53cf524",
            "placeholder": "​",
            "style": "IPY_MODEL_a7905ee3da0d4f1685c9f213580d7182",
            "value": "Downloading: 100%"
          }
        },
        "5296e2e6021e4951ad0d50b8fe8c818c": {
          "model_module": "@jupyter-widgets/controls",
          "model_module_version": "1.5.0",
          "model_name": "DescriptionStyleModel",
          "state": {
            "_model_module": "@jupyter-widgets/controls",
            "_model_module_version": "1.5.0",
            "_model_name": "DescriptionStyleModel",
            "_view_count": null,
            "_view_module": "@jupyter-widgets/base",
            "_view_module_version": "1.2.0",
            "_view_name": "StyleView",
            "description_width": ""
          }
        },
        "5844d6a032a6486385cfff5b6219daec": {
          "model_module": "@jupyter-widgets/controls",
          "model_module_version": "1.5.0",
          "model_name": "DescriptionStyleModel",
          "state": {
            "_model_module": "@jupyter-widgets/controls",
            "_model_module_version": "1.5.0",
            "_model_name": "DescriptionStyleModel",
            "_view_count": null,
            "_view_module": "@jupyter-widgets/base",
            "_view_module_version": "1.2.0",
            "_view_name": "StyleView",
            "description_width": ""
          }
        },
        "5d0765fe42ea4b1988aad46dc18cfb17": {
          "model_module": "@jupyter-widgets/base",
          "model_module_version": "1.2.0",
          "model_name": "LayoutModel",
          "state": {
            "_model_module": "@jupyter-widgets/base",
            "_model_module_version": "1.2.0",
            "_model_name": "LayoutModel",
            "_view_count": null,
            "_view_module": "@jupyter-widgets/base",
            "_view_module_version": "1.2.0",
            "_view_name": "LayoutView",
            "align_content": null,
            "align_items": null,
            "align_self": null,
            "border": null,
            "bottom": null,
            "display": null,
            "flex": null,
            "flex_flow": null,
            "grid_area": null,
            "grid_auto_columns": null,
            "grid_auto_flow": null,
            "grid_auto_rows": null,
            "grid_column": null,
            "grid_gap": null,
            "grid_row": null,
            "grid_template_areas": null,
            "grid_template_columns": null,
            "grid_template_rows": null,
            "height": null,
            "justify_content": null,
            "justify_items": null,
            "left": null,
            "margin": null,
            "max_height": null,
            "max_width": null,
            "min_height": null,
            "min_width": null,
            "object_fit": null,
            "object_position": null,
            "order": null,
            "overflow": null,
            "overflow_x": null,
            "overflow_y": null,
            "padding": null,
            "right": null,
            "top": null,
            "visibility": null,
            "width": null
          }
        },
        "60dc32533ed04cfcacac2a5f95daea45": {
          "model_module": "@jupyter-widgets/controls",
          "model_module_version": "1.5.0",
          "model_name": "HTMLModel",
          "state": {
            "_dom_classes": [],
            "_model_module": "@jupyter-widgets/controls",
            "_model_module_version": "1.5.0",
            "_model_name": "HTMLModel",
            "_view_count": null,
            "_view_module": "@jupyter-widgets/controls",
            "_view_module_version": "1.5.0",
            "_view_name": "HTMLView",
            "description": "",
            "description_tooltip": null,
            "layout": "IPY_MODEL_267ef50a82774cb18adcccc84d36f31d",
            "placeholder": "​",
            "style": "IPY_MODEL_50c006ddc87f456e8b7b85bc5d291c13",
            "value": "Downloading: 100%"
          }
        },
        "6472ec26374d48c3849f91e24c88fea7": {
          "model_module": "@jupyter-widgets/controls",
          "model_module_version": "1.5.0",
          "model_name": "HTMLModel",
          "state": {
            "_dom_classes": [],
            "_model_module": "@jupyter-widgets/controls",
            "_model_module_version": "1.5.0",
            "_model_name": "HTMLModel",
            "_view_count": null,
            "_view_module": "@jupyter-widgets/controls",
            "_view_module_version": "1.5.0",
            "_view_name": "HTMLView",
            "description": "",
            "description_tooltip": null,
            "layout": "IPY_MODEL_e7fa5566331a4001ae464e62ae3135bf",
            "placeholder": "​",
            "style": "IPY_MODEL_5844d6a032a6486385cfff5b6219daec",
            "value": "Downloading: 100%"
          }
        },
        "726e940ccec84ea2af885bff491e5a59": {
          "model_module": "@jupyter-widgets/controls",
          "model_module_version": "1.5.0",
          "model_name": "HBoxModel",
          "state": {
            "_dom_classes": [],
            "_model_module": "@jupyter-widgets/controls",
            "_model_module_version": "1.5.0",
            "_model_name": "HBoxModel",
            "_view_count": null,
            "_view_module": "@jupyter-widgets/controls",
            "_view_module_version": "1.5.0",
            "_view_name": "HBoxView",
            "box_style": "",
            "children": [
              "IPY_MODEL_2655a972ffe841069914b385e2fad105",
              "IPY_MODEL_41c98cbf71494f158ca8260abfd04e22",
              "IPY_MODEL_0d94c6cbaa114057a53debae0fc8404b"
            ],
            "layout": "IPY_MODEL_d97f0256cfea4e99ace401e7fda2bebf"
          }
        },
        "74427fb2f40140e8a8557c35fcc10ff4": {
          "model_module": "@jupyter-widgets/controls",
          "model_module_version": "1.5.0",
          "model_name": "HBoxModel",
          "state": {
            "_dom_classes": [],
            "_model_module": "@jupyter-widgets/controls",
            "_model_module_version": "1.5.0",
            "_model_name": "HBoxModel",
            "_view_count": null,
            "_view_module": "@jupyter-widgets/controls",
            "_view_module_version": "1.5.0",
            "_view_name": "HBoxView",
            "box_style": "",
            "children": [
              "IPY_MODEL_5159b5716f1d40b5989ec24652e01080",
              "IPY_MODEL_13d6d45d033349d99c25cd2c31597e43",
              "IPY_MODEL_9b37c43e55aa47b1ad1630d236518280"
            ],
            "layout": "IPY_MODEL_1acdaec6e89746a7826263536c4a1d2c"
          }
        },
        "7cd2a41705e54c70a6528ee4a0d955c8": {
          "model_module": "@jupyter-widgets/base",
          "model_module_version": "1.2.0",
          "model_name": "LayoutModel",
          "state": {
            "_model_module": "@jupyter-widgets/base",
            "_model_module_version": "1.2.0",
            "_model_name": "LayoutModel",
            "_view_count": null,
            "_view_module": "@jupyter-widgets/base",
            "_view_module_version": "1.2.0",
            "_view_name": "LayoutView",
            "align_content": null,
            "align_items": null,
            "align_self": null,
            "border": null,
            "bottom": null,
            "display": null,
            "flex": null,
            "flex_flow": null,
            "grid_area": null,
            "grid_auto_columns": null,
            "grid_auto_flow": null,
            "grid_auto_rows": null,
            "grid_column": null,
            "grid_gap": null,
            "grid_row": null,
            "grid_template_areas": null,
            "grid_template_columns": null,
            "grid_template_rows": null,
            "height": null,
            "justify_content": null,
            "justify_items": null,
            "left": null,
            "margin": null,
            "max_height": null,
            "max_width": null,
            "min_height": null,
            "min_width": null,
            "object_fit": null,
            "object_position": null,
            "order": null,
            "overflow": null,
            "overflow_x": null,
            "overflow_y": null,
            "padding": null,
            "right": null,
            "top": null,
            "visibility": null,
            "width": null
          }
        },
        "81f1228f55df41d6a11ede56d53cf524": {
          "model_module": "@jupyter-widgets/base",
          "model_module_version": "1.2.0",
          "model_name": "LayoutModel",
          "state": {
            "_model_module": "@jupyter-widgets/base",
            "_model_module_version": "1.2.0",
            "_model_name": "LayoutModel",
            "_view_count": null,
            "_view_module": "@jupyter-widgets/base",
            "_view_module_version": "1.2.0",
            "_view_name": "LayoutView",
            "align_content": null,
            "align_items": null,
            "align_self": null,
            "border": null,
            "bottom": null,
            "display": null,
            "flex": null,
            "flex_flow": null,
            "grid_area": null,
            "grid_auto_columns": null,
            "grid_auto_flow": null,
            "grid_auto_rows": null,
            "grid_column": null,
            "grid_gap": null,
            "grid_row": null,
            "grid_template_areas": null,
            "grid_template_columns": null,
            "grid_template_rows": null,
            "height": null,
            "justify_content": null,
            "justify_items": null,
            "left": null,
            "margin": null,
            "max_height": null,
            "max_width": null,
            "min_height": null,
            "min_width": null,
            "object_fit": null,
            "object_position": null,
            "order": null,
            "overflow": null,
            "overflow_x": null,
            "overflow_y": null,
            "padding": null,
            "right": null,
            "top": null,
            "visibility": null,
            "width": null
          }
        },
        "8bdf47384f264b598b6f8ed205514c85": {
          "model_module": "@jupyter-widgets/base",
          "model_module_version": "1.2.0",
          "model_name": "LayoutModel",
          "state": {
            "_model_module": "@jupyter-widgets/base",
            "_model_module_version": "1.2.0",
            "_model_name": "LayoutModel",
            "_view_count": null,
            "_view_module": "@jupyter-widgets/base",
            "_view_module_version": "1.2.0",
            "_view_name": "LayoutView",
            "align_content": null,
            "align_items": null,
            "align_self": null,
            "border": null,
            "bottom": null,
            "display": null,
            "flex": null,
            "flex_flow": null,
            "grid_area": null,
            "grid_auto_columns": null,
            "grid_auto_flow": null,
            "grid_auto_rows": null,
            "grid_column": null,
            "grid_gap": null,
            "grid_row": null,
            "grid_template_areas": null,
            "grid_template_columns": null,
            "grid_template_rows": null,
            "height": null,
            "justify_content": null,
            "justify_items": null,
            "left": null,
            "margin": null,
            "max_height": null,
            "max_width": null,
            "min_height": null,
            "min_width": null,
            "object_fit": null,
            "object_position": null,
            "order": null,
            "overflow": null,
            "overflow_x": null,
            "overflow_y": null,
            "padding": null,
            "right": null,
            "top": null,
            "visibility": null,
            "width": null
          }
        },
        "9699724f429a45428d16727fc915cb6d": {
          "model_module": "@jupyter-widgets/controls",
          "model_module_version": "1.5.0",
          "model_name": "HBoxModel",
          "state": {
            "_dom_classes": [],
            "_model_module": "@jupyter-widgets/controls",
            "_model_module_version": "1.5.0",
            "_model_name": "HBoxModel",
            "_view_count": null,
            "_view_module": "@jupyter-widgets/controls",
            "_view_module_version": "1.5.0",
            "_view_name": "HBoxView",
            "box_style": "",
            "children": [
              "IPY_MODEL_6472ec26374d48c3849f91e24c88fea7",
              "IPY_MODEL_b31fc1004ea84e07baa35f8cd20eb4c8",
              "IPY_MODEL_dc4f480eb2794a67af73d243a1336833"
            ],
            "layout": "IPY_MODEL_ea348add4ba444698fa19bacf480f733"
          }
        },
        "975b09163e314f0fb1942a5cf4cb8971": {
          "model_module": "@jupyter-widgets/controls",
          "model_module_version": "1.5.0",
          "model_name": "DescriptionStyleModel",
          "state": {
            "_model_module": "@jupyter-widgets/controls",
            "_model_module_version": "1.5.0",
            "_model_name": "DescriptionStyleModel",
            "_view_count": null,
            "_view_module": "@jupyter-widgets/base",
            "_view_module_version": "1.2.0",
            "_view_name": "StyleView",
            "description_width": ""
          }
        },
        "9822123840ee4bd081199a1eddb01719": {
          "model_module": "@jupyter-widgets/controls",
          "model_module_version": "1.5.0",
          "model_name": "FloatProgressModel",
          "state": {
            "_dom_classes": [],
            "_model_module": "@jupyter-widgets/controls",
            "_model_module_version": "1.5.0",
            "_model_name": "FloatProgressModel",
            "_view_count": null,
            "_view_module": "@jupyter-widgets/controls",
            "_view_module_version": "1.5.0",
            "_view_name": "ProgressView",
            "bar_style": "success",
            "description": "",
            "description_tooltip": null,
            "layout": "IPY_MODEL_5d0765fe42ea4b1988aad46dc18cfb17",
            "max": 1355256,
            "min": 0,
            "orientation": "horizontal",
            "style": "IPY_MODEL_ef761d1512cf460b8b8f4fd255c374f7",
            "value": 1355256
          }
        },
        "9b37c43e55aa47b1ad1630d236518280": {
          "model_module": "@jupyter-widgets/controls",
          "model_module_version": "1.5.0",
          "model_name": "HTMLModel",
          "state": {
            "_dom_classes": [],
            "_model_module": "@jupyter-widgets/controls",
            "_model_module_version": "1.5.0",
            "_model_name": "HTMLModel",
            "_view_count": null,
            "_view_module": "@jupyter-widgets/controls",
            "_view_module_version": "1.5.0",
            "_view_name": "HTMLView",
            "description": "",
            "description_tooltip": null,
            "layout": "IPY_MODEL_c0be0365fab34f379e5b4089a8157361",
            "placeholder": "​",
            "style": "IPY_MODEL_a5161709c3c145e9a1a56c880b71511e",
            "value": " 689/689 [00:00&lt;00:00, 22.1kB/s]"
          }
        },
        "a47e43a0916948d9966f35354ddf0386": {
          "model_module": "@jupyter-widgets/base",
          "model_module_version": "1.2.0",
          "model_name": "LayoutModel",
          "state": {
            "_model_module": "@jupyter-widgets/base",
            "_model_module_version": "1.2.0",
            "_model_name": "LayoutModel",
            "_view_count": null,
            "_view_module": "@jupyter-widgets/base",
            "_view_module_version": "1.2.0",
            "_view_name": "LayoutView",
            "align_content": null,
            "align_items": null,
            "align_self": null,
            "border": null,
            "bottom": null,
            "display": null,
            "flex": null,
            "flex_flow": null,
            "grid_area": null,
            "grid_auto_columns": null,
            "grid_auto_flow": null,
            "grid_auto_rows": null,
            "grid_column": null,
            "grid_gap": null,
            "grid_row": null,
            "grid_template_areas": null,
            "grid_template_columns": null,
            "grid_template_rows": null,
            "height": null,
            "justify_content": null,
            "justify_items": null,
            "left": null,
            "margin": null,
            "max_height": null,
            "max_width": null,
            "min_height": null,
            "min_width": null,
            "object_fit": null,
            "object_position": null,
            "order": null,
            "overflow": null,
            "overflow_x": null,
            "overflow_y": null,
            "padding": null,
            "right": null,
            "top": null,
            "visibility": null,
            "width": null
          }
        },
        "a5161709c3c145e9a1a56c880b71511e": {
          "model_module": "@jupyter-widgets/controls",
          "model_module_version": "1.5.0",
          "model_name": "DescriptionStyleModel",
          "state": {
            "_model_module": "@jupyter-widgets/controls",
            "_model_module_version": "1.5.0",
            "_model_name": "DescriptionStyleModel",
            "_view_count": null,
            "_view_module": "@jupyter-widgets/base",
            "_view_module_version": "1.2.0",
            "_view_name": "StyleView",
            "description_width": ""
          }
        },
        "a76dcf732e7046188484ffa890d56514": {
          "model_module": "@jupyter-widgets/controls",
          "model_module_version": "1.5.0",
          "model_name": "DescriptionStyleModel",
          "state": {
            "_model_module": "@jupyter-widgets/controls",
            "_model_module_version": "1.5.0",
            "_model_name": "DescriptionStyleModel",
            "_view_count": null,
            "_view_module": "@jupyter-widgets/base",
            "_view_module_version": "1.2.0",
            "_view_name": "StyleView",
            "description_width": ""
          }
        },
        "a7905ee3da0d4f1685c9f213580d7182": {
          "model_module": "@jupyter-widgets/controls",
          "model_module_version": "1.5.0",
          "model_name": "DescriptionStyleModel",
          "state": {
            "_model_module": "@jupyter-widgets/controls",
            "_model_module_version": "1.5.0",
            "_model_name": "DescriptionStyleModel",
            "_view_count": null,
            "_view_module": "@jupyter-widgets/base",
            "_view_module_version": "1.2.0",
            "_view_name": "StyleView",
            "description_width": ""
          }
        },
        "b31fc1004ea84e07baa35f8cd20eb4c8": {
          "model_module": "@jupyter-widgets/controls",
          "model_module_version": "1.5.0",
          "model_name": "FloatProgressModel",
          "state": {
            "_dom_classes": [],
            "_model_module": "@jupyter-widgets/controls",
            "_model_module_version": "1.5.0",
            "_model_name": "FloatProgressModel",
            "_view_count": null,
            "_view_module": "@jupyter-widgets/controls",
            "_view_module_version": "1.5.0",
            "_view_name": "ProgressView",
            "bar_style": "success",
            "description": "",
            "description_tooltip": null,
            "layout": "IPY_MODEL_dc41901a4c384de3a13862ed1d3eeb64",
            "max": 456318,
            "min": 0,
            "orientation": "horizontal",
            "style": "IPY_MODEL_45915720590f46058ed33ebfe93b6561",
            "value": 456318
          }
        },
        "b39b172cf7b644aeb2f21a851ede02dd": {
          "model_module": "@jupyter-widgets/base",
          "model_module_version": "1.2.0",
          "model_name": "LayoutModel",
          "state": {
            "_model_module": "@jupyter-widgets/base",
            "_model_module_version": "1.2.0",
            "_model_name": "LayoutModel",
            "_view_count": null,
            "_view_module": "@jupyter-widgets/base",
            "_view_module_version": "1.2.0",
            "_view_name": "LayoutView",
            "align_content": null,
            "align_items": null,
            "align_self": null,
            "border": null,
            "bottom": null,
            "display": null,
            "flex": null,
            "flex_flow": null,
            "grid_area": null,
            "grid_auto_columns": null,
            "grid_auto_flow": null,
            "grid_auto_rows": null,
            "grid_column": null,
            "grid_gap": null,
            "grid_row": null,
            "grid_template_areas": null,
            "grid_template_columns": null,
            "grid_template_rows": null,
            "height": null,
            "justify_content": null,
            "justify_items": null,
            "left": null,
            "margin": null,
            "max_height": null,
            "max_width": null,
            "min_height": null,
            "min_width": null,
            "object_fit": null,
            "object_position": null,
            "order": null,
            "overflow": null,
            "overflow_x": null,
            "overflow_y": null,
            "padding": null,
            "right": null,
            "top": null,
            "visibility": null,
            "width": null
          }
        },
        "b6345a70f53549218cb8107dae891902": {
          "model_module": "@jupyter-widgets/controls",
          "model_module_version": "1.5.0",
          "model_name": "HBoxModel",
          "state": {
            "_dom_classes": [],
            "_model_module": "@jupyter-widgets/controls",
            "_model_module_version": "1.5.0",
            "_model_name": "HBoxModel",
            "_view_count": null,
            "_view_module": "@jupyter-widgets/controls",
            "_view_module_version": "1.5.0",
            "_view_name": "HBoxView",
            "box_style": "",
            "children": [
              "IPY_MODEL_60dc32533ed04cfcacac2a5f95daea45",
              "IPY_MODEL_9822123840ee4bd081199a1eddb01719",
              "IPY_MODEL_240a8aabc4c1437bb4b297b16436f6aa"
            ],
            "layout": "IPY_MODEL_df8592d4ecba4fe2b707f81245e1836a"
          }
        },
        "bb35313e43294783bc0554a8cd4d5bf8": {
          "model_module": "@jupyter-widgets/base",
          "model_module_version": "1.2.0",
          "model_name": "LayoutModel",
          "state": {
            "_model_module": "@jupyter-widgets/base",
            "_model_module_version": "1.2.0",
            "_model_name": "LayoutModel",
            "_view_count": null,
            "_view_module": "@jupyter-widgets/base",
            "_view_module_version": "1.2.0",
            "_view_name": "LayoutView",
            "align_content": null,
            "align_items": null,
            "align_self": null,
            "border": null,
            "bottom": null,
            "display": null,
            "flex": null,
            "flex_flow": null,
            "grid_area": null,
            "grid_auto_columns": null,
            "grid_auto_flow": null,
            "grid_auto_rows": null,
            "grid_column": null,
            "grid_gap": null,
            "grid_row": null,
            "grid_template_areas": null,
            "grid_template_columns": null,
            "grid_template_rows": null,
            "height": null,
            "justify_content": null,
            "justify_items": null,
            "left": null,
            "margin": null,
            "max_height": null,
            "max_width": null,
            "min_height": null,
            "min_width": null,
            "object_fit": null,
            "object_position": null,
            "order": null,
            "overflow": null,
            "overflow_x": null,
            "overflow_y": null,
            "padding": null,
            "right": null,
            "top": null,
            "visibility": null,
            "width": null
          }
        },
        "c0be0365fab34f379e5b4089a8157361": {
          "model_module": "@jupyter-widgets/base",
          "model_module_version": "1.2.0",
          "model_name": "LayoutModel",
          "state": {
            "_model_module": "@jupyter-widgets/base",
            "_model_module_version": "1.2.0",
            "_model_name": "LayoutModel",
            "_view_count": null,
            "_view_module": "@jupyter-widgets/base",
            "_view_module_version": "1.2.0",
            "_view_name": "LayoutView",
            "align_content": null,
            "align_items": null,
            "align_self": null,
            "border": null,
            "bottom": null,
            "display": null,
            "flex": null,
            "flex_flow": null,
            "grid_area": null,
            "grid_auto_columns": null,
            "grid_auto_flow": null,
            "grid_auto_rows": null,
            "grid_column": null,
            "grid_gap": null,
            "grid_row": null,
            "grid_template_areas": null,
            "grid_template_columns": null,
            "grid_template_rows": null,
            "height": null,
            "justify_content": null,
            "justify_items": null,
            "left": null,
            "margin": null,
            "max_height": null,
            "max_width": null,
            "min_height": null,
            "min_width": null,
            "object_fit": null,
            "object_position": null,
            "order": null,
            "overflow": null,
            "overflow_x": null,
            "overflow_y": null,
            "padding": null,
            "right": null,
            "top": null,
            "visibility": null,
            "width": null
          }
        },
        "c1f7a4721d254c1089962222b1790879": {
          "model_module": "@jupyter-widgets/controls",
          "model_module_version": "1.5.0",
          "model_name": "DescriptionStyleModel",
          "state": {
            "_model_module": "@jupyter-widgets/controls",
            "_model_module_version": "1.5.0",
            "_model_name": "DescriptionStyleModel",
            "_view_count": null,
            "_view_module": "@jupyter-widgets/base",
            "_view_module_version": "1.2.0",
            "_view_name": "StyleView",
            "description_width": ""
          }
        },
        "d674ccb4a5904ed1953caaccb588ef0d": {
          "model_module": "@jupyter-widgets/base",
          "model_module_version": "1.2.0",
          "model_name": "LayoutModel",
          "state": {
            "_model_module": "@jupyter-widgets/base",
            "_model_module_version": "1.2.0",
            "_model_name": "LayoutModel",
            "_view_count": null,
            "_view_module": "@jupyter-widgets/base",
            "_view_module_version": "1.2.0",
            "_view_name": "LayoutView",
            "align_content": null,
            "align_items": null,
            "align_self": null,
            "border": null,
            "bottom": null,
            "display": null,
            "flex": null,
            "flex_flow": null,
            "grid_area": null,
            "grid_auto_columns": null,
            "grid_auto_flow": null,
            "grid_auto_rows": null,
            "grid_column": null,
            "grid_gap": null,
            "grid_row": null,
            "grid_template_areas": null,
            "grid_template_columns": null,
            "grid_template_rows": null,
            "height": null,
            "justify_content": null,
            "justify_items": null,
            "left": null,
            "margin": null,
            "max_height": null,
            "max_width": null,
            "min_height": null,
            "min_width": null,
            "object_fit": null,
            "object_position": null,
            "order": null,
            "overflow": null,
            "overflow_x": null,
            "overflow_y": null,
            "padding": null,
            "right": null,
            "top": null,
            "visibility": null,
            "width": null
          }
        },
        "d97f0256cfea4e99ace401e7fda2bebf": {
          "model_module": "@jupyter-widgets/base",
          "model_module_version": "1.2.0",
          "model_name": "LayoutModel",
          "state": {
            "_model_module": "@jupyter-widgets/base",
            "_model_module_version": "1.2.0",
            "_model_name": "LayoutModel",
            "_view_count": null,
            "_view_module": "@jupyter-widgets/base",
            "_view_module_version": "1.2.0",
            "_view_name": "LayoutView",
            "align_content": null,
            "align_items": null,
            "align_self": null,
            "border": null,
            "bottom": null,
            "display": null,
            "flex": null,
            "flex_flow": null,
            "grid_area": null,
            "grid_auto_columns": null,
            "grid_auto_flow": null,
            "grid_auto_rows": null,
            "grid_column": null,
            "grid_gap": null,
            "grid_row": null,
            "grid_template_areas": null,
            "grid_template_columns": null,
            "grid_template_rows": null,
            "height": null,
            "justify_content": null,
            "justify_items": null,
            "left": null,
            "margin": null,
            "max_height": null,
            "max_width": null,
            "min_height": null,
            "min_width": null,
            "object_fit": null,
            "object_position": null,
            "order": null,
            "overflow": null,
            "overflow_x": null,
            "overflow_y": null,
            "padding": null,
            "right": null,
            "top": null,
            "visibility": null,
            "width": null
          }
        },
        "dc41901a4c384de3a13862ed1d3eeb64": {
          "model_module": "@jupyter-widgets/base",
          "model_module_version": "1.2.0",
          "model_name": "LayoutModel",
          "state": {
            "_model_module": "@jupyter-widgets/base",
            "_model_module_version": "1.2.0",
            "_model_name": "LayoutModel",
            "_view_count": null,
            "_view_module": "@jupyter-widgets/base",
            "_view_module_version": "1.2.0",
            "_view_name": "LayoutView",
            "align_content": null,
            "align_items": null,
            "align_self": null,
            "border": null,
            "bottom": null,
            "display": null,
            "flex": null,
            "flex_flow": null,
            "grid_area": null,
            "grid_auto_columns": null,
            "grid_auto_flow": null,
            "grid_auto_rows": null,
            "grid_column": null,
            "grid_gap": null,
            "grid_row": null,
            "grid_template_areas": null,
            "grid_template_columns": null,
            "grid_template_rows": null,
            "height": null,
            "justify_content": null,
            "justify_items": null,
            "left": null,
            "margin": null,
            "max_height": null,
            "max_width": null,
            "min_height": null,
            "min_width": null,
            "object_fit": null,
            "object_position": null,
            "order": null,
            "overflow": null,
            "overflow_x": null,
            "overflow_y": null,
            "padding": null,
            "right": null,
            "top": null,
            "visibility": null,
            "width": null
          }
        },
        "dc4f480eb2794a67af73d243a1336833": {
          "model_module": "@jupyter-widgets/controls",
          "model_module_version": "1.5.0",
          "model_name": "HTMLModel",
          "state": {
            "_dom_classes": [],
            "_model_module": "@jupyter-widgets/controls",
            "_model_module_version": "1.5.0",
            "_model_name": "HTMLModel",
            "_view_count": null,
            "_view_module": "@jupyter-widgets/controls",
            "_view_module_version": "1.5.0",
            "_view_name": "HTMLView",
            "description": "",
            "description_tooltip": null,
            "layout": "IPY_MODEL_bb35313e43294783bc0554a8cd4d5bf8",
            "placeholder": "​",
            "style": "IPY_MODEL_5296e2e6021e4951ad0d50b8fe8c818c",
            "value": " 446k/446k [00:00&lt;00:00, 642kB/s]"
          }
        },
        "dcd7e0ba1e7f4812bc91e15086db9b4b": {
          "model_module": "@jupyter-widgets/controls",
          "model_module_version": "1.5.0",
          "model_name": "HTMLModel",
          "state": {
            "_dom_classes": [],
            "_model_module": "@jupyter-widgets/controls",
            "_model_module_version": "1.5.0",
            "_model_name": "HTMLModel",
            "_view_count": null,
            "_view_module": "@jupyter-widgets/controls",
            "_view_module_version": "1.5.0",
            "_view_name": "HTMLView",
            "description": "",
            "description_tooltip": null,
            "layout": "IPY_MODEL_101582fd7c094bc3acaa1f20ce857616",
            "placeholder": "​",
            "style": "IPY_MODEL_a76dcf732e7046188484ffa890d56514",
            "value": "Downloading: 100%"
          }
        },
        "df8592d4ecba4fe2b707f81245e1836a": {
          "model_module": "@jupyter-widgets/base",
          "model_module_version": "1.2.0",
          "model_name": "LayoutModel",
          "state": {
            "_model_module": "@jupyter-widgets/base",
            "_model_module_version": "1.2.0",
            "_model_name": "LayoutModel",
            "_view_count": null,
            "_view_module": "@jupyter-widgets/base",
            "_view_module_version": "1.2.0",
            "_view_name": "LayoutView",
            "align_content": null,
            "align_items": null,
            "align_self": null,
            "border": null,
            "bottom": null,
            "display": null,
            "flex": null,
            "flex_flow": null,
            "grid_area": null,
            "grid_auto_columns": null,
            "grid_auto_flow": null,
            "grid_auto_rows": null,
            "grid_column": null,
            "grid_gap": null,
            "grid_row": null,
            "grid_template_areas": null,
            "grid_template_columns": null,
            "grid_template_rows": null,
            "height": null,
            "justify_content": null,
            "justify_items": null,
            "left": null,
            "margin": null,
            "max_height": null,
            "max_width": null,
            "min_height": null,
            "min_width": null,
            "object_fit": null,
            "object_position": null,
            "order": null,
            "overflow": null,
            "overflow_x": null,
            "overflow_y": null,
            "padding": null,
            "right": null,
            "top": null,
            "visibility": null,
            "width": null
          }
        },
        "e7fa5566331a4001ae464e62ae3135bf": {
          "model_module": "@jupyter-widgets/base",
          "model_module_version": "1.2.0",
          "model_name": "LayoutModel",
          "state": {
            "_model_module": "@jupyter-widgets/base",
            "_model_module_version": "1.2.0",
            "_model_name": "LayoutModel",
            "_view_count": null,
            "_view_module": "@jupyter-widgets/base",
            "_view_module_version": "1.2.0",
            "_view_name": "LayoutView",
            "align_content": null,
            "align_items": null,
            "align_self": null,
            "border": null,
            "bottom": null,
            "display": null,
            "flex": null,
            "flex_flow": null,
            "grid_area": null,
            "grid_auto_columns": null,
            "grid_auto_flow": null,
            "grid_auto_rows": null,
            "grid_column": null,
            "grid_gap": null,
            "grid_row": null,
            "grid_template_areas": null,
            "grid_template_columns": null,
            "grid_template_rows": null,
            "height": null,
            "justify_content": null,
            "justify_items": null,
            "left": null,
            "margin": null,
            "max_height": null,
            "max_width": null,
            "min_height": null,
            "min_width": null,
            "object_fit": null,
            "object_position": null,
            "order": null,
            "overflow": null,
            "overflow_x": null,
            "overflow_y": null,
            "padding": null,
            "right": null,
            "top": null,
            "visibility": null,
            "width": null
          }
        },
        "e86b7f4a7ccc4dbca9354b02b7cf95eb": {
          "model_module": "@jupyter-widgets/controls",
          "model_module_version": "1.5.0",
          "model_name": "HBoxModel",
          "state": {
            "_dom_classes": [],
            "_model_module": "@jupyter-widgets/controls",
            "_model_module_version": "1.5.0",
            "_model_name": "HBoxModel",
            "_view_count": null,
            "_view_module": "@jupyter-widgets/controls",
            "_view_module_version": "1.5.0",
            "_view_name": "HBoxView",
            "box_style": "",
            "children": [
              "IPY_MODEL_dcd7e0ba1e7f4812bc91e15086db9b4b",
              "IPY_MODEL_3cf71f75afda4d1ea6dbc1cff9ec6c84",
              "IPY_MODEL_305156f493b0469a85f534cd2624ab1f"
            ],
            "layout": "IPY_MODEL_8bdf47384f264b598b6f8ed205514c85"
          }
        },
        "ea348add4ba444698fa19bacf480f733": {
          "model_module": "@jupyter-widgets/base",
          "model_module_version": "1.2.0",
          "model_name": "LayoutModel",
          "state": {
            "_model_module": "@jupyter-widgets/base",
            "_model_module_version": "1.2.0",
            "_model_name": "LayoutModel",
            "_view_count": null,
            "_view_module": "@jupyter-widgets/base",
            "_view_module_version": "1.2.0",
            "_view_name": "LayoutView",
            "align_content": null,
            "align_items": null,
            "align_self": null,
            "border": null,
            "bottom": null,
            "display": null,
            "flex": null,
            "flex_flow": null,
            "grid_area": null,
            "grid_auto_columns": null,
            "grid_auto_flow": null,
            "grid_auto_rows": null,
            "grid_column": null,
            "grid_gap": null,
            "grid_row": null,
            "grid_template_areas": null,
            "grid_template_columns": null,
            "grid_template_rows": null,
            "height": null,
            "justify_content": null,
            "justify_items": null,
            "left": null,
            "margin": null,
            "max_height": null,
            "max_width": null,
            "min_height": null,
            "min_width": null,
            "object_fit": null,
            "object_position": null,
            "order": null,
            "overflow": null,
            "overflow_x": null,
            "overflow_y": null,
            "padding": null,
            "right": null,
            "top": null,
            "visibility": null,
            "width": null
          }
        },
        "ef761d1512cf460b8b8f4fd255c374f7": {
          "model_module": "@jupyter-widgets/controls",
          "model_module_version": "1.5.0",
          "model_name": "ProgressStyleModel",
          "state": {
            "_model_module": "@jupyter-widgets/controls",
            "_model_module_version": "1.5.0",
            "_model_name": "ProgressStyleModel",
            "_view_count": null,
            "_view_module": "@jupyter-widgets/base",
            "_view_module_version": "1.2.0",
            "_view_name": "StyleView",
            "bar_color": null,
            "description_width": ""
          }
        },
        "f4c60f524df5438283a1c3af506261f0": {
          "model_module": "@jupyter-widgets/base",
          "model_module_version": "1.2.0",
          "model_name": "LayoutModel",
          "state": {
            "_model_module": "@jupyter-widgets/base",
            "_model_module_version": "1.2.0",
            "_model_name": "LayoutModel",
            "_view_count": null,
            "_view_module": "@jupyter-widgets/base",
            "_view_module_version": "1.2.0",
            "_view_name": "LayoutView",
            "align_content": null,
            "align_items": null,
            "align_self": null,
            "border": null,
            "bottom": null,
            "display": null,
            "flex": null,
            "flex_flow": null,
            "grid_area": null,
            "grid_auto_columns": null,
            "grid_auto_flow": null,
            "grid_auto_rows": null,
            "grid_column": null,
            "grid_gap": null,
            "grid_row": null,
            "grid_template_areas": null,
            "grid_template_columns": null,
            "grid_template_rows": null,
            "height": null,
            "justify_content": null,
            "justify_items": null,
            "left": null,
            "margin": null,
            "max_height": null,
            "max_width": null,
            "min_height": null,
            "min_width": null,
            "object_fit": null,
            "object_position": null,
            "order": null,
            "overflow": null,
            "overflow_x": null,
            "overflow_y": null,
            "padding": null,
            "right": null,
            "top": null,
            "visibility": null,
            "width": null
          }
        },
        "f6b1634d5ead460bb47cccc68ac0b951": {
          "model_module": "@jupyter-widgets/controls",
          "model_module_version": "1.5.0",
          "model_name": "DescriptionStyleModel",
          "state": {
            "_model_module": "@jupyter-widgets/controls",
            "_model_module_version": "1.5.0",
            "_model_name": "DescriptionStyleModel",
            "_view_count": null,
            "_view_module": "@jupyter-widgets/base",
            "_view_module_version": "1.2.0",
            "_view_name": "StyleView",
            "description_width": ""
          }
        },
        "fbaf9708a10d4568bd8a359f69dd92ec": {
          "model_module": "@jupyter-widgets/base",
          "model_module_version": "1.2.0",
          "model_name": "LayoutModel",
          "state": {
            "_model_module": "@jupyter-widgets/base",
            "_model_module_version": "1.2.0",
            "_model_name": "LayoutModel",
            "_view_count": null,
            "_view_module": "@jupyter-widgets/base",
            "_view_module_version": "1.2.0",
            "_view_name": "LayoutView",
            "align_content": null,
            "align_items": null,
            "align_self": null,
            "border": null,
            "bottom": null,
            "display": null,
            "flex": null,
            "flex_flow": null,
            "grid_area": null,
            "grid_auto_columns": null,
            "grid_auto_flow": null,
            "grid_auto_rows": null,
            "grid_column": null,
            "grid_gap": null,
            "grid_row": null,
            "grid_template_areas": null,
            "grid_template_columns": null,
            "grid_template_rows": null,
            "height": null,
            "justify_content": null,
            "justify_items": null,
            "left": null,
            "margin": null,
            "max_height": null,
            "max_width": null,
            "min_height": null,
            "min_width": null,
            "object_fit": null,
            "object_position": null,
            "order": null,
            "overflow": null,
            "overflow_x": null,
            "overflow_y": null,
            "padding": null,
            "right": null,
            "top": null,
            "visibility": null,
            "width": null
          }
        }
      }
    }
  },
  "nbformat": 4,
  "nbformat_minor": 0
}
